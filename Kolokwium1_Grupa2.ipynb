{
 "cells": [
  {
   "cell_type": "markdown",
   "metadata": {},
   "source": [
    "Zad1. Napisz funkcję, która przyjmuje listę jako argument, a następnie zwraca listę sum naprzeciwległych sobie wartości w podanej liście. Zatem jeśli mamy listę 3 wartości:\n",
    "\n",
    "    dla indeksu 0 zwraca sumę wartości nr 1 i nr 3\n",
    "    dla indeksu 1 zwraca sumę wartości nr 2 i nr 2\n",
    "    dla indeksu 2 zwraca sumę wartości nr 3 i nr 1\n",
    " \n",
    "Sprawdź funkcję dla listy [1,2,3,4,5,6,7,8,9,10]"
   ]
  },
  {
   "cell_type": "code",
   "execution_count": 14,
   "metadata": {},
   "outputs": [
    {
     "data": {
      "text/plain": [
       "[11, 11, 11, 11, 11, 11, 11, 11, 11, 11]"
      ]
     },
     "execution_count": 14,
     "metadata": {},
     "output_type": "execute_result"
    }
   ],
   "source": [
    "def sumator(lista):\n",
    "    nowa_lista = []\n",
    "    for n in range(len(lista)):\n",
    "       nowa_lista.append(lista[n] + lista[len(lista)-n-1])\n",
    "    return nowa_lista\n",
    "\n",
    "test = [1,2,3,4,5,6,7,8,9,10]\n",
    "sumator(test)"
   ]
  },
  {
   "cell_type": "code",
   "execution_count": 15,
   "metadata": {},
   "outputs": [
    {
     "data": {
      "text/plain": [
       "[11, 11, 11, 11, 11, 11, 11, 11, 11, 11]"
      ]
     },
     "execution_count": 15,
     "metadata": {},
     "output_type": "execute_result"
    }
   ],
   "source": [
    "def sumator2(lista):\n",
    "    return [lista[n] + lista[len(lista)-n-1] for n in range(len(lista))]\n",
    "\n",
    "sumator2(test)"
   ]
  },
  {
   "cell_type": "code",
   "execution_count": 18,
   "metadata": {},
   "outputs": [
    {
     "data": {
      "text/plain": [
       "[11, 11, 11, 11, 11, 11, 11, 11, 11, 11]"
      ]
     },
     "execution_count": 18,
     "metadata": {},
     "output_type": "execute_result"
    }
   ],
   "source": [
    "def sumator3(lista):\n",
    "    return [sum(n) for n in zip(lista[:],lista[::-1])]\n",
    "\n",
    "sumator3(test)"
   ]
  },
  {
   "cell_type": "markdown",
   "metadata": {},
   "source": [
    "Zad2. Napisz skrypt, który dokonuje deszyfracji kodu. Oryginalny tekst został zmieniony w ten sposób, że za każdą literę została wstawiona następna litera w alfabecie.\n",
    "\n",
    "Podpowiedź: skorzystaj z biblioteki string. Nie używaj polskich znaków.\n",
    "\n",
    "Sprawdź skrypt dekodując tekst: kbljt mptpxz djbh aoblpx"
   ]
  },
  {
   "cell_type": "code",
   "execution_count": 34,
   "metadata": {},
   "outputs": [
    {
     "name": "stdout",
     "output_type": "stream",
     "text": [
      "jakis losowy ciag znakow\n"
     ]
    }
   ],
   "source": [
    "import string\n",
    "literki = string.ascii_lowercase\n",
    "\n",
    "test = \"kbljt mptpxz djbh aoblpx\"\n",
    "\n",
    "nowy = \"\"\n",
    "for lit in test:\n",
    "    if lit == ' ':\n",
    "        nowy += ' '\n",
    "    else:\n",
    "        nowy += literki[literki.index(lit)-1]\n",
    "        \n",
    "print(nowy)"
   ]
  },
  {
   "cell_type": "markdown",
   "metadata": {},
   "source": [
    "Zad3. Napisz klasę int(), która przyjmuje liczbę całkowitą jako wartość. W przypadku, gdy klasie podana zostanie liczba ujemna, ma być zamieniona na jej przeciwieństwo, tak by była pozytywna. Gdy liczby mają być dodane operatorem \"+\", klasa ma mnożyć liczby, a gdy mają być mnożone '*', klasa ma dodawać liczby do siebie"
   ]
  },
  {
   "cell_type": "code",
   "execution_count": 40,
   "metadata": {},
   "outputs": [
    {
     "name": "stdout",
     "output_type": "stream",
     "text": [
      "3\n"
     ]
    },
    {
     "data": {
      "text/plain": [
       "6"
      ]
     },
     "execution_count": 40,
     "metadata": {},
     "output_type": "execute_result"
    }
   ],
   "source": [
    "class int():\n",
    "    \n",
    "    def __init__(self,a):\n",
    "        if a < 0:\n",
    "            self._a = -a\n",
    "        else:\n",
    "            self._a = a\n",
    "    \n",
    "    @property\n",
    "    def a(self):\n",
    "        return self._a\n",
    "    \n",
    "    @a.setter\n",
    "    def a(self,a):\n",
    "        self._a = a\n",
    "        \n",
    "    def __add__(self,other):\n",
    "        return self.a * other.a\n",
    "    \n",
    "    def __mul__(self,other):\n",
    "        return self.a + other.a\n",
    "    \n",
    "x = int(2)\n",
    "y = int(-3)\n",
    "print(y.a)\n",
    "\n",
    "x+y"
   ]
  },
  {
   "cell_type": "code",
   "execution_count": null,
   "metadata": {},
   "outputs": [],
   "source": []
  }
 ],
 "metadata": {
  "kernelspec": {
   "display_name": "Python 3",
   "language": "python",
   "name": "python3"
  },
  "language_info": {
   "codemirror_mode": {
    "name": "ipython",
    "version": 3
   },
   "file_extension": ".py",
   "mimetype": "text/x-python",
   "name": "python",
   "nbconvert_exporter": "python",
   "pygments_lexer": "ipython3",
   "version": "3.6.7"
  }
 },
 "nbformat": 4,
 "nbformat_minor": 2
}

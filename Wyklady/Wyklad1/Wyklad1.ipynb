{
 "cells": [
  {
   "cell_type": "markdown",
   "metadata": {
    "slideshow": {
     "slide_type": "slide"
    }
   },
   "source": [
    "<center>\n",
    "<h1>Python - wykład 1</h1>\n",
    "<h2>O języku Python, jego miejscu w świecie i o co w nim chodzi </h2>\n",
    "</center>\n",
    "\n",
    "Python to prosty i potężny język programowania. Jest prosty w nauce i pozwala skupić się na problemie, nie problemie programowania. To język wysokiego poziomu.\n",
    "\n",
    "Oficjalne wprowadzenie do Pythona brzmi:\n",
    "\n",
    "<font color=\"brown\">\n",
    "    \n",
    "    Python jest łatwym w nauce, poteżnym językiem programowania. Posiada wysokopoziomowe struktury danych i proste, ale efektywne podejście do modelowania obiektowego. Elegancka struktura (syntax) Pythona i dynamiczne zmienne sprawiają, że jest idealnym językiem do skryptowania i szybkiego wdrażania rozwiązań w wielu dziedzinach i na wielu platformach.\n",
    "</font>\n"
   ]
  },
  {
   "cell_type": "code",
   "execution_count": 2,
   "metadata": {
    "slideshow": {
     "slide_type": "subslide"
    }
   },
   "outputs": [
    {
     "data": {
      "text/html": [
       "<img src=\"python-logo-master-v3-TM.png\"/>"
      ],
      "text/plain": [
       "<IPython.core.display.Image object>"
      ]
     },
     "execution_count": 2,
     "metadata": {},
     "output_type": "execute_result"
    }
   ],
   "source": []
  },
  {
   "cell_type": "markdown",
   "metadata": {
    "slideshow": {
     "slide_type": "slide"
    }
   },
   "source": [
    "<h2>Nazwa</h2>\n",
    "\n",
    "Język stworzył Guido van Rossum. Nazwa, pomimo loga, nie ma nic wspólnego z wężami. Pochodzi od nazwy brytyjskiej grupy \"Monty Python\"."
   ]
  },
  {
   "cell_type": "markdown",
   "metadata": {
    "slideshow": {
     "slide_type": "subslide"
    }
   },
   "source": [
    "<h2> Zen Pythona </h2>\n",
    "\n",
    "Piękne jest lepsze niż brzydkie.\n",
    "\n",
    "Wyraźne jest lepsze niż domniemane.\n",
    "\n",
    "Proste jest lepsze niż złożone.\n",
    "\n",
    "Złożone jest lepsze niż skomplikowane.\n",
    "\n",
    "Płaskie jest lepsze niż zagnieżdżone.\n",
    "\n",
    "Rozproszone jest leszpe niż zagęszczone.\n",
    "\n",
    "\n"
   ]
  },
  {
   "cell_type": "markdown",
   "metadata": {
    "slideshow": {
     "slide_type": "subslide"
    }
   },
   "source": [
    "Liczy się czytelność.\n",
    "\n",
    "Specjalne przypadki nie są na tyle specjalne by łamać zasady.\n",
    "\n",
    "Praktyka jest ważniejsza niż czystość.\n",
    "\n",
    "Błędy nigdy nie powinny pozostać niewymienione.\n",
    "\n",
    "Dopóki nie jest to celowe.\n",
    "\n",
    "Teraz jest lepsze niż nigdy."
   ]
  },
  {
   "cell_type": "markdown",
   "metadata": {
    "slideshow": {
     "slide_type": "subslide"
    }
   },
   "source": [
    "<h2> Darmowy Open Source</h2>\n",
    "\n",
    "Python jest przykładem idei FLOSS (Free/Libre and Open Source Software). Dopuszczalne zatem jst rozprzestrzenianie kopii oprogramowania, czytanie jego kodu źródłowego, dokonywanie w nim zmian i uzywanie jego fragmentów w naszym orpogramowaniu.\n",
    "\n",
    "<b>Dzięki temu jest on stale ulepszany </b>"
   ]
  },
  {
   "cell_type": "markdown",
   "metadata": {
    "slideshow": {
     "slide_type": "subslide"
    }
   },
   "source": [
    "<h2> Język wysokiego poziomu </h2>\n",
    "\n",
    "Nigdy nie ma potrzeby martwienia się problemami typowymi dla języków niskiego poziomu jak:\n",
    "<ul>\n",
    "    <li>Zarządzanie pamięcią</li>\n",
    "    <li>Mapowanie typów zmiennych</li>\n",
    "    <li>Alokacja pamięci</li>\n",
    "</ul>"
   ]
  },
  {
   "cell_type": "code",
   "execution_count": 4,
   "metadata": {
    "slideshow": {
     "slide_type": "subslide"
    }
   },
   "outputs": [
    {
     "data": {
      "text/html": [
       "<img src=\"python-and-zope-an-introduction-may-2004-3-638.jpg\"/>"
      ],
      "text/plain": [
       "<IPython.core.display.Image object>"
      ]
     },
     "execution_count": 4,
     "metadata": {},
     "output_type": "execute_result"
    }
   ],
   "source": [
    "Image(url=\"python-and-zope-an-introduction-may-2004-3-638.jpg\")"
   ]
  },
  {
   "cell_type": "markdown",
   "metadata": {
    "slideshow": {
     "slide_type": "subslide"
    }
   },
   "source": [
    "<h2> Przenoszenie kodu </h2>\n",
    "\n",
    "W związku z jego otwartą naturą, kod może zostać uruchomiony na wielu platformach, pod warunkiem że nie wykorzystamy w kodzie elementów <i>typowych</i> dla danej platformy.\n",
    "\n",
    "Python działa na GNU/Linux, Windows, FreeBSD, Macintosh, Solaris, OS/2, Amiga, AROS, AS/400, PlayStation itd..."
   ]
  },
  {
   "cell_type": "markdown",
   "metadata": {
    "slideshow": {
     "slide_type": "subslide"
    }
   },
   "source": [
    "<h2> Jest językiem interpretowanym </h2>\n",
    "\n",
    "Wyróżniamy dwa typy języków:\n",
    "<ul>\n",
    "    <li> Kompilowane </li>\n",
    "    <li> Interpretowane </li>\n",
    "</ul>\n",
    "\n",
    "Języki programowania kompilowane (C/C++) są kowertowane do języka źródłowego (kodu maszynowego), który jest językiem bezpośrednio rozumianym przez komputer (0101001001010) - kodu binarnego.\n",
    "\n",
    "Języki interpretowane, jak Python, nie są kompilowane do kodu binarnego. Kod jest poprostu uruchamiany z kodu źródłowego i intrpretowany za pomocą wbudowanego interpretera. Python konwertuje kod źródłowy do <b>kodu pośredniego</b>, który następnie jest tłumaczony do kodu maszynowego.\n",
    "\n"
   ]
  },
  {
   "cell_type": "markdown",
   "metadata": {
    "slideshow": {
     "slide_type": "subslide"
    }
   },
   "source": [
    "Nie ma potrzeby zatem martwić się o kompilację kodu, gdyż nie ma takiej potrzeby. Kod pośredni natomiast sprawia, że ten sam kod źródłowy można działać na wielu platformach, gdyż kod źródłowy jest tłumaczony na kod pośredni <i>w sposób zależny od platformy</i>"
   ]
  },
  {
   "cell_type": "code",
   "execution_count": 1,
   "metadata": {
    "slideshow": {
     "slide_type": "subslide"
    }
   },
   "outputs": [
    {
     "data": {
      "image/svg+xml": [
       "<?xml version=\"1.0\" encoding=\"UTF-8\" standalone=\"no\"?>\r\n",
       "<!DOCTYPE svg PUBLIC \"-//W3C//DTD SVG 1.1//EN\"\r\n",
       " \"http://www.w3.org/Graphics/SVG/1.1/DTD/svg11.dtd\">\r\n",
       "<!-- Generated by graphviz version 2.38.0 (20140413.2041)\r\n",
       " -->\r\n",
       "<!-- Title: kompilator Pages: 1 -->\r\n",
       "<svg width=\"692pt\" height=\"44pt\"\r\n",
       " viewBox=\"0.00 0.00 692.00 44.00\" xmlns=\"http://www.w3.org/2000/svg\" xmlns:xlink=\"http://www.w3.org/1999/xlink\">\r\n",
       "<g id=\"graph0\" class=\"graph\" transform=\"scale(1 1) rotate(0) translate(4 40)\">\r\n",
       "<title>kompilator</title>\r\n",
       "<polygon fill=\"white\" stroke=\"none\" points=\"-4,4 -4,-40 688,-40 688,4 -4,4\"/>\r\n",
       "<!-- kod źródłowy -->\r\n",
       "<g id=\"node1\" class=\"node\"><title>kod źródłowy</title>\r\n",
       "<polygon fill=\"none\" stroke=\"black\" points=\"144,-36 0,-36 0,-0 144,-0 144,-36\"/>\r\n",
       "<text text-anchor=\"middle\" x=\"72\" y=\"-14.3\" font-family=\"Times New Roman,serif\" font-size=\"14.00\">kod źródłowy</text>\r\n",
       "</g>\r\n",
       "<!-- kompilator -->\r\n",
       "<g id=\"node2\" class=\"node\"><title>kompilator</title>\r\n",
       "<polygon fill=\"none\" stroke=\"black\" points=\"324,-36 180,-36 180,-0 324,-0 324,-36\"/>\r\n",
       "<text text-anchor=\"middle\" x=\"252\" y=\"-14.3\" font-family=\"Times New Roman,serif\" font-size=\"14.00\">kompilator</text>\r\n",
       "</g>\r\n",
       "<!-- kod źródłowy&#45;&gt;kompilator -->\r\n",
       "<g id=\"edge1\" class=\"edge\"><title>kod źródłowy&#45;&gt;kompilator</title>\r\n",
       "<path fill=\"none\" stroke=\"black\" d=\"M144.118,-18C152.609,-18 161.327,-18 169.944,-18\"/>\r\n",
       "<polygon fill=\"black\" stroke=\"black\" points=\"169.995,-21.5001 179.995,-18 169.995,-14.5001 169.995,-21.5001\"/>\r\n",
       "</g>\r\n",
       "<!-- kod maszynowy -->\r\n",
       "<g id=\"node3\" class=\"node\"><title>kod maszynowy</title>\r\n",
       "<polygon fill=\"none\" stroke=\"black\" points=\"504,-36 360,-36 360,-0 504,-0 504,-36\"/>\r\n",
       "<text text-anchor=\"middle\" x=\"432\" y=\"-14.3\" font-family=\"Times New Roman,serif\" font-size=\"14.00\">kod maszynowy</text>\r\n",
       "</g>\r\n",
       "<!-- kompilator&#45;&gt;kod maszynowy -->\r\n",
       "<g id=\"edge2\" class=\"edge\"><title>kompilator&#45;&gt;kod maszynowy</title>\r\n",
       "<path fill=\"none\" stroke=\"black\" d=\"M324.118,-18C332.609,-18 341.327,-18 349.944,-18\"/>\r\n",
       "<polygon fill=\"black\" stroke=\"black\" points=\"349.995,-21.5001 359.995,-18 349.995,-14.5001 349.995,-21.5001\"/>\r\n",
       "</g>\r\n",
       "<!-- wynik -->\r\n",
       "<g id=\"node4\" class=\"node\"><title>wynik</title>\r\n",
       "<polygon fill=\"none\" stroke=\"black\" points=\"684,-36 540,-36 540,-0 684,-0 684,-36\"/>\r\n",
       "<text text-anchor=\"middle\" x=\"612\" y=\"-14.3\" font-family=\"Times New Roman,serif\" font-size=\"14.00\">wynik</text>\r\n",
       "</g>\r\n",
       "<!-- kod maszynowy&#45;&gt;wynik -->\r\n",
       "<g id=\"edge3\" class=\"edge\"><title>kod maszynowy&#45;&gt;wynik</title>\r\n",
       "<path fill=\"none\" stroke=\"black\" d=\"M504.118,-18C512.609,-18 521.327,-18 529.944,-18\"/>\r\n",
       "<polygon fill=\"black\" stroke=\"black\" points=\"529.995,-21.5001 539.995,-18 529.995,-14.5001 529.995,-21.5001\"/>\r\n",
       "</g>\r\n",
       "</g>\r\n",
       "</svg>\r\n"
      ],
      "text/plain": [
       "<graphviz.files.Source at 0x18746f2ab70>"
      ]
     },
     "execution_count": 1,
     "metadata": {},
     "output_type": "execute_result"
    }
   ],
   "source": [
    "from graphviz import Source\n",
    "\n",
    "Source('digraph \"kompilator\" { rankdir=LR; node [shape=\"box\", width=2]; \\\n",
    "        \"kod źródłowy\" -> \"kompilator\" -> \"kod maszynowy\" -> \"wynik\"}')"
   ]
  },
  {
   "cell_type": "code",
   "execution_count": 2,
   "metadata": {
    "slideshow": {
     "slide_type": "subslide"
    }
   },
   "outputs": [
    {
     "data": {
      "image/svg+xml": [
       "<?xml version=\"1.0\" encoding=\"UTF-8\" standalone=\"no\"?>\r\n",
       "<!DOCTYPE svg PUBLIC \"-//W3C//DTD SVG 1.1//EN\"\r\n",
       " \"http://www.w3.org/Graphics/SVG/1.1/DTD/svg11.dtd\">\r\n",
       "<!-- Generated by graphviz version 2.38.0 (20140413.2041)\r\n",
       " -->\r\n",
       "<!-- Title: interpreter Pages: 1 -->\r\n",
       "<svg width=\"512pt\" height=\"44pt\"\r\n",
       " viewBox=\"0.00 0.00 512.00 44.00\" xmlns=\"http://www.w3.org/2000/svg\" xmlns:xlink=\"http://www.w3.org/1999/xlink\">\r\n",
       "<g id=\"graph0\" class=\"graph\" transform=\"scale(1 1) rotate(0) translate(4 40)\">\r\n",
       "<title>interpreter</title>\r\n",
       "<polygon fill=\"white\" stroke=\"none\" points=\"-4,4 -4,-40 508,-40 508,4 -4,4\"/>\r\n",
       "<!-- kod źródłowy -->\r\n",
       "<g id=\"node1\" class=\"node\"><title>kod źródłowy</title>\r\n",
       "<polygon fill=\"none\" stroke=\"black\" points=\"144,-36 0,-36 0,-0 144,-0 144,-36\"/>\r\n",
       "<text text-anchor=\"middle\" x=\"72\" y=\"-14.3\" font-family=\"Times New Roman,serif\" font-size=\"14.00\">kod źródłowy</text>\r\n",
       "</g>\r\n",
       "<!-- interpreter -->\r\n",
       "<g id=\"node2\" class=\"node\"><title>interpreter</title>\r\n",
       "<polygon fill=\"none\" stroke=\"black\" points=\"324,-36 180,-36 180,-0 324,-0 324,-36\"/>\r\n",
       "<text text-anchor=\"middle\" x=\"252\" y=\"-14.3\" font-family=\"Times New Roman,serif\" font-size=\"14.00\">interpreter</text>\r\n",
       "</g>\r\n",
       "<!-- kod źródłowy&#45;&gt;interpreter -->\r\n",
       "<g id=\"edge1\" class=\"edge\"><title>kod źródłowy&#45;&gt;interpreter</title>\r\n",
       "<path fill=\"none\" stroke=\"black\" d=\"M144.118,-18C152.609,-18 161.327,-18 169.944,-18\"/>\r\n",
       "<polygon fill=\"black\" stroke=\"black\" points=\"169.995,-21.5001 179.995,-18 169.995,-14.5001 169.995,-21.5001\"/>\r\n",
       "</g>\r\n",
       "<!-- wynik -->\r\n",
       "<g id=\"node3\" class=\"node\"><title>wynik</title>\r\n",
       "<polygon fill=\"none\" stroke=\"black\" points=\"504,-36 360,-36 360,-0 504,-0 504,-36\"/>\r\n",
       "<text text-anchor=\"middle\" x=\"432\" y=\"-14.3\" font-family=\"Times New Roman,serif\" font-size=\"14.00\">wynik</text>\r\n",
       "</g>\r\n",
       "<!-- interpreter&#45;&gt;wynik -->\r\n",
       "<g id=\"edge2\" class=\"edge\"><title>interpreter&#45;&gt;wynik</title>\r\n",
       "<path fill=\"none\" stroke=\"black\" d=\"M324.118,-18C332.609,-18 341.327,-18 349.944,-18\"/>\r\n",
       "<polygon fill=\"black\" stroke=\"black\" points=\"349.995,-21.5001 359.995,-18 349.995,-14.5001 349.995,-21.5001\"/>\r\n",
       "</g>\r\n",
       "</g>\r\n",
       "</svg>\r\n"
      ],
      "text/plain": [
       "<graphviz.files.Source at 0x18746f6ceb8>"
      ]
     },
     "execution_count": 2,
     "metadata": {},
     "output_type": "execute_result"
    }
   ],
   "source": [
    "Source('digraph \"interpreter\" { rankdir=LR; node [shape=\"box\", width=2]; \\\n",
    "        \"kod źródłowy\" -> \"interpreter\" -> \"wynik\"}')"
   ]
  },
  {
   "cell_type": "markdown",
   "metadata": {
    "slideshow": {
     "slide_type": "subslide"
    }
   },
   "source": [
    "<h2> Jest językiem imperatywnym </h2>\n",
    "\n",
    "Języki możemy podzielić również na:\n",
    "    <ul>\n",
    "    <li>Deklaratywne</li>\n",
    "    <li>Imperatywne</li>\n",
    "    </ul>\n",
    "\n",
    "Języki deklaratywne polegają na przedstawieniu warunków, które musi przedstawiać końcowe rozwiązanie. Brak jest opisu sekwencji kroków potrzebnych do otrzymania tego rezultatu.\n",
    "\n",
    "Języki imperatywne - wręcz przeciwnie, opisywana jest sekwencja kroków, które należy podjąć by osiągnąć zamierzany rezultat. Warunki rezultatu końcowego nie są opisywane."
   ]
  },
  {
   "cell_type": "markdown",
   "metadata": {
    "slideshow": {
     "slide_type": "subslide"
    }
   },
   "source": [
    "<h2> Jest językiem obiektowym </h2>\n",
    "\n",
    "Języki programowania można również podzielić na:\n",
    "\n",
    "<ul>\n",
    "    <li> Strukturalne </li>\n",
    "    <li> Obiektowe </li>\n",
    "</ul>\n"
   ]
  },
  {
   "cell_type": "markdown",
   "metadata": {
    "slideshow": {
     "slide_type": "subslide"
    }
   },
   "source": [
    "Programowanie strukturalne - zakłada rozdzielenie funkcjonalności na moduły (podprogramy). Komunikują się one ze sobą przez interfejsy. Z założenia bloki kody mają <b> jedno wejście </b> i wiele wyjść. Wykonują wyrażenia w określonej kolejności i korzystają z kontroli przepływu (if, else, for, while, break, continue).\n",
    "\n"
   ]
  },
  {
   "cell_type": "code",
   "execution_count": 3,
   "metadata": {
    "slideshow": {
     "slide_type": "subslide"
    }
   },
   "outputs": [
    {
     "data": {
      "image/svg+xml": [
       "<?xml version=\"1.0\" encoding=\"UTF-8\" standalone=\"no\"?>\r\n",
       "<!DOCTYPE svg PUBLIC \"-//W3C//DTD SVG 1.1//EN\"\r\n",
       " \"http://www.w3.org/Graphics/SVG/1.1/DTD/svg11.dtd\">\r\n",
       "<!-- Generated by graphviz version 2.38.0 (20140413.2041)\r\n",
       " -->\r\n",
       "<!-- Title: kompilator Pages: 1 -->\r\n",
       "<svg width=\"476pt\" height=\"350pt\"\r\n",
       " viewBox=\"0.00 0.00 476.00 350.00\" xmlns=\"http://www.w3.org/2000/svg\" xmlns:xlink=\"http://www.w3.org/1999/xlink\">\r\n",
       "<g id=\"graph0\" class=\"graph\" transform=\"scale(1 1) rotate(0) translate(4 346)\">\r\n",
       "<title>kompilator</title>\r\n",
       "<polygon fill=\"white\" stroke=\"none\" points=\"-4,4 -4,-346 472,-346 472,4 -4,4\"/>\r\n",
       "<!-- Wejście -->\r\n",
       "<g id=\"node1\" class=\"node\"><title>Wejście</title>\r\n",
       "<polygon fill=\"none\" stroke=\"black\" points=\"306,-342 162,-342 162,-306 306,-306 306,-342\"/>\r\n",
       "<text text-anchor=\"middle\" x=\"234\" y=\"-320.3\" font-family=\"Times New Roman,serif\" font-size=\"14.00\">Wejście</text>\r\n",
       "</g>\r\n",
       "<!-- Funkcja1 -->\r\n",
       "<g id=\"node2\" class=\"node\"><title>Funkcja1</title>\r\n",
       "<polygon fill=\"none\" stroke=\"black\" points=\"306,-269 162,-269 162,-233 306,-233 306,-269\"/>\r\n",
       "<text text-anchor=\"middle\" x=\"234\" y=\"-247.3\" font-family=\"Times New Roman,serif\" font-size=\"14.00\">Funkcja1</text>\r\n",
       "</g>\r\n",
       "<!-- Wejście&#45;&gt;Funkcja1 -->\r\n",
       "<g id=\"edge1\" class=\"edge\"><title>Wejście&#45;&gt;Funkcja1</title>\r\n",
       "<path fill=\"none\" stroke=\"black\" d=\"M234,-305.813C234,-297.789 234,-288.047 234,-279.069\"/>\r\n",
       "<polygon fill=\"black\" stroke=\"black\" points=\"237.5,-279.029 234,-269.029 230.5,-279.029 237.5,-279.029\"/>\r\n",
       "</g>\r\n",
       "<!-- Funkcja3 -->\r\n",
       "<g id=\"node3\" class=\"node\"><title>Funkcja3</title>\r\n",
       "<polygon fill=\"none\" stroke=\"black\" points=\"144,-182 0,-182 0,-146 144,-146 144,-182\"/>\r\n",
       "<text text-anchor=\"middle\" x=\"72\" y=\"-160.3\" font-family=\"Times New Roman,serif\" font-size=\"14.00\">Funkcja3</text>\r\n",
       "</g>\r\n",
       "<!-- Funkcja1&#45;&gt;Funkcja3 -->\r\n",
       "<g id=\"edge2\" class=\"edge\"><title>Funkcja1&#45;&gt;Funkcja3</title>\r\n",
       "<path fill=\"none\" stroke=\"black\" d=\"M201.217,-232.799C175.882,-219.506 140.653,-201.021 113.377,-186.71\"/>\r\n",
       "<polygon fill=\"black\" stroke=\"black\" points=\"114.939,-183.577 104.458,-182.03 111.686,-189.776 114.939,-183.577\"/>\r\n",
       "<text text-anchor=\"middle\" x=\"186.5\" y=\"-203.8\" font-family=\"Times New Roman,serif\" font-size=\"14.00\">Elif True</text>\r\n",
       "</g>\r\n",
       "<!-- Opcja(1) -->\r\n",
       "<g id=\"node4\" class=\"node\"><title>Opcja(1)</title>\r\n",
       "<polygon fill=\"none\" stroke=\"black\" points=\"306,-182 162,-182 162,-146 306,-146 306,-182\"/>\r\n",
       "<text text-anchor=\"middle\" x=\"234\" y=\"-160.3\" font-family=\"Times New Roman,serif\" font-size=\"14.00\">Opcja(1)</text>\r\n",
       "</g>\r\n",
       "<!-- Funkcja1&#45;&gt;Opcja(1) -->\r\n",
       "<g id=\"edge3\" class=\"edge\"><title>Funkcja1&#45;&gt;Opcja(1)</title>\r\n",
       "<path fill=\"none\" stroke=\"black\" d=\"M234,-232.799C234,-221.163 234,-205.548 234,-192.237\"/>\r\n",
       "<polygon fill=\"black\" stroke=\"black\" points=\"237.5,-192.175 234,-182.175 230.5,-192.175 237.5,-192.175\"/>\r\n",
       "<text text-anchor=\"middle\" x=\"254\" y=\"-203.8\" font-family=\"Times New Roman,serif\" font-size=\"14.00\">If True</text>\r\n",
       "</g>\r\n",
       "<!-- Funkcja5 -->\r\n",
       "<g id=\"node6\" class=\"node\"><title>Funkcja5</title>\r\n",
       "<polygon fill=\"none\" stroke=\"black\" points=\"468,-182 324,-182 324,-146 468,-146 468,-182\"/>\r\n",
       "<text text-anchor=\"middle\" x=\"396\" y=\"-160.3\" font-family=\"Times New Roman,serif\" font-size=\"14.00\">Funkcja5</text>\r\n",
       "</g>\r\n",
       "<!-- Funkcja1&#45;&gt;Funkcja5 -->\r\n",
       "<g id=\"edge5\" class=\"edge\"><title>Funkcja1&#45;&gt;Funkcja5</title>\r\n",
       "<path fill=\"none\" stroke=\"black\" d=\"M266.783,-232.799C292.118,-219.506 327.347,-201.021 354.623,-186.71\"/>\r\n",
       "<polygon fill=\"black\" stroke=\"black\" points=\"356.314,-189.776 363.542,-182.03 353.061,-183.577 356.314,-189.776\"/>\r\n",
       "<text text-anchor=\"middle\" x=\"336\" y=\"-203.8\" font-family=\"Times New Roman,serif\" font-size=\"14.00\">Else</text>\r\n",
       "</g>\r\n",
       "<!-- Funkcja4 -->\r\n",
       "<g id=\"node5\" class=\"node\"><title>Funkcja4</title>\r\n",
       "<polygon fill=\"none\" stroke=\"black\" points=\"343,-109 199,-109 199,-73 343,-73 343,-109\"/>\r\n",
       "<text text-anchor=\"middle\" x=\"271\" y=\"-87.3\" font-family=\"Times New Roman,serif\" font-size=\"14.00\">Funkcja4</text>\r\n",
       "</g>\r\n",
       "<!-- Funkcja3&#45;&gt;Funkcja4 -->\r\n",
       "<g id=\"edge4\" class=\"edge\"><title>Funkcja3&#45;&gt;Funkcja4</title>\r\n",
       "<path fill=\"none\" stroke=\"black\" d=\"M119.665,-145.994C147.887,-135.925 183.828,-123.102 213.601,-112.479\"/>\r\n",
       "<polygon fill=\"black\" stroke=\"black\" points=\"214.791,-115.77 223.034,-109.114 212.439,-109.178 214.791,-115.77\"/>\r\n",
       "</g>\r\n",
       "<!-- Opcja(2) -->\r\n",
       "<g id=\"node7\" class=\"node\"><title>Opcja(2)</title>\r\n",
       "<polygon fill=\"none\" stroke=\"black\" points=\"343,-36 199,-36 199,-0 343,-0 343,-36\"/>\r\n",
       "<text text-anchor=\"middle\" x=\"271\" y=\"-14.3\" font-family=\"Times New Roman,serif\" font-size=\"14.00\">Opcja(2)</text>\r\n",
       "</g>\r\n",
       "<!-- Funkcja4&#45;&gt;Opcja(2) -->\r\n",
       "<g id=\"edge7\" class=\"edge\"><title>Funkcja4&#45;&gt;Opcja(2)</title>\r\n",
       "<path fill=\"none\" stroke=\"black\" d=\"M271,-72.8129C271,-64.7895 271,-55.0475 271,-46.0691\"/>\r\n",
       "<polygon fill=\"black\" stroke=\"black\" points=\"274.5,-46.0288 271,-36.0288 267.5,-46.0289 274.5,-46.0288\"/>\r\n",
       "</g>\r\n",
       "<!-- Funkcja5&#45;&gt;Funkcja4 -->\r\n",
       "<g id=\"edge6\" class=\"edge\"><title>Funkcja5&#45;&gt;Funkcja4</title>\r\n",
       "<path fill=\"none\" stroke=\"black\" d=\"M366.059,-145.994C349.33,-136.491 328.282,-124.536 310.247,-114.292\"/>\r\n",
       "<polygon fill=\"black\" stroke=\"black\" points=\"311.553,-111.009 301.13,-109.114 308.096,-117.096 311.553,-111.009\"/>\r\n",
       "</g>\r\n",
       "</g>\r\n",
       "</svg>\r\n"
      ],
      "text/plain": [
       "<graphviz.files.Source at 0x18746f6ce80>"
      ]
     },
     "execution_count": 3,
     "metadata": {},
     "output_type": "execute_result"
    }
   ],
   "source": [
    "Source('digraph \"kompilator\" { rankdir=UD; node [shape=\"box\", width=2]; \\\n",
    "        Wejście -> Funkcja1; Funkcja1 -> Funkcja3 [label = \"Elif True\"]; Funkcja1 -> \"Opcja(1)\" [label = \"If True\"]; Funkcja3 -> Funkcja4; Funkcja1 -> Funkcja5 [label = \"Else\"];\\\n",
    "        Funkcja5-> Funkcja4; Funkcja4 -> \"Opcja(2)\"}')"
   ]
  },
  {
   "cell_type": "markdown",
   "metadata": {
    "slideshow": {
     "slide_type": "subslide"
    }
   },
   "source": [
    "Programowanie obiektowe - zakłada reprezentację kodu w postaci obiektów i przypisanie im działań (metod), które mogą wykonywać pewne operacje oraz nadanie im atrybutów/właności."
   ]
  },
  {
   "cell_type": "code",
   "execution_count": 78,
   "metadata": {},
   "outputs": [
    {
     "data": {
      "text/html": [
       "<img src=\"bell_fig5.jpg\"/>"
      ],
      "text/plain": [
       "<IPython.core.display.Image object>"
      ]
     },
     "execution_count": 78,
     "metadata": {},
     "output_type": "execute_result"
    }
   ],
   "source": [
    "Image(url = \"bell_fig5.jpg\")"
   ]
  },
  {
   "cell_type": "markdown",
   "metadata": {
    "slideshow": {
     "slide_type": "subslide"
    }
   },
   "source": [
    "<b>Python jest językiem obiektowym i strukturalnym jednocześnie </b> Jest jednakże bardziej nastawiony na programowanie obiektowe."
   ]
  },
  {
   "cell_type": "markdown",
   "metadata": {
    "slideshow": {
     "slide_type": "subslide"
    }
   },
   "source": [
    "Będąc przy programowaniu obiektowym. Programowanie obiektowe posiada cztery paradygmaty.\n",
    "<ul>\n",
    "    <li>Abstrakcja</li>\n",
    "    <li>Hermetyzacja</li>\n",
    "    <li>Dziedziczenie</li>\n",
    "    <li>Polimorfizm</li>\n",
    "</ul>"
   ]
  },
  {
   "cell_type": "markdown",
   "metadata": {
    "slideshow": {
     "slide_type": "subslide"
    }
   },
   "source": [
    "<h2> Abstrakcja </h2>\n",
    "\n",
    "Polega na zredukowanie właściwości opisywanego obiektu do najbardziej podstawowych, ograniczenie zakresu funkcjonalności do kluczowych.\n",
    "\n",
    "Ukrycie funkcjonalności za interfejsem.\n",
    "\n",
    "Uogólnienie"
   ]
  },
  {
   "cell_type": "code",
   "execution_count": 32,
   "metadata": {
    "slideshow": {
     "slide_type": "subslide"
    }
   },
   "outputs": [
    {
     "data": {
      "text/html": [
       "<img src=\"01-uml-base-class-and-object-explained.png\"/>"
      ],
      "text/plain": [
       "<IPython.core.display.Image object>"
      ]
     },
     "execution_count": 32,
     "metadata": {},
     "output_type": "execute_result"
    }
   ],
   "source": [
    "Image(url = \"01-uml-base-class-and-object-explained.png\")"
   ]
  },
  {
   "cell_type": "markdown",
   "metadata": {
    "slideshow": {
     "slide_type": "subslide"
    }
   },
   "source": [
    "<h2>Hermetyzacja</h2>\n",
    "\n",
    "Polega na ograniczeniu dostępu do danych w klasie za pomocą interfejsu. Obiekt udostępnia pewien zbiór metod, które widoczne są z zewnątrz, ale nie pozwala na całkowitą ingerencję w jego strukturę.\n",
    "\n",
    "Dostęp do atrybutów jest realizowanyc przez tzw. settery - do przypisania wartości oraz gettery - do pobrania wartości. Nie me bezpośredniego dostępu do danych."
   ]
  },
  {
   "cell_type": "markdown",
   "metadata": {
    "slideshow": {
     "slide_type": "subslide"
    }
   },
   "source": [
    "<h2> Dziedziczenie </h2>\n",
    "\n",
    "Pozwala na przejęcie części cech i metod przez klasy wywodzące się z klas wyższego rzędu. Dzięki temu uzyskujemy funkcjonalności już istniejące, które możemy rozszerzyć i ewentualnie zmienić."
   ]
  },
  {
   "cell_type": "code",
   "execution_count": 4,
   "metadata": {},
   "outputs": [
    {
     "data": {
      "image/svg+xml": [
       "<?xml version=\"1.0\" encoding=\"UTF-8\" standalone=\"no\"?>\r\n",
       "<!DOCTYPE svg PUBLIC \"-//W3C//DTD SVG 1.1//EN\"\r\n",
       " \"http://www.w3.org/Graphics/SVG/1.1/DTD/svg11.dtd\">\r\n",
       "<!-- Generated by graphviz version 2.38.0 (20140413.2041)\r\n",
       " -->\r\n",
       "<!-- Title: kompilator Pages: 1 -->\r\n",
       "<svg width=\"476pt\" height=\"277pt\"\r\n",
       " viewBox=\"0.00 0.00 476.00 277.00\" xmlns=\"http://www.w3.org/2000/svg\" xmlns:xlink=\"http://www.w3.org/1999/xlink\">\r\n",
       "<g id=\"graph0\" class=\"graph\" transform=\"scale(1 1) rotate(0) translate(4 273)\">\r\n",
       "<title>kompilator</title>\r\n",
       "<polygon fill=\"white\" stroke=\"none\" points=\"-4,4 -4,-273 472,-273 472,4 -4,4\"/>\r\n",
       "<!-- Zwierze -->\r\n",
       "<g id=\"node1\" class=\"node\"><title>Zwierze</title>\r\n",
       "<polygon fill=\"none\" stroke=\"black\" points=\"427,-269 283,-269 283,-233 427,-233 427,-269\"/>\r\n",
       "<text text-anchor=\"middle\" x=\"355\" y=\"-247.3\" font-family=\"Times New Roman,serif\" font-size=\"14.00\">Zwierze</text>\r\n",
       "</g>\r\n",
       "<!-- Ssak -->\r\n",
       "<g id=\"node2\" class=\"node\"><title>Ssak</title>\r\n",
       "<polygon fill=\"none\" stroke=\"black\" points=\"306,-196 162,-196 162,-160 306,-160 306,-196\"/>\r\n",
       "<text text-anchor=\"middle\" x=\"234\" y=\"-174.3\" font-family=\"Times New Roman,serif\" font-size=\"14.00\">Ssak</text>\r\n",
       "</g>\r\n",
       "<!-- Zwierze&#45;&gt;Ssak -->\r\n",
       "<g id=\"edge1\" class=\"edge\"><title>Zwierze&#45;&gt;Ssak</title>\r\n",
       "<path fill=\"none\" stroke=\"black\" d=\"M326.017,-232.994C309.823,-223.491 289.449,-211.536 271.991,-201.292\"/>\r\n",
       "<polygon fill=\"black\" stroke=\"black\" points=\"273.562,-198.156 263.165,-196.114 270.019,-204.193 273.562,-198.156\"/>\r\n",
       "</g>\r\n",
       "<!-- Gad -->\r\n",
       "<g id=\"node3\" class=\"node\"><title>Gad</title>\r\n",
       "<polygon fill=\"none\" stroke=\"black\" points=\"468,-196 324,-196 324,-160 468,-160 468,-196\"/>\r\n",
       "<text text-anchor=\"middle\" x=\"396\" y=\"-174.3\" font-family=\"Times New Roman,serif\" font-size=\"14.00\">Gad</text>\r\n",
       "</g>\r\n",
       "<!-- Zwierze&#45;&gt;Gad -->\r\n",
       "<g id=\"edge2\" class=\"edge\"><title>Zwierze&#45;&gt;Gad</title>\r\n",
       "<path fill=\"none\" stroke=\"black\" d=\"M364.925,-232.813C369.76,-224.441 375.675,-214.197 381.042,-204.903\"/>\r\n",
       "<polygon fill=\"black\" stroke=\"black\" points=\"384.197,-206.439 386.166,-196.029 378.135,-202.938 384.197,-206.439\"/>\r\n",
       "</g>\r\n",
       "<!-- Pies -->\r\n",
       "<g id=\"node4\" class=\"node\"><title>Pies</title>\r\n",
       "<polygon fill=\"none\" stroke=\"black\" points=\"144,-123 0,-123 0,-87 144,-87 144,-123\"/>\r\n",
       "<text text-anchor=\"middle\" x=\"72\" y=\"-101.3\" font-family=\"Times New Roman,serif\" font-size=\"14.00\">Pies</text>\r\n",
       "</g>\r\n",
       "<!-- Ssak&#45;&gt;Pies -->\r\n",
       "<g id=\"edge3\" class=\"edge\"><title>Ssak&#45;&gt;Pies</title>\r\n",
       "<path fill=\"none\" stroke=\"black\" d=\"M195.197,-159.994C172.72,-150.143 144.228,-137.656 120.307,-127.172\"/>\r\n",
       "<polygon fill=\"black\" stroke=\"black\" points=\"121.612,-123.922 111.048,-123.114 118.802,-130.333 121.612,-123.922\"/>\r\n",
       "</g>\r\n",
       "<!-- Kot -->\r\n",
       "<g id=\"node5\" class=\"node\"><title>Kot</title>\r\n",
       "<polygon fill=\"none\" stroke=\"black\" points=\"306,-123 162,-123 162,-87 306,-87 306,-123\"/>\r\n",
       "<text text-anchor=\"middle\" x=\"234\" y=\"-101.3\" font-family=\"Times New Roman,serif\" font-size=\"14.00\">Kot</text>\r\n",
       "</g>\r\n",
       "<!-- Ssak&#45;&gt;Kot -->\r\n",
       "<g id=\"edge4\" class=\"edge\"><title>Ssak&#45;&gt;Kot</title>\r\n",
       "<path fill=\"none\" stroke=\"black\" d=\"M234,-159.813C234,-151.789 234,-142.047 234,-133.069\"/>\r\n",
       "<polygon fill=\"black\" stroke=\"black\" points=\"237.5,-133.029 234,-123.029 230.5,-133.029 237.5,-133.029\"/>\r\n",
       "</g>\r\n",
       "<!-- Delfin -->\r\n",
       "<g id=\"node6\" class=\"node\"><title>Delfin</title>\r\n",
       "<polygon fill=\"none\" stroke=\"black\" points=\"468,-123 324,-123 324,-87 468,-87 468,-123\"/>\r\n",
       "<text text-anchor=\"middle\" x=\"396\" y=\"-101.3\" font-family=\"Times New Roman,serif\" font-size=\"14.00\">Delfin</text>\r\n",
       "</g>\r\n",
       "<!-- Ssak&#45;&gt;Delfin -->\r\n",
       "<g id=\"edge5\" class=\"edge\"><title>Ssak&#45;&gt;Delfin</title>\r\n",
       "<path fill=\"none\" stroke=\"black\" d=\"M272.803,-159.994C295.28,-150.143 323.772,-137.656 347.693,-127.172\"/>\r\n",
       "<polygon fill=\"black\" stroke=\"black\" points=\"349.198,-130.333 356.952,-123.114 346.388,-123.922 349.198,-130.333\"/>\r\n",
       "</g>\r\n",
       "<!-- Bobby -->\r\n",
       "<g id=\"node7\" class=\"node\"><title>Bobby</title>\r\n",
       "<polygon fill=\"none\" stroke=\"black\" points=\"144,-36 0,-36 0,-0 144,-0 144,-36\"/>\r\n",
       "<text text-anchor=\"middle\" x=\"72\" y=\"-14.3\" font-family=\"Times New Roman,serif\" font-size=\"14.00\">Bobby</text>\r\n",
       "</g>\r\n",
       "<!-- Pies&#45;&gt;Bobby -->\r\n",
       "<g id=\"edge6\" class=\"edge\"><title>Pies&#45;&gt;Bobby</title>\r\n",
       "<path fill=\"none\" stroke=\"black\" d=\"M72,-86.799C72,-75.1626 72,-59.5479 72,-46.2368\"/>\r\n",
       "<polygon fill=\"black\" stroke=\"black\" points=\"75.5001,-46.1754 72,-36.1754 68.5001,-46.1755 75.5001,-46.1754\"/>\r\n",
       "<text text-anchor=\"middle\" x=\"120\" y=\"-57.8\" font-family=\"Times New Roman,serif\" font-size=\"14.00\">instancjonowanie</text>\r\n",
       "</g>\r\n",
       "</g>\r\n",
       "</svg>\r\n"
      ],
      "text/plain": [
       "<graphviz.files.Source at 0x18746f2a940>"
      ]
     },
     "execution_count": 4,
     "metadata": {},
     "output_type": "execute_result"
    }
   ],
   "source": [
    "Source('digraph \"kompilator\" { rankdir=UD; node [shape=\"box\", width=2]; \\\n",
    "        Zwierze -> Ssak; Zwierze -> Gad; Ssak -> Pies; Ssak -> Kot; Ssak -> Delfin; Pies -> Bobby [label = \"instancjonowanie\"]}')"
   ]
  },
  {
   "cell_type": "markdown",
   "metadata": {
    "slideshow": {
     "slide_type": "subslide"
    }
   },
   "source": [
    "<h2> Polimorfizm </h2>\n",
    "\n",
    "Dopuszczalne jest <b> przeciążanie </b> metod. Oznacza to, że wywołując jedną funkcję lub metodę otrzymujemy inne jej zachowanie w zależności od użytych parametrów i danych.\n",
    "\n",
    "Przykładowo, konwertując do ciągu znaków za pomocą polecenia str(), funkcja zachowuje się inaczej, zależnie od tego czy konwertujemy typ <i>int, float</i> czy <i>boolean</i>."
   ]
  },
  {
   "cell_type": "markdown",
   "metadata": {
    "slideshow": {
     "slide_type": "slide"
    }
   },
   "source": [
    "<h1> Wracając do Pythona i jego cech...</h1>\n",
    "\n",
    "Ostatnia i najważniejsza - rozszerzalność.\n",
    "\n",
    "Deweloperzy napisali do Pythona mnóstwo bibliotek umożliwiających na przetwarzanie ogromnej ilości danych, współprację z wieloma platformami, urządzeniami, oprogramowaniami...\n",
    "\n",
    "Większość możemy znaleźć wykorzytując <i>Python Package Index</i>"
   ]
  },
  {
   "cell_type": "markdown",
   "metadata": {
    "slideshow": {
     "slide_type": "subslide"
    }
   },
   "source": [
    "Python Package Index to narzędzie zainstalowane razem w Pythonem, które pozwala instalować do niego biblioteki.\n",
    "\n",
    "Anaconda pozwala na instalację bibliotek za pomocą Anaconda Navigator. Większość najpopularniejszych bibliotek jest już zinstalowana razem z Anacondą."
   ]
  },
  {
   "cell_type": "code",
   "execution_count": 42,
   "metadata": {},
   "outputs": [
    {
     "data": {
      "text/html": [
       "<img src=\"pip.png\"/>"
      ],
      "text/plain": [
       "<IPython.core.display.Image object>"
      ]
     },
     "execution_count": 42,
     "metadata": {},
     "output_type": "execute_result"
    }
   ],
   "source": [
    "Image(url=\"pip.png\")"
   ]
  },
  {
   "cell_type": "markdown",
   "metadata": {
    "slideshow": {
     "slide_type": "subslide"
    }
   },
   "source": [
    "<h2> Najpopularniejsze bilbioteki </h2>"
   ]
  },
  {
   "cell_type": "markdown",
   "metadata": {
    "slideshow": {
     "slide_type": "subslide"
    }
   },
   "source": [
    "<center>\n",
    "    \n",
    "   <h2>Matplotlib</h2>\n",
    "\n",
    "Wizualizacja danych, wykresy 2D, 3D\n",
    "\n",
    "</center>\n",
    "\n"
   ]
  },
  {
   "cell_type": "code",
   "execution_count": 45,
   "metadata": {},
   "outputs": [
    {
     "data": {
      "text/html": [
       "<img src=\"matplotlib.webp\"/>"
      ],
      "text/plain": [
       "<IPython.core.display.Image object>"
      ]
     },
     "execution_count": 45,
     "metadata": {},
     "output_type": "execute_result"
    }
   ],
   "source": [
    "Image(url = \"matplotlib.webp\")"
   ]
  },
  {
   "cell_type": "code",
   "execution_count": 46,
   "metadata": {
    "slideshow": {
     "slide_type": "subslide"
    }
   },
   "outputs": [
    {
     "data": {
      "text/html": [
       "<img src=\"streamplot.png\"/>"
      ],
      "text/plain": [
       "<IPython.core.display.Image object>"
      ]
     },
     "execution_count": 46,
     "metadata": {},
     "output_type": "execute_result"
    }
   ],
   "source": [
    "Image(url=\"streamplot.png\")"
   ]
  },
  {
   "cell_type": "markdown",
   "metadata": {
    "slideshow": {
     "slide_type": "subslide"
    }
   },
   "source": [
    "<center><h2> NumPy </h2></center>\n",
    "\n",
    "Algebra liniowa, macierze"
   ]
  },
  {
   "cell_type": "code",
   "execution_count": 47,
   "metadata": {},
   "outputs": [
    {
     "data": {
      "text/html": [
       "<img src=\"numpy.png\"/>"
      ],
      "text/plain": [
       "<IPython.core.display.Image object>"
      ]
     },
     "execution_count": 47,
     "metadata": {},
     "output_type": "execute_result"
    }
   ],
   "source": [
    "Image(url=\"numpy.png\")"
   ]
  },
  {
   "cell_type": "code",
   "execution_count": 48,
   "metadata": {
    "slideshow": {
     "slide_type": "subslide"
    }
   },
   "outputs": [
    {
     "data": {
      "text/html": [
       "<img src=\"numpy2.png\"/>"
      ],
      "text/plain": [
       "<IPython.core.display.Image object>"
      ]
     },
     "execution_count": 48,
     "metadata": {},
     "output_type": "execute_result"
    }
   ],
   "source": [
    "Image(url=\"numpy2.png\")"
   ]
  },
  {
   "cell_type": "markdown",
   "metadata": {
    "slideshow": {
     "slide_type": "subslide"
    }
   },
   "source": [
    "<center> <h2> Pandas </h2> </center>\n",
    "\n",
    "Tabele, funkcjonalności bazy danych, grupowanie danych, sortowanie, przetwarzanie"
   ]
  },
  {
   "cell_type": "code",
   "execution_count": 49,
   "metadata": {},
   "outputs": [
    {
     "data": {
      "text/html": [
       "<img src=\"pandas_logo.png\"/>"
      ],
      "text/plain": [
       "<IPython.core.display.Image object>"
      ]
     },
     "execution_count": 49,
     "metadata": {},
     "output_type": "execute_result"
    }
   ],
   "source": [
    "Image(url=\"pandas_logo.png\")"
   ]
  },
  {
   "cell_type": "code",
   "execution_count": 50,
   "metadata": {
    "slideshow": {
     "slide_type": "subslide"
    }
   },
   "outputs": [
    {
     "data": {
      "text/html": [
       "<img src=\"pandas2.png\"/>"
      ],
      "text/plain": [
       "<IPython.core.display.Image object>"
      ]
     },
     "execution_count": 50,
     "metadata": {},
     "output_type": "execute_result"
    }
   ],
   "source": [
    "Image(url=\"pandas2.png\")"
   ]
  },
  {
   "cell_type": "markdown",
   "metadata": {
    "slideshow": {
     "slide_type": "subslide"
    }
   },
   "source": [
    "<center> <h2> SciPy </h2> </center>\n",
    "\n",
    "Wszelka analiza matematyczna"
   ]
  },
  {
   "cell_type": "code",
   "execution_count": 51,
   "metadata": {},
   "outputs": [
    {
     "data": {
      "text/html": [
       "<img src=\"scipy.png\"/>"
      ],
      "text/plain": [
       "<IPython.core.display.Image object>"
      ]
     },
     "execution_count": 51,
     "metadata": {},
     "output_type": "execute_result"
    }
   ],
   "source": [
    "Image(url=\"scipy.png\")"
   ]
  },
  {
   "cell_type": "code",
   "execution_count": 52,
   "metadata": {
    "slideshow": {
     "slide_type": "slide"
    }
   },
   "outputs": [
    {
     "data": {
      "text/html": [
       "<img src=\"scipy2.png\"/>"
      ],
      "text/plain": [
       "<IPython.core.display.Image object>"
      ]
     },
     "execution_count": 52,
     "metadata": {},
     "output_type": "execute_result"
    }
   ],
   "source": [
    "Image(url=\"scipy2.png\")"
   ]
  },
  {
   "cell_type": "markdown",
   "metadata": {
    "slideshow": {
     "slide_type": "subslide"
    }
   },
   "source": [
    "<center> <h2> Jupyter </h2> </center>\n",
    "\n",
    "Środowisko pracy, kodowania w czasie rzeczywistym, interaktywne, "
   ]
  },
  {
   "cell_type": "code",
   "execution_count": 53,
   "metadata": {},
   "outputs": [
    {
     "data": {
      "text/html": [
       "<img src=\"jupyter.png\"/>"
      ],
      "text/plain": [
       "<IPython.core.display.Image object>"
      ]
     },
     "execution_count": 53,
     "metadata": {},
     "output_type": "execute_result"
    }
   ],
   "source": [
    "Image(url = \"jupyter.png\")"
   ]
  },
  {
   "cell_type": "markdown",
   "metadata": {
    "slideshow": {
     "slide_type": "subslide"
    }
   },
   "source": [
    "<center> <h2> Seaborn </h2> </center>\n",
    "\n",
    "Wizualizacje oparte na matplotlib, gotowe narzędzia łączące analizę matematyczną, statystyczną z wizulizacją danych."
   ]
  },
  {
   "cell_type": "code",
   "execution_count": 54,
   "metadata": {},
   "outputs": [
    {
     "data": {
      "text/html": [
       "<img src=\"seaborn_logo.png\"/>"
      ],
      "text/plain": [
       "<IPython.core.display.Image object>"
      ]
     },
     "execution_count": 54,
     "metadata": {},
     "output_type": "execute_result"
    }
   ],
   "source": [
    "Image(url = \"seaborn_logo.png\")"
   ]
  },
  {
   "cell_type": "code",
   "execution_count": 55,
   "metadata": {
    "slideshow": {
     "slide_type": "subslide"
    }
   },
   "outputs": [
    {
     "data": {
      "text/html": [
       "<img src=\"seaborn.png\"/>"
      ],
      "text/plain": [
       "<IPython.core.display.Image object>"
      ]
     },
     "execution_count": 55,
     "metadata": {},
     "output_type": "execute_result"
    }
   ],
   "source": [
    "Image(url=\"seaborn.png\")"
   ]
  },
  {
   "cell_type": "markdown",
   "metadata": {
    "slideshow": {
     "slide_type": "subslide"
    }
   },
   "source": [
    "Do każdego zadania istnieje przynajmniej kilka bibliotek. Powyżej wymieniono najpopularniejsze. Inne często używane bilbioteki pozwalają na:\n",
    "<ul>\n",
    "    <li>Tworzenie interaktywnych wizualizacji</li>\n",
    "    <li>Tworzenie map</li>\n",
    "    <li>Uczenie maszynowe</li>\n",
    "    <li>Budowę sieci neuronowych</li>\n",
    "    <li>Połączenie i obsługa serwera</li>\n",
    "    <li>Obsługa stron internetowych</li>\n",
    "    <li>Gromadzenie danych ze stron internetowych</li>\n",
    "    <li>Osadzanie kodu do języka C</li>\n",
    "    <li>Programowanie równoległe</li>\n",
    "    <li>Łączność z bazą danych</li>\n",
    "    <li>Rozpoznawanie obrazów</li>\n",
    "    <li>I wiele, wiele więcej...</li>\n",
    "</ul>"
   ]
  },
  {
   "cell_type": "code",
   "execution_count": 56,
   "metadata": {
    "slideshow": {
     "slide_type": "subslide"
    }
   },
   "outputs": [
    {
     "data": {
      "text/html": [
       "<img src=\"libraries.jpg\"/>"
      ],
      "text/plain": [
       "<IPython.core.display.Image object>"
      ]
     },
     "execution_count": 56,
     "metadata": {},
     "output_type": "execute_result"
    }
   ],
   "source": [
    "Image(url = \"libraries.jpg\")"
   ]
  },
  {
   "cell_type": "markdown",
   "metadata": {
    "slideshow": {
     "slide_type": "slide"
    }
   },
   "source": [
    "<h2> Kto używa Pythona?</h2>\n",
    "\n",
    "Python wykorzystywany jest szeroko przez wiele znanych firm.\n"
   ]
  },
  {
   "cell_type": "markdown",
   "metadata": {
    "slideshow": {
     "slide_type": "subslide"
    }
   },
   "source": [
    "Youtube bazuje na Pythonie"
   ]
  },
  {
   "cell_type": "code",
   "execution_count": 63,
   "metadata": {},
   "outputs": [
    {
     "data": {
      "text/html": [
       "<img src=\"yt.png\" width=\"200\"/>"
      ],
      "text/plain": [
       "<IPython.core.display.Image object>"
      ]
     },
     "execution_count": 63,
     "metadata": {},
     "output_type": "execute_result"
    }
   ],
   "source": [
    "Image(url=\"yt.png\",width=200)"
   ]
  },
  {
   "cell_type": "markdown",
   "metadata": {
    "slideshow": {
     "slide_type": "subslide"
    }
   },
   "source": [
    "NASA wykorzystuje Python przy obliczeniach i analizach"
   ]
  },
  {
   "cell_type": "code",
   "execution_count": 71,
   "metadata": {},
   "outputs": [
    {
     "data": {
      "text/html": [
       "<img src=\"nasa.png\" width=\"200\"/>"
      ],
      "text/plain": [
       "<IPython.core.display.Image object>"
      ]
     },
     "execution_count": 71,
     "metadata": {},
     "output_type": "execute_result"
    }
   ],
   "source": [
    "Image(url=\"nasa.png\",width=200)"
   ]
  },
  {
   "cell_type": "markdown",
   "metadata": {
    "slideshow": {
     "slide_type": "subslide"
    }
   },
   "source": [
    "System propozycji i porządkowania filmów w platformie Netflix jest zbudowany z użyciem Pythona"
   ]
  },
  {
   "cell_type": "code",
   "execution_count": 68,
   "metadata": {},
   "outputs": [
    {
     "data": {
      "text/html": [
       "<img src=\"nflx.png\" width=\"200\"/>"
      ],
      "text/plain": [
       "<IPython.core.display.Image object>"
      ]
     },
     "execution_count": 68,
     "metadata": {},
     "output_type": "execute_result"
    }
   ],
   "source": [
    "Image(url=\"nflx.png\",width=200)"
   ]
  },
  {
   "cell_type": "markdown",
   "metadata": {
    "slideshow": {
     "slide_type": "subslide"
    }
   },
   "source": [
    "Podobnie system spersonalizowanej rekomendacji muzyki i jej katologowania w Spotify używa Pythona"
   ]
  },
  {
   "cell_type": "code",
   "execution_count": 67,
   "metadata": {},
   "outputs": [
    {
     "data": {
      "text/html": [
       "<img src=\"spt.png\" width=\"200\"/>"
      ],
      "text/plain": [
       "<IPython.core.display.Image object>"
      ]
     },
     "execution_count": 67,
     "metadata": {},
     "output_type": "execute_result"
    }
   ],
   "source": [
    "Image(url=\"spt.png\",width=200)"
   ]
  },
  {
   "cell_type": "markdown",
   "metadata": {
    "slideshow": {
     "slide_type": "subslide"
    }
   },
   "source": [
    "Walt Disney renderuje swoje filmy poprzez Pythona"
   ]
  },
  {
   "cell_type": "code",
   "execution_count": 75,
   "metadata": {},
   "outputs": [
    {
     "data": {
      "text/html": [
       "<img src=\"disney.webp\" width=\"800\"/>"
      ],
      "text/plain": [
       "<IPython.core.display.Image object>"
      ]
     },
     "execution_count": 75,
     "metadata": {},
     "output_type": "execute_result"
    }
   ],
   "source": [
    "Image(url=\"disney.webp\",width=800)"
   ]
  },
  {
   "cell_type": "markdown",
   "metadata": {
    "slideshow": {
     "slide_type": "subslide"
    }
   },
   "source": [
    "Popularne gry jak Battlefield czy Sims zostały stworzone za pomocą Pythona."
   ]
  },
  {
   "cell_type": "code",
   "execution_count": 77,
   "metadata": {},
   "outputs": [
    {
     "data": {
      "text/html": [
       "<img src=\"sims.jpg\" width=\"400\"/>"
      ],
      "text/plain": [
       "<IPython.core.display.Image object>"
      ]
     },
     "execution_count": 77,
     "metadata": {},
     "output_type": "execute_result"
    }
   ],
   "source": [
    "Image(url=\"sims.jpg\",width=400)"
   ]
  },
  {
   "cell_type": "markdown",
   "metadata": {
    "slideshow": {
     "slide_type": "slide"
    }
   },
   "source": [
    "<h2> Python 2 vs Python 3 </h2>\n",
    "\n",
    "Czym się różnią?\n",
    "\n",
    "Główne różnice o których musimy wiedzieć to:\n",
    "\n",
    "W Python3 print jest funkcją:\n",
    "    \n",
    "     print(\"tekst\")\n",
    "\n",
    "W Python2:\n",
    "\n",
    "     print \"tekst\"\n",
    "     \n"
   ]
  },
  {
   "cell_type": "markdown",
   "metadata": {
    "slideshow": {
     "slide_type": "subslide"
    }
   },
   "source": [
    "Wiele nowych bibliotek powstaje wyłącznie na Python3\n"
   ]
  },
  {
   "cell_type": "markdown",
   "metadata": {
    "slideshow": {
     "slide_type": "subslide"
    }
   },
   "source": [
    "\n",
    "Python3 używa tekstu Unicode (polskie znaki!)\n",
    "\n",
    "Python 2 używa ASCII (brak polskich znaków!)"
   ]
  },
  {
   "cell_type": "markdown",
   "metadata": {
    "slideshow": {
     "slide_type": "subslide"
    }
   },
   "source": [
    "Python3: 5/2 = 2.5\n",
    "\n",
    "Python2: 5/2 = 2"
   ]
  },
  {
   "cell_type": "markdown",
   "metadata": {
    "slideshow": {
     "slide_type": "subslide"
    }
   },
   "source": [
    "Python3 zwraca iteratory, nie listy przy funkcjach takich jak zip(), map(), filter(), .keys() dla słowników, .values() dla słowników, .items() dla słowników\n",
    "Oznacza to, że należy się przez nie przeiterować instrukcją for()\n",
    "\n",
    "Python2 zwraca w tych przypadkach gotowe listy"
   ]
  },
  {
   "cell_type": "markdown",
   "metadata": {
    "slideshow": {
     "slide_type": "slide"
    }
   },
   "source": [
    "<h2> Co wyrożnia Pythona?</h2>\n",
    "\n",
    "Jego czytelność jest wynikiem praktycznego i funkcjonalnego wdrożenia konwencji z innych języków programowania - mianowice <b> wcięć </b>\n",
    "\n",
    "Każdy fragment kodu, który jest podrzędny <b> musi </b> (w innych językach jest to mile widziane, ale nie jest konieczne) być wcięty <b> tabulatorem lub 4 spacjami </b>\n",
    "\n",
    "Wcięcia te informują interpreter kiedy dany blok kodu się kończy."
   ]
  },
  {
   "cell_type": "markdown",
   "metadata": {
    "slideshow": {
     "slide_type": "subslide"
    }
   },
   "source": [
    "W językach niższego rzędu (C++ - klamry informują o fragmencie kodu i wyjściu z pętli)\n",
    "\n",
    "    void wypiszTablice( int tablica[], int ile )\n",
    "    {\n",
    "        for( int indeks = 0; indeks < ile; indeks++ )\n",
    "             std::cout << tablica[ indeks ] << std::endl;\n",
    "\n",
    "    }\n",
    "    void wczytajLiczby( int tablica[], int ile )\n",
    "    {\n",
    "        for( int indeks = 0; indeks < ile; indeks++ )\n",
    "        {\n",
    "            std::cout << \"Podaj liczbe \" <<( indeks + 1 ) << \": \";\n",
    "            std::cin >> tablica[ indeks ];\n",
    "        } //for\n",
    "    }"
   ]
  },
  {
   "cell_type": "markdown",
   "metadata": {
    "slideshow": {
     "slide_type": "slide"
    }
   },
   "source": [
    "Visual Basic (o końcu pętli informuje polecenie \"Next\")\n",
    "\n",
    "    For number As Double = 2 To 0 Step -0.25\n",
    "        Debug.Write(number.ToString & \" \")\n",
    "    Next\n",
    "    Debug.WriteLine(\"\")"
   ]
  },
  {
   "cell_type": "markdown",
   "metadata": {
    "slideshow": {
     "slide_type": "subslide"
    }
   },
   "source": [
    "Python (o końcu pętli informuje cofnięcie wcięcia)\n",
    "\n",
    "    for n in range(10):\n",
    "        n += 1\n",
    "        print(n)\n",
    "    print(n%5)"
   ]
  },
  {
   "cell_type": "code",
   "execution_count": 84,
   "metadata": {},
   "outputs": [
    {
     "data": {
      "text/plain": [
       "6"
      ]
     },
     "execution_count": 84,
     "metadata": {},
     "output_type": "execute_result"
    }
   ],
   "source": []
  }
 ],
 "metadata": {
  "celltoolbar": "Slideshow",
  "kernelspec": {
   "display_name": "Python 3",
   "language": "python",
   "name": "python3"
  },
  "language_info": {
   "codemirror_mode": {
    "name": "ipython",
    "version": 3
   },
   "file_extension": ".py",
   "mimetype": "text/x-python",
   "name": "python",
   "nbconvert_exporter": "python",
   "pygments_lexer": "ipython3",
   "version": "3.7.1"
  }
 },
 "nbformat": 4,
 "nbformat_minor": 2
}

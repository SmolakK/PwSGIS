{
 "cells": [
  {
   "cell_type": "markdown",
   "metadata": {},
   "source": [
    "<h1> Lista 4 - QGIS and Python </h1>\n",
    "\n",
    "Complete below tasks as a QGIS 3 scripts, send them over as *.py files to me at kamil.smolak@upwr.edu.pl\n",
    "\n",
    "1. Write a function which accepts a file path as an arguments. Depending on the file type (TIF or SHP) function uses proper method to load vector or raster layer. Test it loading two files added to the exercises bogota.tif and Budynki_JG.shp\n",
    "\n",
    "2. Using function from exercises 1, write another which loads a raster and saves its parametres (metadata) into the txt file in the same folder as the raster is. The data has to contain: width, height, raster type, quanitity of bands and coordinate reference system."
   ]
  },
  {
   "cell_type": "code",
   "execution_count": null,
   "metadata": {},
   "outputs": [],
   "source": []
  }
 ],
 "metadata": {
  "kernelspec": {
   "display_name": "Python 3",
   "language": "python",
   "name": "python3"
  },
  "language_info": {
   "codemirror_mode": {
    "name": "ipython",
    "version": 3
   },
   "file_extension": ".py",
   "mimetype": "text/x-python",
   "name": "python",
   "nbconvert_exporter": "python",
   "pygments_lexer": "ipython3",
   "version": "3.7.4"
  }
 },
 "nbformat": 4,
 "nbformat_minor": 2
}

{
 "cells": [
  {
   "cell_type": "markdown",
   "metadata": {},
   "source": [
    "<h1> Wykład 4 </h1>"
   ]
  },
  {
   "cell_type": "markdown",
   "metadata": {},
   "source": [
    "<h1> QGIS: programowanie ciąg dalszy</h1>\n",
    "\n",
    "<h3> Modyfikacje danych </h3>"
   ]
  },
  {
   "cell_type": "markdown",
   "metadata": {},
   "source": [
    "Na ostatnich ćwiczeniach ładowaliśmy warstwy, dokonywaliśmy selekcji i uzyskiwaliśmy dostęp do wartości używając klas warstw wektorowych, rastrowych, projektu QGIS oraz dataProvider przekazującego dane. Możliwe jest również wygodne edytowanie parametrów i wartości tych obiektów za pomocą poleceń Pythona."
   ]
  },
  {
   "cell_type": "markdown",
   "metadata": {},
   "source": [
    "Pracować będziemy na jakiejś warstwie danych, przypominam, że dostęp do obecnie załadowanej do QGIS (dla ułatwienia) to:"
   ]
  },
  {
   "cell_type": "code",
   "execution_count": null,
   "metadata": {},
   "outputs": [],
   "source": [
    "#obecnie zaznaczona warstwa\n",
    "warstwa = iface.activeLayer()"
   ]
  },
  {
   "cell_type": "markdown",
   "metadata": {},
   "source": [
    "Zmiany i modyfikacje nie są widoczne, dopóki nie odświeżymy widoku na warstwę. Możemy dokonać odświeżenia na warstwie lub w oknie mapy:"
   ]
  },
  {
   "cell_type": "code",
   "execution_count": null,
   "metadata": {},
   "outputs": [],
   "source": [
    "#odświeżanie\n",
    "warstwa.triggerRepaint() #metoda warstwy\n",
    "#LUB\n",
    "iface.mapCanvas().refresh() #metoda intefejsu, mapCanvas() zwraca referencję do \"płótna\" mapy"
   ]
  },
  {
   "cell_type": "markdown",
   "metadata": {},
   "source": [
    "<h3> Dodawanie nowych obiektów </h3>\n",
    "\n",
    "Zakładamy, że pracujemy na jakiejś warstwie wektorowej o charakterze LineString. Do wykładu dołączyłem taką warstwę.\n",
    "\n",
    "Każdy obiekt (QgsFeature) warstwy wektorowej (QgsVectorLayer) ma:\n",
    "<ul>\n",
    "    <li> Atrybuty (QgsField) </li>\n",
    "    <li> Geometrię (QgsGeometry) </li>\n",
    "</ul>\n",
    "\n",
    "Przy tworzeniu obiektów należy ustalić oba.\n",
    "\n",
    "Najpierw tworzymy pusty obiekt:"
   ]
  },
  {
   "cell_type": "code",
   "execution_count": null,
   "metadata": {},
   "outputs": [],
   "source": [
    "feat = QgsFeature(warstwa.fields()) #instancja obiektu QgsFeature, parametrem są pola wartości QgsField warstwy"
   ]
  },
  {
   "cell_type": "markdown",
   "metadata": {},
   "source": [
    "Nie jest jeszcze przypisany do warstwy, zrobimy to później. Teraz nadajemy mu atrybuty oraz goemetrię:"
   ]
  },
  {
   "cell_type": "code",
   "execution_count": null,
   "metadata": {},
   "outputs": [],
   "source": [
    "feat.setAttributes([0, 60]) #dodajemy atrybuty, ta warstwa ma dwa atrybuty integer\n",
    "#LUB\n",
    "feat.setAttribute(0,60) #tylko jeden wiersz"
   ]
  },
  {
   "cell_type": "code",
   "execution_count": null,
   "metadata": {},
   "outputs": [],
   "source": [
    "#Tworzymy geometrię - linia z dwóch punktów\n",
    "line_start = QgsPoint(15.74,50.89)\n",
    "line_end = QgsPoint(15.73,50.91)"
   ]
  },
  {
   "cell_type": "markdown",
   "metadata": {},
   "source": [
    "QgsGeometry to klasa geometrii, która może przyjmować postać punktów, linii i poligonów. Najczęściej budowana jest z punktów, czyli z klasy ([nowa klasa!]) QgsPoint:\n",
    "\n",
    "    QgsPoint(x,y)\n",
    "\n",
    "Następnie stosujemy jedno z poleceń .from __geometria__, czyli:\n",
    " \n",
    "    fromPolyline, fromPolygonXY, fromPointXY lub fromWKT - czyli typu danych WKT"
   ]
  },
  {
   "cell_type": "code",
   "execution_count": null,
   "metadata": {},
   "outputs": [],
   "source": [
    "feat.setGeometry(QgsGeometry.fromPolyline([line_start,line_end]))"
   ]
  },
  {
   "cell_type": "markdown",
   "metadata": {},
   "source": [
    "I dodajemy go do warstwy. Do tego wykorzystujemy klasę dataProvider, która zawsze pośredniczy w operacjach dodawania, edytowania i usuwania obiektów warstw wektorowych. Więcej o niej poniżej."
   ]
  },
  {
   "cell_type": "code",
   "execution_count": null,
   "metadata": {},
   "outputs": [],
   "source": [
    "warstwa.dataProvider().addFeatures([feat]) #dodajemy obiekt do warstwy"
   ]
  },
  {
   "cell_type": "markdown",
   "metadata": {},
   "source": [
    "Geometrie można budować z WKT, co jest o wiele prostsze, dlatego że w WKT można zapisać KAŻDY tym geometrii obecny w QGIS"
   ]
  },
  {
   "cell_type": "markdown",
   "metadata": {},
   "source": [
    "<h3> WKT - Well-known text representation of geometry </h3>\n",
    "\n",
    "To jeden ze standardów OGC, który pozwala na opisanie każdego typu geometrii:\n",
    "\n",
    "    Point (jeden), MultiPoint (kolekcja),\n",
    "    LineString (jeden), MultiLineString (kolekcja),\n",
    "    Polygonjeden), MultiPolygon (kolekcja).\n",
    "\n",
    "Definicja:\n",
    "\n",
    "    Nazwa (x y)\n",
    "\n",
    "Punkt:\n",
    "\n",
    "    POINT (10 30) - Punkt o współrzędnych x=10 i y = 30\n",
    "\n",
    "Linia:\n",
    "\n",
    "    LINESTRING (30 10, 10 30) - to linia (prosta) o współrzędnych pierwszego wierzchołka X = 30, Y = 10 i drugiego X = 10, Y = 30\n",
    "\n",
    "    LINESTRING (30 10, 10 30, 40 40) - to linia łamana, o trzech punktach\n",
    "    \n",
    "Poligon:\n",
    "\n",
    "    POLYGON ((30 10, 40 40, 20 20, 10 20, 30 10))\n",
    "    \n",
    "    POLYGON ((35 10, 45 45, 15 40, 10 20, 35 10), (20 30, 35 35, 30 20, 20 30))\n",
    "    \n",
    "    Pierwsza i ostatnia współrzędna się powtarzają, bo wielobok musi mieć zamkniętą geometrię (czyli ma 4 wierzchołki)\n",
    "    \n",
    "    Zapis w podwójnym nawiasie umowżliwia podanie współrzędnych “otworu” w geometrii. Jak w drugim przykładzie.\n",
    "    \n",
    "    Kolekcje geometrii skłdają się z przynajmniej podwójnego zagnieżdżenia nawiasów. \n",
    "    \n",
    "Naprawdę niezły przykład jest w tabelce na Wikipedii:\n",
    "\n",
    "    https://en.wikipedia.org/wiki/Well-known_text_representation_of_geometry\n",
    "    "
   ]
  },
  {
   "cell_type": "markdown",
   "metadata": {},
   "source": [
    "<h3> WKB - Well-known binary </h3>\n",
    "\n",
    "Binarny odpowiednik WKT. Zapis tych samych geometrii, ale językiem binarnym. Szybszy w składowaniu o dycztywywaniu."
   ]
  },
  {
   "cell_type": "markdown",
   "metadata": {},
   "source": [
    "Zadanie: Spróbuj dodać powyżej wprowadzoną linię za pomocę geometrii WKT. Geometrię zapisujemy jako tekst \" \". Użyj polecenia. fromWKT()"
   ]
  },
  {
   "cell_type": "markdown",
   "metadata": {},
   "source": [
    "<h2> Usuwanie obiektów </h2>\n",
    "\n",
    "Wystarczy podać ich indeks:"
   ]
  },
  {
   "cell_type": "code",
   "execution_count": null,
   "metadata": {},
   "outputs": [],
   "source": [
    "warstwa.dataProvider().deleteFeatures([0])"
   ]
  },
  {
   "cell_type": "markdown",
   "metadata": {},
   "source": [
    "<h2> DataProvider </h2>\n",
    "\n",
    "Ta klasa umożlwia dostęp do geometrii i atrybutów obiektów już obecnych na warstwie. Czyli jest przydatna przy dodawaniu, edycji i usuwaniu. Powyżej użyliśmy jej już do dodwania i usuwania. Użyjmy jej jeszcze do edycji!"
   ]
  },
  {
   "cell_type": "markdown",
   "metadata": {},
   "source": [
    "<h2> Edycja obiektów </h2>\n",
    "\n",
    "Dodajmy dwa obiekty na warstwie:"
   ]
  },
  {
   "cell_type": "code",
   "execution_count": null,
   "metadata": {},
   "outputs": [],
   "source": [
    "warstwa = iface.activeLayer()\n",
    "\n",
    "feat1 = QgsFeature(warstwa.fields())\n",
    "feat1.setAttributes([0, 60])\n",
    "line1_start = QgsPoint(15.74,50.89)\n",
    "line1_end = QgsPoint(15.73,50.91)\n",
    "feat1.setGeometry(QgsGeometry.fromPolyline([line1_start,line1_end]))\n",
    "\n",
    "feat2 = QgsFeature(warstwa.fields())\n",
    "feat2.setAttributes([0, 100])\n",
    "line2_start = QgsPoint(11.74,53.89)\n",
    "line2_end = QgsPoint(11.73,53.91)\n",
    "feat2.setGeometry(QgsGeometry.fromPolyline([line2_start,line2_end]))\n",
    "warstwa.dataProvider().addFeatures([feat1,feat2]) "
   ]
  },
  {
   "cell_type": "markdown",
   "metadata": {},
   "source": [
    "Teraz zmieńmy wartość podanych atrybutów pierwszego obiektu:"
   ]
  },
  {
   "cell_type": "code",
   "execution_count": null,
   "metadata": {},
   "outputs": [],
   "source": [
    "attrs = { 0 : 100, 1 : 90 } #pole 1 otrzyma 100, pole 2 otrzyma 90\n",
    "warstwa.dataProvider().changeAttributeValues({ 1 : attrs }) #obiekt o indeksie nr 1 zostanie zmieniony"
   ]
  },
  {
   "cell_type": "markdown",
   "metadata": {},
   "source": [
    "Zmieńmy jeszcze geometrię:"
   ]
  },
  {
   "cell_type": "code",
   "execution_count": null,
   "metadata": {},
   "outputs": [],
   "source": [
    "geom = QgsGeometry.fromPolyline([QgsPoint(15.70,50.59),QgsPoint(15.70,50.52),QgsPoint(15.73,50.52)])\n",
    "warstwa.dataProvider().changeGeometryValues({1: geom})"
   ]
  },
  {
   "cell_type": "markdown",
   "metadata": {},
   "source": [
    "<h3> Ostrożności nigdy za wiele - tryb edycji </h3>\n",
    "\n",
    "Zmiany dokonane w trybie edycji mogą zostać odwrócone, dlatego też przed każdą decyzją najlepiej skorzystać jest z metod warstwy wektorowej:\n",
    "\n",
    "    startEditing() - rozpocznij edycje\n",
    "    commitChanges() - dokonaj zmian\n",
    "    rollBack() - przywróć zmiany\n",
    "    \n",
    "    isEditable() - sprawdź czy warstwa jest edytowalna\n",
    "    \n"
   ]
  },
  {
   "cell_type": "markdown",
   "metadata": {},
   "source": [
    "<h3> Nowe atrybuty - jak dodać nowe atrybuty do warstwy</h3>\n",
    "\n",
    "dataProvider() posiada metodę addAttributes oraz deleteAttributes.\n",
    "\n",
    "[Nowa klasa] - QVariant, klasa przenosząca typ danych"
   ]
  },
  {
   "cell_type": "code",
   "execution_count": null,
   "metadata": {},
   "outputs": [],
   "source": [
    "from qgis.PyQt.QtCore import QVariant #trzeba zaimportować, gdzyż ta warstwa przechowuje typy danych QGIS\n",
    "\n",
    "warstwa.dataProvider().addAttributes\\\n",
    "([QgsField(\"nazwa_string\", QVariant.String), QgsField(\"nazwa_int\", QVariant.Int)])"
   ]
  },
  {
   "cell_type": "code",
   "execution_count": null,
   "metadata": {},
   "outputs": [],
   "source": [
    "warstwa.dataProvider().deleteAttributes([0])"
   ]
  },
  {
   "cell_type": "code",
   "execution_count": null,
   "metadata": {},
   "outputs": [],
   "source": [
    "warstwa.updateFields() #BARDZO WAŻNE, zawsze należy potwierdzić operację"
   ]
  },
  {
   "cell_type": "markdown",
   "metadata": {},
   "source": [
    "<h3> Tworzenie warstw, zapisywanie </h3>\n",
    "\n",
    "Zapisywanie warstw wektorowych obsługuje inna klasa - $QgsVectorFileWriter$ i jej funkcja $writeAsVectorFormat()$, która wspiera wszystkie formaty danych OGR (GeoPackage, Shapefile, GeoJSON, KML i inne)"
   ]
  },
  {
   "cell_type": "code",
   "execution_count": null,
   "metadata": {},
   "outputs": [],
   "source": [
    "QgsVectorFileWriter.writeAsVectorFormat(warstwa, \"nazwa\", \"UTF-8\") #(warstwa, nazwa, kodowanie znaków)"
   ]
  },
  {
   "cell_type": "code",
   "execution_count": null,
   "metadata": {},
   "outputs": [],
   "source": [
    "QgsVectorFileWriter.writeAsVectorFormat(warstwa, \"nazwa\", \"UTF-8\", driverName=\"GeoJSON\")"
   ]
  },
  {
   "cell_type": "code",
   "execution_count": null,
   "metadata": {},
   "outputs": [],
   "source": [
    "crs=QgsCoordinateReferenceSystem(\"epsg:4326\")\n",
    "QgsVecotFileWriter.writeAsVectorFormat(warswa, \"nazwa\", \"UTF-8\", crs = crs, driverName=\"GeoJSON\")"
   ]
  },
  {
   "cell_type": "markdown",
   "metadata": {},
   "source": [
    "<h3> Warstwy tymczasowe </h3>\n",
    "\n",
    "W QGIS2 warstwy tymaczasowe nie były w ogóle dopuszczalne w aplikacji QGISa. W QGIS3 są, lecz nie zawsze. Należy pamiętać że nie zawsze nadają się do geoprocessingu. Pozwalają oszczędzić pamięć i miejsce na dysku twardym podczas operacji."
   ]
  },
  {
   "cell_type": "code",
   "execution_count": null,
   "metadata": {},
   "outputs": [],
   "source": [
    "from qgis.PyQt.QtCore import QVariant\n",
    "\n",
    "#pusta warstwa w pamięci\n",
    "temp_vlayer = QgsVectorLayer(\"Point\", \"tymczasowe_punkty\", \"memory\") #zamiast \"ogr\" dajemy \"memory\", a zamiast nazwy jej charakter (punktowy \"Point\")\n",
    "pr = temp_vlayer.dataProvider() #dataProvider warstwy tymaczasowej\n",
    "\n",
    "#Atrybuty - pola\n",
    "pr.addAttributes([QgsField(\"nazwa\", QVariant.String), QgsField(\"wiek\",QVariant.Int)])\n",
    "temp_vlayer.updateFields()\n",
    "\n",
    "#obiekt\n",
    "feat = QgsFeature() #pusty obiekt\n",
    "#Geometria\n",
    "feat.setGeometry(QgsGeometry.fromPointXY(QgsPointXY(10,10)))\n",
    "#Atrybuty\n",
    "feat.setAttributes([\"Bobby\",12])\n",
    "#Dodaj\n",
    "pr.addFeatures([feat])\n",
    "temp_vlayer.updateExtents() #odśwież warstwę"
   ]
  },
  {
   "cell_type": "markdown",
   "metadata": {},
   "source": [
    "I teraz możemy ją dodac do okna mapy:"
   ]
  },
  {
   "cell_type": "code",
   "execution_count": null,
   "metadata": {},
   "outputs": [],
   "source": [
    "QgsProject.instance().addMapLayer(temp_vlayer)"
   ]
  },
  {
   "cell_type": "markdown",
   "metadata": {},
   "source": [
    "Tyle na dziś, dziękuję!"
   ]
  }
 ],
 "metadata": {
  "kernelspec": {
   "display_name": "Python 3",
   "language": "python",
   "name": "python3"
  },
  "language_info": {
   "codemirror_mode": {
    "name": "ipython",
    "version": 3
   },
   "file_extension": ".py",
   "mimetype": "text/x-python",
   "name": "python",
   "nbconvert_exporter": "python",
   "pygments_lexer": "ipython3",
   "version": "3.7.1"
  }
 },
 "nbformat": 4,
 "nbformat_minor": 2
}

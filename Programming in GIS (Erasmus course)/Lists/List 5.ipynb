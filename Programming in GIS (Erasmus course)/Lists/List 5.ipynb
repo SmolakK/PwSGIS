{
 "cells": [
  {
   "cell_type": "markdown",
   "metadata": {},
   "source": [
    "<h3> List 5 </h3>\n",
    "\n",
    "\n",
    "These are the last three exercises to complete! Thank you for attentding the classes!\n",
    "\n",
    "1. Edit the geometry of a single building AFTER transforming it to the new CRS with METRIC units (for example CRS 2000);\n",
    "2. Use different geometry operator (for example combine)\n",
    "3. Calculate the area of selected 20 buildings in square feet."
   ]
  }
 ],
 "metadata": {
  "kernelspec": {
   "display_name": "Python 3",
   "language": "python",
   "name": "python3"
  },
  "language_info": {
   "codemirror_mode": {
    "name": "ipython",
    "version": 3
   },
   "file_extension": ".py",
   "mimetype": "text/x-python",
   "name": "python",
   "nbconvert_exporter": "python",
   "pygments_lexer": "ipython3",
   "version": "3.7.4"
  }
 },
 "nbformat": 4,
 "nbformat_minor": 2
}

{
 "cells": [
  {
   "cell_type": "markdown",
   "metadata": {},
   "source": [
    "Ex. 1. Write a function, which takes any amount of numbers and returns only those which square root is integer"
   ]
  },
  {
   "cell_type": "markdown",
   "metadata": {},
   "source": [
    "Ex. 2. Create a game of rock, paper, scissors. It has to have an input() function to take input from the user. Write a artificial opponent. Propose a strategy for the opponent."
   ]
  },
  {
   "cell_type": "markdown",
   "metadata": {},
   "source": [
    "Ex 3. Create a password generator function. For the parameters set - length and password strength. Low strength passwords should be a randomly selected word from the *.txt file of words. Medium strength password should be randomly selected letters. Strong passwords should be randomly selected letters, numbers, special signs in lower and upper cases."
   ]
  },
  {
   "cell_type": "markdown",
   "metadata": {},
   "source": [
    "Ex 4. Write a game of hangman. Collect words in the *.txt file. The player should have fixed number of chanches. Initally the password should be displayed as a set of underscores '_', one for each letter. As the user guesses the letter, the underscore has to be replaced with the propper letter."
   ]
  },
  {
   "cell_type": "code",
   "execution_count": null,
   "metadata": {},
   "outputs": [],
   "source": []
  }
 ],
 "metadata": {
  "kernelspec": {
   "display_name": "Python 3",
   "language": "python",
   "name": "python3"
  },
  "language_info": {
   "codemirror_mode": {
    "name": "ipython",
    "version": 3
   },
   "file_extension": ".py",
   "mimetype": "text/x-python",
   "name": "python",
   "nbconvert_exporter": "python",
   "pygments_lexer": "ipython3",
   "version": "3.7.1"
  }
 },
 "nbformat": 4,
 "nbformat_minor": 2
}

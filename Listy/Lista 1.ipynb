{
 "cells": [
  {
   "cell_type": "markdown",
   "metadata": {},
   "source": [
    "Zad 1.\n",
    "\n",
    "<b>Wykonaj następujące operacje:</b>\n",
    "<ul>\n",
    "    <li> $(2 + (-5)/2)$ (musi zwrócić niezaokrągloną liczbę!) </li>\n",
    "    <li> $(5 mod 4)^{435}$ </li>\n",
    "    <li> $cos(pi)$ </li>\n",
    "    <li> $e^{ln(1)}$ </li>"
   ]
  },
  {
   "cell_type": "markdown",
   "metadata": {},
   "source": [
    "Zad 2.\n",
    "\n",
    "<b>Zbadaj działanie funkcji wbudowanej \"round\". Określ w jaki sposób zaokrąglane są liczby</b>"
   ]
  },
  {
   "cell_type": "code",
   "execution_count": 15,
   "metadata": {},
   "outputs": [
    {
     "name": "stdout",
     "output_type": "stream",
     "text": [
      "Help on built-in function round in module builtins:\n",
      "\n",
      "round(...)\n",
      "    round(number[, ndigits]) -> number\n",
      "    \n",
      "    Round a number to a given precision in decimal digits (default 0 digits).\n",
      "    This returns an int when called with one argument, otherwise the\n",
      "    same type as the number. ndigits may be negative.\n",
      "\n"
     ]
    }
   ],
   "source": [
    "help(round)"
   ]
  },
  {
   "cell_type": "markdown",
   "metadata": {},
   "source": [
    "Zad 3.\n",
    " <b> Sprawdź czy Python uwzględnia kolejnośc działań </b>"
   ]
  },
  {
   "cell_type": "markdown",
   "metadata": {},
   "source": [
    "Zad 4.\n",
    "\n",
    "<b> Zdefiniuj zmienne: </b>\n",
    "<ul>\n",
    "    <li> a - liczbową zmiennoprzecinkową </li>\n",
    "    <li> b - liczbową całkowitą </li>\n",
    "    <li> c - tekstową </li>\n",
    "    <li> d - tekstową </li>\n",
    "<ul>\n",
    "\n",
    "\n",
    "Zbadaj wyniki działań, określ typ zmiennej wyjściowej:\n",
    "<ul>\n",
    "    <li> a + b </li>\n",
    "    <li> a / b </li>\n",
    "    <li> b / a </li>\n",
    "    <li> c + d </li>\n",
    "    <li> a % b </li>\n",
    "    <li> c / d </li>\n",
    "    <li> d + b </li>\n",
    "<ul>"
   ]
  },
  {
   "cell_type": "markdown",
   "metadata": {},
   "source": [
    "Zad 5.\n",
    "\n",
    "<b> Napisz skrypt, który: </b>\n",
    "\n",
    "<ol>\n",
    "    <li> Oblicza pole trapezu o podstawach 4 i 3, oraz wysokości 2</li>\n",
    "    <li> Podnosi liczbę 2 do sześcianu, zamienia ją na typ tekstowy i dodaje do niego tekst \" to dwa do sześcianu\" </li>"
   ]
  },
  {
   "cell_type": "code",
   "execution_count": null,
   "metadata": {},
   "outputs": [],
   "source": []
  }
 ],
 "metadata": {
  "kernelspec": {
   "display_name": "Python 3",
   "language": "python",
   "name": "python3"
  },
  "language_info": {
   "codemirror_mode": {
    "name": "ipython",
    "version": 3
   },
   "file_extension": ".py",
   "mimetype": "text/x-python",
   "name": "python",
   "nbconvert_exporter": "python",
   "pygments_lexer": "ipython3",
   "version": "3.6.7"
  }
 },
 "nbformat": 4,
 "nbformat_minor": 2
}

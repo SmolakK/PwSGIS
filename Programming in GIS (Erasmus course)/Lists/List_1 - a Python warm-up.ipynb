{
 "cells": [
  {
   "cell_type": "markdown",
   "metadata": {},
   "source": [
    "Ex. 1.\n",
    "\n",
    "<b>Use math library to perform following operations:</b>\n",
    "<ul>\n",
    "    <li> $(2 + (-5)/2)$ </li>\n",
    "    <li> $(5 mod 4)^{435}$ </li>\n",
    "    <li> $cos(pi)$ </li>\n",
    "    <li> $e^{ln(1)}$ </li>"
   ]
  },
  {
   "cell_type": "markdown",
   "metadata": {},
   "source": [
    "Ex. 2\n",
    "Create a list of odd numbers strating from 1 to 99, that can be divisible by 9"
   ]
  },
  {
   "cell_type": "markdown",
   "metadata": {},
   "source": [
    "Ex. 3. Create a tuple: ('al','ka','pO','fom','mad','azzS','ezrpS'). See how to use str.join method. Using indexing tools and str.join method transform the tuple into a string: Sprze-dam-Op-la. \n",
    "\n",
    "*try to do it in just 2 lines"
   ]
  },
  {
   "cell_type": "markdown",
   "metadata": {},
   "source": [
    "Ex. 4. Create a loop that draws the tree as below (height = 15 lines):"
   ]
  },
  {
   "cell_type": "code",
   "execution_count": 7,
   "metadata": {},
   "outputs": [
    {
     "name": "stdout",
     "output_type": "stream",
     "text": [
      "               TREE\n",
      "               \n",
      "              **\n",
      "             ****\n",
      "            ******\n",
      "           ********\n",
      "          **********\n",
      "         ************\n",
      "        **************\n",
      "       ****************\n",
      "      ******************\n",
      "     ********************\n",
      "    **********************\n",
      "   ************************\n",
      "  **************************\n",
      " ****************************\n"
     ]
    }
   ],
   "source": []
  },
  {
   "cell_type": "markdown",
   "metadata": {},
   "source": [
    "Ex. 5. Create a list of squares of number two for exponents from 0 to 12. Take a square root of every third element. At the end, delete everything less than 100."
   ]
  },
  {
   "cell_type": "markdown",
   "metadata": {},
   "source": [
    "Ex. 6. Create a dictionary with products prices {'butter': 3.39, 'cheese': 8.99, 'eggs': 4.99,' wine': 12.99, 'beer': 3.99}. Perfrom following operations:\n",
    "\n",
    "<ul>\n",
    "    <li>Add one new product to the dictionary</li>\n",
    "    <li>Calculate average prices in the dictionary</li>\n",
    "    <li>Create a list with a groceries: butter, cheese, eggs, 2 x beet, mushrooms. After that, using the dictionary and the list calculate the total price of the products from the list. Print it</li>\n",
    "</ul>"
   ]
  },
  {
   "cell_type": "markdown",
   "metadata": {},
   "source": [
    "Ex. 7. Write a code that selects a random number smaller than 100 (use random library, randint method) and:\n",
    "<ul>\n",
    "    <li>Ask the user to guess the number</li>\n",
    "    <li>Inform him if the guessed number is much smaller (more than 50 of a difference), smaller (less than 50 of a difference), higher, much higher or it is right</li>\n",
    "    <li>The game finishes when user correctly guess the number. Print out the number of takes at the end.</li>"
   ]
  },
  {
   "cell_type": "markdown",
   "metadata": {},
   "source": [
    "Ex. 8. Write a function, which takes any amount of numbers and returns only those which square root is integer"
   ]
  },
  {
   "cell_type": "code",
   "execution_count": null,
   "metadata": {},
   "outputs": [],
   "source": []
  }
 ],
 "metadata": {
  "kernelspec": {
   "display_name": "Python 3",
   "language": "python",
   "name": "python3"
  },
  "language_info": {
   "codemirror_mode": {
    "name": "ipython",
    "version": 3
   },
   "file_extension": ".py",
   "mimetype": "text/x-python",
   "name": "python",
   "nbconvert_exporter": "python",
   "pygments_lexer": "ipython3",
   "version": "3.7.1"
  }
 },
 "nbformat": 4,
 "nbformat_minor": 2
}

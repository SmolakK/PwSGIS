{
 "cells": [
  {
   "cell_type": "code",
   "execution_count": 3,
   "metadata": {},
   "outputs": [
    {
     "name": "stdout",
     "output_type": "stream",
     "text": [
      "Tak, jest to pangram\n",
      "Tak, jest to pangram\n"
     ]
    },
    {
     "data": {
      "text/plain": [
       "False"
      ]
     },
     "execution_count": 3,
     "metadata": {},
     "output_type": "execute_result"
    }
   ],
   "source": [
    "#Zadanie 1\n",
    "import string\n",
    "\n",
    "alphabet = set(string.ascii_lowercase) \n",
    "\n",
    "def pangram(tekst):\n",
    "    if set(tekst.lower()) >= alphabet:\n",
    "        print(\"Tak, jest to pangram\")\n",
    "        return True\n",
    "    else:\n",
    "        return False\n",
    "\n",
    "tekst1 = \"Jackdaws love my big sphinx of quartz\"\n",
    "tekst2 = \"Jinxed wizards pluck ivy from the big quilt\"\n",
    "tekst3 = \"Curled thyme descends from the top of the quarry\"\n",
    "\n",
    "pangram(tekst1)\n",
    "pangram(tekst2)\n",
    "pangram(tekst3)"
   ]
  },
  {
   "cell_type": "code",
   "execution_count": 2,
   "metadata": {},
   "outputs": [
    {
     "ename": "TypeError",
     "evalue": "can only concatenate str (not \"int\") to str",
     "output_type": "error",
     "traceback": [
      "\u001b[1;31m---------------------------------------------------------------------------\u001b[0m",
      "\u001b[1;31mTypeError\u001b[0m                                 Traceback (most recent call last)",
      "\u001b[1;32m<ipython-input-2-24fa0cafe9f7>\u001b[0m in \u001b[0;36m<module>\u001b[1;34m\u001b[0m\n\u001b[0;32m     10\u001b[0m         \u001b[0mnowy\u001b[0m \u001b[1;33m+=\u001b[0m \u001b[1;34m' '\u001b[0m\u001b[1;33m\u001b[0m\u001b[1;33m\u001b[0m\u001b[0m\n\u001b[0;32m     11\u001b[0m     \u001b[1;32melse\u001b[0m\u001b[1;33m:\u001b[0m\u001b[1;33m\u001b[0m\u001b[1;33m\u001b[0m\u001b[0m\n\u001b[1;32m---> 12\u001b[1;33m         \u001b[0mnowy\u001b[0m \u001b[1;33m+=\u001b[0m \u001b[0mliterki\u001b[0m\u001b[1;33m[\u001b[0m\u001b[0mliterki\u001b[0m\u001b[1;33m.\u001b[0m\u001b[0mindex\u001b[0m\u001b[1;33m(\u001b[0m\u001b[0ml\u001b[0m\u001b[1;33m)\u001b[0m\u001b[1;33m+\u001b[0m\u001b[1;33m(\u001b[0m\u001b[0ml\u001b[0m\u001b[1;33m+\u001b[0m\u001b[1;36m1\u001b[0m\u001b[1;33m)\u001b[0m\u001b[1;33m]\u001b[0m\u001b[1;33m\u001b[0m\u001b[1;33m\u001b[0m\u001b[0m\n\u001b[0m\u001b[0;32m     13\u001b[0m \u001b[1;33m\u001b[0m\u001b[0m\n\u001b[0;32m     14\u001b[0m \u001b[0mprint\u001b[0m\u001b[1;33m(\u001b[0m\u001b[0mnowy\u001b[0m\u001b[1;33m)\u001b[0m\u001b[1;33m\u001b[0m\u001b[1;33m\u001b[0m\u001b[0m\n",
      "\u001b[1;31mTypeError\u001b[0m: can only concatenate str (not \"int\") to str"
     ]
    }
   ],
   "source": [
    "#Zadanie 2\n",
    "import string\n",
    "literki = string.ascii_lowercase\n",
    "\n",
    "test = \"owqdjh\"\n",
    "\n",
    "nowy = \"\"\n",
    "for l in test:\n",
    "    if l == ' ':\n",
    "        nowy += ' '\n",
    "    else:\n",
    "        nowy += literki[literki.index(l)+test.index(n)+1]\n",
    "        \n",
    "print(nowy)\n"
   ]
  },
  {
   "cell_type": "code",
   "execution_count": 16,
   "metadata": {},
   "outputs": [],
   "source": [
    "#Zadanie 3\n",
    "class wartosci():\n",
    "\n",
    "\n",
    "    def __init__(self,a,b):\n",
    "        self._a = a\n",
    "        self._b = b\n",
    "    \n",
    "    @property\n",
    "    def a(self):\n",
    "        return self._a\n",
    "    \n",
    "    @property\n",
    "    def b(self):\n",
    "        return self._b\n",
    "    \n",
    "    @a.setter\n",
    "    def a(self,a):\n",
    "        self._a = a\n",
    "        \n",
    "    @b.setter\n",
    "    def b(self,b):\n",
    "        self._b = b\n",
    "    \n",
    "    def __str__(self):\n",
    "        return self.a*self.b\n",
    "    \n",
    "    def __repr__(self):\n",
    "        return self.a/self.b\n",
    "        \n",
    "    "
   ]
  },
  {
   "cell_type": "code",
   "execution_count": null,
   "metadata": {},
   "outputs": [],
   "source": []
  }
 ],
 "metadata": {
  "kernelspec": {
   "display_name": "Python 3",
   "language": "python",
   "name": "python3"
  },
  "language_info": {
   "codemirror_mode": {
    "name": "ipython",
    "version": 3
   },
   "file_extension": ".py",
   "mimetype": "text/x-python",
   "name": "python",
   "nbconvert_exporter": "python",
   "pygments_lexer": "ipython3",
   "version": "3.7.1"
  }
 },
 "nbformat": 4,
 "nbformat_minor": 2
}

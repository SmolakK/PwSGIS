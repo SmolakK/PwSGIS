{
 "cells": [
  {
   "cell_type": "markdown",
   "metadata": {
    "slideshow": {
     "slide_type": "slide"
    }
   },
   "source": [
    "<h1>Exercises 3 - user-defined functions and documentations</h1>"
   ]
  },
  {
   "cell_type": "markdown",
   "metadata": {
    "slideshow": {
     "slide_type": "slide"
    }
   },
   "source": [
    "<h2> Functions </h2>\n",
    "It is possible to define your own functions.\n",
    "\n",
    "These are \"callable blocks of instructions\".\n",
    "\n",
    "They are especially useful when the same code fragment is used <b>more than once</b>\n",
    "\n",
    "They can (do not have to) accept parameters\n",
    "\n",
    "They can (do not have to) return an object"
   ]
  },
  {
   "cell_type": "markdown",
   "metadata": {
    "slideshow": {
     "slide_type": "subslide"
    }
   },
   "source": [
    "<h3> How to define a function</h3>"
   ]
  },
  {
   "cell_type": "code",
   "execution_count": 1,
   "metadata": {},
   "outputs": [],
   "source": [
    "def function_name(parameters):\n",
    "    instructions\n",
    "    ...\n",
    "    return object"
   ]
  },
  {
   "cell_type": "markdown",
   "metadata": {},
   "source": [
    "Did you notice the <b>indentation</b>? It is equal to 4 whitespaces or one tab key. It is <b>mandatory</b>. (You have seen them also in loops and if statements)\n",
    "\n",
    "Indentation is used to define a subordinate code. It tells Python where it starts and where it finshes. Later you will see it in action."
   ]
  },
  {
   "cell_type": "markdown",
   "metadata": {
    "slideshow": {
     "slide_type": "slide"
    }
   },
   "source": [
    "<h3>Example \"Hello World!\"</h3>\n",
    "\n",
    "Let's print text with function"
   ]
  },
  {
   "cell_type": "code",
   "execution_count": 2,
   "metadata": {},
   "outputs": [],
   "source": [
    "def hello():\n",
    "    print(\"Hello Wrold!\")\n",
    "#declaration do not cause action"
   ]
  },
  {
   "cell_type": "code",
   "execution_count": 3,
   "metadata": {},
   "outputs": [
    {
     "name": "stdout",
     "output_type": "stream",
     "text": [
      "Hello Wrold!\n"
     ]
    }
   ],
   "source": [
    "hello() #this does, this is how we call user-defined functions"
   ]
  },
  {
   "cell_type": "markdown",
   "metadata": {
    "slideshow": {
     "slide_type": "slide"
    }
   },
   "source": [
    "<h3>How to apply paremeters to function?</h3>\n",
    "\n",
    "These are defined in brackets ()"
   ]
  },
  {
   "cell_type": "code",
   "execution_count": 5,
   "metadata": {},
   "outputs": [
    {
     "data": {
      "text/plain": [
       "7"
      ]
     },
     "execution_count": 5,
     "metadata": {},
     "output_type": "execute_result"
    }
   ],
   "source": [
    "def suma(a,b): #name: suma, parameters: a and b\n",
    "    return a+b #returns a+b\n",
    "\n",
    "suma(4,3) #this returns 7"
   ]
  },
  {
   "cell_type": "markdown",
   "metadata": {},
   "source": [
    "Above we have two things:\n",
    "1. Parameters definition: a and b. Then we pass a = 4 and b = 3 when function is called\n",
    "2. \"return\" statement in function. With that function returns what is after that statement. In this case it is a + b. Hence, if we decide to assign function output to some variable, a + b would be passed to it. \n",
    "For example:"
   ]
  },
  {
   "cell_type": "code",
   "execution_count": 6,
   "metadata": {},
   "outputs": [
    {
     "name": "stdout",
     "output_type": "stream",
     "text": [
      "7\n"
     ]
    }
   ],
   "source": [
    "a = suma(4,3)\n",
    "print(a)"
   ]
  },
  {
   "cell_type": "markdown",
   "metadata": {},
   "source": [
    "Parameter order has meaning!"
   ]
  },
  {
   "cell_type": "code",
   "execution_count": 7,
   "metadata": {},
   "outputs": [],
   "source": [
    "def diff(a,b):\n",
    "    return a-b\n"
   ]
  },
  {
   "cell_type": "code",
   "execution_count": 9,
   "metadata": {},
   "outputs": [
    {
     "name": "stdout",
     "output_type": "stream",
     "text": [
      "1\n",
      "-1\n"
     ]
    }
   ],
   "source": [
    "print(diff(4,3)) #here a = 4, b = 3\n",
    "print(diff(3,4)) #here a = 3, b = 4"
   ]
  },
  {
   "cell_type": "markdown",
   "metadata": {},
   "source": [
    "For that we can use keyword parameters (these above are called \"positional\" parameters):"
   ]
  },
  {
   "cell_type": "code",
   "execution_count": 6,
   "metadata": {},
   "outputs": [
    {
     "data": {
      "text/plain": [
       "-1"
      ]
     },
     "execution_count": 6,
     "metadata": {},
     "output_type": "execute_result"
    }
   ],
   "source": [
    "diff(a=3,b=4)"
   ]
  },
  {
   "cell_type": "code",
   "execution_count": 10,
   "metadata": {},
   "outputs": [
    {
     "data": {
      "text/plain": [
       "-1"
      ]
     },
     "execution_count": 10,
     "metadata": {},
     "output_type": "execute_result"
    }
   ],
   "source": [
    "diff(b=4,a=3) #does not change the result, because parameters are the same"
   ]
  },
  {
   "cell_type": "markdown",
   "metadata": {},
   "source": [
    "Default parameters:"
   ]
  },
  {
   "cell_type": "code",
   "execution_count": 11,
   "metadata": {},
   "outputs": [],
   "source": [
    "def diff(a=100,b=10): #default value for a is 100, for b is 10\n",
    "    return a-b"
   ]
  },
  {
   "cell_type": "code",
   "execution_count": 9,
   "metadata": {},
   "outputs": [
    {
     "data": {
      "text/plain": [
       "90"
      ]
     },
     "execution_count": 9,
     "metadata": {},
     "output_type": "execute_result"
    }
   ],
   "source": [
    "diff() #takes default parameters"
   ]
  },
  {
   "cell_type": "code",
   "execution_count": 12,
   "metadata": {},
   "outputs": [
    {
     "data": {
      "text/plain": [
       "190"
      ]
     },
     "execution_count": 12,
     "metadata": {},
     "output_type": "execute_result"
    }
   ],
   "source": [
    "diff(200) #first is given (a), second is default"
   ]
  },
  {
   "cell_type": "code",
   "execution_count": 13,
   "metadata": {},
   "outputs": [
    {
     "data": {
      "text/plain": [
       "0"
      ]
     },
     "execution_count": 13,
     "metadata": {},
     "output_type": "execute_result"
    }
   ],
   "source": [
    "#how to pass only second?\n",
    "diff(b=100)"
   ]
  },
  {
   "cell_type": "markdown",
   "metadata": {
    "slideshow": {
     "slide_type": "slide"
    }
   },
   "source": [
    "<h3>How to do not limit the number of parameters?</h3>\n",
    "For that we can use asterisk function for lists unpacking"
   ]
  },
  {
   "cell_type": "code",
   "execution_count": 14,
   "metadata": {},
   "outputs": [
    {
     "name": "stdout",
     "output_type": "stream",
     "text": [
      "[0, 1, 2, 3, 4, 5, 6, 7, 8, 9]\n",
      "0 1 2 3 4 5 6 7 8 9\n"
     ]
    }
   ],
   "source": [
    "lista = [x for x in range(10)]\n",
    "print(lista)\n",
    "print(*lista) #unpacks the list"
   ]
  },
  {
   "cell_type": "code",
   "execution_count": 14,
   "metadata": {
    "slideshow": {
     "slide_type": "slide"
    }
   },
   "outputs": [
    {
     "data": {
      "text/plain": [
       "45"
      ]
     },
     "execution_count": 14,
     "metadata": {},
     "output_type": "execute_result"
    }
   ],
   "source": [
    "def suma(*args): #by default we unpack passed parameters\n",
    "    result = 0\n",
    "    for x in args: #loops through sequence\n",
    "        result += x #enlarge results by each x of sequence\n",
    "    return result #return result\n",
    "\n",
    "suma(1,2,3,4,5,6,7,8,9) #you can pass ANY number of parameters"
   ]
  },
  {
   "cell_type": "code",
   "execution_count": 15,
   "metadata": {
    "slideshow": {
     "slide_type": "slide"
    }
   },
   "outputs": [
    {
     "data": {
      "text/plain": [
       "45"
      ]
     },
     "execution_count": 15,
     "metadata": {},
     "output_type": "execute_result"
    }
   ],
   "source": [
    "def suma(*args): #alternative solution\n",
    "    return sum(args)\n",
    "\n",
    "suma(1,2,3,4,5,6,7,8,9)"
   ]
  },
  {
   "cell_type": "markdown",
   "metadata": {},
   "source": [
    "Double asterisk unpacks dictionaries:"
   ]
  },
  {
   "cell_type": "code",
   "execution_count": 16,
   "metadata": {},
   "outputs": [
    {
     "name": "stdout",
     "output_type": "stream",
     "text": [
      "a b\n"
     ]
    }
   ],
   "source": [
    "dictionary = {\"a\": 23, \"b\": 120}\n",
    "print(*dictionary) #unpacks only keys"
   ]
  },
  {
   "cell_type": "code",
   "execution_count": 18,
   "metadata": {},
   "outputs": [
    {
     "data": {
      "text/plain": [
       "2760"
      ]
     },
     "execution_count": 18,
     "metadata": {},
     "output_type": "execute_result"
    }
   ],
   "source": [
    "def operation(a,b):\n",
    "    return a*b\n",
    "\n",
    "operation(**dictionary) #works like keyword arguments (dictionary have to have the same names as parameters!)"
   ]
  },
  {
   "cell_type": "markdown",
   "metadata": {},
   "source": [
    "OR:"
   ]
  },
  {
   "cell_type": "code",
   "execution_count": 19,
   "metadata": {},
   "outputs": [
    {
     "data": {
      "text/plain": [
       "2760"
      ]
     },
     "execution_count": 19,
     "metadata": {},
     "output_type": "execute_result"
    }
   ],
   "source": [
    "def operation(**kwargs):\n",
    "    x = 1\n",
    "    for n in kwargs.values():\n",
    "        x *= n\n",
    "    return x\n",
    "    \n",
    "operation(**dictionary)"
   ]
  },
  {
   "cell_type": "markdown",
   "metadata": {
    "slideshow": {
     "slide_type": "slide"
    }
   },
   "source": [
    "<h3> Recurrent function </h3>\n",
    "\n",
    "Below is an example of function reccurency. It calls the same function inside the function relying on some conditions. Below example shows the Fibonacci sequence."
   ]
  },
  {
   "cell_type": "code",
   "execution_count": 20,
   "metadata": {},
   "outputs": [
    {
     "data": {
      "text/plain": [
       "[0, 1, 1, 2, 3, 5, 8, 13, 21, 34, 55, 89]"
      ]
     },
     "execution_count": 20,
     "metadata": {},
     "output_type": "execute_result"
    }
   ],
   "source": [
    "def recurrency(n):\n",
    "    if n == 0: return 0\n",
    "    elif n == 1: return 1\n",
    "    else: return recurrency(n-1)+recurrency(n-2)\n",
    "\n",
    "[recurrency(n) for n in range(12)]"
   ]
  },
  {
   "cell_type": "markdown",
   "metadata": {},
   "source": [
    "<h2> Lambda functions </h2>\n",
    "\n",
    "It is a function declaration in <b> just one line of code </b>\n",
    "\n",
    "Syntax:\n",
    "\n",
    "function name = lambda parameters: instructions"
   ]
  },
  {
   "cell_type": "code",
   "execution_count": 44,
   "metadata": {},
   "outputs": [
    {
     "name": "stdout",
     "output_type": "stream",
     "text": [
      "8\n",
      "64\n"
     ]
    }
   ],
   "source": [
    "n = lambda x: x**3\n",
    "print(n(2))\n",
    "print(n(4))"
   ]
  },
  {
   "cell_type": "markdown",
   "metadata": {},
   "source": [
    "Above is equal to:"
   ]
  },
  {
   "cell_type": "code",
   "execution_count": 21,
   "metadata": {},
   "outputs": [
    {
     "name": "stdout",
     "output_type": "stream",
     "text": [
      "8\n",
      "64\n"
     ]
    }
   ],
   "source": [
    "def n(x):\n",
    "    return x**3\n",
    "\n",
    "print(n(2))\n",
    "print(n(4))"
   ]
  },
  {
   "cell_type": "markdown",
   "metadata": {},
   "source": [
    "You can pass more than one parameter"
   ]
  },
  {
   "cell_type": "code",
   "execution_count": 22,
   "metadata": {},
   "outputs": [
    {
     "name": "stdout",
     "output_type": "stream",
     "text": [
      "81\n",
      "4\n"
     ]
    }
   ],
   "source": [
    "n = lambda x,y: x**y\n",
    "print(n(3,4))\n",
    "print(n(2,2))"
   ]
  },
  {
   "cell_type": "markdown",
   "metadata": {},
   "source": [
    "Use case - function generator. The function that returns a function:"
   ]
  },
  {
   "cell_type": "code",
   "execution_count": 24,
   "metadata": {},
   "outputs": [
    {
     "data": {
      "text/plain": [
       "625"
      ]
     },
     "execution_count": 24,
     "metadata": {},
     "output_type": "execute_result"
    }
   ],
   "source": [
    "def get_power_function(pwr): #Returns a function that calculates a power of a number for defined given exponent\n",
    "    return lambda x: x**pwr \n",
    "\n",
    "power4 = get_power_function(4)\n",
    "power4(5)"
   ]
  },
  {
   "cell_type": "markdown",
   "metadata": {
    "slideshow": {
     "slide_type": "slide"
    }
   },
   "source": [
    "<h2>Global variables</h2>\n",
    "\n",
    "You can define global variables available for all the functions in the code (and notebook)"
   ]
  },
  {
   "cell_type": "code",
   "execution_count": 28,
   "metadata": {},
   "outputs": [],
   "source": [
    "glob = \"global\"\n",
    "\n",
    "def f1(tex):\n",
    "    return tex + glob\n",
    "    \n",
    "def f2(tex):\n",
    "    glob = \"global changed in function\"\n",
    "    return tex + glob"
   ]
  },
  {
   "cell_type": "code",
   "execution_count": 29,
   "metadata": {},
   "outputs": [
    {
     "data": {
      "text/plain": [
       "'this variable is global'"
      ]
     },
     "execution_count": 29,
     "metadata": {},
     "output_type": "execute_result"
    }
   ],
   "source": [
    "f1(\"this variable is \")"
   ]
  },
  {
   "cell_type": "code",
   "execution_count": 31,
   "metadata": {},
   "outputs": [
    {
     "data": {
      "text/plain": [
       "'this variable is global changed in function'"
      ]
     },
     "execution_count": 31,
     "metadata": {},
     "output_type": "execute_result"
    }
   ],
   "source": [
    "f2(\"this variable is \") #glob variable has been changed inside function f2!"
   ]
  },
  {
   "cell_type": "code",
   "execution_count": 33,
   "metadata": {
    "slideshow": {
     "slide_type": "subslide"
    }
   },
   "outputs": [
    {
     "name": "stdout",
     "output_type": "stream",
     "text": [
      "global\n"
     ]
    }
   ],
   "source": [
    "print(glob) #but this does not affect glob variable outside f2"
   ]
  },
  {
   "cell_type": "markdown",
   "metadata": {
    "slideshow": {
     "slide_type": "slide"
    }
   },
   "source": [
    "<h2> Commenting your code </h2>\n",
    "It is a good habit"
   ]
  },
  {
   "cell_type": "code",
   "execution_count": 34,
   "metadata": {},
   "outputs": [
    {
     "name": "stdout",
     "output_type": "stream",
     "text": [
      "Help on built-in function round in module builtins:\n",
      "\n",
      "round(number, ndigits=None)\n",
      "    Round a number to a given precision in decimal digits.\n",
      "    \n",
      "    The return value is an integer if ndigits is omitted or None.  Otherwise\n",
      "    the return value has the same type as the number.  ndigits may be negative.\n",
      "\n"
     ]
    }
   ],
   "source": [
    "help(round) #help function returns information about function. In this case \"round\" function"
   ]
  },
  {
   "cell_type": "code",
   "execution_count": 37,
   "metadata": {
    "slideshow": {
     "slide_type": "subslide"
    }
   },
   "outputs": [],
   "source": [
    "def f1():\n",
    "    \"\"\"This is an empty function. It does nothing\"\"\" #function description, it has to has triple quotes!"
   ]
  },
  {
   "cell_type": "code",
   "execution_count": 36,
   "metadata": {},
   "outputs": [
    {
     "name": "stdout",
     "output_type": "stream",
     "text": [
      "Help on function f1 in module __main__:\n",
      "\n",
      "f1()\n",
      "    This is an empty function. It does nothing\n",
      "\n"
     ]
    }
   ],
   "source": [
    "help(f1) #this returns our comment"
   ]
  },
  {
   "cell_type": "markdown",
   "metadata": {
    "slideshow": {
     "slide_type": "subslide"
    }
   },
   "source": [
    "Description has to be informative. The best practice is to describe what parameters it does accept and what function returns."
   ]
  },
  {
   "cell_type": "code",
   "execution_count": 42,
   "metadata": {
    "slideshow": {
     "slide_type": "subslide"
    }
   },
   "outputs": [],
   "source": [
    "def dividers(number):\n",
    "    \"\"\"Returns all the dividers of a given number\n",
    "    param: number -- the number we look for dividers for\n",
    "    return: a list of dividers\"\"\"\n",
    "    agree = []\n",
    "    for n in range(1,number):\n",
    "        if number%n == 0: #divides\n",
    "            agree.append(n)\n",
    "    return agree"
   ]
  },
  {
   "cell_type": "code",
   "execution_count": 43,
   "metadata": {},
   "outputs": [
    {
     "name": "stdout",
     "output_type": "stream",
     "text": [
      "Help on function dividers in module __main__:\n",
      "\n",
      "dividers(number)\n",
      "    Returns all the dividers of a given number\n",
      "    param: number -- the number we look for dividers for\n",
      "    return: a list of dividers\n",
      "\n"
     ]
    }
   ],
   "source": [
    "help(dividers)"
   ]
  },
  {
   "cell_type": "code",
   "execution_count": 44,
   "metadata": {},
   "outputs": [
    {
     "data": {
      "text/plain": [
       "[1, 3, 11]"
      ]
     },
     "execution_count": 44,
     "metadata": {},
     "output_type": "execute_result"
    }
   ],
   "source": [
    "dividers(33)"
   ]
  },
  {
   "cell_type": "markdown",
   "metadata": {
    "slideshow": {
     "slide_type": "slide"
    }
   },
   "source": [
    "<h1> PEP8 - Guidelines </h1>\n",
    "\n",
    "PEP8 is a set of instruction for clean code writing - the best practices for increasing your code readability\n",
    "\n",
    "Basic principles are:"
   ]
  },
  {
   "cell_type": "code",
   "execution_count": 141,
   "metadata": {
    "slideshow": {
     "slide_type": "subslide"
    }
   },
   "outputs": [],
   "source": [
    "def function(a, b): #a whitespace between parameters, after comma\n",
    "    pass #4 whitespaces of indentation "
   ]
  },
  {
   "cell_type": "code",
   "execution_count": 48,
   "metadata": {
    "slideshow": {
     "slide_type": "subslide"
    }
   },
   "outputs": [
    {
     "data": {
      "text/plain": [
       "38"
      ]
     },
     "execution_count": 48,
     "metadata": {},
     "output_type": "execute_result"
    }
   ],
   "source": [
    "len(\"Maximum lenght of line can be 79 chars\")\n",
    "#, because it may not fit on smaller screens"
   ]
  },
  {
   "cell_type": "code",
   "execution_count": 49,
   "metadata": {
    "slideshow": {
     "slide_type": "subslide"
    }
   },
   "outputs": [],
   "source": [
    "def funkcja(a, b):\n",
    "    pass\n",
    "\n",
    "def funkcja2(a, b):\n",
    "    pass\n",
    "\n",
    "#Each function declaration has to has on blank line between them"
   ]
  },
  {
   "cell_type": "code",
   "execution_count": 50,
   "metadata": {
    "slideshow": {
     "slide_type": "subslide"
    }
   },
   "outputs": [],
   "source": [
    "#At the end of each code there has to be one blank line\n",
    "def funkcja(a, b):\n",
    "    pass\n"
   ]
  },
  {
   "cell_type": "code",
   "execution_count": 51,
   "metadata": {
    "slideshow": {
     "slide_type": "subslide"
    }
   },
   "outputs": [
    {
     "data": {
      "text/plain": [
       "0"
      ]
     },
     "execution_count": 51,
     "metadata": {},
     "output_type": "execute_result"
    }
   ],
   "source": [
    "cos = [0]\n",
    "a = 0\n",
    "b = 0\n",
    "cos[a + b] #whitespaces between operators"
   ]
  },
  {
   "cell_type": "code",
   "execution_count": 52,
   "metadata": {
    "slideshow": {
     "slide_type": "subslide"
    }
   },
   "outputs": [
    {
     "data": {
      "text/plain": [
       "[]"
      ]
     },
     "execution_count": 52,
     "metadata": {},
     "output_type": "execute_result"
    }
   ],
   "source": [
    "cos[a : b] #ACCEPTABLE\n",
    "cos[a:b] #BETTER\n",
    "cos[ : b] #NO\n",
    "cos[:b] #YES"
   ]
  },
  {
   "cell_type": "code",
   "execution_count": 160,
   "metadata": {
    "slideshow": {
     "slide_type": "subslide"
    }
   },
   "outputs": [],
   "source": [
    "x = 1 #block comment, short to comment what is happening in this line, only if necessary\n",
    "y = 2 #another block comment"
   ]
  },
  {
   "cell_type": "code",
   "execution_count": 53,
   "metadata": {
    "slideshow": {
     "slide_type": "subslide"
    }
   },
   "outputs": [
    {
     "name": "stdout",
     "output_type": "stream",
     "text": [
      "Help on function funkcja in module __main__:\n",
      "\n",
      "funkcja(a, b)\n",
      "    Only triple quotes here\n",
      "\n"
     ]
    }
   ],
   "source": [
    "def funkcja(a, b):\n",
    "    \"\"\"Only triple quotes here\"\"\"\n",
    "    pass\n",
    "\n",
    "help(funkcja) \n"
   ]
  },
  {
   "cell_type": "code",
   "execution_count": 54,
   "metadata": {
    "slideshow": {
     "slide_type": "subslide"
    }
   },
   "outputs": [
    {
     "name": "stdout",
     "output_type": "stream",
     "text": [
      "cat\n",
      "dog\n",
      "moose\n",
      "cat\n",
      "dog\n",
      "moose\n"
     ]
    }
   ],
   "source": [
    "#variables names should be informative\n",
    "#NOT:\n",
    "\n",
    "lista = ['cat','dog','moose']\n",
    "for n in lista:\n",
    "    print(n)\n",
    "    \n",
    "#YES:\n",
    "\n",
    "animals = ['cat','dog','moose']\n",
    "for animals in animals:\n",
    "    print(animals)"
   ]
  },
  {
   "cell_type": "code",
   "execution_count": 55,
   "metadata": {
    "slideshow": {
     "slide_type": "subslide"
    }
   },
   "outputs": [],
   "source": [
    "#Avoid chars that can be similar:\n",
    "\n",
    "#l\n",
    "#I\n",
    "#O"
   ]
  },
  {
   "cell_type": "code",
   "execution_count": 56,
   "metadata": {
    "slideshow": {
     "slide_type": "subslide"
    }
   },
   "outputs": [],
   "source": [
    "#Names conventions\n",
    "\n",
    "#module names - short, small case\n",
    "import math\n",
    "import numpy\n",
    "\n",
    "#Class names - CapWords\n",
    "\n",
    "class TimeSeries():\n",
    "    pass\n",
    "\n",
    "#New data types (in fact, new classes) - CapWords and short names\n",
    "from collections import Counter\n",
    "\n",
    "#Functions names - small case with underscores\n",
    "def nazwa_funkcji():\n",
    "    pass\n",
    "\n",
    "#Variables names - same as functionscji:\n",
    "nowa_zmienna = 10\n",
    "\n",
    "#Method names - same as functions, short are better\n",
    "x = \"tekst\"\n",
    "x.upper()\n",
    "\n",
    "#Constants - UPPER_CASE\n",
    "RADIUS = 6371000"
   ]
  },
  {
   "cell_type": "code",
   "execution_count": 172,
   "metadata": {
    "slideshow": {
     "slide_type": "subslide"
    }
   },
   "outputs": [
    {
     "name": "stdout",
     "output_type": "stream",
     "text": [
      "True\n",
      "True\n"
     ]
    }
   ],
   "source": [
    "#programming recommendations\n",
    "\n",
    "#Shorten your if statements if possible:\n",
    "\n",
    "x = True\n",
    "\n",
    "if x is True:\n",
    "    print(x)\n",
    "    \n",
    "#is the same as:\n",
    "\n",
    "if x:\n",
    "    print(x)"
   ]
  },
  {
   "cell_type": "code",
   "execution_count": 174,
   "metadata": {
    "slideshow": {
     "slide_type": "subslide"
    }
   },
   "outputs": [
    {
     "name": "stdout",
     "output_type": "stream",
     "text": [
      "True\n",
      "True\n"
     ]
    }
   ],
   "source": [
    "#Do not use == to compare booleans\n",
    "#NOT:\n",
    "if x == True:\n",
    "    print(x)\n",
    "    \n",
    "#YES\n",
    "if x is True: #Altough we know it is still not correct\n",
    "    print(x)"
   ]
  },
  {
   "cell_type": "markdown",
   "metadata": {},
   "source": [
    "That's all for exercises 3! You can try do list 2 now, but wait for exercises 4!"
   ]
  },
  {
   "cell_type": "code",
   "execution_count": null,
   "metadata": {},
   "outputs": [],
   "source": []
  }
 ],
 "metadata": {
  "celltoolbar": "Slideshow",
  "kernelspec": {
   "display_name": "Python 3",
   "language": "python",
   "name": "python3"
  },
  "language_info": {
   "codemirror_mode": {
    "name": "ipython",
    "version": 3
   },
   "file_extension": ".py",
   "mimetype": "text/x-python",
   "name": "python",
   "nbconvert_exporter": "python",
   "pygments_lexer": "ipython3",
   "version": "3.7.1"
  }
 },
 "nbformat": 4,
 "nbformat_minor": 2
}

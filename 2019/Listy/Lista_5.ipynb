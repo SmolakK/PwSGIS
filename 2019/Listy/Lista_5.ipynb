{
 "cells": [
  {
   "cell_type": "markdown",
   "metadata": {},
   "source": [
    "Zad 1. Napisz klasę \"Wektor\", która obsługuje zachowanie dwuwymiarowych wektorów. Użyj magicznych metod do odpowiedniej obsługi reprezentacji obiektów (__str__ i __repr__) oraz dodawania, odejmowania, mnożenia (przez skalar i przez wektor - zastosuj instrukcję warunkową by wymusić polimorficzność funkcji). Pamiętaj o enkapsulacji i dokumentacji.\n",
    "\n",
    "LUB\n",
    "\n",
    "Coś własnego pomysłu! Napisz własny zestaw klas, który zawierać się będzie(ą) przynajmniej:\n",
    "<ul>\n",
    "    <li> Jedno dziedziczenie </li>\n",
    "    <li> Dwie metody magiczne (nie licząc str i repr!) </li>\n",
    "    <li> Trzy metody </li>\n",
    "    <li> Cztery atrybuty </li>\n",
    "</ul>\n",
    "Pamiętaj o enkapsulacji i dokumentacji."
   ]
  },
  {
   "cell_type": "code",
   "execution_count": null,
   "metadata": {},
   "outputs": [],
   "source": []
  }
 ],
 "metadata": {
  "kernelspec": {
   "display_name": "Python 3",
   "language": "python",
   "name": "python3"
  },
  "language_info": {
   "codemirror_mode": {
    "name": "ipython",
    "version": 3
   },
   "file_extension": ".py",
   "mimetype": "text/x-python",
   "name": "python",
   "nbconvert_exporter": "python",
   "pygments_lexer": "ipython3",
   "version": "3.7.1"
  }
 },
 "nbformat": 4,
 "nbformat_minor": 2
}

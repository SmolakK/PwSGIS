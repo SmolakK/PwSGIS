{
 "cells": [
  {
   "cell_type": "markdown",
   "metadata": {},
   "source": [
    "<h1> Cwiczenia 4 </h1>\n",
    "    \n",
    "    Te ćwiczenia obejmują dwa istotne zagadnienia: formatowanie tekst (w sposób elastyczny) oraz obsługę wejście/wyjście do i z plików."
   ]
  },
  {
   "cell_type": "markdown",
   "metadata": {},
   "source": [
    "<h2> Formatowanie tekstu </h2>"
   ]
  },
  {
   "cell_type": "markdown",
   "metadata": {},
   "source": [
    "Kontatenacja - czyli dodawanie tekstu:"
   ]
  },
  {
   "cell_type": "code",
   "execution_count": 1,
   "metadata": {},
   "outputs": [
    {
     "data": {
      "text/plain": [
       "'x jest równe 2'"
      ]
     },
     "execution_count": 1,
     "metadata": {},
     "output_type": "execute_result"
    }
   ],
   "source": [
    "x = 2\n",
    "\"x jest równe \" + str(x) #działa, ale mało wygodne"
   ]
  },
  {
   "cell_type": "markdown",
   "metadata": {},
   "source": [
    "Metoda klasy string ~format~ jest zalecanym rozwiązaniem:"
   ]
  },
  {
   "cell_type": "code",
   "execution_count": 2,
   "metadata": {},
   "outputs": [
    {
     "data": {
      "text/plain": [
       "'x jest równe 2'"
      ]
     },
     "execution_count": 2,
     "metadata": {},
     "output_type": "execute_result"
    }
   ],
   "source": [
    "x = 2\n",
    "\"x jest równe {}\".format(x) #metoda klasy string"
   ]
  },
  {
   "cell_type": "markdown",
   "metadata": {},
   "source": [
    "Formatowanie tekstu z wieloma elementami:"
   ]
  },
  {
   "cell_type": "code",
   "execution_count": 3,
   "metadata": {},
   "outputs": [
    {
     "data": {
      "text/plain": [
       "'To jest Ala, a to jej kot'"
      ]
     },
     "execution_count": 3,
     "metadata": {},
     "output_type": "execute_result"
    }
   ],
   "source": [
    "imiona = ('Ala', 'kot')\n",
    "\n",
    "\"To jest {}, a to jej {}\".format(*imiona) #rozpakowanie sekwencji tekstu"
   ]
  },
  {
   "cell_type": "code",
   "execution_count": 4,
   "metadata": {},
   "outputs": [
    {
     "data": {
      "text/plain": [
       "'To jest Ala, a to jej kot'"
      ]
     },
     "execution_count": 4,
     "metadata": {},
     "output_type": "execute_result"
    }
   ],
   "source": [
    "#Inne podejście, odradzane w Python 3, pozostałość po Python 2\n",
    "\n",
    "\"To jest %s, a to jej %s\" % ('Ala','kot')"
   ]
  },
  {
   "cell_type": "markdown",
   "metadata": {},
   "source": [
    "<h3> Deklaracja typu tekstu </h3>\n",
    "\n",
    "Typy:\n",
    "\n",
    "    s – strings\n",
    "    d – decimal integers (base-10)\n",
    "    f – floating point display\n",
    "    c – character\n",
    "    b – binary\n",
    "    o – octal\n",
    "    x – hexadecimal with lowercase letters after 9\n",
    "    X – hexadecimal with uppercase letters after 9\n",
    "    e – exponent notation"
   ]
  },
  {
   "cell_type": "code",
   "execution_count": 26,
   "metadata": {},
   "outputs": [
    {
     "data": {
      "text/plain": [
       "'To jest Ala i ma 10 lat'"
      ]
     },
     "execution_count": 26,
     "metadata": {},
     "output_type": "execute_result"
    }
   ],
   "source": [
    "\"To jest {:s} i ma {:d} lat\".format(\"Ala\",10)"
   ]
  },
  {
   "cell_type": "code",
   "execution_count": 11,
   "metadata": {},
   "outputs": [
    {
     "ename": "ValueError",
     "evalue": "Unknown format code 's' for object of type 'int'",
     "output_type": "error",
     "traceback": [
      "\u001b[1;31m---------------------------------------------------------------------------\u001b[0m",
      "\u001b[1;31mValueError\u001b[0m                                Traceback (most recent call last)",
      "\u001b[1;32m<ipython-input-11-2265bc008c27>\u001b[0m in \u001b[0;36m<module>\u001b[1;34m\u001b[0m\n\u001b[1;32m----> 1\u001b[1;33m \u001b[1;34m\"To jest {:s}\"\u001b[0m\u001b[1;33m.\u001b[0m\u001b[0mformat\u001b[0m\u001b[1;33m(\u001b[0m\u001b[1;36m120\u001b[0m\u001b[1;33m)\u001b[0m \u001b[1;31m#więc nie przyjmuje niespodziewanych wartości\u001b[0m\u001b[1;33m\u001b[0m\u001b[1;33m\u001b[0m\u001b[0m\n\u001b[0m",
      "\u001b[1;31mValueError\u001b[0m: Unknown format code 's' for object of type 'int'"
     ]
    }
   ],
   "source": [
    "\"To jest {:s}\".format(120) #więc nie przyjmuje niespodziewanych wartości"
   ]
  },
  {
   "cell_type": "code",
   "execution_count": 32,
   "metadata": {},
   "outputs": [
    {
     "data": {
      "text/plain": [
       "'Liczba 232 w systemie binarnym to 11101000'"
      ]
     },
     "execution_count": 32,
     "metadata": {},
     "output_type": "execute_result"
    }
   ],
   "source": [
    "\"Liczba {:d} w systemie binarnym to {:b}\".format(232,232)"
   ]
  },
  {
   "cell_type": "code",
   "execution_count": 33,
   "metadata": {},
   "outputs": [
    {
     "data": {
      "text/plain": [
       "'Liczba 232 w systemie ósemkowym to 350'"
      ]
     },
     "execution_count": 33,
     "metadata": {},
     "output_type": "execute_result"
    }
   ],
   "source": [
    "\"Liczba {:d} w systemie ósemkowym to {:o}\".format(232,232)"
   ]
  },
  {
   "cell_type": "code",
   "execution_count": 34,
   "metadata": {},
   "outputs": [
    {
     "data": {
      "text/plain": [
       "'Liczba 232 w systemie heksadecymalnym to e8'"
      ]
     },
     "execution_count": 34,
     "metadata": {},
     "output_type": "execute_result"
    }
   ],
   "source": [
    "\"Liczba {:d} w systemie heksadecymalnym to {:x}\".format(232,232)"
   ]
  },
  {
   "cell_type": "code",
   "execution_count": 40,
   "metadata": {},
   "outputs": [
    {
     "data": {
      "text/plain": [
       "'Liczba 1000000 w notacji wykładniczej to 1.000000e+06'"
      ]
     },
     "execution_count": 40,
     "metadata": {},
     "output_type": "execute_result"
    }
   ],
   "source": [
    "\"Liczba {:d} w notacji wykładniczej to {:e}\".format(1000000,1000000)"
   ]
  },
  {
   "cell_type": "markdown",
   "metadata": {},
   "source": [
    "<h3> Dokładność liczb</h3>\n",
    "\n",
    "Przydatne podczas zaokroąglania i formatowania długich wartości"
   ]
  },
  {
   "cell_type": "code",
   "execution_count": 12,
   "metadata": {},
   "outputs": [
    {
     "data": {
      "text/plain": [
       "3.141592653589793"
      ]
     },
     "execution_count": 12,
     "metadata": {},
     "output_type": "execute_result"
    }
   ],
   "source": [
    "from math import pi\n",
    "pi"
   ]
  },
  {
   "cell_type": "code",
   "execution_count": 43,
   "metadata": {},
   "outputs": [
    {
     "data": {
      "text/plain": [
       "'pi = 24.0000'"
      ]
     },
     "execution_count": 43,
     "metadata": {},
     "output_type": "execute_result"
    }
   ],
   "source": [
    "\"pi = {:.4f}\".format(pi) #zaokrągla"
   ]
  },
  {
   "cell_type": "code",
   "execution_count": 16,
   "metadata": {},
   "outputs": [
    {
     "data": {
      "text/plain": [
       "'pi = 3.14'"
      ]
     },
     "execution_count": 16,
     "metadata": {},
     "output_type": "execute_result"
    }
   ],
   "source": [
    "\"pi = {:.2f}\".format(pi)"
   ]
  },
  {
   "cell_type": "markdown",
   "metadata": {},
   "source": [
    "<h5>Indeksacja</h5>"
   ]
  },
  {
   "cell_type": "code",
   "execution_count": 48,
   "metadata": {},
   "outputs": [
    {
     "data": {
      "text/plain": [
       "'Janek ma arbuzy warte 232.32 złotych'"
      ]
     },
     "execution_count": 48,
     "metadata": {},
     "output_type": "execute_result"
    }
   ],
   "source": [
    "\"Janek ma {1:s} warte {0:.2f} złotych\".format(232.3222,\"arbuzy\") #podane odwrotnie"
   ]
  },
  {
   "cell_type": "markdown",
   "metadata": {},
   "source": [
    "<h3> Argumenty kluczowe </h3>"
   ]
  },
  {
   "cell_type": "code",
   "execution_count": 17,
   "metadata": {},
   "outputs": [
    {
     "data": {
      "text/plain": [
       "'Jan otrzymał ocenę 4.5'"
      ]
     },
     "execution_count": 17,
     "metadata": {},
     "output_type": "execute_result"
    }
   ],
   "source": [
    "\"{imie} otrzymał ocenę {ocena:.1f}\".format(imie=\"Jan\", ocena=4.5)"
   ]
  },
  {
   "cell_type": "markdown",
   "metadata": {},
   "source": [
    "<h1> Operacje na plikach </h1>"
   ]
  },
  {
   "cell_type": "markdown",
   "metadata": {},
   "source": [
    "Do otiwerania plików służy wbudowana funkcja open. Przyjmuje wiele postaci, najważniejsze opcje to open(file, mode), gdzie:\n",
    "\n",
    "<ul>\n",
    "    <li>file - nazwa pliku, ścieżka</li>\n",
    "    <li>mode - tryb (odczytywanie czy zapis) </li>\n",
    "</ul>\n"
   ]
  },
  {
   "cell_type": "code",
   "execution_count": 119,
   "metadata": {},
   "outputs": [],
   "source": [
    "plik = open('plik.txt','r') #r-odczyt"
   ]
  },
  {
   "cell_type": "markdown",
   "metadata": {},
   "source": [
    "r - odczyt, w - zapis, a - zapis do końca pliku"
   ]
  },
  {
   "cell_type": "code",
   "execution_count": 120,
   "metadata": {},
   "outputs": [
    {
     "data": {
      "text/plain": [
       "<_io.TextIOWrapper name='plik.txt' mode='r' encoding='cp1250'>"
      ]
     },
     "execution_count": 120,
     "metadata": {},
     "output_type": "execute_result"
    }
   ],
   "source": [
    "plik"
   ]
  },
  {
   "cell_type": "markdown",
   "metadata": {},
   "source": [
    "Wyświetlmy zawartość:"
   ]
  },
  {
   "cell_type": "code",
   "execution_count": 121,
   "metadata": {},
   "outputs": [
    {
     "data": {
      "text/plain": [
       "'To jest tekst\\nDruga linia tez ma tekst'"
      ]
     },
     "execution_count": 121,
     "metadata": {},
     "output_type": "execute_result"
    }
   ],
   "source": [
    "plik.read() #Python wyświetla też znaki ukryte, np. \\n (nowa linia), \\t (tab)"
   ]
  },
  {
   "cell_type": "markdown",
   "metadata": {},
   "source": [
    "Plik po zakończonej pracy trzeb zamknąć. Można:"
   ]
  },
  {
   "cell_type": "code",
   "execution_count": 122,
   "metadata": {},
   "outputs": [],
   "source": [
    "plik.close()"
   ]
  },
  {
   "cell_type": "code",
   "execution_count": 123,
   "metadata": {},
   "outputs": [
    {
     "name": "stdout",
     "output_type": "stream",
     "text": [
      "To jest plik testowy\n",
      "\n"
     ]
    }
   ],
   "source": [
    "plik = open('cw4_tekst.txt','r') #r-odczyt\n",
    "print(plik.readline()) #jedna linijka\n",
    "plik.close()"
   ]
  },
  {
   "cell_type": "markdown",
   "metadata": {},
   "source": [
    "Wygodne jest otwarcie pliku tymczasowego za pomocą polecenia with"
   ]
  },
  {
   "cell_type": "code",
   "execution_count": 124,
   "metadata": {},
   "outputs": [
    {
     "name": "stdout",
     "output_type": "stream",
     "text": [
      "<_io.TextIOWrapper name='cw4_tekst.txt' mode='r' encoding='cp1250'>\n"
     ]
    }
   ],
   "source": [
    "with open('cw4_tekst.txt','r') as plik:\n",
    "    print(plik)\n",
    "    #tu plik jest otwarty\n",
    "#a tu już zamknięty"
   ]
  },
  {
   "cell_type": "code",
   "execution_count": 125,
   "metadata": {},
   "outputs": [
    {
     "ename": "UnsupportedOperation",
     "evalue": "not writable",
     "output_type": "error",
     "traceback": [
      "\u001b[1;31m---------------------------------------------------------------------------\u001b[0m",
      "\u001b[1;31mUnsupportedOperation\u001b[0m                      Traceback (most recent call last)",
      "\u001b[1;32m<ipython-input-125-4e0e93034b62>\u001b[0m in \u001b[0;36m<module>\u001b[1;34m\u001b[0m\n\u001b[0;32m      1\u001b[0m \u001b[1;32mwith\u001b[0m \u001b[0mopen\u001b[0m\u001b[1;33m(\u001b[0m\u001b[1;34m'cw4_tekst.txt'\u001b[0m\u001b[1;33m,\u001b[0m\u001b[1;34m'r'\u001b[0m\u001b[1;33m)\u001b[0m \u001b[1;32mas\u001b[0m \u001b[0mplik\u001b[0m\u001b[1;33m:\u001b[0m\u001b[1;33m\u001b[0m\u001b[1;33m\u001b[0m\u001b[0m\n\u001b[1;32m----> 2\u001b[1;33m     \u001b[0mplik\u001b[0m\u001b[1;33m.\u001b[0m\u001b[0mwrite\u001b[0m\u001b[1;33m(\u001b[0m\u001b[1;34m\"Dodatkowa linia1\"\u001b[0m\u001b[1;33m)\u001b[0m \u001b[1;31m#zapis jest możliwy tylko w trybie w\u001b[0m\u001b[1;33m\u001b[0m\u001b[1;33m\u001b[0m\u001b[0m\n\u001b[0m",
      "\u001b[1;31mUnsupportedOperation\u001b[0m: not writable"
     ]
    }
   ],
   "source": [
    "with open('cw4_tekst.txt','r') as plik:\n",
    "    plik.write(\"Dodatkowa linia1\") #dopisanie lini tylko w trybie a"
   ]
  },
  {
   "cell_type": "code",
   "execution_count": 126,
   "metadata": {},
   "outputs": [],
   "source": [
    "with open('cw4_tekst.txt','a') as plik:\n",
    "    plik.write(\"Dopisuje linie\") #dopisanie lini tylko w trybie a"
   ]
  },
  {
   "cell_type": "markdown",
   "metadata": {},
   "source": [
    "Odczyt możliwy jest za pomocą poleceń readline(), readlines() lub read() oraz za pomocą pętli for"
   ]
  },
  {
   "cell_type": "code",
   "execution_count": 127,
   "metadata": {},
   "outputs": [
    {
     "name": "stdout",
     "output_type": "stream",
     "text": [
      "To jest plik testowy\n",
      "\n"
     ]
    }
   ],
   "source": [
    "with open('cw4_tekst.txt','r') as plik:\n",
    "    print(plik.readline()) #odczyt jednej lini"
   ]
  },
  {
   "cell_type": "code",
   "execution_count": 128,
   "metadata": {},
   "outputs": [
    {
     "name": "stdout",
     "output_type": "stream",
     "text": [
      "['To jest plik testowy\\n', 'I ma dwie linijki!Nowa linia co kasuje to co byłoDopisuje linieDopisuje linieDopisuje linie']\n"
     ]
    }
   ],
   "source": [
    "with open('cw4_tekst.txt','r') as plik:\n",
    "    print(plik.readlines()) #odczyt wszystkich linii z rozbiciem na linie"
   ]
  },
  {
   "cell_type": "code",
   "execution_count": 129,
   "metadata": {},
   "outputs": [
    {
     "name": "stdout",
     "output_type": "stream",
     "text": [
      "To jest plik testowy\n",
      "I ma dwie linijki!Nowa linia co kasuje to co byłoDopisuje linieDopisuje linieDopisuje linie\n"
     ]
    }
   ],
   "source": [
    "with open('cw4_tekst.txt','r') as plik:\n",
    "    print(plik.read()) #odczyt całego pliku"
   ]
  },
  {
   "cell_type": "code",
   "execution_count": 130,
   "metadata": {},
   "outputs": [
    {
     "name": "stdout",
     "output_type": "stream",
     "text": [
      "To jest plik testowy\n",
      "\n",
      "I ma dwie linijki!Nowa linia co kasuje to co byłoDopisuje linieDopisuje linieDopisuje linie\n"
     ]
    }
   ],
   "source": [
    "with open('cw4_tekst.txt','r') as plik:\n",
    "    for line in plik:\n",
    "        print(line) # tu można coś robić"
   ]
  },
  {
   "cell_type": "code",
   "execution_count": 131,
   "metadata": {},
   "outputs": [],
   "source": [
    "with open('cw4_tekst.txt','a') as plik:\n",
    "    plik.write(\"To jest plik tekstowy\\nA to nowa linia\") #tryb w nadpisuje cały plik!"
   ]
  },
  {
   "cell_type": "markdown",
   "metadata": {},
   "source": [
    "Przykład zastosowania. Znajdźmy wszystkie unikalne słowa w pliku:\n",
    "\n",
    "tak wygląda plik:"
   ]
  },
  {
   "cell_type": "code",
   "execution_count": 134,
   "metadata": {},
   "outputs": [
    {
     "name": "stdout",
     "output_type": "stream",
     "text": [
      "['Krowa\\n', 'Pojazd\\n', 'Krowa\\n', 'Ruch\\n', 'Sklep\\n', 'Krowa\\n', 'Ruch\\n', 'Sklep\\n', 'Krowa\\n', 'Pojazd\\n', 'Makaron\\n', 'Sklep\\n', 'Krowa\\n', 'Ruch\\n', 'Sklep\\n', 'Krowa\\n', 'Papier toaletowy']\n"
     ]
    }
   ],
   "source": [
    "with open('plik2.txt','r') as plik:\n",
    "    print(plik.readlines())"
   ]
  },
  {
   "cell_type": "code",
   "execution_count": 135,
   "metadata": {},
   "outputs": [
    {
     "data": {
      "text/plain": [
       "{'Krowa', 'Makaron', 'Papier toaletowy', 'Pojazd', 'Ruch', 'Sklep'}"
      ]
     },
     "execution_count": 135,
     "metadata": {},
     "output_type": "execute_result"
    }
   ],
   "source": [
    "unikalne_slowa = []\n",
    "with open('plik2.txt','r') as plik:\n",
    "    for line in plik:\n",
    "        linijka = line.split(',')\n",
    "        for element in linijka:\n",
    "            unikalne_slowa.append(element.replace('\\n',''))\n",
    "set(unikalne_slowa)"
   ]
  },
  {
   "cell_type": "markdown",
   "metadata": {},
   "source": [
    "<h2>To koniec części drugiej! Wykonaj zadania z Listy 2.</h2>"
   ]
  },
  {
   "cell_type": "code",
   "execution_count": null,
   "metadata": {},
   "outputs": [],
   "source": []
  }
 ],
 "metadata": {
  "kernelspec": {
   "display_name": "Python 3",
   "language": "python",
   "name": "python3"
  },
  "language_info": {
   "codemirror_mode": {
    "name": "ipython",
    "version": 3
   },
   "file_extension": ".py",
   "mimetype": "text/x-python",
   "name": "python",
   "nbconvert_exporter": "python",
   "pygments_lexer": "ipython3",
   "version": "3.7.1"
  }
 },
 "nbformat": 4,
 "nbformat_minor": 2
}

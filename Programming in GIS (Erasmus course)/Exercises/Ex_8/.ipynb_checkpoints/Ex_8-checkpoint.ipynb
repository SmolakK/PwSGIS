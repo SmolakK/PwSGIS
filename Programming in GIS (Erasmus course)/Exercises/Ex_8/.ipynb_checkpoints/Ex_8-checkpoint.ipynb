{
 "cells": [
  {
   "cell_type": "markdown",
   "metadata": {},
   "source": [
    "<h1> Excersises 8 - Programming continues </h1>\n",
    "\n",
    "<h3> Modyfing data </h3>"
   ]
  },
  {
   "cell_type": "markdown",
   "metadata": {},
   "source": [
    "Last time we have loaded data layers, did selection on them and we accessed attributes of vector and raster layers. \n",
    "\n",
    "Today we will edit parameters and values of object of vector layers."
   ]
  },
  {
   "cell_type": "markdown",
   "metadata": {},
   "source": [
    "We will work on exemplary vector layer. Reminder: to access currently loaded layer:"
   ]
  },
  {
   "cell_type": "code",
   "execution_count": null,
   "metadata": {},
   "outputs": [],
   "source": [
    "#Has to be selected in the layer list window!\n",
    "layer = iface.activeLayer()"
   ]
  },
  {
   "cell_type": "markdown",
   "metadata": {},
   "source": [
    "Changes and modifications are not visible until refreshed. To refresh a layer and to see changes on the map canvas do:"
   ]
  },
  {
   "cell_type": "code",
   "execution_count": null,
   "metadata": {},
   "outputs": [],
   "source": [
    "#refreshing\n",
    "layer.triggerRepaint() #by layer\n",
    "#OR\n",
    "iface.mapCanvas().refresh() #by interface"
   ]
  },
  {
   "cell_type": "markdown",
   "metadata": {},
   "source": [
    "<h3> Adding new objects </h3>\n",
    "\n",
    "We assume working on a vector layer with LineString type of data (lines). Such a file was attachet to excersise files.\n",
    "\n",
    "Each object (QgsFeature) of the vector layer (QgsVectorLayer) has:\n",
    "<ul>\n",
    "    <li> Attributes (QgsField) </li>\n",
    "    <li> Geometry (QgsGeometry) </li>\n",
    "</ul>\n",
    "\n",
    "When creating new object both have to be set.\n",
    "\n",
    "First we create an empty new object:"
   ]
  },
  {
   "cell_type": "code",
   "execution_count": null,
   "metadata": {},
   "outputs": [],
   "source": [
    "feat = QgsFeature(warstwa.fields()) #initilizing new QgsFeature object, fields of a layer are the parametres"
   ]
  },
  {
   "cell_type": "markdown",
   "metadata": {},
   "source": [
    "It is not assigned to the layer yet, we will do it later. First it has to be given attributes' values and geometry:"
   ]
  },
  {
   "cell_type": "code",
   "execution_count": null,
   "metadata": {},
   "outputs": [],
   "source": [
    "feat.setAttributes([0, 60]) #adding attributes, this layer has to have attributes of int type\n",
    "#OR\n",
    "feat.setAttribute(0,60) #if we are adding only one row"
   ]
  },
  {
   "cell_type": "markdown",
   "metadata": {},
   "source": [
    "Now we create geometry:"
   ]
  },
  {
   "cell_type": "code",
   "execution_count": null,
   "metadata": {},
   "outputs": [],
   "source": [
    "#Line from two points. First we create two objects of QgsPoint type - see description below:\n",
    "line_start = QgsPoint(15.74,50.89)\n",
    "line_end = QgsPoint(15.73,50.91)"
   ]
  },
  {
   "cell_type": "markdown",
   "metadata": {},
   "source": [
    "QgsGeometry is a class of geometry, which can be points, line or polygons. Most often geometry is build from series of points (all the geometries are from points - points, lines and polygons). For that we use([new class here!]) QgsPoint:\n",
    "\n",
    "    QgsPoint(x,y)\n",
    "\n",
    "After, we use on of the methods that create QgsGeometry from QgsPoints from __geometry__, that is:\n",
    " \n",
    "    fromPolyline, fromPolygonXY, fromPointXY or fromWKT - that is WKT type of data"
   ]
  },
  {
   "cell_type": "code",
   "execution_count": null,
   "metadata": {},
   "outputs": [],
   "source": [
    "feat.setGeometry(QgsGeometry.fromPolyline([line_start,line_end]))"
   ]
  },
  {
   "cell_type": "markdown",
   "metadata": {},
   "source": [
    "And we add it to the layer now. For that we are using the dataProvider class, which is always used for all the operations of adding, deleting and editing objects of a layer (more about it below):"
   ]
  },
  {
   "cell_type": "code",
   "execution_count": null,
   "metadata": {},
   "outputs": [],
   "source": [
    "layer.dataProvider().addFeatures([feat]) #we add the feature to the layer"
   ]
  },
  {
   "cell_type": "markdown",
   "metadata": {},
   "source": [
    "Besides QgsPoints, geometry can be build from WKT, which is much easier, because EVERY type of can be written in that file format."
   ]
  },
  {
   "cell_type": "markdown",
   "metadata": {},
   "source": [
    "<h3> WKT - Well-known text representation of geometry </h3>\n",
    "\n",
    "It allows to define many types of geometry, including:\n",
    "\n",
    "    Point (single), MultiPoint (collection of Points),\n",
    "    LineString (single), MultiLineString (collection of Lines),\n",
    "    Polygon (singlle), MultiPolygon (collection of Polygons).\n",
    "\n",
    "Definition of a geometry:\n",
    "\n",
    "    Nazwa (x y)\n",
    "\n",
    "Point:\n",
    "\n",
    "    POINT (10 30) - Point with coordinates x=10 i y = 30\n",
    "\n",
    "Line:\n",
    "\n",
    "    LINESTRING (30 10, 10 30) - a simple straight line where first vertex: X = 30, Y = 10 second vertex: X = 10, Y = 30\n",
    "\n",
    "    LINESTRING (30 10, 10 30, 40 40) - line consisting of three points.\n",
    "    \n",
    "Polygon:\n",
    "\n",
    "    POLYGON ((30 10, 40 40, 20 20, 10 20, 30 10))\n",
    "    \n",
    "    POLYGON ((35 10, 45 45, 15 40, 10 20, 35 10), (20 30, 35 35, 30 20, 20 30))\n",
    "    \n",
    "    The first and the last points is repeating because polygon has to has close geometry (so the example has three vertices.\n",
    "    \n",
    "    Double pharenteses allow for adding a \"hole\" in the geometry (as in the second example).\n",
    "    \n",
    "\n",
    "The examples are also pretty well-explained on Wikipedia:\n",
    "\n",
    "    https://en.wikipedia.org/wiki/Well-known_text_representation_of_geometry\n",
    "    \n",
    "<h3> WKB - Well-known binary </h3>\n",
    "\n",
    "Binary equivalent of WKT. Faster for reading and writing, but not readable."
   ]
  },
  {
   "cell_type": "markdown",
   "metadata": {},
   "source": [
    "<b> Excersise: </b> Try to create above geometry (of lineString) using WKT. WKT is written as a text \" \". Use command .fromWKT()"
   ]
  },
  {
   "cell_type": "markdown",
   "metadata": {},
   "source": [
    "<h2> Deleting objects </h2>\n",
    "\n",
    "Only passing an index is necessary:\n"
   ]
  },
  {
   "cell_type": "code",
   "execution_count": null,
   "metadata": {},
   "outputs": [],
   "source": [
    "layer.dataProvider().deleteFeatures([0])"
   ]
  },
  {
   "cell_type": "markdown",
   "metadata": {},
   "source": [
    "<h2> DataProvider </h2>\n",
    "\n",
    "A class that allows acessing geometry and attributes of objects of the layer. It has to be used to add, remove and edit features and their properties. Let's see how does it acts for objects editing:"
   ]
  },
  {
   "cell_type": "markdown",
   "metadata": {},
   "source": [
    "<h2> Editing objects </h2>\n",
    "\n",
    "Let's add two objects on a layer:"
   ]
  },
  {
   "cell_type": "code",
   "execution_count": null,
   "metadata": {},
   "outputs": [],
   "source": [
    "layer = iface.activeLayer() #layer is currently active\n",
    "\n",
    "feat1 = QgsFeature(layer.fields()) #new feature\n",
    "feat1.setAttributes([0, 60]) #new attributes\n",
    "line1_start = QgsPoint(15.74,50.89)\n",
    "line1_end = QgsPoint(15.73,50.91)\n",
    "feat1.setGeometry(QgsGeometry.fromPolyline([line1_start,line1_end])) #determining geometry of object 1\n",
    "\n",
    "#object2\n",
    "feat2 = QgsFeature(layer.fields())\n",
    "feat2.setAttributes([0, 100])\n",
    "line2_start = QgsPoint(11.74,53.89)\n",
    "line2_end = QgsPoint(11.73,53.91)\n",
    "feat2.setGeometry(QgsGeometry.fromPolyline([line2_start,line2_end]))\n",
    "\n",
    "\n",
    "layer.dataProvider().addFeatures([feat1,feat2])  #adding objects to layer through dataProvider class"
   ]
  },
  {
   "cell_type": "markdown",
   "metadata": {},
   "source": [
    "Now we will edit the object by changing its attributes:"
   ]
  },
  {
   "cell_type": "code",
   "execution_count": null,
   "metadata": {},
   "outputs": [],
   "source": [
    "attrs = { 0 : 100, 1 : 90 } #flied 1 will be changed to 100, field 2 to 90\n",
    "layer.dataProvider().changeAttributeValues({ 1 : attrs }) #object of index 1 will be changed to these values"
   ]
  },
  {
   "cell_type": "markdown",
   "metadata": {},
   "source": [
    "We can also change geometry:"
   ]
  },
  {
   "cell_type": "code",
   "execution_count": null,
   "metadata": {},
   "outputs": [],
   "source": [
    "geom = QgsGeometry.fromPolyline([QgsPoint(15.70,50.59),QgsPoint(15.70,50.52),QgsPoint(15.73,50.52)]) #we create new geometry of type QgsGeometry\n",
    "layer.dataProvider().changeGeometryValues({1: geom}) #and substitute object of index 1 with new geometry"
   ]
  },
  {
   "cell_type": "markdown",
   "metadata": {},
   "source": [
    "<h3> Better be cautious - editing mode </h3>\n",
    "\n",
    "Changes made in editing mode can be reverted. Therefore it is better to made all the changes in editing mode:\n",
    "\n",
    "    startEditing() - starts edit mode\n",
    "    commitChanges() - confirm changes made\n",
    "    rollBack() - revert to state before edit\n",
    "    \n",
    "    isEditable() - check if current layer is editable\n",
    "    \n"
   ]
  },
  {
   "cell_type": "markdown",
   "metadata": {},
   "source": [
    "<h3> New attrbiutes - how to add new attributes to the layer</h3>\n",
    "\n",
    "dataProvider() has methods - addAttributes and deleteAttributes.\n",
    "\n",
    "[New class] - QVariant, in QGIS is used to determine the data type of an attribute - integer, float etc."
   ]
  },
  {
   "cell_type": "code",
   "execution_count": null,
   "metadata": {},
   "outputs": [],
   "source": [
    "from qgis.PyQt.QtCore import QVariant #needs to be imported\n",
    "\n",
    "layer.dataProvider().addAttributes\\\n",
    "([QgsField(\"name_string\", QVariant.String), QgsField(\"name_int\", QVariant.Int)]) #adding to attributes one of text type and second of integer type"
   ]
  },
  {
   "cell_type": "code",
   "execution_count": null,
   "metadata": {},
   "outputs": [],
   "source": [
    "warstwa.dataProvider().deleteAttributes([0]) #deleting similarly to deleting features"
   ]
  },
  {
   "cell_type": "code",
   "execution_count": null,
   "metadata": {},
   "outputs": [],
   "source": [
    "warstwa.updateFields() #Very important to ALWAYS udate fields after changes"
   ]
  },
  {
   "cell_type": "markdown",
   "metadata": {},
   "source": [
    "<h3> Creating and writing layers </h3>\n",
    "\n",
    "Layers writing is accomplished through $QgsVectorFileWriter$ class with its method named $writeAsVectorFormat()$, which supports all OGR data formats (GeoPackage, Shapefile, GeoJSON, KML and others)"
   ]
  },
  {
   "cell_type": "code",
   "execution_count": null,
   "metadata": {},
   "outputs": [],
   "source": [
    "QgsVectorFileWriter.writeAsVectorFormat(layer, \"nazwa\", \"UTF-8\") #(layer, name, coding type (usally UTF-8)) \n",
    "#SHP by default"
   ]
  },
  {
   "cell_type": "code",
   "execution_count": null,
   "metadata": {},
   "outputs": [],
   "source": [
    "QgsVectorFileWriter.writeAsVectorFormat(layer, \"nazwa\", \"UTF-8\", driverName=\"GeoJSON\") #GeoJSON format"
   ]
  },
  {
   "cell_type": "code",
   "execution_count": null,
   "metadata": {},
   "outputs": [],
   "source": [
    "crs=QgsCoordinateReferenceSystem(\"epsg:4326\") #determine new coordinate system\n",
    "QgsVecotFileWriter.writeAsVectorFormat(layer, \"nazwa\", \"UTF-8\", crs = crs, driverName=\"GeoJSON\") #GeoJSON and in new coordinate system"
   ]
  },
  {
   "cell_type": "markdown",
   "metadata": {},
   "source": [
    "<h3> Temporal layers </h3>\n",
    "\n",
    "It is possible to create temporal layers which are not saved to hard drive and are deleted after project closing. They are useful to store some results.\n",
    "\n",
    "Example:"
   ]
  },
  {
   "cell_type": "code",
   "execution_count": null,
   "metadata": {},
   "outputs": [],
   "source": [
    "from qgis.PyQt.QtCore import QVariant\n",
    "\n",
    "#empty layer in the memory\n",
    "temp_vlayer = QgsVectorLayer(\"Point\", \"tymczasowe_punkty\", \"memory\") #instead of \"ogr\" we pass an \"memory\" argument, instead of name we pass what data type will it store (for example \"Point\")\n",
    "pr = temp_vlayer.dataProvider() #dataProvider of temporal layer\n",
    "\n",
    "#Atributes - fields\n",
    "pr.addAttributes([QgsField(\"name\", QVariant.String), QgsField(\"age\",QVariant.Int)])\n",
    "temp_vlayer.updateFields() #ALWAYS do that\n",
    "\n",
    "#Create object\n",
    "feat = QgsFeature() #pusty obiekt\n",
    "#Geometry\n",
    "feat.setGometry(QgsGeometry.fromPointXY(QgsPointXY(10,10))) #a single point\n",
    "#Atributes\n",
    "feat.setAttributes([\"Bobby\",12])\n",
    "#Add to layer\n",
    "pr.addFeatures([feat])\n",
    "temp_vlayer.updateExtents() #refresh layer"
   ]
  },
  {
   "cell_type": "markdown",
   "metadata": {},
   "source": [
    "The layer is ready, has one object of determined attributes but it has to be added to the map to be displayed:\n"
   ]
  },
  {
   "cell_type": "code",
   "execution_count": null,
   "metadata": {},
   "outputs": [],
   "source": [
    "QgsProject.instance().addMapLayer(temp_vlayer)"
   ]
  },
  {
   "cell_type": "markdown",
   "metadata": {},
   "source": [
    "<h2> That's all for today! Now you are able to complete list 4! </h2>"
   ]
  },
  {
   "cell_type": "code",
   "execution_count": null,
   "metadata": {},
   "outputs": [],
   "source": []
  }
 ],
 "metadata": {
  "kernelspec": {
   "display_name": "Python 3",
   "language": "python",
   "name": "python3"
  },
  "language_info": {
   "codemirror_mode": {
    "name": "ipython",
    "version": 3
   },
   "file_extension": ".py",
   "mimetype": "text/x-python",
   "name": "python",
   "nbconvert_exporter": "python",
   "pygments_lexer": "ipython3",
   "version": "3.7.4"
  }
 },
 "nbformat": 4,
 "nbformat_minor": 2
}

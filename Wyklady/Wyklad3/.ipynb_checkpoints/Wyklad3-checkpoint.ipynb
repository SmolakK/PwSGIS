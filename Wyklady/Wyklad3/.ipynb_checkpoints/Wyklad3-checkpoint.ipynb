{
 "cells": [
  {
   "cell_type": "markdown",
   "metadata": {
    "slideshow": {
     "slide_type": "slide"
    }
   },
   "source": [
    "<h2> Efektywność obliczeń </h2>"
   ]
  },
  {
   "cell_type": "markdown",
   "metadata": {},
   "source": [
    "To jak napiszemy kod często decyduje o wydajności, czyli szybkości wykonywania kodu.\n",
    "\n",
    "Każde zadanie można rozwiązać na wiele sposobów i choć działają, nie wszystkie są dobre.\n",
    "\n",
    "Często popełniane błędy potrafią wydłużyć wykonywanie kodu nawet kilkusetkrotnie."
   ]
  },
  {
   "cell_type": "markdown",
   "metadata": {
    "slideshow": {
     "slide_type": "subslide"
    }
   },
   "source": [
    "<b> Najwolniejsze w Pythonie są pętle </b>"
   ]
  },
  {
   "cell_type": "code",
   "execution_count": 8,
   "metadata": {},
   "outputs": [],
   "source": [
    "import time"
   ]
  },
  {
   "cell_type": "code",
   "execution_count": 9,
   "metadata": {},
   "outputs": [
    {
     "name": "stdout",
     "output_type": "stream",
     "text": [
      "0.0\n"
     ]
    }
   ],
   "source": [
    "start = time.time()\n",
    "end = time.time()\n",
    "print(end-start)"
   ]
  },
  {
   "cell_type": "code",
   "execution_count": 10,
   "metadata": {
    "slideshow": {
     "slide_type": "subslide"
    }
   },
   "outputs": [
    {
     "name": "stdout",
     "output_type": "stream",
     "text": [
      "10.973047256469727\n"
     ]
    }
   ],
   "source": [
    "start = time.time()\n",
    "\n",
    "for n in range(1,10000):\n",
    "    n**n\n",
    "\n",
    "end = time.time()\n",
    "print(end-start)"
   ]
  },
  {
   "cell_type": "markdown",
   "metadata": {
    "slideshow": {
     "slide_type": "subslide"
    }
   },
   "source": [
    "Rozważmy taki przypadek: na farmę przyjechała para królików. Każda para jest w stanie wydać codziennie na świat jednego potomka. Ile królików będzie na farmie po <i>n</i> dniach?"
   ]
  },
  {
   "cell_type": "code",
   "execution_count": 136,
   "metadata": {
    "slideshow": {
     "slide_type": "subslide"
    }
   },
   "outputs": [
    {
     "name": "stdout",
     "output_type": "stream",
     "text": [
      "497.3411560us\n"
     ]
    }
   ],
   "source": [
    "#Sposób 1:\n",
    "#Złożoność: n\n",
    "def ile_krolikow(n):\n",
    "    licz_krolikow = 2 #mamy dwa kroliki\n",
    "    for dzien in range(1,n+1): #od dnia 1 do n+1\n",
    "        licz_krolikow += divmod(licz_krolikow,2)[0] #powieksz o liczbe par\n",
    "    return licz_krolikow\n",
    "\n",
    "start = time.time()\n",
    "ile_krolikow(100)\n",
    "end = time.time()\n",
    "print(\"{:.7f}us\".format((end-start)*1000000))"
   ]
  },
  {
   "cell_type": "code",
   "execution_count": 137,
   "metadata": {
    "slideshow": {
     "slide_type": "subslide"
    }
   },
   "outputs": [
    {
     "data": {
      "text/plain": [
       "[2, 3, 4, 6, 9, 13, 19, 28, 42, 63]"
      ]
     },
     "execution_count": 137,
     "metadata": {},
     "output_type": "execute_result"
    }
   ],
   "source": [
    "[ile_krolikow(n) for n in range(10)]"
   ]
  },
  {
   "cell_type": "code",
   "execution_count": 6,
   "metadata": {
    "slideshow": {
     "slide_type": "subslide"
    }
   },
   "outputs": [
    {
     "name": "stdout",
     "output_type": "stream",
     "text": [
      "70656.7299ms\n"
     ]
    }
   ],
   "source": [
    "#Sposób 2:\n",
    "#Złożoność n^2\n",
    "def ile_krolikow(n):\n",
    "    licz_krolikow = 2 #mamy dwa kroliki\n",
    "    for dzien in range(1,n+1): #od dnia 1 do n+1\n",
    "        for kroliki in range(1,int(licz_krolikow/2)+1):\n",
    "            licz_krolikow += 1#powieksz o liczbe par\n",
    "    return licz_krolikow\n",
    "\n",
    "start = time.time()\n",
    "ile_krolikow(50)\n",
    "end = time.time()\n",
    "print(\"{:.4f}ms\".format((end-start)*1000))"
   ]
  },
  {
   "cell_type": "code",
   "execution_count": 3,
   "metadata": {
    "slideshow": {
     "slide_type": "subslide"
    }
   },
   "outputs": [
    {
     "data": {
      "text/plain": [
       "[2, 3, 4, 6, 9, 13, 19, 28, 42, 63]"
      ]
     },
     "execution_count": 3,
     "metadata": {},
     "output_type": "execute_result"
    }
   ],
   "source": [
    "[ile_krolikow(n) for n in range(10)]"
   ]
  },
  {
   "cell_type": "markdown",
   "metadata": {
    "slideshow": {
     "slide_type": "subslide"
    }
   },
   "source": [
    "Przykład 2: Janek od dziś odkłada po złotówce do skarbonki codziennie. Ile będzie miał złotych po n dniach?"
   ]
  },
  {
   "cell_type": "code",
   "execution_count": 11,
   "metadata": {
    "slideshow": {
     "slide_type": "subslide"
    }
   },
   "outputs": [
    {
     "name": "stdout",
     "output_type": "stream",
     "text": [
      "5322.1178ms\n"
     ]
    }
   ],
   "source": [
    "#Złożoność n\n",
    "def pln1(n):\n",
    "    pln = 0\n",
    "    for dzien in range(1, n+1):\n",
    "        for zlotowki in range(dzien):\n",
    "            pln += 1\n",
    "    return pln\n",
    "\n",
    "\n",
    "start = time.time()\n",
    "pln1(10000)\n",
    "end = time.time()\n",
    "print(\"{:.4f}ms\".format((end-start)*1000))"
   ]
  },
  {
   "cell_type": "code",
   "execution_count": 24,
   "metadata": {
    "slideshow": {
     "slide_type": "subslide"
    }
   },
   "outputs": [
    {
     "name": "stdout",
     "output_type": "stream",
     "text": [
      "0.9921ms\n"
     ]
    }
   ],
   "source": [
    "#Złożoność n\n",
    "def pln2(n):\n",
    "    pln = 0\n",
    "    for dzien in range(1, n+1):\n",
    "            pln += dzien\n",
    "    return pln\n",
    "\n",
    "\n",
    "start = time.time()\n",
    "pln2(10000)\n",
    "end = time.time()\n",
    "print(\"{:.4f}ms\".format((end-start)*1000))"
   ]
  },
  {
   "cell_type": "code",
   "execution_count": 29,
   "metadata": {
    "slideshow": {
     "slide_type": "subslide"
    }
   },
   "outputs": [
    {
     "name": "stdout",
     "output_type": "stream",
     "text": [
      "49543.3807ns\n"
     ]
    }
   ],
   "source": [
    "#Złożoność 1\n",
    "def pln3(n):\n",
    "    return n * (n+1) // 2\n",
    "\n",
    "start = time.time()\n",
    "pln3(100000)\n",
    "end = time.time()\n",
    "print(\"{:.4f}ns\".format((end-start)*100000000))"
   ]
  },
  {
   "cell_type": "code",
   "execution_count": 50,
   "metadata": {
    "slideshow": {
     "slide_type": "subslide"
    }
   },
   "outputs": [
    {
     "name": "stdout",
     "output_type": "stream",
     "text": [
      "0.4964ms\n"
     ]
    }
   ],
   "source": [
    "#Złożoność n\n",
    "def pln4(n):\n",
    "    return sum(range(n+1))\n",
    "\n",
    "start = time.time()\n",
    "pln4(10000)\n",
    "end = time.time()\n",
    "print(\"{:.4f}ms\".format((end-start)*1000))"
   ]
  },
  {
   "cell_type": "code",
   "execution_count": 31,
   "metadata": {
    "slideshow": {
     "slide_type": "subslide"
    }
   },
   "outputs": [
    {
     "data": {
      "text/plain": [
       "<matplotlib.legend.Legend at 0x2184f5742e8>"
      ]
     },
     "execution_count": 31,
     "metadata": {},
     "output_type": "execute_result"
    },
    {
     "data": {
      "image/png": "[encoded data removed]",
      "text/plain": [
       "<Figure size 1080x576 with 1 Axes>"
      ]
     },
     "metadata": {
      "needs_background": "light"
     },
     "output_type": "display_data"
    }
   ],
   "source": [
    "import matplotlib.pyplot as plt\n",
    "import math\n",
    "%matplotlib inline\n",
    "n2 = [n**2 for n in range(1,1000)]\n",
    "n = [n for n in range(1,1000)]\n",
    "s = [1 for n in range(1,1000)]\n",
    "nlog = [math.log(n) for n in range(1,1000)]\n",
    "plt.figure(figsize=(15,8))\n",
    "plt.plot(n2, 'x', markersize = 10, label = \"$n^2$\")\n",
    "plt.plot(n, '.', markersize = 10, label = \"$n$\")\n",
    "plt.plot(s, '-', markersize = 10, label = \"$1$\")\n",
    "plt.plot(nlog, '^', markersize=10, label = \"$log(n)$\")\n",
    "plt.yscale(\"log\")\n",
    "plt.legend()"
   ]
  },
  {
   "cell_type": "markdown",
   "metadata": {
    "slideshow": {
     "slide_type": "slide"
    }
   },
   "source": [
    "<h1> Moduły </h1>"
   ]
  },
  {
   "cell_type": "markdown",
   "metadata": {},
   "source": [
    "Aby uporządkować kod, możemy rozbić go na moduły, które przechowują pewne funkcjonalności i w razie potrzeby są wywoływane.\n",
    "\n",
    "Dzięki temu unikamy definiciji wszystkich funkcji w pamięci za jednym razem, a jedynie wywołujemy wyłącznie potrzebne funkcje."
   ]
  },
  {
   "cell_type": "markdown",
   "metadata": {},
   "source": [
    "W ten sposób pisane są biblioteki programistyczne."
   ]
  },
  {
   "cell_type": "code",
   "execution_count": 86,
   "metadata": {
    "slideshow": {
     "slide_type": "subslide"
    }
   },
   "outputs": [
    {
     "data": {
      "text/html": [
       "<img src=\"modules.png\"/>"
      ],
      "text/plain": [
       "<IPython.core.display.Image object>"
      ]
     },
     "execution_count": 86,
     "metadata": {},
     "output_type": "execute_result"
    }
   ],
   "source": [
    "from IPython.display import Image\n",
    "Image(url = 'modules.png')"
   ]
  },
  {
   "cell_type": "markdown",
   "metadata": {
    "slideshow": {
     "slide_type": "subslide"
    }
   },
   "source": [
    "Dokładnie w taki sam sposób w jaki importujemy biblioteki, mogą być importowane nasze własne moduły.\n",
    "\n",
    "Moduły również dokumentujemy!"
   ]
  },
  {
   "cell_type": "markdown",
   "metadata": {
    "slideshow": {
     "slide_type": "slide"
    }
   },
   "source": [
    "<h2> Własne moduły i bilioteki (paczki)</h2>\n",
    "\n",
    "Jeśli zatem chcemy napisać własną bibliotekę(a będziemy to robić), to musi ona zawierać pewne ustalone pliki.\n",
    "\n",
    "Jeśli nasz kod zawiera funkcję $__main__$ należy pamiętać, że kod pod tą funkcją wykonwa się <b> w czasie importowania biblioteki!</b>. Czasem to bardzo użyteczna funkcja mająca na celu przygotować pewne zmienne.\n",
    "\n",
    "Biblioteka/paczka - aby była rozpoznawalna przez Pythona musi zawierać plik <b>$__init.py__$</b> - nawet jeśli jest pusty. Bez jego obecności paczka nie zostanie zinterpretowana jako bilbioteka."
   ]
  },
  {
   "cell_type": "markdown",
   "metadata": {
    "slideshow": {
     "slide_type": "slide"
    }
   },
   "source": [
    "<h2> Uwaga na nazwy! </h2>\n",
    "\n",
    "W Pythonie można nadpisać wszystko, a i dzięki temu można zmienić zachowanie podstawowych funkcji.\n",
    "\n",
    "Przy imporcie funkcji z różnich bibliotek o tej samej nazwie:"
   ]
  },
  {
   "cell_type": "code",
   "execution_count": 91,
   "metadata": {
    "slideshow": {
     "slide_type": "subslide"
    }
   },
   "outputs": [
    {
     "name": "stdout",
     "output_type": "stream",
     "text": [
      "2.0\n",
      "(2+0j)\n"
     ]
    }
   ],
   "source": [
    "import math\n",
    "import cmath\n",
    "print(math.sqrt(4))\n",
    "print(cmath.sqrt(4))"
   ]
  },
  {
   "cell_type": "code",
   "execution_count": 92,
   "metadata": {
    "slideshow": {
     "slide_type": "subslide"
    }
   },
   "outputs": [
    {
     "name": "stdout",
     "output_type": "stream",
     "text": [
      "(2+0j)\n",
      "(2+0j)\n"
     ]
    }
   ],
   "source": [
    "from math import sqrt\n",
    "from cmath import sqrt\n",
    "print(sqrt(4))\n",
    "print(sqrt(4))"
   ]
  },
  {
   "cell_type": "markdown",
   "metadata": {
    "slideshow": {
     "slide_type": "subslide"
    }
   },
   "source": [
    "Nadpisać możemy nawet typy wbudowane!"
   ]
  },
  {
   "cell_type": "code",
   "execution_count": 97,
   "metadata": {},
   "outputs": [],
   "source": [
    "def list(parametr1):\n",
    "    return \"NADPISAŁEM LISTĘ HAHAHAHA!\""
   ]
  },
  {
   "cell_type": "code",
   "execution_count": 98,
   "metadata": {},
   "outputs": [
    {
     "data": {
      "text/plain": [
       "(1, 2, 3)"
      ]
     },
     "execution_count": 98,
     "metadata": {},
     "output_type": "execute_result"
    }
   ],
   "source": [
    "a = (1,2,3)\n",
    "a"
   ]
  },
  {
   "cell_type": "code",
   "execution_count": 32,
   "metadata": {
    "slideshow": {
     "slide_type": "subslide"
    }
   },
   "outputs": [
    {
     "ename": "TypeError",
     "evalue": "'function' object is not iterable",
     "output_type": "error",
     "traceback": [
      "\u001b[1;31m---------------------------------------------------------------------------\u001b[0m",
      "\u001b[1;31mTypeError\u001b[0m                                 Traceback (most recent call last)",
      "\u001b[1;32m<ipython-input-32-e2d57504d902>\u001b[0m in \u001b[0;36m<module>\u001b[1;34m\u001b[0m\n\u001b[1;32m----> 1\u001b[1;33m \u001b[0ma\u001b[0m \u001b[1;33m=\u001b[0m \u001b[0mlist\u001b[0m\u001b[1;33m(\u001b[0m\u001b[0ma\u001b[0m\u001b[1;33m)\u001b[0m\u001b[1;33m\u001b[0m\u001b[1;33m\u001b[0m\u001b[0m\n\u001b[0m\u001b[0;32m      2\u001b[0m \u001b[0mprint\u001b[0m\u001b[1;33m(\u001b[0m\u001b[0ma\u001b[0m\u001b[1;33m)\u001b[0m\u001b[1;33m\u001b[0m\u001b[1;33m\u001b[0m\u001b[0m\n\u001b[0;32m      3\u001b[0m \u001b[1;33m\u001b[0m\u001b[0m\n\u001b[0;32m      4\u001b[0m \u001b[0mlist\u001b[0m \u001b[1;33m=\u001b[0m \u001b[1;36m3\u001b[0m\u001b[1;33m\u001b[0m\u001b[1;33m\u001b[0m\u001b[0m\n\u001b[0;32m      5\u001b[0m \u001b[0ma\u001b[0m \u001b[1;33m=\u001b[0m \u001b[1;33m(\u001b[0m\u001b[1;36m1\u001b[0m\u001b[1;33m,\u001b[0m\u001b[1;36m2\u001b[0m\u001b[1;33m,\u001b[0m\u001b[1;36m3\u001b[0m\u001b[1;33m)\u001b[0m\u001b[1;33m\u001b[0m\u001b[1;33m\u001b[0m\u001b[0m\n",
      "\u001b[1;31mTypeError\u001b[0m: 'function' object is not iterable"
     ]
    }
   ],
   "source": [
    "a = list(a)\n",
    "print(a)\n",
    "\n",
    "list = 3\n",
    "a = (1,2,3)\n",
    "list(a)"
   ]
  },
  {
   "cell_type": "code",
   "execution_count": 33,
   "metadata": {
    "slideshow": {
     "slide_type": "subslide"
    }
   },
   "outputs": [
    {
     "name": "stdout",
     "output_type": "stream",
     "text": [
      "Once deleted, variables cannot be recovered. Proceed (y/[n])? y\n",
      "Don't know how to reset  #reset, please run `%reset?` for details\n",
      "Don't know how to reset  zmiennych, please run `%reset?` for details\n",
      "Don't know how to reset  w, please run `%reset?` for details\n",
      "Don't know how to reset  jupyter, please run `%reset?` for details\n"
     ]
    }
   ],
   "source": [
    "%reset #reset zmiennych w Jupyter"
   ]
  },
  {
   "cell_type": "code",
   "execution_count": 135,
   "metadata": {
    "slideshow": {
     "slide_type": "subslide"
    }
   },
   "outputs": [],
   "source": [
    "class Test():\n",
    "    \n",
    "    def __init__(self,a):\n",
    "        self.a = a\n",
    "    \n",
    "    def __int__(self,other):\n",
    "        return self.a + other.a + 1\n"
   ]
  },
  {
   "cell_type": "code",
   "execution_count": 139,
   "metadata": {},
   "outputs": [
    {
     "data": {
      "text/plain": [
       "5"
      ]
     },
     "execution_count": 139,
     "metadata": {},
     "output_type": "execute_result"
    }
   ],
   "source": [
    "int(2)+int(2)"
   ]
  },
  {
   "cell_type": "code",
   "execution_count": 140,
   "metadata": {},
   "outputs": [
    {
     "name": "stdout",
     "output_type": "stream",
     "text": [
      "Once deleted, variables cannot be recovered. Proceed (y/[n])? y\n"
     ]
    }
   ],
   "source": [
    "%reset"
   ]
  },
  {
   "cell_type": "code",
   "execution_count": null,
   "metadata": {},
   "outputs": [],
   "source": []
  }
 ],
 "metadata": {
  "kernelspec": {
   "display_name": "Python 3",
   "language": "python",
   "name": "python3"
  },
  "language_info": {
   "codemirror_mode": {
    "name": "ipython",
    "version": 3
   },
   "file_extension": ".py",
   "mimetype": "text/x-python",
   "name": "python",
   "nbconvert_exporter": "python",
   "pygments_lexer": "ipython3",
   "version": "3.7.1"
  }
 },
 "nbformat": 4,
 "nbformat_minor": 2
}

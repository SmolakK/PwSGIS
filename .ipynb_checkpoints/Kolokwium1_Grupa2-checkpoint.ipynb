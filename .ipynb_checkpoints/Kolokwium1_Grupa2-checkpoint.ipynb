{
 "cells": [
  {
   "cell_type": "markdown",
   "metadata": {},
   "source": [
    "Zad1. Napisz funkcję, która przyjmuje listę jako argument, a następnie zwraca listę sum naprzeciwległych sobie wartości w podanej liście. Zatem jeśli mamy listę 3 wartości:\n",
    "\n",
    "    dla indeksu 0 zwraca sumę wartości nr 1 i nr 3\n",
    "    dla indeksu 1 zwraca sumę wartości nr 2 i nr 2\n",
    "    dla indeksu 2 zwraca sumę wartości nr 3 i nr 1\n",
    " \n",
    "Sprawdź funkcję dla listy [1,2,3,4,5,6,7,8,9,10]"
   ]
  },
  {
   "cell_type": "markdown",
   "metadata": {},
   "source": [
    "Zad2. Napisz skrypt, który dokonuje deszyfracji kodu. Oryginalny tekst został zmieniony w ten sposób, że za każdą literę została wstawiona następna litera w alfabecie.\n",
    "\n",
    "Podpowiedź: skorzystaj z biblioteki string. Nie używaj polskich znaków.\n",
    "\n",
    "Sprawdź skrypt dekodując tekst: kbljt mptpxz djbh aoblpx"
   ]
  },
  {
   "cell_type": "markdown",
   "metadata": {},
   "source": [
    "Zad3. Napisz klasę int(), która przyjmuje liczbę całkowitą jako wartość. W przypadku, gdy klasie podana zostanie liczba ujemna, ma być zamieniona na jej przeciwieństwo, tak by była pozytywna. Gdy liczby mają być dodane operatorem \"+\", klasa ma mnożyć liczby, a gdy mają być mnożone '*', klasa ma dodawać liczby do siebie"
   ]
  },
  {
   "cell_type": "code",
   "execution_count": null,
   "metadata": {},
   "outputs": [],
   "source": []
  }
 ],
 "metadata": {
  "kernelspec": {
   "display_name": "Python 3",
   "language": "python",
   "name": "python3"
  },
  "language_info": {
   "codemirror_mode": {
    "name": "ipython",
    "version": 3
   },
   "file_extension": ".py",
   "mimetype": "text/x-python",
   "name": "python",
   "nbconvert_exporter": "python",
   "pygments_lexer": "ipython3",
   "version": "3.7.1"
  }
 },
 "nbformat": 4,
 "nbformat_minor": 2
}

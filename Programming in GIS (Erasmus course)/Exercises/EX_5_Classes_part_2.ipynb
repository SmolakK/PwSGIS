{
 "cells": [
  {
   "cell_type": "markdown",
   "metadata": {},
   "source": [
    "<center> <h1> Object-oriented programming - part 2 </h1> </center>"
   ]
  },
  {
   "cell_type": "markdown",
   "metadata": {},
   "source": [
    "Today we are continuing with the <b> classes </b>, which were started in Part 1 two weeks ago.\n"
   ]
  },
  {
   "cell_type": "markdown",
   "metadata": {},
   "source": [
    "<h1> Paradigm 2 - hermetization </h1>\n",
    "\n",
    "The goal of heremtization is to restrict the acess to the classes' attributes.\n",
    "\n",
    "It is realized through convention of adding a \"_\" prefix to attributes names:"
   ]
  },
  {
   "cell_type": "code",
   "execution_count": 2,
   "metadata": {},
   "outputs": [],
   "source": [
    "class Person():\n",
    "    \n",
    "    #two blank lines according to style guidelines -> see PEP8 Guide\n",
    "    def __init__(self, name, lastname, birth_date):\n",
    "        self._name = name\n",
    "        self._lastname = lastname\n",
    "        self._birth_date = birth_date"
   ]
  },
  {
   "cell_type": "code",
   "execution_count": 3,
   "metadata": {},
   "outputs": [],
   "source": [
    "Jurek = Person(\"Jurek\",\"Kiler\",\"10-10-1974\")"
   ]
  },
  {
   "cell_type": "code",
   "execution_count": 4,
   "metadata": {},
   "outputs": [
    {
     "ename": "AttributeError",
     "evalue": "'Person' object has no attribute 'name'",
     "output_type": "error",
     "traceback": [
      "\u001b[1;31m---------------------------------------------------------------------------\u001b[0m",
      "\u001b[1;31mAttributeError\u001b[0m                            Traceback (most recent call last)",
      "\u001b[1;32m<ipython-input-4-7c5d682b93e0>\u001b[0m in \u001b[0;36m<module>\u001b[1;34m\u001b[0m\n\u001b[1;32m----> 1\u001b[1;33m \u001b[0mprint\u001b[0m\u001b[1;33m(\u001b[0m\u001b[0mJurek\u001b[0m\u001b[1;33m.\u001b[0m\u001b[0mname\u001b[0m\u001b[1;33m,\u001b[0m \u001b[0mJurek\u001b[0m\u001b[1;33m.\u001b[0m\u001b[0mlastname\u001b[0m\u001b[1;33m,\u001b[0m \u001b[0mJurek\u001b[0m\u001b[1;33m.\u001b[0m\u001b[0mbirth_date\u001b[0m\u001b[1;33m)\u001b[0m \u001b[1;31m#acess restricted -> error\u001b[0m\u001b[1;33m\u001b[0m\u001b[1;33m\u001b[0m\u001b[0m\n\u001b[0m",
      "\u001b[1;31mAttributeError\u001b[0m: 'Person' object has no attribute 'name'"
     ]
    }
   ],
   "source": [
    "print(Jurek.name, Jurek.lastname, Jurek.birth_date) #acess restricted -> error"
   ]
  },
  {
   "cell_type": "code",
   "execution_count": 5,
   "metadata": {},
   "outputs": [
    {
     "name": "stdout",
     "output_type": "stream",
     "text": [
      "Jurek\n"
     ]
    }
   ],
   "source": [
    "print(Jurek._name) #this works but \"_\" is only an convention. Using _ forces user to think if it is really necessary"
   ]
  },
  {
   "cell_type": "markdown",
   "metadata": {},
   "source": [
    "So, how properly get to variables? Through so-called setters and getters. They are created through <b>decorators</b> @property. Getter - returns value, Setter - allows for changing them"
   ]
  },
  {
   "cell_type": "code",
   "execution_count": 6,
   "metadata": {},
   "outputs": [],
   "source": [
    "class Person():\n",
    "    \n",
    "    #two blank lines according to style guidelines -> see PEP8 Guide\n",
    "    def __init__(self, name, lastname, birth_date):\n",
    "        self._name = name\n",
    "        self._lastname = lastname\n",
    "        self._birth_date = birth_date\n",
    "        \n",
    "    @property #getter\n",
    "    def name(self):\n",
    "        return self._name\n",
    "    \n",
    "    @property\n",
    "    def lastname(self):\n",
    "        return self._lastname\n",
    "    \n",
    "    @property\n",
    "    def birth_date(self):\n",
    "        return self._birth_date"
   ]
  },
  {
   "cell_type": "code",
   "execution_count": 7,
   "metadata": {},
   "outputs": [],
   "source": [
    "Jurek = Person(\"Jurek\",\"Kiler\",\"10-10-1974\")"
   ]
  },
  {
   "cell_type": "code",
   "execution_count": 8,
   "metadata": {},
   "outputs": [
    {
     "name": "stdout",
     "output_type": "stream",
     "text": [
      "Jurek Kiler 10-10-1974\n"
     ]
    }
   ],
   "source": [
    "print(Jurek.name, Jurek.lastname, Jurek.birth_date) #now works"
   ]
  },
  {
   "cell_type": "markdown",
   "metadata": {},
   "source": [
    "Calling Jurek.imie in fact we are calling the getter function, not an attribute. What we get is a copy, which can be used outside class, but will not change class attribtute value."
   ]
  },
  {
   "cell_type": "code",
   "execution_count": 9,
   "metadata": {},
   "outputs": [
    {
     "ename": "AttributeError",
     "evalue": "can't set attribute",
     "output_type": "error",
     "traceback": [
      "\u001b[1;31m---------------------------------------------------------------------------\u001b[0m",
      "\u001b[1;31mAttributeError\u001b[0m                            Traceback (most recent call last)",
      "\u001b[1;32m<ipython-input-9-093f2e0fdbb0>\u001b[0m in \u001b[0;36m<module>\u001b[1;34m\u001b[0m\n\u001b[1;32m----> 1\u001b[1;33m \u001b[0mJurek\u001b[0m\u001b[1;33m.\u001b[0m\u001b[0mname\u001b[0m \u001b[1;33m=\u001b[0m \u001b[1;34m\"Andrzej\"\u001b[0m \u001b[1;31m#cannot be changed\u001b[0m\u001b[1;33m\u001b[0m\u001b[1;33m\u001b[0m\u001b[0m\n\u001b[0m",
      "\u001b[1;31mAttributeError\u001b[0m: can't set attribute"
     ]
    }
   ],
   "source": [
    "Jurek.name = \"Andrzej\" #cannot be changed"
   ]
  },
  {
   "cell_type": "markdown",
   "metadata": {},
   "source": [
    "For that we need setters:"
   ]
  },
  {
   "cell_type": "code",
   "execution_count": 11,
   "metadata": {},
   "outputs": [],
   "source": [
    "class Person():\n",
    "    \n",
    "    #two blank lines according to style guidelines -> see PEP8 Guide\n",
    "    def __init__(self, name, lastname, birth_date):\n",
    "        self._name = name\n",
    "        self._lastname = lastname\n",
    "        self._birth_date = birth_date\n",
    "        \n",
    "    @property #getter\n",
    "    def name(self):\n",
    "        return self._name\n",
    "    \n",
    "    @property\n",
    "    def lastname(self):\n",
    "        return self._lastname\n",
    "    \n",
    "    @property\n",
    "    def birth_date(self):\n",
    "        return self._birth_date\n",
    "    \n",
    "    @name.setter #setter\n",
    "    def name(self, name):\n",
    "        if name == \"Maciej\":\n",
    "            print(\"ANYTHING BUT MACIEJ!\")\n",
    "        else:\n",
    "            self._name = name\n",
    "        \n",
    "    @lastname.setter #setter\n",
    "    def nazwisko(self, lastname):\n",
    "        self._lastname = lastname\n",
    "        \n",
    "    @birth_date.setter #setter\n",
    "    def birth_date(self, birth_date):\n",
    "        self._birth_date = birth_date"
   ]
  },
  {
   "cell_type": "code",
   "execution_count": 12,
   "metadata": {},
   "outputs": [],
   "source": [
    "Jurek = Person(\"Jurek\",\"Kiler\",\"10-10-1974\")"
   ]
  },
  {
   "cell_type": "code",
   "execution_count": 13,
   "metadata": {},
   "outputs": [
    {
     "name": "stdout",
     "output_type": "stream",
     "text": [
      "Jurek Kiler 10-10-1974\n"
     ]
    }
   ],
   "source": [
    "print(Jurek.name, Jurek.lastname, Jurek.birth_date) #we get a copy"
   ]
  },
  {
   "cell_type": "code",
   "execution_count": 14,
   "metadata": {},
   "outputs": [],
   "source": [
    "Jurek.name = \"Andrzej\" #now it can be changed"
   ]
  },
  {
   "cell_type": "code",
   "execution_count": 15,
   "metadata": {},
   "outputs": [
    {
     "name": "stdout",
     "output_type": "stream",
     "text": [
      "Andrzej\n"
     ]
    }
   ],
   "source": [
    "print(Jurek.name)"
   ]
  },
  {
   "cell_type": "markdown",
   "metadata": {},
   "source": [
    "In the name setter of the class we have defined an additional condition (to present the purpose of setters), which stops from undesired changes:"
   ]
  },
  {
   "cell_type": "code",
   "execution_count": 16,
   "metadata": {},
   "outputs": [
    {
     "name": "stdout",
     "output_type": "stream",
     "text": [
      "ANYTHING BUT MACIEJ!\n"
     ]
    }
   ],
   "source": [
    "Jurek.name = \"Maciej\""
   ]
  },
  {
   "cell_type": "markdown",
   "metadata": {},
   "source": [
    "For example in real - stop from accidentally setting account balance below 0."
   ]
  },
  {
   "cell_type": "markdown",
   "metadata": {},
   "source": [
    "<h1> Paradigm 3 - Polimorfism </h1>\n",
    "\n",
    "Do you remember a a+b, b+a example from part_1? + is the same operator, but because of the class definiton it behaved differently. This is exactly what polimorfism is. 1 - operators polimorfism\n",
    "\n",
    "Let's check another example:"
   ]
  },
  {
   "cell_type": "code",
   "execution_count": 19,
   "metadata": {},
   "outputs": [],
   "source": [
    "class Dog():\n",
    "    \n",
    "    def __init__(self, name, color):\n",
    "        self._name = name\n",
    "        self._color = color\n",
    "        \n",
    "    def voice(self):\n",
    "        print(\"HAU!\")\n",
    "        \n",
    "        \n",
    "class Cat():\n",
    "    \n",
    "    def __init__(self, name, color):\n",
    "        self._name = name\n",
    "        self._color = color\n",
    "        \n",
    "    def voice(self):\n",
    "        print(\"MIAU!\")"
   ]
  },
  {
   "cell_type": "code",
   "execution_count": 21,
   "metadata": {},
   "outputs": [
    {
     "name": "stdout",
     "output_type": "stream",
     "text": [
      "HAU!\n",
      "MIAU!\n"
     ]
    }
   ],
   "source": [
    "fafik = Dog(\"fafik\",\"black\")\n",
    "bruno = Cat(\"bruno\",\"white\")\n",
    "\n",
    "for animal in (fafik,bruno):\n",
    "    animal.voice()"
   ]
  },
  {
   "cell_type": "markdown",
   "metadata": {},
   "source": [
    "Above example is a class polimorfism. Classes methods behave differently, but have the same names. 2 - class polimorfism\n",
    "\n",
    "Third example of polimorfism is function (sometimes methods) polimorfism. Behavior is different depending on parameters:"
   ]
  },
  {
   "cell_type": "code",
   "execution_count": 30,
   "metadata": {},
   "outputs": [],
   "source": [
    "def what_is_that(parameter1):\n",
    "    if isinstance(parameter1,str): #funkcja wbudowana, sprawdza jakiego typu jest zmienna\n",
    "        print(\"it's a TEXT!\")\n",
    "    elif isinstance(parameter1,float):\n",
    "        print(\"it's a FLOAT\")\n"
   ]
  },
  {
   "cell_type": "code",
   "execution_count": 31,
   "metadata": {},
   "outputs": [
    {
     "name": "stdout",
     "output_type": "stream",
     "text": [
      "it's a TEXT!\n"
     ]
    }
   ],
   "source": [
    "what_is_that(\"A\")"
   ]
  },
  {
   "cell_type": "code",
   "execution_count": 32,
   "metadata": {},
   "outputs": [
    {
     "name": "stdout",
     "output_type": "stream",
     "text": [
      "it's a FLOAT\n"
     ]
    }
   ],
   "source": [
    "what_is_that(2.)"
   ]
  },
  {
   "cell_type": "markdown",
   "metadata": {},
   "source": [
    "Fourth and the last example of polimorfism is related to the last paradigm - inheritance. First, let's have a look on inheritance paradigm:"
   ]
  },
  {
   "cell_type": "markdown",
   "metadata": {},
   "source": [
    "<h2> Paradigm 4 - Inheritance </h2>"
   ]
  },
  {
   "cell_type": "markdown",
   "metadata": {},
   "source": [
    "Let's try to implement an inheritance Person -> Employee"
   ]
  },
  {
   "cell_type": "markdown",
   "metadata": {},
   "source": [
    "Code:"
   ]
  },
  {
   "cell_type": "code",
   "execution_count": 35,
   "metadata": {},
   "outputs": [],
   "source": [
    "class Person():\n",
    "    \n",
    "    #two blank lines according to style guidelines -> see PEP8 Guide\n",
    "    def __init__(self, name, lastname, birth_date):\n",
    "        self._name = name\n",
    "        self._lastname = lastname\n",
    "        self._birth_date = birth_date\n",
    "        \n",
    "    @property #getter\n",
    "    def name(self):\n",
    "        return self._name\n",
    "    \n",
    "    @property\n",
    "    def lastname(self):\n",
    "        return self._lastname\n",
    "    \n",
    "    @property\n",
    "    def birth_date(self):\n",
    "        return self._birth_date\n",
    "    \n",
    "    @name.setter #setter\n",
    "    def name(self, name):\n",
    "        if name == \"Maciej\":\n",
    "            print(\"ANYTHING BUT MACIEJ!\")\n",
    "        else:\n",
    "            self._name = name\n",
    "        \n",
    "    @lastname.setter #setter\n",
    "    def nazwisko(self, lastname):\n",
    "        self._lastname = lastname\n",
    "        \n",
    "    @birth_date.setter #setter\n",
    "    def birth_date(self, birth_date):\n",
    "        self._birth_date = birth_date\n",
    "        \n",
    "    def age(self):\n",
    "        return 2020 - int(self.birth_date.split('-')[2])"
   ]
  },
  {
   "cell_type": "markdown",
   "metadata": {},
   "source": [
    "Nowe we create a class <b> inheriting </b> from class Person"
   ]
  },
  {
   "cell_type": "code",
   "execution_count": 40,
   "metadata": {},
   "outputs": [],
   "source": [
    "class Employee(Person): #here we inform that class Employee inherit from class Person\n",
    "    \n",
    "    def __init__(self, name, lastname, birth_date, salary, function): #so it accepts all the attributes that Person do + two new ones\n",
    "        Person.__init__(self, name, lastname, birth_date) #here we initilize a super-class Person, with 3 attributes\n",
    "        self._salary = salary #and the new attributes\n",
    "        self._function = function"
   ]
  },
  {
   "cell_type": "markdown",
   "metadata": {},
   "source": [
    "Creating an instance with all the attributes:"
   ]
  },
  {
   "cell_type": "code",
   "execution_count": 41,
   "metadata": {},
   "outputs": [],
   "source": [
    "Jerzy = Employee(\"Jerzy\", \"Morgan\", \"20-12-1955\", 5400, \"Salesman\")"
   ]
  },
  {
   "cell_type": "code",
   "execution_count": 42,
   "metadata": {},
   "outputs": [
    {
     "data": {
      "text/plain": [
       "'Jerzy'"
      ]
     },
     "execution_count": 42,
     "metadata": {},
     "output_type": "execute_result"
    }
   ],
   "source": [
    "Jerzy.name #works because super-class has a getter defined"
   ]
  },
  {
   "cell_type": "code",
   "execution_count": 43,
   "metadata": {},
   "outputs": [
    {
     "ename": "AttributeError",
     "evalue": "'Employee' object has no attribute 'function'",
     "output_type": "error",
     "traceback": [
      "\u001b[1;31m---------------------------------------------------------------------------\u001b[0m",
      "\u001b[1;31mAttributeError\u001b[0m                            Traceback (most recent call last)",
      "\u001b[1;32m<ipython-input-43-67b960cc1e30>\u001b[0m in \u001b[0;36m<module>\u001b[1;34m\u001b[0m\n\u001b[1;32m----> 1\u001b[1;33m \u001b[0mJerzy\u001b[0m\u001b[1;33m.\u001b[0m\u001b[0mfunction\u001b[0m \u001b[1;31m#does not work because the class does not have a getter for that\u001b[0m\u001b[1;33m\u001b[0m\u001b[1;33m\u001b[0m\u001b[0m\n\u001b[0m",
      "\u001b[1;31mAttributeError\u001b[0m: 'Employee' object has no attribute 'function'"
     ]
    }
   ],
   "source": [
    "Jerzy.function #does not work because the class does not have a getter for that"
   ]
  },
  {
   "cell_type": "code",
   "execution_count": 44,
   "metadata": {},
   "outputs": [
    {
     "data": {
      "text/plain": [
       "65"
      ]
     },
     "execution_count": 44,
     "metadata": {},
     "output_type": "execute_result"
    }
   ],
   "source": [
    "Jerzy.age() #works, beacuse Employee inherit methods"
   ]
  },
  {
   "cell_type": "markdown",
   "metadata": {},
   "source": [
    "<h3> So what about inheritance polimorfism? </h3>\n",
    "\n",
    "We can overwrite methods in a inheriting classes. In the example look at the use of super() function here:"
   ]
  },
  {
   "cell_type": "code",
   "execution_count": 46,
   "metadata": {},
   "outputs": [],
   "source": [
    "class Employee(Person):\n",
    "    \n",
    "    def __init__(self, name, lastname, birth_date, salary, function):\n",
    "        super().__init__(name, lastname, birth_date) #here instead of Osoba we can call a super function with calss a superior class\n",
    "        self._lastname = lastname\n",
    "        self._birth_date = birth_date\n",
    "        \n",
    "    def age(self): #overwriting method\n",
    "        return \"You cannot ask employee for age!\""
   ]
  },
  {
   "cell_type": "code",
   "execution_count": 47,
   "metadata": {},
   "outputs": [
    {
     "data": {
      "text/plain": [
       "'You cannot ask employee for age!'"
      ]
     },
     "execution_count": 47,
     "metadata": {},
     "output_type": "execute_result"
    }
   ],
   "source": [
    "Jerzy = Employee(\"Jerzy\", \"Morgan\", \"20-12-1955\", 5400, \"Salesman\")\n",
    "Jerzy.age() "
   ]
  },
  {
   "cell_type": "markdown",
   "metadata": {},
   "source": [
    "<h3> That's all. Now you can do list 3! </h3>"
   ]
  },
  {
   "cell_type": "code",
   "execution_count": null,
   "metadata": {},
   "outputs": [],
   "source": []
  }
 ],
 "metadata": {
  "kernelspec": {
   "display_name": "Python 3",
   "language": "python",
   "name": "python3"
  },
  "language_info": {
   "codemirror_mode": {
    "name": "ipython",
    "version": 3
   },
   "file_extension": ".py",
   "mimetype": "text/x-python",
   "name": "python",
   "nbconvert_exporter": "python",
   "pygments_lexer": "ipython3",
   "version": "3.7.4"
  }
 },
 "nbformat": 4,
 "nbformat_minor": 2
}

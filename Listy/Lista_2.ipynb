{
 "cells": [
  {
   "cell_type": "markdown",
   "metadata": {},
   "source": [
    "Zad 1. Stwórz listę liczb nieparzystych od 1 do 99, podzielnych przez 9 korzystając z polecenia range i wyświetl ją"
   ]
  },
  {
   "cell_type": "markdown",
   "metadata": {},
   "source": [
    "Zad 2. Stwórz krotkę ('al','ka','pO','fom','mad','azzS','ezrpS'). Zapoznaj się z poleceniem str.join korzystając z dokumentacji Pythona. Wykorzystując indeksację i polecenie str.join dokonaj takich przekształceń by powstał tekst Sprze-dam-Op-la. \n",
    "*spróbuj wykonać całe zadanie w 2 linijkach"
   ]
  },
  {
   "cell_type": "markdown",
   "metadata": {},
   "source": [
    "Zad 3. Stwórz pętlę która narysuje drzewko jak poniżej (wysokość = 15 linijek):"
   ]
  },
  {
   "cell_type": "code",
   "execution_count": 80,
   "metadata": {},
   "outputs": [
    {
     "name": "stdout",
     "output_type": "stream",
     "text": [
      "               Drzewko\n",
      "              **\n",
      "             ****\n",
      "            ******\n",
      "           ********\n",
      "          **********\n",
      "         ************\n",
      "        **************\n",
      "       ****************\n",
      "      ******************\n",
      "     ********************\n",
      "    **********************\n",
      "   ************************\n",
      "  **************************\n",
      " ****************************\n"
     ]
    }
   ],
   "source": []
  },
  {
   "cell_type": "markdown",
   "metadata": {},
   "source": [
    "Zad 4. Stwórz listę kwadratów liczby dwa dla potęg od 0 do 12, a następnie spierwiastkuj co trzeci element. Na końcu usuń wszystkie elementy mniejsze od 100."
   ]
  },
  {
   "cell_type": "markdown",
   "metadata": {},
   "source": [
    "Zad 5. Stwórz słownik z cenami produktów sklepu {'masło': 3.39, 'ser': 8.99, 'jajka': 4.99,' wino': 12.99, 'piwo': 3.99}. Następnie:\n",
    "\n",
    "<ul>\n",
    "    <li>Dodaj nowy produkt do słownika</li>\n",
    "    <li>Policz średnie ceny w słowniku</li>\n",
    "    <li>Stwórz listę (dokładnie Pythonową listę) z zakupami: masło, ser, jajka, 2 x piwo i pieczarki. Następnie wykorzystując słownik i stworzoną listę policz koszt zakupów. Wyświetl ją.</li>\n",
    "</ul>"
   ]
  },
  {
   "cell_type": "markdown",
   "metadata": {},
   "source": [
    "Zad 6. Napisz skrypt, który losuje liczbę całkowitą mniejszą od 100 (biblioteka random, polecenie randint), a następnie:\n",
    "<ul>\n",
    "    <li>Każe użytkownikowi zgadnąć co to za liczba</li>\n",
    "    <li>Informuje czy podana przez niego liczba jest: dużo mniejsza (różnica >50), mniejsza, większa, lub dużo większa(>50)</li>\n",
    "    <li>Kończy się gdy użytkownik zgadnie liczbę i pokazuje liczbę prób, którą musiał podjąć</li>"
   ]
  }
 ],
 "metadata": {
  "kernelspec": {
   "display_name": "Python 3",
   "language": "python",
   "name": "python3"
  },
  "language_info": {
   "codemirror_mode": {
    "name": "ipython",
    "version": 3
   },
   "file_extension": ".py",
   "mimetype": "text/x-python",
   "name": "python",
   "nbconvert_exporter": "python",
   "pygments_lexer": "ipython3",
   "version": "3.6.7"
  }
 },
 "nbformat": 4,
 "nbformat_minor": 2
}

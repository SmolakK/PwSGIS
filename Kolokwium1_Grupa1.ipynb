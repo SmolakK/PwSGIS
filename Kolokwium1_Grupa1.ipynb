{
 "cells": [
  {
   "cell_type": "markdown",
   "metadata": {},
   "source": [
    "Zad 1. Napisz funkcję, która przyjmuje jako argument tekst i sprawdza, czy  jest on palindromem (czytany od przodu i od tyłu jest taki sam) i wyświetla tekst w formie odwróconej i wprost. Jeśli tak, wyświetla dodatkowo informację \"Tak, to palindrom\". \n",
    "\n",
    "Jako test sprawdź funkcję tym tekstem: \"Może jutro ta dama da tortu jeżom\" - wynik powinien być pozytywny. Ignoruj spacje i wielkość liter."
   ]
  },
  {
   "cell_type": "code",
   "execution_count": 4,
   "metadata": {},
   "outputs": [
    {
     "name": "stdout",
     "output_type": "stream",
     "text": [
      "Może jutro ta dama da tortu jeżom\n",
      "możej utrot ad amad at ortuj eżoM\n",
      "Tak, to palindrom\n"
     ]
    },
    {
     "data": {
      "text/plain": [
       "True"
      ]
     },
     "execution_count": 4,
     "metadata": {},
     "output_type": "execute_result"
    }
   ],
   "source": [
    "tekst = \"Może jutro ta dama da tortu jeżom\"\n",
    "\n",
    "def palindrom(tekst):\n",
    "    print(tekst)\n",
    "    print(tekst[::-1])\n",
    "    tekst = tekst.lower().replace(' ','')\n",
    "    if tekst[:] == tekst[::-1]:\n",
    "        print(\"Tak, to palindrom\")\n",
    "        return True\n",
    "    else:\n",
    "        return False\n",
    "\n",
    "palindrom(tekst)"
   ]
  },
  {
   "cell_type": "markdown",
   "metadata": {},
   "source": [
    "Zad 2. Napisz skrypt, który dekoduje tekst. Oryginalny tekst, został zamieniony w ten sposób, że zamienił litery innymi według podanego zestawu:\n",
    "<ul>\n",
    "    <li> e -> y</li>\n",
    "    <li> o -> u</li>\n",
    "    <li> b -> p</li>\n",
    "    <li> a -> m</li>\n",
    "    <li> k -> o</li>\n",
    "    <li> d -> c</li>\n",
    "</ul>\n",
    "\n",
    "Sprawdź skrypt rozszyfrując tekst \"Wyglmcm nm tu zy siy zgmczm\""
   ]
  },
  {
   "cell_type": "code",
   "execution_count": 9,
   "metadata": {},
   "outputs": [
    {
     "name": "stdout",
     "output_type": "stream",
     "text": [
      "Weglada na to ze sie zgadza\n"
     ]
    }
   ],
   "source": [
    "slownik = {\"y\":\"e\",\"u\":\"o\",\"p\":\"b\",\"m\":\"a\",\"o\":\"k\",\"c\":\"d\"}\n",
    "\n",
    "test = \"Wyglmcm nm tu zy siy zgmczm\"\n",
    "nowy = \"\"\n",
    "for let in test:\n",
    "    if let in slownik:\n",
    "        nowy += slownik[let]\n",
    "    else:\n",
    "        nowy += let\n",
    "        \n",
    "print(nowy)"
   ]
  },
  {
   "cell_type": "markdown",
   "metadata": {},
   "source": [
    "Zad 3. Napisz klasę, która przyjmuje dwie wartości będące liczbami całkowitymi. Oprogramuj gettery i settery. Zmień zachowanie klas tak, że porównując je ze sobą za pomocą operatora \"większy niż\" (>), porównuje pierwsze wartości, a za pomocą operatora \"mniejszy niż\" (<) porównuje drugie wartości.\n",
    "\n",
    "Sprawdź klasę porównując:\n",
    "\n",
    "    (3,3) > (4,1) (Fałsz)\n",
    "    (3,3) < (4,1) (Fałsz)"
   ]
  },
  {
   "cell_type": "code",
   "execution_count": 10,
   "metadata": {},
   "outputs": [],
   "source": [
    "class int():\n",
    "    \n",
    "    def __init__(self,a,b):\n",
    "        self._a = a\n",
    "        self._b = b\n",
    "        \n",
    "    @property\n",
    "    def a(self):\n",
    "        return self._a\n",
    "    \n",
    "    @property\n",
    "    def b(self):\n",
    "        return self._b\n",
    "    \n",
    "    @a.setter\n",
    "    def a(self,a):\n",
    "        self._a = a\n",
    "        \n",
    "    @b.setter\n",
    "    def b(self,b):\n",
    "        self._b = b\n",
    "        \n",
    "    def __gt__(self,other):\n",
    "        return self.a > other.a\n",
    "    \n",
    "    def __lt__(self,other):\n",
    "        return self.b < other.b\n",
    "    "
   ]
  },
  {
   "cell_type": "code",
   "execution_count": null,
   "metadata": {},
   "outputs": [],
   "source": []
  }
 ],
 "metadata": {
  "kernelspec": {
   "display_name": "Python 3",
   "language": "python",
   "name": "python3"
  },
  "language_info": {
   "codemirror_mode": {
    "name": "ipython",
    "version": 3
   },
   "file_extension": ".py",
   "mimetype": "text/x-python",
   "name": "python",
   "nbconvert_exporter": "python",
   "pygments_lexer": "ipython3",
   "version": "3.7.1"
  }
 },
 "nbformat": 4,
 "nbformat_minor": 2
}

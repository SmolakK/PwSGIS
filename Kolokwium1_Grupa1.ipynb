{
 "cells": [
  {
   "cell_type": "markdown",
   "metadata": {},
   "source": [
    "Zad 1. Napisz funkcję, która przyjmuje jako argument tekst i sprawdza, czy  jest on palindromem (czytany od przodu i od tyłu jest taki sam) i wyświetla tekst w formie odwróconej i wprost. Jeśli tak, wyświetla dodatkowo informację \"Tak, to palindrom\". \n",
    "\n",
    "Jako test sprawdź funkcję tym tekstem: \"Może jutro ta dama da tortu jeżom\" - wynik powinien być pozytywny. Ignoruj spacje i wielkość liter."
   ]
  },
  {
   "cell_type": "markdown",
   "metadata": {},
   "source": [
    "Zad 2. Napisz skrypt, który dekoduje tekst. Oryginalny tekst, został zamieniony w ten sposób, że zamienił litery innymi według podanego zestawu:\n",
    "<ul>\n",
    "    <li> e -> y</li>\n",
    "    <li> o -> u</li>\n",
    "    <li> b -> p</li>\n",
    "    <li> a -> m</li>\n",
    "    <li> k -> o</li>\n",
    "    <li> d -> c</li>\n",
    "</ul>\n",
    "\n",
    "Sprawdź skrypt rozszyfrując tekst \"Wyglmcm nm tu zy siy zgmczm\""
   ]
  },
  {
   "cell_type": "markdown",
   "metadata": {},
   "source": [
    "Zad 3. Napisz klasę, która przyjmuje dwie wartości będące liczbami całkowitymi. Oprogramuj gettery i settery. Zmień zachowanie klas tak, że porównując je ze sobą za pomocą operatora \"większy niż\" (>), porównuje pierwsze wartości, a za pomocą operatora \"mniejszy niż\" (<) porównuje drugie wartości.\n",
    "\n",
    "Sprawdź klasę porównując:\n",
    "\n",
    "    (3,3) > (4,1) (Fałsz)\n",
    "    (3,3) < (4,1) (Fałsz)"
   ]
  },
  {
   "cell_type": "code",
   "execution_count": null,
   "metadata": {},
   "outputs": [],
   "source": []
  }
 ],
 "metadata": {
  "kernelspec": {
   "display_name": "Python 3",
   "language": "python",
   "name": "python3"
  },
  "language_info": {
   "codemirror_mode": {
    "name": "ipython",
    "version": 3
   },
   "file_extension": ".py",
   "mimetype": "text/x-python",
   "name": "python",
   "nbconvert_exporter": "python",
   "pygments_lexer": "ipython3",
   "version": "3.7.1"
  }
 },
 "nbformat": 4,
 "nbformat_minor": 2
}

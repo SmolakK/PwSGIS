{
 "cells": [
  {
   "cell_type": "markdown",
   "metadata": {},
   "source": [
    "<center> <h1> Programowanie obiektowe - klasy, obiekty w Pythonie </h1> </center>"
   ]
  },
  {
   "cell_type": "code",
   "execution_count": 4,
   "metadata": {},
   "outputs": [
    {
     "data": {
      "text/html": [
       "<img src=\"01-uml-base-class-and-object-explained.png\"/>"
      ],
      "text/plain": [
       "<IPython.core.display.Image object>"
      ]
     },
     "execution_count": 4,
     "metadata": {},
     "output_type": "execute_result"
    }
   ],
   "source": [
    "from IPython.display import Image\n",
    "Image(url = \"01-uml-base-class-and-object-explained.png\")"
   ]
  },
  {
   "cell_type": "markdown",
   "metadata": {},
   "source": [
    "Klasa posiada atrybuty i metody. Jest generalną reprezentacją obiektów świata rzeczywistego."
   ]
  },
  {
   "cell_type": "code",
   "execution_count": 5,
   "metadata": {},
   "outputs": [
    {
     "data": {
      "text/html": [
       "<img src=\"Image5905.gif\"/>"
      ],
      "text/plain": [
       "<IPython.core.display.Image object>"
      ]
     },
     "execution_count": 5,
     "metadata": {},
     "output_type": "execute_result"
    }
   ],
   "source": [
    "Image(url=\"Image5905.gif\")"
   ]
  },
  {
   "cell_type": "markdown",
   "metadata": {},
   "source": [
    "Klasy pozwalają na realizację czterech paradygmatów programowania obiektowego. Diagram klas UML jak powyżej może zostać przeniesiony i zaimplementowany w Pythonie. Na diagramie widać dziedziczność klas - jeden z paradygmatów."
   ]
  },
  {
   "cell_type": "markdown",
   "metadata": {},
   "source": [
    "<h2> Definicja klasy </h2>\n",
    "\n",
    "    class Nazwa(dziedziczenie):\n",
    "        instrukcje\n",
    "        ..."
   ]
  },
  {
   "cell_type": "code",
   "execution_count": 6,
   "metadata": {},
   "outputs": [],
   "source": [
    "class Osoba(): #puste dziedziczenie oznacza brak klasy nadrzędnej\n",
    "    pass #polecenie pominięcia"
   ]
  },
  {
   "cell_type": "code",
   "execution_count": 7,
   "metadata": {},
   "outputs": [
    {
     "data": {
      "text/plain": [
       "__main__.Osoba"
      ]
     },
     "execution_count": 7,
     "metadata": {},
     "output_type": "execute_result"
    }
   ],
   "source": [
    "Jurek = Osoba()\n",
    "type(Jurek)"
   ]
  },
  {
   "cell_type": "code",
   "execution_count": 8,
   "metadata": {},
   "outputs": [
    {
     "name": "stdout",
     "output_type": "stream",
     "text": [
      "<__main__.Osoba object at 0x000001793F2B82B0>\n"
     ]
    }
   ],
   "source": [
    "print(Jurek)"
   ]
  },
  {
   "cell_type": "markdown",
   "metadata": {},
   "source": [
    "<h2> Inicjalizacja </h2>\n",
    "\n",
    "Inicjalizacja klasy odbywa się za pomocą <b> funkcji magicznej </b> $__init__$ - wywoływany jest przy instancjonowaniu\n",
    "\n",
    "Klasa do sebie samej odwołuje się przez $self$"
   ]
  },
  {
   "cell_type": "code",
   "execution_count": 48,
   "metadata": {},
   "outputs": [],
   "source": [
    "class Osoba():\n",
    "    \n",
    "    #dwie linijki przerwy zgodnie z PEP8\n",
    "    def __init__(self, imie, nazwisko, data_urodzenia):\n",
    "        self.imie = imie\n",
    "        self.nazwisko = nazwisko\n",
    "        self.data_urodzenia = data_urodzenia"
   ]
  },
  {
   "cell_type": "code",
   "execution_count": 49,
   "metadata": {},
   "outputs": [],
   "source": [
    "Jurek = Osoba(\"Jurek\",\"Kiler\",\"10-10-1974\")"
   ]
  },
  {
   "cell_type": "code",
   "execution_count": 50,
   "metadata": {},
   "outputs": [
    {
     "name": "stdout",
     "output_type": "stream",
     "text": [
      "Jurek Kiler 10-10-1974\n"
     ]
    }
   ],
   "source": [
    "print(Jurek.imie, Jurek.nazwisko, Jurek.data_urodzenia)"
   ]
  },
  {
   "cell_type": "code",
   "execution_count": 52,
   "metadata": {},
   "outputs": [
    {
     "data": {
      "text/plain": [
       "'Andrzej'"
      ]
     },
     "execution_count": 52,
     "metadata": {},
     "output_type": "execute_result"
    }
   ],
   "source": [
    "Jurek.imie = \"Andrzej\" #imie można zmienić dowolnie (BRAK HERMETYZACJI)\n",
    "Jurek.imie"
   ]
  },
  {
   "cell_type": "markdown",
   "metadata": {},
   "source": [
    "<h3> Metody klas </h3>"
   ]
  },
  {
   "cell_type": "code",
   "execution_count": 17,
   "metadata": {},
   "outputs": [],
   "source": [
    "class Osoba():\n",
    "    \n",
    "    \n",
    "    def __init__(self, imie, nazwisko, data_urodzenia):\n",
    "        self.imie = imie\n",
    "        self.nazwisko = nazwisko\n",
    "        self.data_urodzenia = data_urodzenia\n",
    "        \n",
    "    def wiek(self):\n",
    "        return 2019 - int(self.data_urodzenia.split('-')[2])"
   ]
  },
  {
   "cell_type": "code",
   "execution_count": 18,
   "metadata": {},
   "outputs": [],
   "source": [
    "Jurek = Osoba(\"Jurek\",\"Kiler\",\"10-10-1974\")"
   ]
  },
  {
   "cell_type": "code",
   "execution_count": 19,
   "metadata": {},
   "outputs": [
    {
     "data": {
      "text/plain": [
       "45"
      ]
     },
     "execution_count": 19,
     "metadata": {},
     "output_type": "execute_result"
    }
   ],
   "source": [
    "Jurek.wiek()"
   ]
  },
  {
   "cell_type": "markdown",
   "metadata": {},
   "source": [
    "<h2> Inne funkcje magiczne </h2>\n",
    "<ul>\n",
    "    <li> $__repr__$ - reprezentacja obiektu. Wywoływana jest poprzez $repr(nazwa_obiektu)$ lub po wpisaniu nazwy zmiennej w interpreterze</li>\n",
    "    <li> $__str__$ - tekstowa reprezentacja obiektu. Wywoływana poprzez str(nazwa_obiektu) lub print</li>\n",
    "</ul>"
   ]
  },
  {
   "cell_type": "code",
   "execution_count": 27,
   "metadata": {},
   "outputs": [],
   "source": [
    "class Osoba():\n",
    "    \n",
    "    \n",
    "    def __init__(self, imie, nazwisko, data_urodzenia):\n",
    "        self.imie = imie\n",
    "        self.nazwisko = nazwisko\n",
    "        self.data_urodzenia = data_urodzenia\n",
    "        \n",
    "    def __str__(self):\n",
    "        return \"Człowiek imieniem {}, w wieku {} lat\".format(self.imie, str(self.wiek()))\n",
    "    \n",
    "    def __repr__(self):\n",
    "        return \"Osoba class(name: {}, surname: {}, birth date: {})\".format(self.imie, self.nazwisko, self.data_urodzenia)\n",
    "        \n",
    "    def wiek(self):\n",
    "        return 2019 - int(self.data_urodzenia.split('-')[2])"
   ]
  },
  {
   "cell_type": "code",
   "execution_count": 28,
   "metadata": {},
   "outputs": [],
   "source": [
    "Jurek = Osoba(\"Jurek\",\"Kiler\",\"10-10-1974\")"
   ]
  },
  {
   "cell_type": "code",
   "execution_count": 29,
   "metadata": {},
   "outputs": [
    {
     "name": "stdout",
     "output_type": "stream",
     "text": [
      "Człowiek imieniem Jurek, w wieku 45 lat\n"
     ]
    }
   ],
   "source": [
    "print(Jurek)"
   ]
  },
  {
   "cell_type": "code",
   "execution_count": 30,
   "metadata": {},
   "outputs": [
    {
     "data": {
      "text/plain": [
       "Osoba class(name: Jurek, surname: Kiler, birth date: 10-10-1974)"
      ]
     },
     "execution_count": 30,
     "metadata": {},
     "output_type": "execute_result"
    }
   ],
   "source": [
    "Jurek"
   ]
  },
  {
   "cell_type": "markdown",
   "metadata": {},
   "source": [
    "<h1> Więcej funkcji magicznych zmieniających zachowanie klas </h1>"
   ]
  },
  {
   "cell_type": "code",
   "execution_count": 34,
   "metadata": {},
   "outputs": [],
   "source": [
    "class Liczba():\n",
    "    \n",
    "    def __init__(self, wartosc):\n",
    "        self.wartosc = wartosc\n",
    "        \n",
    "    def __add__(self, inna): #zmiana zachowania przy dodawaniu\n",
    "        return (self.wartosc + inna.wartosc - 1)**2"
   ]
  },
  {
   "cell_type": "code",
   "execution_count": 35,
   "metadata": {},
   "outputs": [],
   "source": [
    "a = Liczba(10)\n",
    "b = Liczba(5)"
   ]
  },
  {
   "cell_type": "code",
   "execution_count": 37,
   "metadata": {},
   "outputs": [
    {
     "data": {
      "text/plain": [
       "196"
      ]
     },
     "execution_count": 37,
     "metadata": {},
     "output_type": "execute_result"
    }
   ],
   "source": [
    "a + b"
   ]
  },
  {
   "cell_type": "code",
   "execution_count": 39,
   "metadata": {},
   "outputs": [
    {
     "ename": "TypeError",
     "evalue": "unsupported operand type(s) for *: 'Liczba' and 'Liczba'",
     "output_type": "error",
     "traceback": [
      "\u001b[1;31m---------------------------------------------------------------------------\u001b[0m",
      "\u001b[1;31mTypeError\u001b[0m                                 Traceback (most recent call last)",
      "\u001b[1;32m<ipython-input-39-e37740687294>\u001b[0m in \u001b[0;36m<module>\u001b[1;34m\u001b[0m\n\u001b[1;32m----> 1\u001b[1;33m \u001b[0ma\u001b[0m\u001b[1;33m*\u001b[0m\u001b[0mb\u001b[0m \u001b[1;31m#nie oprogramowalismy\u001b[0m\u001b[1;33m\u001b[0m\u001b[1;33m\u001b[0m\u001b[0m\n\u001b[0m",
      "\u001b[1;31mTypeError\u001b[0m: unsupported operand type(s) for *: 'Liczba' and 'Liczba'"
     ]
    }
   ],
   "source": [
    "a*b #nie oprogramowalismy"
   ]
  },
  {
   "cell_type": "markdown",
   "metadata": {},
   "source": [
    "<h3> Paradygmat - hermetyzacja </h3>\n",
    "Odbywa się przez konwencję dodania do argumentów własnych klasy prefiksu w postaci podłogi. Zatem:"
   ]
  },
  {
   "cell_type": "code",
   "execution_count": 14,
   "metadata": {},
   "outputs": [],
   "source": [
    "class Osoba():\n",
    "    \n",
    "    #dwie linijki przerwy zgodnie z PEP8\n",
    "    def __init__(self, imie, nazwisko, data_urodzenia):\n",
    "        self._imie = imie\n",
    "        self._nazwisko = nazwisko\n",
    "        self._data_urodzenia = data_urodzenia"
   ]
  },
  {
   "cell_type": "code",
   "execution_count": 15,
   "metadata": {},
   "outputs": [],
   "source": [
    "Jurek = Osoba(\"Jurek\",\"Kiler\",\"10-10-1974\")"
   ]
  },
  {
   "cell_type": "code",
   "execution_count": 16,
   "metadata": {},
   "outputs": [
    {
     "ename": "AttributeError",
     "evalue": "'Osoba' object has no attribute 'imie'",
     "output_type": "error",
     "traceback": [
      "\u001b[1;31m---------------------------------------------------------------------------\u001b[0m",
      "\u001b[1;31mAttributeError\u001b[0m                            Traceback (most recent call last)",
      "\u001b[1;32m<ipython-input-16-c58dc1938f43>\u001b[0m in \u001b[0;36m<module>\u001b[1;34m\u001b[0m\n\u001b[1;32m----> 1\u001b[1;33m \u001b[0mprint\u001b[0m\u001b[1;33m(\u001b[0m\u001b[0mJurek\u001b[0m\u001b[1;33m.\u001b[0m\u001b[0mimie\u001b[0m\u001b[1;33m,\u001b[0m \u001b[0mJurek\u001b[0m\u001b[1;33m.\u001b[0m\u001b[0mnazwisko\u001b[0m\u001b[1;33m,\u001b[0m \u001b[0mJurek\u001b[0m\u001b[1;33m.\u001b[0m\u001b[0mdata_urodzenia\u001b[0m\u001b[1;33m)\u001b[0m\u001b[1;33m\u001b[0m\u001b[1;33m\u001b[0m\u001b[0m\n\u001b[0m",
      "\u001b[1;31mAttributeError\u001b[0m: 'Osoba' object has no attribute 'imie'"
     ]
    }
   ],
   "source": [
    "print(Jurek.imie, Jurek.nazwisko, Jurek.data_urodzenia)"
   ]
  },
  {
   "cell_type": "markdown",
   "metadata": {},
   "source": [
    "Jak się więc dostać do zmiennych? Przez tak zwane settery i gettery. Tworzone w Pythonie poprzez <b>dekorator</b> @property."
   ]
  },
  {
   "cell_type": "code",
   "execution_count": 53,
   "metadata": {},
   "outputs": [],
   "source": [
    "class Osoba():\n",
    "    \n",
    "    #dwie linijki przerwy zgodnie z PEP8\n",
    "    def __init__(self, imie, nazwisko, data_urodzenia):\n",
    "        self._imie = imie\n",
    "        self._nazwisko = nazwisko\n",
    "        self._data_urodzenia = data_urodzenia\n",
    "        \n",
    "    @property #getter\n",
    "    def imie(self):\n",
    "        return self._imie\n",
    "    \n",
    "    @property\n",
    "    def nazwisko(self):\n",
    "        return self._nazwisko\n",
    "    \n",
    "    @property\n",
    "    def data_urodzenia(self):\n",
    "        return self._data_urodzenia"
   ]
  },
  {
   "cell_type": "code",
   "execution_count": 54,
   "metadata": {},
   "outputs": [],
   "source": [
    "Jurek = Osoba(\"Jurek\",\"Kiler\",\"10-10-1974\")"
   ]
  },
  {
   "cell_type": "code",
   "execution_count": 55,
   "metadata": {},
   "outputs": [
    {
     "name": "stdout",
     "output_type": "stream",
     "text": [
      "Jurek Kiler 10-10-1974\n"
     ]
    }
   ],
   "source": [
    "print(Jurek.imie, Jurek.nazwisko, Jurek.data_urodzenia) #to co dostajemy to kopia"
   ]
  },
  {
   "cell_type": "code",
   "execution_count": 56,
   "metadata": {},
   "outputs": [
    {
     "ename": "AttributeError",
     "evalue": "can't set attribute",
     "output_type": "error",
     "traceback": [
      "\u001b[1;31m---------------------------------------------------------------------------\u001b[0m",
      "\u001b[1;31mAttributeError\u001b[0m                            Traceback (most recent call last)",
      "\u001b[1;32m<ipython-input-56-d4d3ab5d96d7>\u001b[0m in \u001b[0;36m<module>\u001b[1;34m\u001b[0m\n\u001b[1;32m----> 1\u001b[1;33m \u001b[0mJurek\u001b[0m\u001b[1;33m.\u001b[0m\u001b[0mimie\u001b[0m \u001b[1;33m=\u001b[0m \u001b[1;34m\"Andrzej\"\u001b[0m \u001b[1;31m#nie można go zmienić\u001b[0m\u001b[1;33m\u001b[0m\u001b[1;33m\u001b[0m\u001b[0m\n\u001b[0m",
      "\u001b[1;31mAttributeError\u001b[0m: can't set attribute"
     ]
    }
   ],
   "source": [
    "Jurek.imie = \"Andrzej\" #nie można go zmienić"
   ]
  },
  {
   "cell_type": "code",
   "execution_count": 87,
   "metadata": {},
   "outputs": [],
   "source": [
    "class Osoba():\n",
    "    \n",
    "    #dwie linijki przerwy zgodnie z PEP8\n",
    "    def __init__(self, imie, nazwisko, data_urodzenia):\n",
    "        self._imie = imie\n",
    "        self._nazwisko = nazwisko\n",
    "        self._data_urodzenia = data_urodzenia\n",
    "        \n",
    "    @property #getter\n",
    "    def imie(self):\n",
    "        return self._imie\n",
    "    \n",
    "    @property\n",
    "    def nazwisko(self):\n",
    "        return self._nazwisko\n",
    "    \n",
    "    @property\n",
    "    def data_urodzenia(self):\n",
    "        return self._data_urodzenia\n",
    "    \n",
    "    @imie.setter #setter\n",
    "    def imie(self, imie):\n",
    "        if imie == \"Maciej\":\n",
    "            print(\"WSZYSTKO TYLKO NIE MACIEJ!\")\n",
    "        else:\n",
    "            self._imie = imie\n",
    "        \n",
    "    @nazwisko.setter #setter\n",
    "    def nazwisko(self, nazwisko):\n",
    "        self._nazwisko = nazwisko\n",
    "        \n",
    "    @data_urodzenia.setter #setter\n",
    "    def data_urodzenia(self, data_urodzenia):\n",
    "        self._data_urodzenia = data_urodzenia"
   ]
  },
  {
   "cell_type": "code",
   "execution_count": 81,
   "metadata": {},
   "outputs": [],
   "source": [
    "Jurek = Osoba(\"Jurek\",\"Kiler\",\"10-10-1974\")"
   ]
  },
  {
   "cell_type": "code",
   "execution_count": 82,
   "metadata": {},
   "outputs": [
    {
     "name": "stdout",
     "output_type": "stream",
     "text": [
      "Jurek Kiler 10-10-1974\n"
     ]
    }
   ],
   "source": [
    "print(Jurek.imie, Jurek.nazwisko, Jurek.data_urodzenia) #to co dostajemy to kopia"
   ]
  },
  {
   "cell_type": "code",
   "execution_count": 83,
   "metadata": {},
   "outputs": [],
   "source": [
    "Jurek.imie = \"Andrzej\" #już można"
   ]
  },
  {
   "cell_type": "code",
   "execution_count": 84,
   "metadata": {},
   "outputs": [
    {
     "name": "stdout",
     "output_type": "stream",
     "text": [
      "Andrzej\n"
     ]
    }
   ],
   "source": [
    "print(Jurek.imie)"
   ]
  },
  {
   "cell_type": "code",
   "execution_count": 86,
   "metadata": {},
   "outputs": [
    {
     "name": "stdout",
     "output_type": "stream",
     "text": [
      "WSZYSTKO TYLKO NIE MACIEJ!\n"
     ]
    }
   ],
   "source": [
    "Jurek.imie = \"Maciej\""
   ]
  },
  {
   "cell_type": "markdown",
   "metadata": {},
   "source": [
    "Tak przy okazji stworzyliśmy polimorficzne funkcje - trzeci paradygmat programowania obiektowego na dziś\n",
    "\n",
    "<h2> Czas więc na ostatni paradygmat - dziedziczność! </h2>"
   ]
  },
  {
   "cell_type": "code",
   "execution_count": 88,
   "metadata": {},
   "outputs": [
    {
     "data": {
      "text/html": [
       "<img src=\"Image5905.gif\"/>"
      ],
      "text/plain": [
       "<IPython.core.display.Image object>"
      ]
     },
     "execution_count": 88,
     "metadata": {},
     "output_type": "execute_result"
    }
   ],
   "source": [
    "Image(url=\"Image5905.gif\")"
   ]
  },
  {
   "cell_type": "code",
   "execution_count": 92,
   "metadata": {},
   "outputs": [],
   "source": [
    "class Osoba():\n",
    "    \n",
    "    #dwie linijki przerwy zgodnie z PEP8\n",
    "    def __init__(self, imie, nazwisko, data_urodzenia):\n",
    "        self._imie = imie\n",
    "        self._nazwisko = nazwisko\n",
    "        self._data_urodzenia = data_urodzenia\n",
    "        \n",
    "    @property #getter\n",
    "    def imie(self):\n",
    "        return self._imie\n",
    "    \n",
    "    @property\n",
    "    def nazwisko(self):\n",
    "        return self._nazwisko\n",
    "    \n",
    "    @property\n",
    "    def data_urodzenia(self):\n",
    "        return self._data_urodzenia\n",
    "    \n",
    "    @imie.setter #setter\n",
    "    def imie(self, imie):\n",
    "        if imie == \"Maciej\":\n",
    "            print(\"WSZYSTKO TYLKO NIE MACIEJ!\")\n",
    "        else:\n",
    "            self._imie = imie\n",
    "        \n",
    "    @nazwisko.setter #setter\n",
    "    def nazwisko(self, nazwisko):\n",
    "        self._nazwisko = nazwisko\n",
    "        \n",
    "    @data_urodzenia.setter #setter\n",
    "    def data_urodzenia(self, data_urodzenia):\n",
    "        self._data_urodzenia = data_urodzenia\n",
    "        \n",
    "    def wiek(self):\n",
    "        return 2019 - int(self.data_urodzenia.split('-')[2])"
   ]
  },
  {
   "cell_type": "code",
   "execution_count": 97,
   "metadata": {},
   "outputs": [],
   "source": [
    "class Pracownik(Osoba): #dziedziczy po klasie osoba\n",
    "    \n",
    "    def __init__(self, imie, nazwisko, data_urodzenia, pensja, stanowisko):\n",
    "        Osoba.__init__(self, imie, nazwisko, data_urodzenia)\n",
    "        self._pensja = pensja\n",
    "        self._stanowisko = stanowisko"
   ]
  },
  {
   "cell_type": "code",
   "execution_count": 98,
   "metadata": {},
   "outputs": [],
   "source": [
    "Jerzy = Pracownik(\"Jerzy\", \"Morgan\", \"20-12-1955\", 5400, \"Handlowiec\")"
   ]
  },
  {
   "cell_type": "code",
   "execution_count": 101,
   "metadata": {},
   "outputs": [
    {
     "data": {
      "text/plain": [
       "'Jerzy'"
      ]
     },
     "execution_count": 101,
     "metadata": {},
     "output_type": "execute_result"
    }
   ],
   "source": [
    "Jerzy.imie #bo w klasie nadrzędnej jest getter"
   ]
  },
  {
   "cell_type": "code",
   "execution_count": 103,
   "metadata": {},
   "outputs": [
    {
     "ename": "AttributeError",
     "evalue": "'Pracownik' object has no attribute 'stanowisko'",
     "output_type": "error",
     "traceback": [
      "\u001b[1;31m---------------------------------------------------------------------------\u001b[0m",
      "\u001b[1;31mAttributeError\u001b[0m                            Traceback (most recent call last)",
      "\u001b[1;32m<ipython-input-103-497c38578a43>\u001b[0m in \u001b[0;36m<module>\u001b[1;34m\u001b[0m\n\u001b[1;32m----> 1\u001b[1;33m \u001b[0mJerzy\u001b[0m\u001b[1;33m.\u001b[0m\u001b[0mstanowisko\u001b[0m \u001b[1;31m#bo w tej klasie nie ma gettera (ale powinien być)\u001b[0m\u001b[1;33m\u001b[0m\u001b[1;33m\u001b[0m\u001b[0m\n\u001b[0m",
      "\u001b[1;31mAttributeError\u001b[0m: 'Pracownik' object has no attribute 'stanowisko'"
     ]
    }
   ],
   "source": [
    "Jerzy.stanowisko #bo w tej klasie nie ma gettera (ale powinien być)"
   ]
  },
  {
   "cell_type": "code",
   "execution_count": 104,
   "metadata": {},
   "outputs": [
    {
     "data": {
      "text/plain": [
       "64"
      ]
     },
     "execution_count": 104,
     "metadata": {},
     "output_type": "execute_result"
    }
   ],
   "source": [
    "Jerzy.wiek() #bo dziedziczy metody, mimo tego że w tej klasie nie zostało to zaimplementowane"
   ]
  },
  {
   "cell_type": "markdown",
   "metadata": {},
   "source": [
    "<h3> To tyle na dziś. Zrób zadania z listy 5! </h3>"
   ]
  },
  {
   "cell_type": "code",
   "execution_count": null,
   "metadata": {},
   "outputs": [],
   "source": []
  }
 ],
 "metadata": {
  "kernelspec": {
   "display_name": "Python 3",
   "language": "python",
   "name": "python3"
  },
  "language_info": {
   "codemirror_mode": {
    "name": "ipython",
    "version": 3
   },
   "file_extension": ".py",
   "mimetype": "text/x-python",
   "name": "python",
   "nbconvert_exporter": "python",
   "pygments_lexer": "ipython3",
   "version": "3.6.7"
  }
 },
 "nbformat": 4,
 "nbformat_minor": 2
}

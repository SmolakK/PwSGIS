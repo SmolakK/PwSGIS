{
 "cells": [
  {
   "cell_type": "markdown",
   "metadata": {},
   "source": [
    "Ex. 1.\n",
    "\n",
    "<b>Use math library to perform following operations:</b>\n",
    "<ul>\n",
    "    <li> $(2 + (-5)/2)$ </li>\n",
    "    <li> $(5 mod 4)^{435}$ </li>\n",
    "    <li> $cos(pi)$ </li>\n",
    "    <li> $e^{ln(1)}$ </li>"
   ]
  },
  {
   "cell_type": "markdown",
   "metadata": {},
   "source": [
    "Ex. 2\n",
    "Create a list of odd numbers strating from 1 to 99, that can be divisible by 9"
   ]
  },
  {
   "cell_type": "markdown",
   "metadata": {},
   "source": [
    "Zad 3. Create a tuple: ('al','ka','pO','fom','mad','azzS','ezrpS'). See how to use str.join method. Using indexing tools and str.join method transform the tuple into a string: Sprze-dam-Op-la. \n",
    "\n",
    "*try to do it in just 2 lines"
   ]
  },
  {
   "cell_type": "markdown",
   "metadata": {},
   "source": [
    "Zad 4. Create a loop that draws the tree as below (height = 15 lines):"
   ]
  },
  {
   "cell_type": "code",
   "execution_count": 80,
   "metadata": {},
   "outputs": [
    {
     "name": "stdout",
     "output_type": "stream",
     "text": [
      "               Drzewko\n",
      "              **\n",
      "             ****\n",
      "            ******\n",
      "           ********\n",
      "          **********\n",
      "         ************\n",
      "        **************\n",
      "       ****************\n",
      "      ******************\n",
      "     ********************\n",
      "    **********************\n",
      "   ************************\n",
      "  **************************\n",
      " ****************************\n"
     ]
    }
   ],
   "source": [
    "for n in range(15):"
   ]
  },
  {
   "cell_type": "markdown",
   "metadata": {},
   "source": [
    "Zad 5. Stwórz listę kwadratów liczby dwa dla potęg od 0 do 12, a następnie spierwiastkuj co trzeci element. Na końcu usuń wszystkie elementy mniejsze od 100."
   ]
  },
  {
   "cell_type": "markdown",
   "metadata": {},
   "source": [
    "Zad 6. Stwórz słownik z cenami produktów sklepu {'masło': 3.39, 'ser': 8.99, 'jajka': 4.99,' wino': 12.99, 'piwo': 3.99}. Następnie:\n",
    "\n",
    "<ul>\n",
    "    <li>Dodaj nowy produkt do słownika</li>\n",
    "    <li>Policz średnie ceny w słowniku</li>\n",
    "    <li>Stwórz listę (dokładnie Pythonową listę) z zakupami: masło, ser, jajka, 2 x piwo i pieczarki. Następnie wykorzystując słownik i stworzoną listę policz koszt zakupów. Wyświetl ją.</li>\n",
    "</ul>"
   ]
  },
  {
   "cell_type": "markdown",
   "metadata": {},
   "source": [
    "Zad 7. Napisz skrypt, który losuje liczbę całkowitą mniejszą od 100 (biblioteka random, polecenie randint), a następnie:\n",
    "<ul>\n",
    "    <li>Każe użytkownikowi zgadnąć co to za liczba</li>\n",
    "    <li>Informuje czy podana przez niego liczba jest: dużo mniejsza (różnica >50), mniejsza, większa, lub dużo większa(>50)</li>\n",
    "    <li>Kończy się gdy użytkownik zgadnie liczbę i pokazuje liczbę prób, którą musiał podjąć</li>"
   ]
  },
  {
   "cell_type": "markdown",
   "metadata": {},
   "source": [
    "Zad 8. Napisz funkcję, która spośród dowolnej liczby podanych liczb znajduje te, które są pierwiastkowane bez reszty."
   ]
  }
 ],
 "metadata": {
  "kernelspec": {
   "display_name": "Python 3",
   "language": "python",
   "name": "python3"
  },
  "language_info": {
   "codemirror_mode": {
    "name": "ipython",
    "version": 3
   },
   "file_extension": ".py",
   "mimetype": "text/x-python",
   "name": "python",
   "nbconvert_exporter": "python",
   "pygments_lexer": "ipython3",
   "version": "3.7.4"
  }
 },
 "nbformat": 4,
 "nbformat_minor": 2
}

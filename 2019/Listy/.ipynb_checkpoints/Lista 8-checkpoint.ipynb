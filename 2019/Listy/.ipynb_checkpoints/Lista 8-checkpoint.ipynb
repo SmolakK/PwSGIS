{
 "cells": [
  {
   "cell_type": "markdown",
   "metadata": {},
   "source": [
    "<h1> Lista 8 - atrybuty i geometria </h1>"
   ]
  },
  {
   "cell_type": "markdown",
   "metadata": {},
   "source": [
    "W folderze \"pliki\" znajduje się warswa \"Budynki_select.shp\".\n",
    "Zadanie to jest kilkuetapowe, należy napisać jeden skrypt:\n",
    "\n",
    "1. Sprwadź typ geometrii obiektów za pomocą polecenia wkbType(). Napisz skrypt tak, by zależnie od typu geometrii wyświetlał jego nazwę w konsoli.\n",
    "2. Napisz skrypt, który utworzy nową warstwę tymczasową ze wszystkimi budynkami przesuniętymi o 200 metrów wzdłuż osi X i 100 metrów wzdłuż osi Y. Wybierz tylko 10 pierwszych budynków. Instrukcja podetapów:\n",
    "    \n",
    "      a) wybierz warstwę (wczytaj lub wybierz jako activeLayer),\n",
    "      \n",
    "      b) stwórz warstwę tymczasową,\n",
    "      \n",
    "      c) przeiteruj się przez warstwę oryginalną (pierwsze 10 budynków),\n",
    "      \n",
    "      d) dla każdego obiektu twórz nowy obiekt, który ma takie same atrybuty ale geometrię przesuniętą o podane wartości,\n",
    "      \n",
    "      e) dodaj je do warstwy tymczasowej,\n",
    "      \n",
    "      f) uaktulanij widok.\n",
    "      \n",
    "Do podpunktu d):\n",
    "\n",
    "Współrzędne danego obiektu mogą być pobrana jako lista. Typ geometri MULTIPOLYGON składa się z kilku list. Pierwszy poziom opisuje różne wieloboki w warstwie, drugi wieloboki oraz otwory. Aby dostać się do geometrii pierwszego (i jedynego) wieloboku należy odwołać się poprzez podwójne indeksowanie do listy:\n",
    "    \n",
    "    old_geom = [pt for pt in geom.asMultiPolygon()][0][0]\n",
    "    \n",
    "Należy stworzyć sobie nową listę z geometrią do zapisania:\n",
    "    \n",
    "    new_geom = []\n",
    "    \n",
    "Do każdej współrzędnej w starej geometri dodać wektor przemieszczenia:\n",
    "    \n",
    "    for pt in old_geom:\n",
    "        new_pt = pt+QgsVector(x,y)\n",
    "        new_geom.append(new_pt)\n",
    "      \n",
    "Dodać utworzoną geometrię do nowego obiektu (zwróć uwagę na podanie listy \"new_geom\" w kolejnej liście. Ze względu na strukturę danych (poligony + oczka) tak musi być):\n",
    "\n",
    "    new_feat.setGeometry(QgsGeometry.fromPolygonXY([new_geom]))\n",
    "    "
   ]
  },
  {
   "cell_type": "code",
   "execution_count": null,
   "metadata": {},
   "outputs": [],
   "source": []
  }
 ],
 "metadata": {
  "kernelspec": {
   "display_name": "Python 3",
   "language": "python",
   "name": "python3"
  },
  "language_info": {
   "codemirror_mode": {
    "name": "ipython",
    "version": 3
   },
   "file_extension": ".py",
   "mimetype": "text/x-python",
   "name": "python",
   "nbconvert_exporter": "python",
   "pygments_lexer": "ipython3",
   "version": "3.7.1"
  }
 },
 "nbformat": 4,
 "nbformat_minor": 2
}

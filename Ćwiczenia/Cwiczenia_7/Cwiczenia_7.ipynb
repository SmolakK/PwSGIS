{
 "cells": [
  {
   "cell_type": "markdown",
   "metadata": {},
   "source": [
    "<h1> Ćwiczenia 7 - Praktyczna aplikacja nabytej wiedzy w QGIS</h1>\n",
    "\n",
    "Dzisiejsze ćwiczenia mają za zadanie podsumować wiedzę nabytą podczas ostatnich ćwiczeń i wykładów i są ściśle powiązane z listą nr 4, którą należy oddać 2 tygodnie po tych ćwiczeniach (w formie pliku *.py)\n",
    "\n",
    "Ćwiczenia obejmują wiedzę z ćwiczeń 6 i wykładów 3 (w zasadzie pokrywa się z ćwiczeniami 6) oraz 4.\n",
    "\n",
    "Wszystkie kody piszemy w edytorze Pythona QGISa (wersja >3). Pliki do zadań dodane są do ćwiczeń.\n"
   ]
  },
  {
   "cell_type": "markdown",
   "metadata": {},
   "source": [
    "<h2> Zadanie 1 </h2>\n",
    "\n",
    "Napisz funkcję, która jako argument przyjmie ścieżkę do pliku. W zależności od tego czy jest to *.TIF czy *.SHP ładuje ją jako warstwę wektorową lub rastrową. Przetestuj funkcję ładując pliki bogota.tif i budynki.shp dostępne w folderze \"Pliki\".\n",
    "\n",
    "Zadanie \"na rozgrzewkę\". Wykorzystując funkcje wczytywania rastrów lub wektorów oraz (najlepiej) bibliotekę os, należy napisać funkcję, która w zależności od pliku ukrytego pod zadaną ścieżką stosuje odpowiednią metodą.\n",
    "\n",
    "Dla uproszczenia, korzystamy tylko z metody klasy iface.\n",
    "\n",
    "Funkcja wyglądać ma:\n",
    "\n",
    "def wczytaj_warstwe(sciezka_do_pliku):\n",
    "\n",
    "    kod"
   ]
  },
  {
   "cell_type": "markdown",
   "metadata": {},
   "source": [
    "<h2> Zadanie 2 </h2>\n",
    "\n",
    "Teraz trochę wejście/wyjście do plików oraz parametry rastra.\n",
    "\n",
    "Napisz funkcję \"czytnika\" metadanych pliku rastrowego z poziomu QGISa. Niech będzie to funkcja o nazwie \"raster_metadane\", która:\n",
    "\n",
    "    przyjmuje ścieżkę do <b> folderu </b>, \n",
    "    wyszukuje wszystkie pliki rastrowe w tym folderze\n",
    "    odczytuje jego metadane: wysokosc, szerokosc, liczba kanalow, rozdzielczosc przestrzenna, uklad odniesienia oraz (DLA CHĘTNYCH) wartosc maksymalna i minimalna pikseli\n",
    "    zapisuje plik z metadanymi *.txt, gdzie * to nazwa rastra\n",
    "    \n",
    "    \n",
    "Metody odczytania metadanych dostępne są w dokumentacji (wysokosc, szerokosc, liczba kanalow, rozdzielczosc przestrzenna - https://qgis.org/api/classQgsRasterLayer.html, uklad odniesienia - https://qgis.org/api/classQgsMapLayer.html, wartosci min i maks - tu będzie potrzebna metoda .dataProvider().identify(wspolrzedne, typ_danej), aby odczytac wspolrzędne należy pozyskac wspolrzedne wszystkich pikseli rastra. Nalezy wiec stworzyc wskaznik do kazdego piksela. Do tego potrzebne będą:\n",
    "\n",
    "    wysokosc i szerokosc rastra\n",
    "    rozdzielczosc przestrzenna\n",
    "    zakres rastra (podpowiedz: np. x mimimalne mozna pozyskac metodą raster.extent().xMinimum() )"
   ]
  },
  {
   "cell_type": "markdown",
   "metadata": {},
   "source": [
    "<h2> Zadanie 3 </h2>\n",
    "\n",
    "To zadanie związane z warstwami wektorowymi - ich geometrią i atrybutami.\n",
    "\n",
    "W folderze z ćwiczeniami znajduje się warswa \"Budynki_select.shp\".\n",
    "\n",
    "Zadanie to jest kilkuetapowe, należy napisać jeden skrypt:\n",
    "\n",
    "Napisz skrypt, który utworzy nową warstwę tymczasową ze wszystkimi budynkami przesuniętymi o 200 metrów wzdłuż osi X i 100 metrów wzdłuż osi Y. Wybierz tylko 10 pierwszych budynków.\n",
    "\n",
    "Instrukcja:\n",
    "    \n",
    "      a) wybierz warstwę (wczytaj),\n",
    "      \n",
    "      b) stwórz warstwę tymczasową,\n",
    "      \n",
    "      c) przeiteruj się przez warstwę oryginalną (pierwsze 10 budynków),\n",
    "      \n",
    "      d) dla każdego obiektu twórz nowy obiekt, który ma takie same atrybuty ale geometrię przesuniętą o podane wartości,\n",
    "      \n",
    "      e) dodaj je do warstwy tymczasowej,\n",
    "      \n",
    "      f) policz sumaryczną powierzchnię wszystkich budynków w nowej warstwie,\n",
    "      \n",
    "      g) uaktulanij widok.\n",
    "      \n",
    "Do podpunktu d):\n",
    "\n",
    "Współrzędne danego obiektu mogą być pobrana jako lista. Typ geometri MULTIPOLYGON składa się z kilku list. Pierwszy poziom opisuje różne wieloboki w warstwie, drugi wieloboki oraz otwory. Aby dostać się do geometrii pierwszego (i jedynego) wieloboku należy odwołać się poprzez podwójne indeksowanie do listy:\n",
    "    \n",
    "    old_geom = [pt for pt in geom.asMultiPolygon()][0][0]\n",
    "    \n",
    "Należy stworzyć sobie nową listę z geometrią do zapisania:\n",
    "    \n",
    "    new_geom = []\n",
    "    \n",
    "Do każdej współrzędnej w starej geometri dodać wektor przemieszczenia:\n",
    "    \n",
    "    for pt in old_geom:\n",
    "        new_pt = pt+QgsVector(x,y)\n",
    "        new_geom.append(new_pt)\n",
    "      \n",
    "Dodać utworzoną geometrię do nowego obiektu (zwróć uwagę na podanie listy \"new_geom\" w kolejnej liście. Ze względu na strukturę danych (poligony + oczka) tak musi być):\n",
    "\n",
    "    new_feat.setGeometry(QgsGeometry.fromPolygonXY([new_geom]))\n",
    "    "
   ]
  },
  {
   "cell_type": "code",
   "execution_count": null,
   "metadata": {},
   "outputs": [],
   "source": []
  }
 ],
 "metadata": {
  "kernelspec": {
   "display_name": "Python 3",
   "language": "python",
   "name": "python3"
  },
  "language_info": {
   "codemirror_mode": {
    "name": "ipython",
    "version": 3
   },
   "file_extension": ".py",
   "mimetype": "text/x-python",
   "name": "python",
   "nbconvert_exporter": "python",
   "pygments_lexer": "ipython3",
   "version": "3.7.1"
  }
 },
 "nbformat": 4,
 "nbformat_minor": 2
}

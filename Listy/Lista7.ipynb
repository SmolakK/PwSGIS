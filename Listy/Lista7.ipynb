{
 "cells": [
  {
   "cell_type": "markdown",
   "metadata": {},
   "source": [
    "<h1> Lista 7 - QGIS i Python </h1>\n",
    "\n",
    "Wykonaj poniższe zadania w formie skryptów w QGIS3, zapisz je w plikach *.py i prześlij na e-sprawozdania "
   ]
  },
  {
   "cell_type": "markdown",
   "metadata": {},
   "source": [
    "1. Napisz funkcję, która jako argument przyjmuje ścieżkę do pliku. W zależności od tego czy jest to *.TIF czy *.SHP ładuje ją jako warstwę wektorową lub rastrową do okna. Przetestuj funkcję ładując plik bogota.tif oraz budynki.shp dostępne w folderze \"Pliki\" "
   ]
  },
  {
   "cell_type": "markdown",
   "metadata": {},
   "source": [
    "2. Wykorzystując funkcję z zadania nr 1, napisz inną funkcję, która podczytuje plik rastrowy i zapisuje jego parametry: szerokosc, wysokosc, zakres, typ rastra, liczba kanałów oraz układ odniesienia, do pliku wybranego przez użytkownika pliku txt"
   ]
  },
  {
   "cell_type": "markdown",
   "metadata": {},
   "source": [
    "3. Napisz skrypt, który:\n",
    "    \n",
    "    a) Tworzy nowy projekt o podanej przez użytkownika nazwie (jako parametr funkcji) i zapisuje go do dowolnej lokalizacji\n",
    "    b) wczytuje warstwę wektorową budynki.shp\n",
    "    c) Oblicza powierzchnię wszystkich budynków, których atrybut \""
   ]
  }
 ],
 "metadata": {
  "kernelspec": {
   "display_name": "Python 3",
   "language": "python",
   "name": "python3"
  },
  "language_info": {
   "codemirror_mode": {
    "name": "ipython",
    "version": 3
   },
   "file_extension": ".py",
   "mimetype": "text/x-python",
   "name": "python",
   "nbconvert_exporter": "python",
   "pygments_lexer": "ipython3",
   "version": "3.6.7"
  }
 },
 "nbformat": 4,
 "nbformat_minor": 2
}

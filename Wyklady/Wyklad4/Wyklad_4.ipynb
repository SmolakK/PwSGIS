{
 "cells": [
  {
   "cell_type": "markdown",
   "metadata": {},
   "source": [
    "<h1> Programowanie w QGIS - modyfikacje warstw </h1>"
   ]
  },
  {
   "cell_type": "markdown",
   "metadata": {},
   "source": [
    "Na ostatnich ćwiczeniach ładowaliśmy warstwy, dokonywaliśmy selekcji i uzyskiwaliśmy dostęp do wartości używając klas warstw wektorowych, rastrowych, projektu QGIS oraz dataProvider przekazującego dane. Możliwe jest również wygodne edytowanie parametrów i wartości tych obiektów za pomocą poleceń Pythona."
   ]
  },
  {
   "cell_type": "code",
   "execution_count": null,
   "metadata": {},
   "outputs": [],
   "source": [
    "#obecnie zaznaczona warstwa\n",
    "warstwa = iface.activeLayer()"
   ]
  },
  {
   "cell_type": "code",
   "execution_count": null,
   "metadata": {},
   "outputs": [],
   "source": [
    "#odświeżanie\n",
    "warstwa.triggerRepaint()\n",
    "#LUB\n",
    "iface.mapCanvas().refresh()"
   ]
  },
  {
   "cell_type": "markdown",
   "metadata": {},
   "source": [
    "<h3> Dodawanie nowych obiektów </h3>\n",
    "\n",
    "Każdy obiekt warstwy wektorowej ma:\n",
    "<ul>\n",
    "    <li> Atrybuty </li>\n",
    "    <li> Geometrię </li>\n",
    "</ul>\n",
    "\n",
    "Przy tworzeniu obiektów należy ustalić oba.\n",
    "\n",
    "Nowe klasy!!\n",
    "\n",
    "1. QgsFeature - klasa obiektu warstwy wektorowej\n",
    "\n",
    "2. QgsField - klasa pola wartości w atrybutach warstwy wektorowej\n",
    "\n",
    "3. QgsGeometry - klasa geometrii obiektu"
   ]
  },
  {
   "cell_type": "code",
   "execution_count": null,
   "metadata": {},
   "outputs": [],
   "source": [
    "feat = QgsFeature(warstwa.fields()) #instancja obiektu QgsFeature, parametrem są pola wartości QgsField warstwy"
   ]
  },
  {
   "cell_type": "code",
   "execution_count": null,
   "metadata": {},
   "outputs": [],
   "source": [
    "feat.setAttributes([0, 60]) #dodajemy atrybuty\n",
    "#LUB\n",
    "feat.setAttribute(0,60) #tylko jeden wiersz"
   ]
  },
  {
   "cell_type": "code",
   "execution_count": null,
   "metadata": {},
   "outputs": [],
   "source": [
    "#Tworzymy geometrię - linia z dwóch punktów\n",
    "line_start = QgsPoint(15.74,50.89)\n",
    "line_end = QgsPoint(15.73,50.91)\n",
    "feat.setGeometry(QgsGeometry.fromPolyline([line_start,line_end]))"
   ]
  },
  {
   "cell_type": "markdown",
   "metadata": {},
   "source": [
    "QgsGeometry to klasa geometrii, która może przyjmować postać punktów, linii i poligonów. Najczęściej budujemy jest z punktów, czyli z klasy ([nowa klasa!]) QgsPoint:\n",
    "\n",
    "    QgsPoint(x,y)\n",
    "\n",
    "Następnie stosujemy jedno z poleceń .fromGeometria, czyli:\n",
    "\n",
    "    fromPolyline, fromPolygonXY, fromPointXY lub fromWKT - czyli typu danych WKT"
   ]
  },
  {
   "cell_type": "code",
   "execution_count": null,
   "metadata": {},
   "outputs": [],
   "source": [
    "warstwa.dataProvider().addFeatures([feat]) #dodajemy obiekt do warstwy"
   ]
  },
  {
   "cell_type": "markdown",
   "metadata": {},
   "source": [
    "<h3> WKT - Well-known text representation of geometry </h3>\n",
    "\n",
    "To jeden ze standardów OGC, który pozwala na opisanie każdego typu geometrii:\n",
    "\n",
    "    Point, MultiPoint\n",
    "    LineString, MultiLineString,\n",
    "    Polygon, MultiPolygon\n",
    "\n",
    "Definicja:\n",
    "\n",
    "    Nazwa (x y)\n",
    "\n",
    "Punkt:\n",
    "\n",
    "    POINT (10 30)\n",
    "\n",
    "Linia:\n",
    "\n",
    "    LINESTRING (30 10, 10 30, 40 40)\n",
    "    \n",
    "Poligon:\n",
    "\n",
    "    POLYGON ((30 10, 40 40, 20 20, 10 20, 30 10))\n",
    "    \n",
    "    POLYGON ((35 10, 45 45, 15 40, 10 20, 35 10), (20 30, 35 35, 30 20, 20 30))\n",
    "    \n",
    "    "
   ]
  },
  {
   "cell_type": "markdown",
   "metadata": {},
   "source": [
    "<h3> WKB - Well-known binary </h3>\n",
    "\n",
    "Binarny odpowiednik WKT"
   ]
  },
  {
   "cell_type": "markdown",
   "metadata": {},
   "source": [
    "<h3> Usuwanie obiektów </h3>\n",
    "\n",
    "Wystarczy podać ich indeks:"
   ]
  },
  {
   "cell_type": "code",
   "execution_count": null,
   "metadata": {},
   "outputs": [],
   "source": [
    "warstwa.dataProvider().deleteFeatures([0])"
   ]
  },
  {
   "cell_type": "markdown",
   "metadata": {},
   "source": [
    "<h3> Edycja obiektów </h3>\n",
    "\n",
    "Możemy edytować atrybuty lub geometrię. Pozwalają na to metody klasy dataProvider\n"
   ]
  },
  {
   "cell_type": "code",
   "execution_count": null,
   "metadata": {},
   "outputs": [],
   "source": [
    "attrs = { 0 : 100, 1 : 90 }\n",
    "warstwa.dataProvider().changeAttributeValues({ 0 : attrs })"
   ]
  },
  {
   "cell_type": "code",
   "execution_count": null,
   "metadata": {},
   "outputs": [],
   "source": [
    "geom = QgsGeometry.fromPolyline([QgsPoint(15.70,50.59),QgsPoint(15.70,50.52),QgsPoint(15.73,50.52)])\n",
    "warstwa.dataProvider().changeGeometryValues({0: geom})"
   ]
  },
  {
   "cell_type": "markdown",
   "metadata": {},
   "source": [
    "<h3> Ostrożności nigdy za wiele - tryb edycji </h3>\n",
    "\n",
    "Zmiany dokonane w trybie edycji mogą zostać odwrócone, dlatego też przed każdą decyzją najlepiej skorzystać jest z metod warstwy wektorowej:\n",
    "\n",
    "    startEditing() - rozpocznij edycje\n",
    "    commitChanges() - dokonaj zmian\n",
    "    rollBack() - przywróć zmiany\n",
    "    \n",
    "    isEditable() - sprawdź czy warstwa jest edytowalna\n",
    "    \n"
   ]
  },
  {
   "cell_type": "markdown",
   "metadata": {},
   "source": [
    "<h3> Nowe atrybuty </h3>\n",
    "\n",
    "dataProvider() posiada metodę addAttributes oraz deleteAttributes.\n",
    "\n",
    "[Nowa klasa] - QVariant, klasa przenosząca typ danych"
   ]
  },
  {
   "cell_type": "code",
   "execution_count": null,
   "metadata": {},
   "outputs": [],
   "source": [
    "warstwa.dataProvider().addAttributes\\\n",
    "([QgsField(\"nazwa_string\", QVariant.String), QgsField(\"nazwa_int\", QVariant.Int)])"
   ]
  },
  {
   "cell_type": "code",
   "execution_count": null,
   "metadata": {},
   "outputs": [],
   "source": [
    "warstwa.dataProvider().deleteAttributes([0])"
   ]
  },
  {
   "cell_type": "code",
   "execution_count": null,
   "metadata": {},
   "outputs": [],
   "source": [
    "warstwa.updateFields() #BARDZO WAŻNE, zawsze należy potwierdzić operację"
   ]
  },
  {
   "cell_type": "markdown",
   "metadata": {},
   "source": [
    "<h3> Tworzenie warstw, zapisywanie </h3>\n",
    "\n",
    "Zapisywanie warstw wektorowych obsługuje inna klasa - $QgsVectorFileWriter$ i jej funkcja $writeAsVectorFormat()$, która wspiera wszystkie formaty danych OGR (GeoPackage, Shapefile, GeoJSON, KML i inne)"
   ]
  },
  {
   "cell_type": "code",
   "execution_count": null,
   "metadata": {},
   "outputs": [],
   "source": [
    "QgsVectorFileWriter.writeAsVectorFormat(warstwa, \"nazwa\", \"UTF-8\") #(warstwa, nazwa, kodowanie znaków)"
   ]
  },
  {
   "cell_type": "code",
   "execution_count": null,
   "metadata": {},
   "outputs": [],
   "source": [
    "QgsVectorFileWriter.writeAsVectorFormat(warstwa, \"nazwa\", \"UTF-8\", driverName=\"GeoJSON\")"
   ]
  },
  {
   "cell_type": "code",
   "execution_count": null,
   "metadata": {},
   "outputs": [],
   "source": [
    "crs=QgsCoordinateReferenceSystem(\"epsg:4326\")\n",
    "QgsVecotFileWriter.writeAsVectorFormat(warswa, \"nazwa\", \"UTF-8\", crs = crs, driverName=\"GeoJSON\")"
   ]
  },
  {
   "cell_type": "markdown",
   "metadata": {},
   "source": [
    "<h3> Warstwy tymczasowe </h3>\n",
    "\n",
    "W QGIS2 warstwy tymaczasowe nie były w ogóle dopuszczalne w aplikacji QGISa. W QGIS3 są, lecz nie zawsze. Należy pamiętać że nie zawsze nadają się do geoprocessingu. Pozwalają oszczędzić pamięć i miejsce na dysku twardym podczas operacji."
   ]
  },
  {
   "cell_type": "code",
   "execution_count": null,
   "metadata": {},
   "outputs": [],
   "source": [
    "from qgis.PyQt.QtCore import QVariant\n",
    "\n",
    "#pusta warstwa w pamięci\n",
    "temp_vlayer = QgsVectorLayer(\"Point\", \"tymczasowe_punkty\", \"memory\")\n",
    "pr = temp_vlayer.dataProvider()\n",
    "\n",
    "#Atrybuty - pola\n",
    "pr.addAttributes([QgsField(\"nazwa\", QVariant.String), QgsField(\"wiek\",QVariant.Int)])\n",
    "temp_vlayer.updateFields()\n",
    "\n",
    "#obiekt\n",
    "feat = QgsFeature() #pusty obiekt\n",
    "#Geometria\n",
    "feat.setGeometry(QgsGeometry.fromPointXY(QgsPointXY(10,10)))\n",
    "#Atrybuty\n",
    "feat.setAttributes([\"Bobby\",12])\n",
    "#Dodaj\n",
    "pr.addFeatures([feat])\n",
    "temp_vlayer.updateExtents() #odśwież warstwę"
   ]
  }
 ],
 "metadata": {
  "kernelspec": {
   "display_name": "Python 3",
   "language": "python",
   "name": "python3"
  },
  "language_info": {
   "codemirror_mode": {
    "name": "ipython",
    "version": 3
   },
   "file_extension": ".py",
   "mimetype": "text/x-python",
   "name": "python",
   "nbconvert_exporter": "python",
   "pygments_lexer": "ipython3",
   "version": "3.6.7"
  }
 },
 "nbformat": 4,
 "nbformat_minor": 2
}

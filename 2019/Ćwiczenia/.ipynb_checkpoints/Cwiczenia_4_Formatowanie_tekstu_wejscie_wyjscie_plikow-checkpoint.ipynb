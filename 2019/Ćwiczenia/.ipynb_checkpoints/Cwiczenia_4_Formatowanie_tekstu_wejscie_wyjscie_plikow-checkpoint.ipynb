{
 "cells": [
  {
   "cell_type": "markdown",
   "metadata": {},
   "source": [
    "<h1> Cwiczenia 4 <h1>"
   ]
  },
  {
   "cell_type": "markdown",
   "metadata": {},
   "source": [
    "<h2> Formatowanie tekstu </h2>"
   ]
  },
  {
   "cell_type": "code",
   "execution_count": 1,
   "metadata": {},
   "outputs": [
    {
     "data": {
      "text/plain": [
       "'x jest równe2'"
      ]
     },
     "execution_count": 1,
     "metadata": {},
     "output_type": "execute_result"
    }
   ],
   "source": [
    "x = 2\n",
    "\"x jest równe\" + str(x) #działa, ale mało wygodne"
   ]
  },
  {
   "cell_type": "code",
   "execution_count": 2,
   "metadata": {},
   "outputs": [
    {
     "data": {
      "text/plain": [
       "'x jest równe 2'"
      ]
     },
     "execution_count": 2,
     "metadata": {},
     "output_type": "execute_result"
    }
   ],
   "source": [
    "x = 2\n",
    "\"x jest równe {}\".format(x) #metoda klasy string"
   ]
  },
  {
   "cell_type": "code",
   "execution_count": 5,
   "metadata": {},
   "outputs": [
    {
     "data": {
      "text/plain": [
       "'To jest Ala, a to jej kot'"
      ]
     },
     "execution_count": 5,
     "metadata": {},
     "output_type": "execute_result"
    }
   ],
   "source": [
    "imiona = ('Ala', 'kot')\n",
    "\n",
    "\"To jest {}, a to jej {}\".format(*imiona) #rozpakowanie sekwencji tekstu"
   ]
  },
  {
   "cell_type": "code",
   "execution_count": 8,
   "metadata": {},
   "outputs": [
    {
     "data": {
      "text/plain": [
       "'To jest Ala, a to jej kot'"
      ]
     },
     "execution_count": 8,
     "metadata": {},
     "output_type": "execute_result"
    }
   ],
   "source": [
    "#Inne podejście, odradzane w Python 3\n",
    "\n",
    "\"To jest %s, a to jej %s\" % ('Ala','kot')"
   ]
  },
  {
   "cell_type": "markdown",
   "metadata": {},
   "source": [
    "<h3> Deklaracja typu tekstu </h3>"
   ]
  },
  {
   "cell_type": "code",
   "execution_count": 9,
   "metadata": {},
   "outputs": [
    {
     "data": {
      "text/plain": [
       "'To jest Ala i ma 10 lat'"
      ]
     },
     "execution_count": 9,
     "metadata": {},
     "output_type": "execute_result"
    }
   ],
   "source": [
    "#d-int, f-float, s-str\n",
    "\"To jest {:s} i ma {:d} lat\".format(\"Ala\",10)"
   ]
  },
  {
   "cell_type": "markdown",
   "metadata": {},
   "source": [
    "<h3> Dokładność liczb</h3>"
   ]
  },
  {
   "cell_type": "code",
   "execution_count": 10,
   "metadata": {},
   "outputs": [
    {
     "data": {
      "text/plain": [
       "3.141592653589793"
      ]
     },
     "execution_count": 10,
     "metadata": {},
     "output_type": "execute_result"
    }
   ],
   "source": [
    "from math import pi\n",
    "pi"
   ]
  },
  {
   "cell_type": "code",
   "execution_count": 11,
   "metadata": {},
   "outputs": [
    {
     "data": {
      "text/plain": [
       "'pi = 3.1416'"
      ]
     },
     "execution_count": 11,
     "metadata": {},
     "output_type": "execute_result"
    }
   ],
   "source": [
    "\"pi = {:.4f}\".format(pi) #zaokrągla"
   ]
  },
  {
   "cell_type": "code",
   "execution_count": 12,
   "metadata": {},
   "outputs": [
    {
     "data": {
      "text/plain": [
       "'pi = 3.14'"
      ]
     },
     "execution_count": 12,
     "metadata": {},
     "output_type": "execute_result"
    }
   ],
   "source": [
    "\"pi = {:.2f}\".format(pi)"
   ]
  },
  {
   "cell_type": "markdown",
   "metadata": {},
   "source": [
    "<h3> Argumenty kluczowe </h3>"
   ]
  },
  {
   "cell_type": "code",
   "execution_count": 17,
   "metadata": {},
   "outputs": [
    {
     "data": {
      "text/plain": [
       "'Jan otrzymał ocenę 4.5'"
      ]
     },
     "execution_count": 17,
     "metadata": {},
     "output_type": "execute_result"
    }
   ],
   "source": [
    "\"{imie} otrzymał ocenę {ocena:.1f}\".format(imie=\"Jan\", ocena=4.5)"
   ]
  },
  {
   "cell_type": "markdown",
   "metadata": {},
   "source": [
    "<h2> Operacje na plikach </h2>"
   ]
  },
  {
   "cell_type": "markdown",
   "metadata": {},
   "source": [
    "Do otiwerania plików służy wbudowana funkcja open. Przyjmuje wiele postaci, najważniejsze opcje to open(file, mode), gdzie:\n",
    "\n",
    "<ul>\n",
    "    <li>file - nazwa pliku, ścieżka</li>\n",
    "    <li>mode - tryb (odczytywanie czy zapis) </li>\n",
    "</ul>\n"
   ]
  },
  {
   "cell_type": "code",
   "execution_count": 20,
   "metadata": {},
   "outputs": [],
   "source": [
    "plik = open('cw4_tekst.txt','r') #r-odczyt"
   ]
  },
  {
   "cell_type": "markdown",
   "metadata": {},
   "source": [
    "r - odczyt, w - zapis, a - zapis do końca pliku"
   ]
  },
  {
   "cell_type": "code",
   "execution_count": 21,
   "metadata": {},
   "outputs": [
    {
     "data": {
      "text/plain": [
       "<_io.TextIOWrapper name='cw4_tekst.txt' mode='r' encoding='cp1250'>"
      ]
     },
     "execution_count": 21,
     "metadata": {},
     "output_type": "execute_result"
    }
   ],
   "source": [
    "plik"
   ]
  },
  {
   "cell_type": "markdown",
   "metadata": {},
   "source": [
    "Plik po zakończonej pracy trzeb zamknąć. Można:"
   ]
  },
  {
   "cell_type": "code",
   "execution_count": 22,
   "metadata": {},
   "outputs": [],
   "source": [
    "plik.close()"
   ]
  },
  {
   "cell_type": "markdown",
   "metadata": {},
   "source": [
    "Wygodne jest otwarcie pliku tymczasowego za pomocą polecenia with"
   ]
  },
  {
   "cell_type": "code",
   "execution_count": 26,
   "metadata": {},
   "outputs": [
    {
     "name": "stdout",
     "output_type": "stream",
     "text": [
      "<_io.TextIOWrapper name='cw4_tekst.txt' mode='r' encoding='cp1250'>\n"
     ]
    }
   ],
   "source": [
    "with open('cw4_tekst.txt','r') as plik:\n",
    "    print(plik)\n",
    "    #tu plik jest otwarty\n",
    "#a tu już zamknięty"
   ]
  },
  {
   "cell_type": "code",
   "execution_count": 28,
   "metadata": {},
   "outputs": [
    {
     "ename": "UnsupportedOperation",
     "evalue": "not writable",
     "output_type": "error",
     "traceback": [
      "\u001b[1;31m---------------------------------------------------------------------------\u001b[0m",
      "\u001b[1;31mUnsupportedOperation\u001b[0m                      Traceback (most recent call last)",
      "\u001b[1;32m<ipython-input-28-4e0e93034b62>\u001b[0m in \u001b[0;36m<module>\u001b[1;34m\u001b[0m\n\u001b[0;32m      1\u001b[0m \u001b[1;32mwith\u001b[0m \u001b[0mopen\u001b[0m\u001b[1;33m(\u001b[0m\u001b[1;34m'cw4_tekst.txt'\u001b[0m\u001b[1;33m,\u001b[0m\u001b[1;34m'r'\u001b[0m\u001b[1;33m)\u001b[0m \u001b[1;32mas\u001b[0m \u001b[0mplik\u001b[0m\u001b[1;33m:\u001b[0m\u001b[1;33m\u001b[0m\u001b[1;33m\u001b[0m\u001b[0m\n\u001b[1;32m----> 2\u001b[1;33m     \u001b[0mplik\u001b[0m\u001b[1;33m.\u001b[0m\u001b[0mwrite\u001b[0m\u001b[1;33m(\u001b[0m\u001b[1;34m\"Dodatkowa linia1\"\u001b[0m\u001b[1;33m)\u001b[0m \u001b[1;31m#zapis jest możliwy tylko w trybie w\u001b[0m\u001b[1;33m\u001b[0m\u001b[1;33m\u001b[0m\u001b[0m\n\u001b[0m",
      "\u001b[1;31mUnsupportedOperation\u001b[0m: not writable"
     ]
    }
   ],
   "source": [
    "with open('cw4_tekst.txt','r') as plik:\n",
    "    plik.write(\"Dodatkowa linia1\") #zapis jest możliwy tylko w trybie w"
   ]
  },
  {
   "cell_type": "code",
   "execution_count": 30,
   "metadata": {},
   "outputs": [],
   "source": [
    "with open('cw4_tekst.txt','w') as plik:\n",
    "    plik.write(\"Dodatkowa linia1\") #zapis jest możliwy tylko w trybie w"
   ]
  },
  {
   "cell_type": "markdown",
   "metadata": {},
   "source": [
    "Odczyt możliwy jest za pomocą poleceń readline(), readlines() lub read() oraz za pomocą pętli for"
   ]
  },
  {
   "cell_type": "code",
   "execution_count": 34,
   "metadata": {},
   "outputs": [
    {
     "name": "stdout",
     "output_type": "stream",
     "text": [
      "Jakis tekst\n",
      "\n"
     ]
    }
   ],
   "source": [
    "with open('cw4_tekst.txt','r') as plik:\n",
    "    print(plik.readline()) #odczyt jednej lini"
   ]
  },
  {
   "cell_type": "code",
   "execution_count": 36,
   "metadata": {},
   "outputs": [
    {
     "name": "stdout",
     "output_type": "stream",
     "text": [
      "['Jakis tekst\\n', 'jakis tekst znowu\\n', 'i tekst znowu\\n', 'i tak dalej']\n"
     ]
    }
   ],
   "source": [
    "with open('cw4_tekst.txt','r') as plik:\n",
    "    print(plik.readlines()) #odczyt wszystkich linii z rozbiciem na linie"
   ]
  },
  {
   "cell_type": "code",
   "execution_count": 38,
   "metadata": {},
   "outputs": [
    {
     "name": "stdout",
     "output_type": "stream",
     "text": [
      "Jakis tekst\n",
      "jakis tekst znowu\n",
      "i tekst znowu\n",
      "i tak dalej\n"
     ]
    }
   ],
   "source": [
    "with open('cw4_tekst.txt','r') as plik:\n",
    "    print(plik.read()) #odczyt całego pliku"
   ]
  },
  {
   "cell_type": "code",
   "execution_count": 40,
   "metadata": {},
   "outputs": [
    {
     "name": "stdout",
     "output_type": "stream",
     "text": [
      "Jakis tekst\n",
      "\n",
      "jakis tekst znowu\n",
      "\n",
      "i tekst znowu\n",
      "\n",
      "i tak dalej\n"
     ]
    }
   ],
   "source": [
    "with open('cw4_tekst.txt','r') as plik:\n",
    "    for line in plik:\n",
    "        print(line) # tu można coś robić"
   ]
  },
  {
   "cell_type": "code",
   "execution_count": 49,
   "metadata": {},
   "outputs": [
    {
     "data": {
      "text/plain": [
       "{'', 'Ala', 'Bożena', 'kot', 'kota', 'ma', 'psa'}"
      ]
     },
     "execution_count": 49,
     "metadata": {},
     "output_type": "execute_result"
    }
   ],
   "source": [
    "unikalne_slowa = []\n",
    "with open('cw4_tekst2.txt','r') as plik:\n",
    "    for line in plik:\n",
    "        linijka = line.split(',')\n",
    "        for element in linijka:\n",
    "            unikalne_slowa.append(element.replace('\\n',''))\n",
    "set(unikalne_slowa)"
   ]
  },
  {
   "cell_type": "code",
   "execution_count": null,
   "metadata": {},
   "outputs": [],
   "source": []
  }
 ],
 "metadata": {
  "kernelspec": {
   "display_name": "Python 3",
   "language": "python",
   "name": "python3"
  },
  "language_info": {
   "codemirror_mode": {
    "name": "ipython",
    "version": 3
   },
   "file_extension": ".py",
   "mimetype": "text/x-python",
   "name": "python",
   "nbconvert_exporter": "python",
   "pygments_lexer": "ipython3",
   "version": "3.7.1"
  }
 },
 "nbformat": 4,
 "nbformat_minor": 2
}

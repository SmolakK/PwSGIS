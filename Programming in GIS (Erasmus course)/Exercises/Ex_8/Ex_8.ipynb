{
 "cells": [
  {
   "cell_type": "markdown",
   "metadata": {},
   "source": [
    "<h1> Excersises 8 - Programming continues </h1>\n",
    "\n",
    "<h3> Modyfing data </h3>"
   ]
  },
  {
   "cell_type": "markdown",
   "metadata": {},
   "source": [
    "Lastly we have loaded data layers, did selection on them and we accessed attributes of vector and raster layers. \n",
    "\n",
    "Today we will edit parameters and values of object of vector layers."
   ]
  },
  {
   "cell_type": "markdown",
   "metadata": {},
   "source": [
    "We will work on exemplay vector layer. Reminder: to access currently loaded layer:"
   ]
  },
  {
   "cell_type": "code",
   "execution_count": null,
   "metadata": {},
   "outputs": [],
   "source": [
    "#Has to be selected in a layer list window!\n",
    "warstwa = iface.activeLayer()"
   ]
  },
  {
   "cell_type": "markdown",
   "metadata": {},
   "source": [
    "Changes and modifications are not visible until refreshed. To refresh a layer to see changes on the map canvas:"
   ]
  },
  {
   "cell_type": "code",
   "execution_count": null,
   "metadata": {},
   "outputs": [],
   "source": [
    "#refreshibg\n",
    "warstwa.triggerRepaint() #by layer\n",
    "#OR\n",
    "iface.mapCanvas().refresh() #by interface"
   ]
  },
  {
   "cell_type": "markdown",
   "metadata": {},
   "source": [
    "<h3> Adding new objects </h3>\n",
    "\n",
    "We assume working on a vector layer with LineString type of data (lines). Such a file was attachet to excersise files.\n",
    "\n",
    "Each object (QgsFeature) of the vector layer (QgsVectorLayer) has:\n",
    "<ul>\n",
    "    <li> Attributes (QgsField) </li>\n",
    "    <li> Geometry (QgsGeometry) </li>\n",
    "</ul>\n",
    "\n",
    "When creating new object both have to be set.\n",
    "\n",
    "First we create an empty new object:"
   ]
  },
  {
   "cell_type": "code",
   "execution_count": null,
   "metadata": {},
   "outputs": [],
   "source": [
    "feat = QgsFeature(warstwa.fields()) #initilizing new QgsFeature object, fields of a layer are the parametres"
   ]
  },
  {
   "cell_type": "markdown",
   "metadata": {},
   "source": [
    "It is not assigned to the layer yet, we will do it later. First it has to be given attributes' values and geometry:"
   ]
  },
  {
   "cell_type": "code",
   "execution_count": null,
   "metadata": {},
   "outputs": [],
   "source": [
    "feat.setAttributes([0, 60]) #adding attributes, this layer has to attributes of int type\n",
    "#OR\n",
    "feat.setAttribute(0,60) #if we are adding only one row"
   ]
  },
  {
   "cell_type": "markdown",
   "metadata": {},
   "source": [
    "Now we create geometry:"
   ]
  },
  {
   "cell_type": "code",
   "execution_count": null,
   "metadata": {},
   "outputs": [],
   "source": [
    "#Line from two points. First we create two objects of QgsPoint type - see description below:\n",
    "line_start = QgsPoint(15.74,50.89)\n",
    "line_end = QgsPoint(15.73,50.91)"
   ]
  },
  {
   "cell_type": "markdown",
   "metadata": {},
   "source": [
    "QgsGeometry is a class of geometry, which can be points, line or polygons. Most oftenly geometry is build from series of points (either points, lines or polygons). For that we use([new class here!]) QgsPoint:\n",
    "\n",
    "    QgsPoint(x,y)\n",
    "\n",
    "After, we use on of the methods that create QgsGeometry from QgsPoints .from __geometria__, that is:\n",
    " \n",
    "    fromPolyline, fromPolygonXY, fromPointXY or fromWKT - that is WKT type of data"
   ]
  },
  {
   "cell_type": "code",
   "execution_count": null,
   "metadata": {},
   "outputs": [],
   "source": [
    "feat.setGeometry(QgsGeometry.fromPolyline([line_start,line_end]))"
   ]
  },
  {
   "cell_type": "markdown",
   "metadata": {},
   "source": [
    "And we add it to the layer now. For that we are sing the dataProvider class, which is always used for all the operations of adding, deleting and editing objects of a layer (more about it below):"
   ]
  },
  {
   "cell_type": "code",
   "execution_count": null,
   "metadata": {},
   "outputs": [],
   "source": [
    "warstwa.dataProvider().addFeatures([feat]) #wee add the feature to the layer"
   ]
  },
  {
   "cell_type": "markdown",
   "metadata": {},
   "source": [
    "Besides QgsPoints, geometry can be build from WKT, which is much easier, because EVERY type of can be written in that file format."
   ]
  },
  {
   "cell_type": "markdown",
   "metadata": {},
   "source": [
    "<h3> WKT - Well-known text representation of geometry </h3>\n",
    "\n",
    "It allows to define many types of geometry, including:\n",
    "\n",
    "    Point (single), MultiPoint (collection of Points),\n",
    "    LineString (single), MultiLineString (collection of Lines),\n",
    "    Polygon (singlle), MultiPolygon (collection of Polygons).\n",
    "\n",
    "Definition of a geometry:\n",
    "\n",
    "    Nazwa (x y)\n",
    "\n",
    "Point:\n",
    "\n",
    "    POINT (10 30) - Point with coordinates x=10 i y = 30\n",
    "\n",
    "Line:\n",
    "\n",
    "    LINESTRING (30 10, 10 30) - a simple straight line of coordinates of first vertex: X = 30, Y = 10 second vertex: X = 10, Y = 30\n",
    "\n",
    "    LINESTRING (30 10, 10 30, 40 40) - line consisting of three points.\n",
    "    \n",
    "Polygon:\n",
    "\n",
    "    POLYGON ((30 10, 40 40, 20 20, 10 20, 30 10))\n",
    "    \n",
    "    POLYGON ((35 10, 45 45, 15 40, 10 20, 35 10), (20 30, 35 35, 30 20, 20 30))\n",
    "    \n",
    "    The first and the last points is repeating because polygon has to has close geometry (so the example has three vertices.\n",
    "    \n",
    "    Double pharenteses allow for adding a \"hole\" in the geometry (as in the second example).\n",
    "    \n",
    "\n",
    "Other examples are pretty well-explained on Wikipedia:\n",
    "\n",
    "    https://en.wikipedia.org/wiki/Well-known_text_representation_of_geometry\n",
    "    \n",
    "<h3> WKB - Well-known binary </h3>\n",
    "\n",
    "Binary equivalent of WKT. Faster for reading and writing, but not readable."
   ]
  },
  {
   "cell_type": "markdown",
   "metadata": {},
   "source": [
    "<b> Excersise: </b> Try to realize above geometry (of lineString) using WKT. WKT is written as a text \" \". Use command .fromWKT()"
   ]
  },
  {
   "cell_type": "code",
   "execution_count": null,
   "metadata": {},
   "outputs": [],
   "source": []
  }
 ],
 "metadata": {
  "kernelspec": {
   "display_name": "Python 3",
   "language": "python",
   "name": "python3"
  },
  "language_info": {
   "codemirror_mode": {
    "name": "ipython",
    "version": 3
   },
   "file_extension": ".py",
   "mimetype": "text/x-python",
   "name": "python",
   "nbconvert_exporter": "python",
   "pygments_lexer": "ipython3",
   "version": "3.7.1"
  }
 },
 "nbformat": 4,
 "nbformat_minor": 2
}

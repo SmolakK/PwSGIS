{
 "cells": [
  {
   "cell_type": "code",
   "execution_count": 8,
   "metadata": {},
   "outputs": [
    {
     "name": "stdout",
     "output_type": "stream",
     "text": [
      "{'k', 'l', 'c', 'p', 'h', 'x', 'n', 'a', 'q', 'm', 'v', 'g', 'w', 'j', 'f', 'b', 't', 'u', 'i', 'y', 's', 'o', 'd', 'z', 'e', 'r'}\n",
      "Tekst jest pangramem.\n"
     ]
    }
   ],
   "source": [
    "#Zadanie 1\n",
    "from string import ascii_lowercase as asc_lower\n",
    "\n",
    "tekst = \"Jackdaws love my big sphinx of quartz\"\n",
    "tekst1 = \"Jinxed wizards pluck ivy from the big quilt\"\n",
    "\n",
    "tekst2 = \"Curled thyme descends from the top of the quarry\"\n",
    "\n",
    "\n",
    "def pangram(tekst2):\n",
    "    print(set(tekst.low))\n",
    "    return set(asc_lower) - set(tekst.lower()) == set([])\n",
    "\n",
    "if(pangram(tekst)==True):\n",
    "    print(\"Tekst jest pangramem.\")\n",
    "else:\n",
    "    print(\"Tekst nie jest pangramem.\")\n",
    "    "
   ]
  },
  {
   "cell_type": "code",
   "execution_count": 73,
   "metadata": {},
   "outputs": [
    {
     "name": "stdout",
     "output_type": "stream",
     "text": [
      "python\n"
     ]
    }
   ],
   "source": [
    "#Zadanie 2\n",
    "import string\n",
    "literki = string.ascii_lowercase\n",
    "\n",
    "test = \"owqdjh\"\n",
    "\n",
    "nowy = \"\"\n",
    "for n in test:\n",
    "    nowy += literki[literki.index(n)+test.index(n)+1] \n",
    "     \n",
    "print(nowy)"
   ]
  },
  {
   "cell_type": "code",
   "execution_count": 74,
   "metadata": {},
   "outputs": [
    {
     "name": "stdout",
     "output_type": "stream",
     "text": [
      "18\n"
     ]
    },
    {
     "data": {
      "text/plain": [
       "2"
      ]
     },
     "execution_count": 74,
     "metadata": {},
     "output_type": "execute_result"
    }
   ],
   "source": [
    "#Zadanie 3\n",
    "class klasa():\n",
    "    \n",
    "    \n",
    "    def __init__(self, a, b):\n",
    "        self.a = a\n",
    "        self.b = b\n",
    "        \n",
    "    def iloczyn(self):\n",
    "        return self.a * self.b\n",
    "    \n",
    "    def iloraz(self):\n",
    "        return self.a / self.b\n",
    "        \n",
    "    def __str__(self): \n",
    "        return \"{}\".format(str(self.iloczyn()))\n",
    "    \n",
    "    def __repr__(self):\n",
    "        return \"{}\".format(str(self.iloraz()))\n",
    "\n",
    "liczby = klasa(6,3)\n",
    "print(liczby)\n",
    "liczby"
   ]
  },
  {
   "cell_type": "code",
   "execution_count": null,
   "metadata": {},
   "outputs": [],
   "source": []
  },
  {
   "cell_type": "code",
   "execution_count": null,
   "metadata": {},
   "outputs": [],
   "source": []
  }
 ],
 "metadata": {
  "kernelspec": {
   "display_name": "Python 3",
   "language": "python",
   "name": "python3"
  },
  "language_info": {
   "codemirror_mode": {
    "name": "ipython",
    "version": 3
   },
   "file_extension": ".py",
   "mimetype": "text/x-python",
   "name": "python",
   "nbconvert_exporter": "python",
   "pygments_lexer": "ipython3",
   "version": "3.7.1"
  }
 },
 "nbformat": 4,
 "nbformat_minor": 2
}

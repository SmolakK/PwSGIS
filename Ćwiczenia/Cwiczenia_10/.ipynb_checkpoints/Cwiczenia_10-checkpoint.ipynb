{
 "cells": [
  {
   "cell_type": "markdown",
   "metadata": {},
   "source": [
    "<h2> Ćwiczenia 8 - Projekt końcowy </h2>\n",
    "\n",
    "Do końca ćwiczeń pozostało nam pięć spotkań - z dzisiejszym włącznie. Najwyższa pora zacząć budowanie własnej wtyczki QGIS. Efektem tych prac powinna być działająca wtyczka o zadanej funkcjonalności. \n",
    "\n",
    "Wtyczka realizowana ma być w parach (zatem 4 grupy) i jest ostatnim zadaniem do realizacji na tym przedmiocie. Wtyczkę należy przesłać przed 15.06, tak żebym jeszcze mógł ją sprawdzić przed ostatnimi ćwiczeniami.\n",
    "\n",
    "Przesłać będzie zatem trzeba cały folder, który po umieszczeniu w lokalizacji wtyczek QGIS3 zostanie odczytany jako wtyczka dostępna do uruchomienia w QGIS.\n",
    "\n",
    "<i> Równocześnie przypominam o kolokwium 25.05.2020 - niezależnie od tego czy zajęcia w formie stacjonarnej zostaną do tego czasu wznowione czy też nie, kolokwium odbędzie się w formie zdalnej."
   ]
  },
  {
   "cell_type": "markdown",
   "metadata": {},
   "source": [
    "<h3> Projekt grupowy - zasady i organizacja </h3>"
   ]
  },
  {
   "cell_type": "markdown",
   "metadata": {},
   "source": [
    "Zasady:\n",
    "\n",
    "    Projekt realizujemy w parach;\n",
    "    Projekt ma być przesłany przed 15.06, na ostatnich ćwiczeniach będzie czas na poprawki;\n",
    "    \n",
    "    Wtyczka ma realizować jeden z podanych tematów, w komentarzu ogólnym do listy zadań proszę podać temat (np. 1b) i osoby, które dany temat wybrały do realizacji. Tematy nie mogą się powtarzać;\n",
    "    \n",
    "    Istnieje dowolność zaproponowania własnego tematu, który należy najpierw ze mną skonsultować (można na Google Classroom, można na maila);\n",
    "    \n",
    "    Wtyczkę należy przesłać jako cały folder, który zostanie zinterpretowany jako wtyczka do QGISa.\n",
    "    \n",
    "Poza wymaganiem realizacji tematu wtyczki, każda wtyczka musi implementować poniższe minimalne wymagania:\n",
    "    \n",
    "    Wtyczka musi być zaprojektowana w QtDesigner;\n",
    "    \n",
    "    Wtyczka musi być wybieralna z menu QGISa, może być jako ikona na pasku lub z rozwijalnego menu;\n",
    "    \n",
    "    W każdej wtyczce należy umieścić przynajmniej trzy różne widżety, które mają oprogramowaną funkcjonalność na zasadzie interakcji z użytkownikiem (zatem nie liczą się wszelkiego rodzaju widżety organizujące układ przycisków itp.);\n",
    "    \n",
    "    Należy oprogramować przynajmniej dwie interakcje pomiędzy widżetami - na przykład przenoszenie ścieżki pliku do linii edycji lub blokowanie przycisku, gdy na przykład nie wczytano jeszcze danych;\n",
    "    \n",
    "    Należy zaprogramować pojawianie się wiadomości na pasku lub w oknie, która przedstawia jakąś informację związaną z procesem (na przykład \"zakończono pomyślnie!\") - o programowaniu takich wiadomości powiem na następnym wykładzie.\n"
   ]
  },
  {
   "cell_type": "markdown",
   "metadata": {},
   "source": [
    "<h3> Tematy do wyboru </h3>\n",
    "\n",
    "Poniżej znajduje się 12 tematów do wyboru, należy wybrać jeden.\n",
    "\n",
    "    1. Narzędzie służące do rysowania elips w oparciu o:\n",
    "    \n",
    "        1a. Podane w oknie parametry (można wybrać jeden z wielu sposobów definiowania elipsy): współrzędne środka, dłuższa półoś, krótsza półoś, ekscentryczność, współrzędne ogniskowych itp.\n",
    "        \n",
    "        1b. Podane parametry, z których część (jak np. współrzędne środka) będą wprowadzane poprzez kliknięcie użytkownika na mapę [funkcjonalność wyboru obiektów na mapie w czasie działania wtyczki zostanie przedstawiona na następnym wykładzie]\n",
    "        \n",
    "    2. Narzędzie do rysowania krzywych na podstawie trzech wybranych punktów.\n",
    "    \n",
    "    3. Narzędzie pozwalające na wygodną zmianę koloru zaznaczenia obiektów oraz koloru tła (z wykorzystaniem widżetu QColorDialog Class).\n",
    "    \n",
    "    4. Narzędzie pozwalające na zmianę stylizacji globalne - tj. dla wszystkich wczytanych obecnie warstw do QGISa. Minimalne wymagania to zmiana dwóch parametrów - np. grubości linii i koloru każdej warstwy.\n",
    "    \n",
    "    5. Narzędzie pozwalające na transformację i załadowanie do QGISa wybranych obiektów na warstwie wektorowej do układu wprowadzonego przez użytkownika w formie kodu EPSG. Opcjonalnie można umożliwić również otwarcie okna do wyboru układu współrzędnych.\n",
    "    \n",
    "    6. Narzędzie służące do obliczenia statystyk zaznaczonych obiektów dla jednego WYBRANEGO typu warstwy:\n",
    "    \n",
    "        6a. Dla wieloboków: Sumarycznego pola powierzchni, średniego pola powierzchni oraz odchylenia standardowego w wybranej z listy rozwijalnej jednostce powierzchni.\n",
    "        \n",
    "        6b. Dla linii: sumarycznej długości, średnej długości i odchylenia standradowego długości w wybranej z listy rozwijalnej jednostce długości.\n",
    "        \n",
    "    7. Narzędzie pozwalające na wykonanie operacji na geometrii (minimum dwóch) wybieranej z listy dla wybranych obiektów - mogą zwaracać geometrię lub wartość logiczną.\n",
    "    \n",
    "    8. Narzędzie do generowania losowych geometrii gdzie użytkownik może podać - zakres współrzędnych w których można generować, liczbę obiektów do wygenerowania oraz:\n",
    "    \n",
    "        8a. Opcja 1: narzędzie ma generować punkty, wtedy tylko dwa powyższe parametry;\n",
    "        \n",
    "        8b. Opcja 2: narzędzie ma generować linie, wtedy minimalnie jeden dodatkowy parametr - np. liczba wierzchołków linii lub jej długość\n",
    "        \n",
    "        8c. Opcja 3: narzędzie ma generować wieloboki, wtedy minimalnie jeden dodatkowy parametr - np. liczba wierzchołków lub pole powierzchni"
   ]
  },
  {
   "cell_type": "markdown",
   "metadata": {},
   "source": [
    "<h3> Organizacja ćwiczeń i wykładów </h3>\n",
    "\n",
    "Część niezbędnych elementów do realizacji niektórych tematów przedstawię na wykładzie za tydzień (dotyczy głównie tematów 1b, 2, 3, 4, 8). Do tego czasu proszę skupić się na zaimplementowaniu działającej \"pustej\" wtyczki jak przedstawiono na wykładzie 5.\n",
    "\n",
    "Pozostałe od dziś ćwiczenia przeznaczone są na realizację projektu końcowego. \n",
    "\n",
    "W ramach wsparcia realizacji zadania proponuję również następującą formę - w razie problemów, pytań i niejansości proszę pisać komentarze na portalu Google Clasrooms, a odpowiedzi zamieszczę w porze ćwiczeń z tego przedmiotu jako Jupyter Notebook tłumaczący dane zagadnienie z przykładami. "
   ]
  },
  {
   "cell_type": "markdown",
   "metadata": {},
   "source": [
    "<b> Tematy należy wybrać do 25.05 </b>. Obowiązuje zasada pierwszeństwa."
   ]
  },
  {
   "cell_type": "markdown",
   "metadata": {},
   "source": [
    "<h1> Powodzenia! </h1>"
   ]
  },
  {
   "cell_type": "code",
   "execution_count": null,
   "metadata": {},
   "outputs": [],
   "source": []
  }
 ],
 "metadata": {
  "kernelspec": {
   "display_name": "Python 3",
   "language": "python",
   "name": "python3"
  },
  "language_info": {
   "codemirror_mode": {
    "name": "ipython",
    "version": 3
   },
   "file_extension": ".py",
   "mimetype": "text/x-python",
   "name": "python",
   "nbconvert_exporter": "python",
   "pygments_lexer": "ipython3",
   "version": "3.7.4"
  }
 },
 "nbformat": 4,
 "nbformat_minor": 2
}

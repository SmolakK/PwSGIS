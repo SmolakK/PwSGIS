{
 "cells": [
  {
   "cell_type": "markdown",
   "metadata": {},
   "source": [
    "<center><h1> Lista zadań podsumowująca moduły 1 i 2 <h1><center>\n",
    "    "
   ]
  },
  {
   "cell_type": "markdown",
   "metadata": {},
   "source": [
    "Zad. 1. Napisz grę w kamień papier nożyce, w której będzie przyjmowany input() od użytkownika, który grać będzie przeciwko komputerowi. Zaproponuj strategię gry komputera."
   ]
  },
  {
   "cell_type": "markdown",
   "metadata": {},
   "source": [
    "Zad 2. Stwórz generator haseł jako funkcję. Jako parametr ustaw liczbę znaków oraz siłę hasła. Hasła słabe powinny wybierać słowa z podanej listy, średnie powinny losować dowolne litery, hasła mocne litery, ich wielkości, znaki specjalne i cyfry.\n",
    "\n",
    "Zapisuj wygenerowane hasło do pliku txt o nazwie odpowiednio moje_slabe_haslo, moje_srednie_haslo, moje_mocne_haslo"
   ]
  },
  {
   "cell_type": "markdown",
   "metadata": {},
   "source": [
    "Zad 3. Napisz grę w byki i krowy:\n",
    "    \n",
    "    Losowo generuj 4 cyfrową liczbę.\n",
    "    Każ zgadnąć użytkownikowi tę liczbę.\n",
    "    Każda cyfra która znajduje się dobrym miejscu (jak w wygenerowanej liczbie) jest \"krową\".\n",
    "    Każda cyfra, która znajduje się w złym miejscu, ale znajduje się w liczbie jest \"bykiem\".\n",
    "    Ogranicz liczbę szans do np. 10, wyświetla informację o liczbie byków i krów, kończ grę gdy użytkownik zgadnie liczbę i podaj liczbę szans, którą potrzebował na ukończenie gry\n",
    "    \n",
    "    Przykładowo:\n",
    "    >>>> komputer losuje liczbę 1038\n",
    "    >>>> uzytkownik zgaduje 1234\n",
    "    2 krowy, 0 byków\n",
    "    >>>> użytkownik zgaduje 1289\n",
    "    1 krowa, 1 byk\n",
    "    "
   ]
  },
  {
   "cell_type": "code",
   "execution_count": null,
   "metadata": {},
   "outputs": [],
   "source": []
  }
 ],
 "metadata": {
  "kernelspec": {
   "display_name": "Python 3",
   "language": "python",
   "name": "python3"
  },
  "language_info": {
   "codemirror_mode": {
    "name": "ipython",
    "version": 3
   },
   "file_extension": ".py",
   "mimetype": "text/x-python",
   "name": "python",
   "nbconvert_exporter": "python",
   "pygments_lexer": "ipython3",
   "version": "3.7.4"
  }
 },
 "nbformat": 4,
 "nbformat_minor": 2
}

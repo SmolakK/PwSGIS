{
 "cells": [
  {
   "cell_type": "markdown",
   "metadata": {},
   "source": [
    "<h2> List 3 </h2>"
   ]
  },
  {
   "cell_type": "markdown",
   "metadata": {},
   "source": [
    "Ex 1. Write a \"Vector\" class which supports vectors behavior (2D Vectors). Use magic methods for object reprezentation  (__str__ i __repr__) and adding, subtracting, multiplying (by scalar and vector - use an if condition to force fową by wymusić polimorficzność funkcji). Pamiętaj o enkapsulacji i dokumentacji.\n",
    "\n",
    "LUB\n",
    "\n",
    "Coś własnego pomysłu! Napisz własny zestaw klas, który zawierać się będzie(ą) przynajmniej:\n",
    "<ul>\n",
    "    <li> Jedno dziedziczenie </li>\n",
    "    <li> Dwie metody magiczne (nie licząc str i repr!) </li>\n",
    "    <li> Trzy metody </li>\n",
    "    <li> Cztery atrybuty </li>\n",
    "</ul>\n",
    "Pamiętaj o enkapsulacji i dokumentacji."
   ]
  }
 ],
 "metadata": {
  "kernelspec": {
   "display_name": "Python 3",
   "language": "python",
   "name": "python3"
  },
  "language_info": {
   "codemirror_mode": {
    "name": "ipython",
    "version": 3
   },
   "file_extension": ".py",
   "mimetype": "text/x-python",
   "name": "python",
   "nbconvert_exporter": "python",
   "pygments_lexer": "ipython3",
   "version": "3.7.4"
  }
 },
 "nbformat": 4,
 "nbformat_minor": 2
}

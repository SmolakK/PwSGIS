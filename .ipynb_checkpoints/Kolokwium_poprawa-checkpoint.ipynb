{
 "cells": [
  {
   "cell_type": "markdown",
   "metadata": {},
   "source": [
    "Zad 1. Napisz funkcję, która sprawdza czy podany ciąg znaków jest pangramem. Pomiń polskie znaki. Przetestuj działanie na:\n",
    "\n",
    "\"Jackdaws love my big sphinx of quartz\"\n",
    "\n",
    "\"Jinxed wizards pluck ivy from the big quilt\"\n",
    "\n",
    "\"Curled thyme descends from the top of the quarry\""
   ]
  },
  {
   "cell_type": "markdown",
   "metadata": {},
   "source": [
    "Zad 2. Napisz deszyfrator, który dekoduje zdania w ten sposób, że każda litera w zdaniu jest zamieniana na odległą jej w alfabecie o 'n', gdzie 'n' to pozycja litery w zdaniu. Na przykład 'abc' jest zamienione na:\n",
    "\n",
    "a o 1 do przodu -> b\n",
    "\n",
    "b o 2 do przodu -> d\n",
    "\n",
    "c o 3 do przodu -> f\n",
    "\n",
    "Przetestuj kod na słowie \"owqdjh\""
   ]
  },
  {
   "cell_type": "markdown",
   "metadata": {},
   "source": [
    "Zad 3. Napisz klasę, która przymuje dwie wartości. W przypadku gdy ją wyświetlamy za pomocą polecenia print(), zwraca ona iloczyn tych liczb. Kiedy ją wywołujemy zwraca ich iloraz."
   ]
  },
  {
   "cell_type": "code",
   "execution_count": null,
   "metadata": {},
   "outputs": [],
   "source": []
  }
 ],
 "metadata": {
  "kernelspec": {
   "display_name": "Python 3",
   "language": "python",
   "name": "python3"
  },
  "language_info": {
   "codemirror_mode": {
    "name": "ipython",
    "version": 3
   },
   "file_extension": ".py",
   "mimetype": "text/x-python",
   "name": "python",
   "nbconvert_exporter": "python",
   "pygments_lexer": "ipython3",
   "version": "3.7.1"
  }
 },
 "nbformat": 4,
 "nbformat_minor": 2
}

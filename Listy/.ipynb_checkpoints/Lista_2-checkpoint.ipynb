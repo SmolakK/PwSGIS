{
 "cells": [
  {
   "cell_type": "markdown",
   "metadata": {},
   "source": [
    "<center><h1> Lista zadań podsumowująca moduły 1, 2 i 3<h1><center>\n",
    "    "
   ]
  },
  {
   "cell_type": "markdown",
   "metadata": {},
   "source": [
    "Zad. 1. Napisz grę w kamień papier nożyce, w której będzie przyjmowany input() od użytkownika, który grać będzie przeciwko komputerowi. Zaproponuj strategię gry komputera."
   ]
  },
  {
   "cell_type": "markdown",
   "metadata": {},
   "source": [
    "Zad 2. Stwórz generator haseł jako funkcję. Jako parametr ustaw liczbę znaków oraz siłę hasła. Hasła słabe powinny wybierać słowa z podanej listy, średnie powinny losować dowolne litery, hasła mocne litery, ich wielkości, znaki specjalne i cyfry."
   ]
  },
  {
   "cell_type": "markdown",
   "metadata": {},
   "source": [
    "Zad 3. Napisz grę w wisielca. Hasła przechowuj w pliku txt. Użytkownik powinien mieć określoną liczbę szans. Na początku słowo powinno być zastąpione podkreślnikami \"_\" o długości hasła. Na każdą odgadniętą literę, podkreślnik ma być zastąpiony odganiętą literą."
   ]
  },
  {
   "cell_type": "markdown",
   "metadata": {},
   "source": [
    "Zad 4. Napisz funkcję, która spośród dowolnej liczby podanych liczb znajduje te, które są pierwiastkowane bez reszty."
   ]
  },
  {
   "cell_type": "code",
   "execution_count": null,
   "metadata": {},
   "outputs": [],
   "source": []
  }
 ],
 "metadata": {
  "kernelspec": {
   "display_name": "Python 3",
   "language": "python",
   "name": "python3"
  },
  "language_info": {
   "codemirror_mode": {
    "name": "ipython",
    "version": 3
   },
   "file_extension": ".py",
   "mimetype": "text/x-python",
   "name": "python",
   "nbconvert_exporter": "python",
   "pygments_lexer": "ipython3",
   "version": "3.7.1"
  }
 },
 "nbformat": 4,
 "nbformat_minor": 2
}

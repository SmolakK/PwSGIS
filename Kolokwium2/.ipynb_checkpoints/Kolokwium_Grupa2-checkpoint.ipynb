{
 "cells": [
  {
   "cell_type": "markdown",
   "metadata": {},
   "source": [
    "Warstwa \"ślady\" zawiera dane zgromadzone przy pomocy rejestratora GPS - pozycje odczytywane co 10 sekund. W danych zarejestrowana jest jedna wycieczka - częściowo samochodem, częściowo pieszo. Warstwa zawiera kolumny:\n",
    "\n",
    "    INDEX - indeks danych\n",
    "    \n",
    "    TIME - czas rejestracji\n",
    "    \n",
    "    HEIGHT - wysokość punktu n.p.m.\n",
    "    \n",
    "Wykonaj następujące czynności (każda punktowana oddzielnie, może być w jednym skrypcie, każda jako osobna funkcja do wywołania podająca wyniki do konsoli):\n",
    "\n",
    "    1. Wczytaj warstwę za pomocą polecenia do QGISa,\n",
    "    \n",
    "    2. Oblicz całkowity czas trwania wycieczki w sekundach (podpowiedź: zamień godziny na sekundy od północy)\n",
    "    \n",
    "    3. Oblicz całkowitą długość trasy,\n",
    "    \n",
    "    4. Oblicz średnią prędkość (km/h) z jaką poruszał się rejestrator po trasie.\n",
    "    "
   ]
  },
  {
   "cell_type": "code",
   "execution_count": null,
   "metadata": {},
   "outputs": [],
   "source": []
  }
 ],
 "metadata": {
  "kernelspec": {
   "display_name": "Python 3",
   "language": "python",
   "name": "python3"
  },
  "language_info": {
   "codemirror_mode": {
    "name": "ipython",
    "version": 3
   },
   "file_extension": ".py",
   "mimetype": "text/x-python",
   "name": "python",
   "nbconvert_exporter": "python",
   "pygments_lexer": "ipython3",
   "version": "3.7.1"
  }
 },
 "nbformat": 4,
 "nbformat_minor": 2
}

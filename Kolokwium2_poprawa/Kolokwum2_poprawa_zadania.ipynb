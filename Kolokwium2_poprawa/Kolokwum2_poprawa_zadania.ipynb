{
 "cells": [
  {
   "cell_type": "markdown",
   "metadata": {},
   "source": [
    "<center>\n",
    "<h2> Kolokwium 2 - Poprawa </h2>\n",
    "27.05.2019 16:00\n",
    "    </center>"
   ]
  },
  {
   "cell_type": "markdown",
   "metadata": {},
   "source": [
    "Dziś wyjątkowo (żeby oszczędzić Panu Radosławowi pracy) wszystkie rozwiązania w plikach *.py mają zostać wysłane na <b> kamil.smolak@upwr.edu.pl </b>\n",
    "\n",
    "Każdy plik opisz jako:\n",
    "        \n",
    "        imię_nazwisko_numerzadania.py"
   ]
  },
  {
   "cell_type": "markdown",
   "metadata": {},
   "source": [
    "Zad 1. Utwórz funkcję, która doda do mapy warstwę tymczasową, na której znajdzie się punkt o podanych współrzędnych (współrzędne podawane jako argument funkcji)."
   ]
  },
  {
   "cell_type": "markdown",
   "metadata": {},
   "source": [
    "Zad 2. Napisz skrypt, który podczyta warstwę o nazwie \"strefy_ABC_lotnisko.shp\" i transformuje ją do układu WGS84 (EPSG: 4326)\n",
    "\n",
    "Dodatkowy punkt: odczytaj układ warstwy programowo, zamiast wpisywać go ręcznie"
   ]
  },
  {
   "cell_type": "markdown",
   "metadata": {},
   "source": [
    "Zad 3.Wykorzystując znaną już warstwę \"slady.shp\" policz średnią wysokość na jakiej zarejestrowano wszystkie punkty."
   ]
  },
  {
   "cell_type": "markdown",
   "metadata": {},
   "source": [
    "<b> UWAGA: Każde zadanie warte jest 3 punkty. Zaliczenie kolokwium od 5 punktów. </b>"
   ]
  }
 ],
 "metadata": {
  "kernelspec": {
   "display_name": "Python 3",
   "language": "python",
   "name": "python3"
  },
  "language_info": {
   "codemirror_mode": {
    "name": "ipython",
    "version": 3
   },
   "file_extension": ".py",
   "mimetype": "text/x-python",
   "name": "python",
   "nbconvert_exporter": "python",
   "pygments_lexer": "ipython3",
   "version": "3.7.1"
  }
 },
 "nbformat": 4,
 "nbformat_minor": 2
}

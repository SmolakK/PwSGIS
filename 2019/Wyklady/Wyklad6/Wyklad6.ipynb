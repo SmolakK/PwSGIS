{
 "cells": [
  {
   "cell_type": "markdown",
   "metadata": {},
   "source": [
    "<h1> Wykład 6 - Geometrie, obiekty, układy współrzędnych </h1>\n",
    "\n",
    "\n"
   ]
  },
  {
   "cell_type": "markdown",
   "metadata": {},
   "source": [
    "Dotychczas mówiliśmy o klasach:\n",
    "\n",
    "\n",
    "1. QgsProject - klasa projektu\n",
    "\n",
    "2. QgsVectorLayer - klasa warstwy wektorowej\n",
    "\n",
    "3. QgsRaterLayer - klasa warstwy rastrowej\n",
    "\n",
    "4. QgsFeature - klasa obiektu warstwy wektorowej\n",
    "\n",
    "5. QgsField - klasa pola wartości w atrybutach warstwy wektorowej\n",
    "\n",
    "6. QgsGeometry - klasa geometrii obiektu\n",
    "\n",
    "7. iface - odwołanie do klasy interfejsu aplikacji,\n",
    "\n",
    "Klasy geometrii:\n",
    "\n",
    "8. QgsPoint, QgsPointXY,\n",
    "\n",
    "9. QgsPolygonXY\n",
    "\n",
    "10. QgsPolylineXY\n",
    "\n",
    "Istotne metody:\n",
    "\n",
    "    .dataProvider() - wywołanie klasy dostępu do atrybutów i geometrii warstwy"
   ]
  },
  {
   "cell_type": "markdown",
   "metadata": {},
   "source": [
    "Sposoby tworzenia geometrii:\n",
    "\n",
    "    z koordynatów:\n",
    "        \n",
    "        punkt = QgsGeometry.fromPointXY(QgsPointXY(1,1))\n",
    "        \n",
    "        linia = QgsGeometry.fromPolyline([QgsPoint(1,1), QgsPoint(2,2)])\n",
    "        \n",
    "        polygon = QgsGeometry.fromPolygonXY([[QgsPointXY(1,1),QgsPointXY(2,2), QgsPointXY(2,1)]])"
   ]
  },
  {
   "cell_type": "markdown",
   "metadata": {},
   "source": [
    "Różnica między QgsPoint a QgsPointXY jest taka, że pierwsza wspiera wymiar Z lub M"
   ]
  },
  {
   "cell_type": "markdown",
   "metadata": {},
   "source": [
    "Z WKT:\n",
    "\n",
    "gem = QgsGeometry.fromWkt(\"POINT(3 4)\")\n",
    "\n",
    "Z WKB:\n",
    "\n",
    "wkb = bytes.fromhex(\"010100000000000000000045400000000000001440\")\n",
    "g.fromWkb(wkb)\n",
    "\n",
    "Geometrię jako WKT:\n",
    "\n",
    "geometria.asWkt()"
   ]
  },
  {
   "cell_type": "markdown",
   "metadata": {},
   "source": [
    "<h3> Dostęp do geometrii: </h3>\n",
    "\n",
    "    geometria.asPoint()\n",
    "    \n",
    "    geometria.asPolyline()\n",
    "    \n",
    "    geometria.asPolygon()\n",
    "    "
   ]
  },
  {
   "cell_type": "markdown",
   "metadata": {},
   "source": [
    "Porównanie geometri z typami:\n",
    "\n",
    "Wykorzystujemy do tego zapytanie wkbType(), które należy porównać z enumeracją w QgsWkbTypes:\n",
    "\n",
    "    gPnt.wkbType() == QgsWkbTypes.Point\n",
    "    \n",
    "    gLine.wkbType() == QgsWkbTypes.LineString\n",
    "    \n",
    "    gPolygon.wkbType() == QgsWkbTypes.Polygon\n",
    "    \n",
    "    gPolygon.wkbType() == QgsWkbTypes.MultiPolygon"
   ]
  },
  {
   "cell_type": "markdown",
   "metadata": {},
   "source": [
    "<h3> Operatory geometrii </h3>\n",
    "\n",
    "QGIS umożliwa dostęp do operatorów geometrycznych wprost jako metody. Najwazniejsze:\n",
    "\n",
    "    area - zwraca powierzchnię\n",
    "    length - zwraca długość obiektu\n",
    "    centroid - zwraca centroid obiektu\n",
    "    \n",
    "    buffer - tworzy bufor\n",
    "    combine - zwraca sumę obiektów\n",
    "    intersection - zwraca przeciecie obiektow\n",
    "    \n",
    "    compare - porównuje geometrię\n",
    "    contains - sprawdza czy jeden obiekt zawiera drugi\n",
    "    crosses - sprawdza czy jeden obiekt przecina drugi\n",
    "    equal - sprawdza czy obiekty sa takie same\n",
    "    disjoint - sprawdza czy obiekty sa rozlaczne\n",
    "    distance - sprawdza czy obiekty sa w zakresie pewnego dystanu\n",
    "    intersects - sprawdza czy obiekty sie przecinaja\n",
    "    overlaps - sprawdza czy obiekty sie nakladaja\n",
    "    touches - sprawdza czy obiekty sie stykają\n",
    "    within - sprawdza czy obiekt jest zawarty w innym obiekcie"
   ]
  },
  {
   "cell_type": "code",
   "execution_count": null,
   "metadata": {},
   "outputs": [],
   "source": [
    "warstwa = iface.activeLayer()\n",
    "features = [obiekt for obiekt in warstwa.getFeatures()]\n",
    "for x in features:\n",
    "    print(x.geometry().area())\n",
    "    "
   ]
  },
  {
   "cell_type": "code",
   "execution_count": null,
   "metadata": {},
   "outputs": [],
   "source": [
    "warstwa = iface.activeLayer()\n",
    "features = [obiekt for obiekt in warstwa.getFeatures()]\n",
    "for x in features:\n",
    "    print(x.geometry().length())\n",
    "    "
   ]
  },
  {
   "cell_type": "code",
   "execution_count": null,
   "metadata": {},
   "outputs": [],
   "source": [
    "#Z dodaniem warstwy tymczasowej\n",
    "\n",
    "warstwa = iface.activeLayer()\n",
    "features = [obiekt.geometry() for obiekt in warstwa.getFeatures()][:5]\n",
    "nowe = []\n",
    "for x in features:\n",
    "    new_geom = x.buffer(0.0004,-1)\n",
    "    nowe.append(new_geom)\n",
    "    \n",
    "mem_layer = QgsVectorLayer(\"Polygon\",\"Buffer\",\"memory\")\n",
    "pr = mem_layer.dataProvider()\n",
    "for n in range(len(nowe)):\n",
    "    bufor = QgsFeature(n)\n",
    "    bufor.setGeometry(nowe[n])\n",
    "    pr.addFeatures([bufor])\n",
    "QgsProject.instance().addMapLayer(mem_layer)"
   ]
  },
  {
   "cell_type": "markdown",
   "metadata": {},
   "source": [
    "Problem z jednostkami kątowymi - jak przejść na metry?"
   ]
  },
  {
   "cell_type": "markdown",
   "metadata": {},
   "source": [
    "Można użyć od razu warstwy w układzie metrycznym. Co w sytuacji, kiedy jednak jesteśmy w układzie WGS84?\n",
    "\n",
    "1. Konwertować wszystkie warstwy do układu metrycznego poprzez ich zapis,\n",
    "2. Konwertować tymczasowo w projekcie,\n",
    "3. W przypadku długości, odległości skorzystać z klasy QgsDistanceArea"
   ]
  },
  {
   "cell_type": "code",
   "execution_count": null,
   "metadata": {},
   "outputs": [],
   "source": [
    "warstwa = iface.activeLayer()\n",
    "features = [obiekt.geometry() for obiekt in warstwa.getFeatures()]\n",
    "\n",
    "d = QgsDistanceArea()\n",
    "d.setEllipsoid('WGS84')\n",
    "\n",
    "for x in features:\n",
    "    print(d.measureArea(x)) #domyślnie w metrach"
   ]
  },
  {
   "cell_type": "code",
   "execution_count": null,
   "metadata": {},
   "outputs": [],
   "source": [
    "warstwa = iface.activeLayer()\n",
    "features = [obiekt.geometry() for obiekt in warstwa.getFeatures()][:5]\n",
    "\n",
    "d = QgsDistanceArea()\n",
    "d.setEllipsoid('WGS84')\n",
    "d.areaUnits()\n",
    "\n",
    "for x in features:\n",
    "    pomiar = d.measureArea(x)\n",
    "    akry = d.convertAreaMeasurement(pomiar, QgsUnitTypes.AreaUnit(6)) #w akrach\n",
    "    print(akry)"
   ]
  },
  {
   "cell_type": "code",
   "execution_count": 2,
   "metadata": {},
   "outputs": [
    {
     "data": {
      "text/html": [
       "<img src=\"1.png\"/>"
      ],
      "text/plain": [
       "<IPython.core.display.Image object>"
      ]
     },
     "execution_count": 2,
     "metadata": {},
     "output_type": "execute_result"
    }
   ],
   "source": [
    "from IPython.display import Image\n",
    "from IPython.core.display import HTML \n",
    "Image(url= \"1.png\")"
   ]
  },
  {
   "cell_type": "markdown",
   "metadata": {},
   "source": [
    "<h3> Transformacje </h3>\n",
    "\n",
    "Klasa (!)\n",
    "     \n",
    "    QgsCoordinateReferenceSystem"
   ]
  },
  {
   "cell_type": "code",
   "execution_count": null,
   "metadata": {},
   "outputs": [],
   "source": [
    "uklad = QgsCoordinateReferenceSystem(4326, QgsCoordinateReferenceSysten.PostgisCrsId)\n",
    "#Tworzy uklad na podstawie id jak w PostGIS"
   ]
  },
  {
   "cell_type": "code",
   "execution_count": null,
   "metadata": {},
   "outputs": [],
   "source": [
    "wgs = QgsCoordinateReferenceSystem(4326,QgsCoordinateReferenceSystem.EpsgCrsId)\n",
    "#Na podstawie EPSG\n"
   ]
  },
  {
   "cell_type": "markdown",
   "metadata": {},
   "source": [
    "Więcej informacji:\n",
    "\n",
    "    uklad.srsid()\n",
    "    \n",
    "    uklad.postgisSrid()\n",
    "    \n",
    "    uklad.description()\n",
    "    \n",
    "    uklad.mapUnits()"
   ]
  },
  {
   "cell_type": "code",
   "execution_count": null,
   "metadata": {},
   "outputs": [],
   "source": [
    "z = QgsCoordinateReferenceSystem(4326) #domyślnie EPSG\n",
    "do = QgsCoordinateReferenceSystem(2177) #uklad2000\n",
    "\n",
    "transformacja = QgsCoordinateTransform(z,do, QgsProject.instance()) \n",
    "#przygotowujemy transformację w projekcie\n",
    "\n",
    "warstwa = iface.activeLayer()\n",
    "features = [obiekt.geometry() for obiekt in warstwa.getFeatures()][:5]\n",
    "for x in features:\n",
    "    nowy = transformacja.transform(x.asPoint())\n",
    "    print(nowy)\n"
   ]
  },
  {
   "cell_type": "code",
   "execution_count": null,
   "metadata": {},
   "outputs": [],
   "source": [
    "z = QgsCoordinateReferenceSystem(4326) #domyślnie EPSG\n",
    "do = QgsCoordinateReferenceSystem(2177) #uklad2000\n",
    "\n",
    "transformacja = QgsCoordinateTransform(z,do, QgsProject.instance()) \n",
    "#przygotowujemy transformację w projekcie\n",
    "\n",
    "warstwa = iface.activeLayer()\n",
    "nowa_warstwa = QgsVectorLayer(\"Polygon\",\"nowa\",\"memory\")\n",
    "nowa_warstwa.setCrs(do) #a co będzie bez?\n",
    "features = [obiekt for obiekt in warstwa.getFeatures()][:5]\n",
    "for x in features:\n",
    "    geometria = x.geometry()\n",
    "    geometria.transform(transformacja)\n",
    "    x.setGeometry(geometria)\n",
    "    nowa_warstwa.dataProvider().addFeatures([x])\n",
    "QgsProject.instance().addMapLayer(nowa_warstwa)"
   ]
  }
 ],
 "metadata": {
  "kernelspec": {
   "display_name": "Python 3",
   "language": "python",
   "name": "python3"
  },
  "language_info": {
   "codemirror_mode": {
    "name": "ipython",
    "version": 3
   },
   "file_extension": ".py",
   "mimetype": "text/x-python",
   "name": "python",
   "nbconvert_exporter": "python",
   "pygments_lexer": "ipython3",
   "version": "3.7.1"
  }
 },
 "nbformat": 4,
 "nbformat_minor": 2
}

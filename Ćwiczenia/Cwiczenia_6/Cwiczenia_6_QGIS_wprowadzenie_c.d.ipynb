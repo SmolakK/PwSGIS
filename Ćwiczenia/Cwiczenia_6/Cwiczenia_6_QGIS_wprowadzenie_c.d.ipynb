{
 "cells": [
  {
   "cell_type": "markdown",
   "metadata": {},
   "source": [
    "<h1> Ćwiczenia 6 - Programowanie w GIS (QGIS)- warstwy, projekty, podstawowe funkcjonalności </h1>\n",
    "\n",
    "Wiemy już, że są przynajmniej 3 sposoby w jaki możemy programować w QGIS.\n",
    "\n",
    "Na wykładzie wykorzystywaliśmy już 4 podstawowe klasy, których będziemy używać:\n",
    "\n",
    "<ul>\n",
    "    <li>QgsProject - klasa projektu </li>\n",
    "    <li>QgsVectorLayer - klasa warstwy wektorowej </li>\n",
    "    <li>QgsRasterLayer - klasa warstwy rastrowej </li>\n",
    "    <li>iface - klasa interfejsu aplikacji </li>\n",
    "</ul>\n",
    "\n",
    "Będziemy się im przyglądać z bliższej perspektywy. Rozpocznijmy od przetestowania kilku podstawowych funkcjonalności API.\n",
    "\n",
    "Zawsze zaczynamy od importu biblioteki core, zawierającej podstawowe funkcjonalności.\n",
    "\n"
   ]
  },
  {
   "cell_type": "code",
   "execution_count": null,
   "metadata": {},
   "outputs": [],
   "source": [
    "from qgis.core import *"
   ]
  },
  {
   "cell_type": "code",
   "execution_count": 4,
   "metadata": {},
   "outputs": [],
   "source": [
    "from IPython.display import Image, Video #taki mały imporcik do wyświetlania obrazów i wideo w tym Notebooku"
   ]
  },
  {
   "cell_type": "markdown",
   "metadata": {},
   "source": [
    "Następnie możemy stworzyć instancję obecnie otwartego projektu."
   ]
  },
  {
   "cell_type": "code",
   "execution_count": null,
   "metadata": {},
   "outputs": [],
   "source": [
    "projekt = QgsProject.instance()\n",
    "projekt.fileName() #nazwa projektu, obecnie pusta\n",
    "sciezka = \"\"\"C://sciezka//do//pliku\"\"\" \n",
    "projekt.write(sciezka) #zapis projektu\n",
    "projekt.read(sciezka) #wczytanie projektu"
   ]
  },
  {
   "cell_type": "markdown",
   "metadata": {},
   "source": [
    "<b> UWAGA: </b> ze względu na formatowanie i kodowanie znaków ścieżki do plików najlepiej podawać w docstring (czyli z trzema cudzysłowami zamykającymi \"\"\"), a foldery i pliki rozdzielać podwójnym ukośnikiem (//), jak w przykładzie powyżej."
   ]
  },
  {
   "cell_type": "code",
   "execution_count": 7,
   "metadata": {},
   "outputs": [
    {
     "data": {
      "text/html": [
       "<video src=\"QgsProject.mp4\" controls  width=\"932\" >\n",
       "      Your browser does not support the <code>video</code> element.\n",
       "    </video>"
      ],
      "text/plain": [
       "<IPython.core.display.Video object>"
      ]
     },
     "execution_count": 7,
     "metadata": {},
     "output_type": "execute_result"
    }
   ],
   "source": [
    "Video(\"QgsProject.mp4\",width=932)"
   ]
  },
  {
   "cell_type": "markdown",
   "metadata": {},
   "source": [
    "<h3>Warstwy wektorowe</h3>\n",
    "Dodamy warstwę wektorową. Warstwa jest w pliku *.shp dodanym do folderu\n",
    "\n",
    "Zwróćmy uwagę na wykorzystanie biblioteki os."
   ]
  },
  {
   "cell_type": "code",
   "execution_count": null,
   "metadata": {},
   "outputs": [],
   "source": [
    "import os\n",
    "vlayer = QgsVectorLayer(os.path.join(wektor_folder,\"Budynki_JG.shp\"),\"drogi\",\"ogr\") #ładowanie warstwy do zmienne\n",
    "#to nie dodaje warstwy do mapy!\n",
    "projekt.addMapLayer(vlayer) #możemy dodać przez instancję projektu"
   ]
  },
  {
   "cell_type": "markdown",
   "metadata": {},
   "source": [
    "Lub wprost do rejestru:"
   ]
  },
  {
   "cell_type": "code",
   "execution_count": null,
   "metadata": {},
   "outputs": [],
   "source": [
    "iface.addVectorLayer(os.path.join(wektor_folder,\"Budynki_JG.shp\"),\"drogi\",\"ogr\")"
   ]
  },
  {
   "cell_type": "markdown",
   "metadata": {},
   "source": [
    "Usuwanie:"
   ]
  },
  {
   "cell_type": "code",
   "execution_count": null,
   "metadata": {},
   "outputs": [],
   "source": [
    "projekt.removeMapLayer(vlayer.id())\n",
    "projekt.mapLayers() #spis warstw"
   ]
  },
  {
   "cell_type": "markdown",
   "metadata": {},
   "source": [
    "W praktyce:"
   ]
  },
  {
   "cell_type": "code",
   "execution_count": 9,
   "metadata": {},
   "outputs": [
    {
     "data": {
      "text/html": [
       "<video src=\"Vector1.mp4\" controls  width=\"1000\" >\n",
       "      Your browser does not support the <code>video</code> element.\n",
       "    </video>"
      ],
      "text/plain": [
       "<IPython.core.display.Video object>"
      ]
     },
     "execution_count": 9,
     "metadata": {},
     "output_type": "execute_result"
    }
   ],
   "source": [
    "Video(\"Vector1.mp4\",width=1000)"
   ]
  },
  {
   "cell_type": "markdown",
   "metadata": {},
   "source": [
    "<h4> Szczegóły warstwy - wektor </h4>\n",
    "\n",
    "Dostęp do danych, wartości operacje:"
   ]
  },
  {
   "cell_type": "code",
   "execution_count": null,
   "metadata": {},
   "outputs": [],
   "source": [
    "#Ładujemy dane\n",
    "budynki = iface.addVectorLayer(os.path.join(wektor_folder,\"Budynki_JG.shp\"),\"drogi\",\"ogr\")\n",
    "#Przegląd atrybutów\n",
    "for pole in drogi.fields():\n",
    "\tprint(pole.name(), pole.typeName())\n"
   ]
  },
  {
   "cell_type": "code",
   "execution_count": null,
   "metadata": {},
   "outputs": [],
   "source": [
    "#Możemy wybrać aktywną warstwę i przypisać ją pod zmienną:\n",
    "layer = iface.activeLayer()"
   ]
  },
  {
   "cell_type": "code",
   "execution_count": null,
   "metadata": {},
   "outputs": [],
   "source": [
    "#Pozyskanie obiektów na warstwie\n",
    "layer.getFeatures() #zwraca iterator, nie listę, można się dopiero przez nią iterować\n",
    "features = [feature for feature in budynki.getFeatures()][:20]"
   ]
  },
  {
   "cell_type": "code",
   "execution_count": null,
   "metadata": {},
   "outputs": [],
   "source": [
    "for obiekt in features:\n",
    "    print(obiekt.id())\n",
    "    \n",
    "for obiekt in features:\n",
    "    print(obiekt.geometry()) #Zwraca klasę geometrii\n",
    "\n",
    "for obiekt in features:\n",
    "    print(obiekt.geometry().length())\n",
    "\n",
    "for obiekt in features:\n",
    "    print(obiekt.attributes())\n",
    "\n",
    "for obiekt in features:\n",
    "    print(obiekt[#nazwa_atrybutu])\n"
   ]
  },
  {
   "cell_type": "markdown",
   "metadata": {},
   "source": [
    "Selekcja:"
   ]
  },
  {
   "cell_type": "code",
   "execution_count": null,
   "metadata": {},
   "outputs": [],
   "source": [
    "drogi.selectAll()\n",
    "\n",
    "drogi.selectByExpression(#zapytanie)"
   ]
  },
  {
   "cell_type": "code",
   "execution_count": null,
   "metadata": {},
   "outputs": [],
   "source": [
    "iface.mapCanvas() #klasa płótna, czyli wyświetlanej mapy, pozwala na edycję wyświetlania\n",
    "\n",
    "budynki.selectAll()\n",
    "iface.mapCanvas().setSelectionColor( QColor(\"magenta\"))\n",
    "\n",
    "#Lub w HEX RGB\n",
    "iface.mapCanvas().setSelectionColor( QColor(\"#FFFF00\"))"
   ]
  },
  {
   "cell_type": "markdown",
   "metadata": {},
   "source": [
    "Iteracja po selekcji"
   ]
  },
  {
   "cell_type": "code",
   "execution_count": null,
   "metadata": {},
   "outputs": [],
   "source": [
    "drogi.selectByExpression(#zapytanie)\n",
    "selection = drogi.selectedFeatures()\n",
    "print(len(selection))\n",
    "for feature in selection:\n",
    "    print(feature.id())\n"
   ]
  },
  {
   "cell_type": "markdown",
   "metadata": {},
   "source": [
    "W praktyce:"
   ]
  },
  {
   "cell_type": "code",
   "execution_count": 10,
   "metadata": {},
   "outputs": [
    {
     "data": {
      "text/html": [
       "<video src=\"Vector2.mp4\" controls  width=\"1000\" >\n",
       "      Your browser does not support the <code>video</code> element.\n",
       "    </video>"
      ],
      "text/plain": [
       "<IPython.core.display.Video object>"
      ]
     },
     "execution_count": 10,
     "metadata": {},
     "output_type": "execute_result"
    }
   ],
   "source": [
    "Video(\"Vector2.mp4\",width=1000)"
   ]
  },
  {
   "cell_type": "markdown",
   "metadata": {},
   "source": [
    "<h3>Warstwy rastrowe</h3>\n",
    "Wszystko odbywa się analogicznie, z rożnicą, że nie ma potrzeby definicji sterownika obsługującego warstwę."
   ]
  },
  {
   "cell_type": "code",
   "execution_count": null,
   "metadata": {},
   "outputs": [],
   "source": [
    "iface.addRasterLayer(sciezka_do_pliku,\"Bogota\")"
   ]
  },
  {
   "cell_type": "code",
   "execution_count": null,
   "metadata": {},
   "outputs": [],
   "source": [
    "rlayer = iface.addRasterLayer(sciezka_do_pliku,\"Bogota\")\n",
    "projekt.removeMapLayer(rlayer)"
   ]
  },
  {
   "cell_type": "markdown",
   "metadata": {},
   "source": [
    "<h4>Szczegóły warstwy - raster </h4>\n",
    "\n",
    "Dostęp do danych, wartości, operacje\n",
    "\n",
    "<b>Podstawowe właściwości:</b>"
   ]
  },
  {
   "cell_type": "code",
   "execution_count": null,
   "metadata": {
    "collapsed": true
   },
   "outputs": [],
   "source": [
    "rlayer.width()\n",
    "\n",
    "rlayer.height()\n",
    "\n",
    "rlayer.extent()\n",
    "\n",
    "rlayer.extent().toString()\n",
    "rlayer.rasterType() #0 = Skala szarosci, 1 = (single band), 2 = Multiband\n",
    "\n",
    "rlayer.isValid()\n",
    "\n",
    "rlayer.bandCount()\n",
    "\n",
    "rlayer.metadata()\n"
   ]
  },
  {
   "cell_type": "markdown",
   "metadata": {},
   "source": [
    "Odczyt wartości piksela:"
   ]
  },
  {
   "cell_type": "code",
   "execution_count": null,
   "metadata": {},
   "outputs": [],
   "source": [
    "ident = rlayer.dataProvider().identify(QgsPointXY(453138,81225), QgsRaster.IdentifyFormatValue)\n",
    "ident.results()"
   ]
  },
  {
   "cell_type": "markdown",
   "metadata": {},
   "source": [
    "Sporo się tu wydarzyło. Przedewszystkim rlayer to nasza warstwa. dataProvider() to nowa klasa - klasa przechowująca dane w warstwie - wartości pikseli lub wartości atrybutów w warstwach wektorowych. Posiada ona metodę identify (patrz dokumentacja). Jej syntax to:\n",
    "\n",
    "identify(QgsPoint, format)\n",
    "\n",
    "Qgis korzysta z własnych typów danych - tutaj jest to punkt QGIS, dlatego współrzędne należało definiować w tym typie danych."
   ]
  },
  {
   "cell_type": "markdown",
   "metadata": {},
   "source": [
    "W praktyce i wytłumaczenie:"
   ]
  },
  {
   "cell_type": "code",
   "execution_count": 11,
   "metadata": {},
   "outputs": [
    {
     "data": {
      "text/html": [
       "<video src=\"Raster.mp4\" controls  width=\"1000\" >\n",
       "      Your browser does not support the <code>video</code> element.\n",
       "    </video>"
      ],
      "text/plain": [
       "<IPython.core.display.Video object>"
      ]
     },
     "execution_count": 11,
     "metadata": {},
     "output_type": "execute_result"
    }
   ],
   "source": [
    "Video(\"Raster.mp4\",width=1000)"
   ]
  },
  {
   "cell_type": "code",
   "execution_count": null,
   "metadata": {},
   "outputs": [],
   "source": []
  }
 ],
 "metadata": {
  "kernelspec": {
   "display_name": "Python 3",
   "language": "python",
   "name": "python3"
  },
  "language_info": {
   "codemirror_mode": {
    "name": "ipython",
    "version": 3
   },
   "file_extension": ".py",
   "mimetype": "text/x-python",
   "name": "python",
   "nbconvert_exporter": "python",
   "pygments_lexer": "ipython3",
   "version": "3.7.1"
  }
 },
 "nbformat": 4,
 "nbformat_minor": 2
}

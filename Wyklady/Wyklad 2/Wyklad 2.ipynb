{
 "cells": [
  {
   "cell_type": "markdown",
   "metadata": {
    "slideshow": {
     "slide_type": "slide"
    }
   },
   "source": [
    "<h1><center> Wykład 2 </center></h1>"
   ]
  },
  {
   "cell_type": "markdown",
   "metadata": {},
   "source": [
    "Wszystko w Pythonie jest obiektem!"
   ]
  },
  {
   "cell_type": "code",
   "execution_count": 7,
   "metadata": {
    "slideshow": {
     "slide_type": "subslide"
    }
   },
   "outputs": [],
   "source": [
    "def funkcja():\n",
    "    return 2+2"
   ]
  },
  {
   "cell_type": "code",
   "execution_count": 8,
   "metadata": {
    "slideshow": {
     "slide_type": "-"
    }
   },
   "outputs": [
    {
     "data": {
      "text/plain": [
       "<function __main__.funkcja()>"
      ]
     },
     "execution_count": 8,
     "metadata": {},
     "output_type": "execute_result"
    }
   ],
   "source": [
    "funkcja"
   ]
  },
  {
   "cell_type": "code",
   "execution_count": 11,
   "metadata": {
    "slideshow": {
     "slide_type": "-"
    }
   },
   "outputs": [
    {
     "data": {
      "text/plain": [
       "4"
      ]
     },
     "execution_count": 11,
     "metadata": {},
     "output_type": "execute_result"
    }
   ],
   "source": [
    "funkcja() #różnica?"
   ]
  },
  {
   "cell_type": "markdown",
   "metadata": {
    "slideshow": {
     "slide_type": "slide"
    }
   },
   "source": [
    "<h2> Funkcje, których nie robiliśmy na ćwiczeniach! </h2>\n",
    "\n",
    "Lambda"
   ]
  },
  {
   "cell_type": "code",
   "execution_count": 18,
   "metadata": {
    "slideshow": {
     "slide_type": "subslide"
    }
   },
   "outputs": [
    {
     "data": {
      "text/plain": [
       "5"
      ]
     },
     "execution_count": 18,
     "metadata": {},
     "output_type": "execute_result"
    }
   ],
   "source": [
    "def suma(a,b):\n",
    "    return a+b\n",
    "\n",
    "suma(2,3)"
   ]
  },
  {
   "cell_type": "code",
   "execution_count": 23,
   "metadata": {
    "slideshow": {
     "slide_type": "-"
    }
   },
   "outputs": [
    {
     "data": {
      "text/plain": [
       "5"
      ]
     },
     "execution_count": 23,
     "metadata": {},
     "output_type": "execute_result"
    }
   ],
   "source": [
    "lsuma = lambda a, b: a + b\n",
    "lsuma(2,3)"
   ]
  },
  {
   "cell_type": "code",
   "execution_count": 29,
   "metadata": {
    "slideshow": {
     "slide_type": "subslide"
    }
   },
   "outputs": [],
   "source": [
    "def power(n):\n",
    "    return lambda x: x ** n"
   ]
  },
  {
   "cell_type": "code",
   "execution_count": 33,
   "metadata": {
    "slideshow": {
     "slide_type": "subslide"
    }
   },
   "outputs": [],
   "source": [
    "do2 = power(2)"
   ]
  },
  {
   "cell_type": "code",
   "execution_count": 34,
   "metadata": {},
   "outputs": [
    {
     "data": {
      "text/plain": [
       "16"
      ]
     },
     "execution_count": 34,
     "metadata": {},
     "output_type": "execute_result"
    }
   ],
   "source": [
    "do2(4)"
   ]
  },
  {
   "cell_type": "code",
   "execution_count": 35,
   "metadata": {
    "slideshow": {
     "slide_type": "-"
    }
   },
   "outputs": [
    {
     "data": {
      "text/plain": [
       "25"
      ]
     },
     "execution_count": 35,
     "metadata": {},
     "output_type": "execute_result"
    }
   ],
   "source": [
    "do2(5)"
   ]
  },
  {
   "cell_type": "code",
   "execution_count": 36,
   "metadata": {
    "slideshow": {
     "slide_type": "subslide"
    }
   },
   "outputs": [],
   "source": [
    "do3 = power(3)"
   ]
  },
  {
   "cell_type": "code",
   "execution_count": 37,
   "metadata": {},
   "outputs": [
    {
     "data": {
      "text/plain": [
       "27"
      ]
     },
     "execution_count": 37,
     "metadata": {},
     "output_type": "execute_result"
    }
   ],
   "source": [
    "do3(3)"
   ]
  },
  {
   "cell_type": "code",
   "execution_count": 38,
   "metadata": {},
   "outputs": [
    {
     "data": {
      "text/plain": [
       "1000"
      ]
     },
     "execution_count": 38,
     "metadata": {},
     "output_type": "execute_result"
    }
   ],
   "source": [
    "do3(10)"
   ]
  },
  {
   "cell_type": "markdown",
   "metadata": {
    "slideshow": {
     "slide_type": "slide"
    }
   },
   "source": [
    "Main"
   ]
  },
  {
   "cell_type": "markdown",
   "metadata": {
    "slideshow": {
     "slide_type": "subslide"
    }
   },
   "source": [
    "W momencie kiedy piszemy funkcje, przy uruchomieniu kodu nie są one w ogóle wywoływane."
   ]
  },
  {
   "cell_type": "code",
   "execution_count": 39,
   "metadata": {},
   "outputs": [],
   "source": [
    "def start():\n",
    "    print(\"Uruchomiłem się\")\n",
    "    \n",
    "def koniec():\n",
    "    print(\"Ja też\")"
   ]
  },
  {
   "cell_type": "markdown",
   "metadata": {
    "slideshow": {
     "slide_type": "subslide"
    }
   },
   "source": [
    "Do wykonania wszystkich poleceń w funkcji możemy wykorzystać funkcję specjalną main, umieszczoną na końcu kodu:"
   ]
  },
  {
   "cell_type": "code",
   "execution_count": 41,
   "metadata": {},
   "outputs": [
    {
     "name": "stdout",
     "output_type": "stream",
     "text": [
      "Uruchomiłem się\n",
      "Ja też\n"
     ]
    }
   ],
   "source": [
    "def start():\n",
    "    print(\"Uruchomiłem się\")\n",
    "    \n",
    "def koniec():\n",
    "    print(\"Ja też\")\n",
    "    \n",
    "if __name__ == \"__main__\":\n",
    "    start()\n",
    "    koniec()"
   ]
  },
  {
   "cell_type": "markdown",
   "metadata": {
    "slideshow": {
     "slide_type": "slide"
    }
   },
   "source": [
    "<h2> Efektywność obliczeń </h2>"
   ]
  },
  {
   "cell_type": "markdown",
   "metadata": {},
   "source": [
    "To jak napiszemy kod często decyduje o wydajności, czyli szybkości wykonywania kodu.\n",
    "\n",
    "Każde zadanie można rozwiązać na wiele sposobów i choć działają, nie wszystkie są dobre.\n",
    "\n",
    "Często popełniane błędy potrafią wydłużyć wykonywanie kodu nawet kilkusetkrotnie."
   ]
  },
  {
   "cell_type": "markdown",
   "metadata": {
    "slideshow": {
     "slide_type": "subslide"
    }
   },
   "source": [
    "<b> Najwolniejsze w Pythonie są pętle </b>"
   ]
  },
  {
   "cell_type": "code",
   "execution_count": 2,
   "metadata": {},
   "outputs": [],
   "source": [
    "import time"
   ]
  },
  {
   "cell_type": "code",
   "execution_count": 2,
   "metadata": {},
   "outputs": [
    {
     "name": "stdout",
     "output_type": "stream",
     "text": [
      "0.0\n"
     ]
    }
   ],
   "source": [
    "start = time.time()\n",
    "end = time.time()\n",
    "print(end-start)"
   ]
  },
  {
   "cell_type": "code",
   "execution_count": 14,
   "metadata": {
    "slideshow": {
     "slide_type": "subslide"
    }
   },
   "outputs": [
    {
     "name": "stdout",
     "output_type": "stream",
     "text": [
      "6.32822060585022\n"
     ]
    }
   ],
   "source": [
    "start = time.time()\n",
    "\n",
    "for n in range(1,10000):\n",
    "    n**n\n",
    "\n",
    "end = time.time()\n",
    "print(end-start)"
   ]
  },
  {
   "cell_type": "markdown",
   "metadata": {
    "slideshow": {
     "slide_type": "subslide"
    }
   },
   "source": [
    "Rozważmy taki przypadek: na farmę przyjechała para królików. Każda para jest w stanie wydać codziennie na świat jednego potomka. Ile królików będzie na farmie po <i>n</i> dniach?"
   ]
  },
  {
   "cell_type": "code",
   "execution_count": 136,
   "metadata": {
    "slideshow": {
     "slide_type": "subslide"
    }
   },
   "outputs": [
    {
     "name": "stdout",
     "output_type": "stream",
     "text": [
      "497.3411560us\n"
     ]
    }
   ],
   "source": [
    "#Sposób 1:\n",
    "#Złożoność: n\n",
    "def ile_krolikow(n):\n",
    "    licz_krolikow = 2 #mamy dwa kroliki\n",
    "    for dzien in range(1,n+1): #od dnia 1 do n+1\n",
    "        licz_krolikow += divmod(licz_krolikow,2)[0] #powieksz o liczbe par\n",
    "    return licz_krolikow\n",
    "\n",
    "start = time.time()\n",
    "ile_krolikow(100)\n",
    "end = time.time()\n",
    "print(\"{:.7f}us\".format((end-start)*1000000))"
   ]
  },
  {
   "cell_type": "code",
   "execution_count": 137,
   "metadata": {
    "slideshow": {
     "slide_type": "subslide"
    }
   },
   "outputs": [
    {
     "data": {
      "text/plain": [
       "[2, 3, 4, 6, 9, 13, 19, 28, 42, 63]"
      ]
     },
     "execution_count": 137,
     "metadata": {},
     "output_type": "execute_result"
    }
   ],
   "source": [
    "[ile_krolikow(n) for n in range(10)]"
   ]
  },
  {
   "cell_type": "code",
   "execution_count": 6,
   "metadata": {
    "slideshow": {
     "slide_type": "subslide"
    }
   },
   "outputs": [
    {
     "name": "stdout",
     "output_type": "stream",
     "text": [
      "70656.7299ms\n"
     ]
    }
   ],
   "source": [
    "#Sposób 2:\n",
    "#Złożoność n^2\n",
    "def ile_krolikow(n):\n",
    "    licz_krolikow = 2 #mamy dwa kroliki\n",
    "    for dzien in range(1,n+1): #od dnia 1 do n+1\n",
    "        for kroliki in range(1,int(licz_krolikow/2)+1):\n",
    "            licz_krolikow += 1#powieksz o liczbe par\n",
    "    return licz_krolikow\n",
    "\n",
    "start = time.time()\n",
    "ile_krolikow(50)\n",
    "end = time.time()\n",
    "print(\"{:.4f}ms\".format((end-start)*1000))"
   ]
  },
  {
   "cell_type": "code",
   "execution_count": 3,
   "metadata": {
    "slideshow": {
     "slide_type": "subslide"
    }
   },
   "outputs": [
    {
     "data": {
      "text/plain": [
       "[2, 3, 4, 6, 9, 13, 19, 28, 42, 63]"
      ]
     },
     "execution_count": 3,
     "metadata": {},
     "output_type": "execute_result"
    }
   ],
   "source": [
    "[ile_krolikow(n) for n in range(10)]"
   ]
  },
  {
   "cell_type": "markdown",
   "metadata": {
    "slideshow": {
     "slide_type": "subslide"
    }
   },
   "source": [
    "Przykład 2: Janek od dziś odkłada po złotówce do skarbonki codziennie. Ile będzie miał złotych po n dniach?"
   ]
  },
  {
   "cell_type": "code",
   "execution_count": 22,
   "metadata": {
    "slideshow": {
     "slide_type": "subslide"
    }
   },
   "outputs": [
    {
     "name": "stdout",
     "output_type": "stream",
     "text": [
      "3129.4305ms\n"
     ]
    }
   ],
   "source": [
    "#Złożoność n\n",
    "def pln1(n):\n",
    "    pln = 0\n",
    "    for dzien in range(1, n+1):\n",
    "        for zlotowki in range(dzien):\n",
    "            pln += 1\n",
    "    return pln\n",
    "\n",
    "\n",
    "start = time.time()\n",
    "pln1(10000)\n",
    "end = time.time()\n",
    "print(\"{:.4f}ms\".format((end-start)*1000))"
   ]
  },
  {
   "cell_type": "code",
   "execution_count": 24,
   "metadata": {
    "slideshow": {
     "slide_type": "subslide"
    }
   },
   "outputs": [
    {
     "name": "stdout",
     "output_type": "stream",
     "text": [
      "0.9921ms\n"
     ]
    }
   ],
   "source": [
    "#Złożoność n\n",
    "def pln2(n):\n",
    "    pln = 0\n",
    "    for dzien in range(1, n+1):\n",
    "            pln += dzien\n",
    "    return pln\n",
    "\n",
    "\n",
    "start = time.time()\n",
    "pln2(10000)\n",
    "end = time.time()\n",
    "print(\"{:.4f}ms\".format((end-start)*1000))"
   ]
  },
  {
   "cell_type": "code",
   "execution_count": 39,
   "metadata": {
    "slideshow": {
     "slide_type": "subslide"
    }
   },
   "outputs": [
    {
     "name": "stdout",
     "output_type": "stream",
     "text": [
      "0.0000ns\n"
     ]
    }
   ],
   "source": [
    "#Złożoność 1\n",
    "def pln3(n):\n",
    "    return n * (n+1) // 2\n",
    "\n",
    "start = time.time()\n",
    "pln3(100000)\n",
    "end = time.time()\n",
    "print(\"{:.4f}ns\".format((end-start)*100000000))"
   ]
  },
  {
   "cell_type": "code",
   "execution_count": 50,
   "metadata": {
    "slideshow": {
     "slide_type": "subslide"
    }
   },
   "outputs": [
    {
     "name": "stdout",
     "output_type": "stream",
     "text": [
      "0.4964ms\n"
     ]
    }
   ],
   "source": [
    "#Złożoność n\n",
    "def pln4(n):\n",
    "    return sum(range(n+1))\n",
    "\n",
    "start = time.time()\n",
    "pln4(10000)\n",
    "end = time.time()\n",
    "print(\"{:.4f}ms\".format((end-start)*1000))"
   ]
  },
  {
   "cell_type": "code",
   "execution_count": 82,
   "metadata": {
    "slideshow": {
     "slide_type": "subslide"
    }
   },
   "outputs": [
    {
     "data": {
      "text/plain": [
       "<matplotlib.legend.Legend at 0x225e2688358>"
      ]
     },
     "execution_count": 82,
     "metadata": {},
     "output_type": "execute_result"
    },
    {
     "data": {
      "image/png": "[encoded data removed]",
      "text/plain": [
       "<Figure size 1080x576 with 1 Axes>"
      ]
     },
     "metadata": {
      "needs_background": "light"
     },
     "output_type": "display_data"
    }
   ],
   "source": [
    "import matplotlib.pyplot as plt\n",
    "import math\n",
    "%matplotlib inline\n",
    "n2 = [n**2 for n in range(1,40)]\n",
    "n = [n for n in range(1,40)]\n",
    "s = [1 for n in range(1,40)]\n",
    "nlog = [math.log(n) for n in range(3,40)]\n",
    "plt.figure(figsize=(15,8))\n",
    "plt.plot(n2, 'x', markersize = 10, label = \"$n^2$\")\n",
    "plt.plot(n, '.', markersize = 10, label = \"$n$\")\n",
    "plt.plot(s, '-', markersize = 10, label = \"$1$\")\n",
    "plt.plot(nlog, '^', markersize=10, label = \"$log(n)$\")\n",
    "plt.yscale(\"log\")\n",
    "plt.legend()"
   ]
  },
  {
   "cell_type": "markdown",
   "metadata": {
    "slideshow": {
     "slide_type": "slide"
    }
   },
   "source": [
    "<h1> Moduły </h1>"
   ]
  },
  {
   "cell_type": "markdown",
   "metadata": {},
   "source": [
    "Aby uporządkować kod, możemy rozbić go na moduły, które przechowują pewne funkcjonalności i w razie potrzeby są wywoływane.\n",
    "\n",
    "Dzięki temu unikamy definiciji wszystkich funkcji w pamięci za jednym razem, a jedynie wywołujemy wyłącznie potrzebne funkcje."
   ]
  },
  {
   "cell_type": "markdown",
   "metadata": {},
   "source": [
    "W ten sposób pisane są biblioteki programistyczne."
   ]
  },
  {
   "cell_type": "code",
   "execution_count": 86,
   "metadata": {
    "slideshow": {
     "slide_type": "subslide"
    }
   },
   "outputs": [
    {
     "data": {
      "text/html": [
       "<img src=\"modules.png\"/>"
      ],
      "text/plain": [
       "<IPython.core.display.Image object>"
      ]
     },
     "execution_count": 86,
     "metadata": {},
     "output_type": "execute_result"
    }
   ],
   "source": [
    "from IPython.display import Image\n",
    "Image(url = 'modules.png')"
   ]
  },
  {
   "cell_type": "markdown",
   "metadata": {
    "slideshow": {
     "slide_type": "subslide"
    }
   },
   "source": [
    "Dokładnie w taki sam sposób w jaki importujemy biblioteki, mogą być importowane nasze własne moduły.\n",
    "\n",
    "Moduły również dokumentujemy!"
   ]
  },
  {
   "cell_type": "markdown",
   "metadata": {
    "slideshow": {
     "slide_type": "slide"
    }
   },
   "source": [
    "<h2> Własne moduły i bilioteki (paczki)</h2>\n",
    "\n",
    "Jeśli zatem chcemy napisać własną bibliotekę(a będziemy to robić), to musi ona zawierać pewne ustalone pliki.\n",
    "\n",
    "Jeśli nasz kod zawiera funkcję $__main__$ należy pamiętać, że kod pod tą funkcją wykonwa się <b> w czasie importowania biblioteki!</b>. Czasem to bardzo użyteczna funkcja mająca na celu przygotować pewne zmienne.\n",
    "\n",
    "Biblioteka/paczka - aby była rozpoznawalna przez Pythona musi zawierać plik <b>$__init.py__$</b> - nawet jeśli jest pusty. Bez jego obecności paczka nie zostanie zinterpretowana jako bilbioteka."
   ]
  },
  {
   "cell_type": "markdown",
   "metadata": {
    "slideshow": {
     "slide_type": "slide"
    }
   },
   "source": [
    "<h2> Uwaga na nazwy! </h2>\n",
    "\n",
    "W Pythonie można nadpisać wszystko, a i dzięki temu można zmienić zachowanie podstawowych funkcji.\n",
    "\n",
    "Przy imporcie funkcji z różnich bibliotek o tej samej nazwie:"
   ]
  },
  {
   "cell_type": "code",
   "execution_count": 91,
   "metadata": {
    "slideshow": {
     "slide_type": "subslide"
    }
   },
   "outputs": [
    {
     "name": "stdout",
     "output_type": "stream",
     "text": [
      "2.0\n",
      "(2+0j)\n"
     ]
    }
   ],
   "source": [
    "import math\n",
    "import cmath\n",
    "print(math.sqrt(4))\n",
    "print(cmath.sqrt(4))"
   ]
  },
  {
   "cell_type": "code",
   "execution_count": 92,
   "metadata": {
    "slideshow": {
     "slide_type": "subslide"
    }
   },
   "outputs": [
    {
     "name": "stdout",
     "output_type": "stream",
     "text": [
      "(2+0j)\n",
      "(2+0j)\n"
     ]
    }
   ],
   "source": [
    "from math import sqrt\n",
    "from cmath import sqrt\n",
    "print(sqrt(4))\n",
    "print(sqrt(4))"
   ]
  },
  {
   "cell_type": "markdown",
   "metadata": {
    "slideshow": {
     "slide_type": "subslide"
    }
   },
   "source": [
    "Nadpisać możemy nawet typy wbudowane!"
   ]
  },
  {
   "cell_type": "code",
   "execution_count": 97,
   "metadata": {},
   "outputs": [],
   "source": [
    "def list(parametr1):\n",
    "    return \"NADPISAŁEM LISTĘ HAHAHAHA!\""
   ]
  },
  {
   "cell_type": "code",
   "execution_count": 98,
   "metadata": {},
   "outputs": [
    {
     "data": {
      "text/plain": [
       "(1, 2, 3)"
      ]
     },
     "execution_count": 98,
     "metadata": {},
     "output_type": "execute_result"
    }
   ],
   "source": [
    "a = (1,2,3)\n",
    "a"
   ]
  },
  {
   "cell_type": "code",
   "execution_count": 100,
   "metadata": {
    "slideshow": {
     "slide_type": "subslide"
    }
   },
   "outputs": [
    {
     "name": "stdout",
     "output_type": "stream",
     "text": [
      "NADPISAŁEM LISTĘ HAHAHAHA!\n"
     ]
    }
   ],
   "source": [
    "a = list(a)\n",
    "print(a)"
   ]
  },
  {
   "cell_type": "code",
   "execution_count": 102,
   "metadata": {
    "slideshow": {
     "slide_type": "subslide"
    }
   },
   "outputs": [
    {
     "name": "stdout",
     "output_type": "stream",
     "text": [
      "Once deleted, variables cannot be recovered. Proceed (y/[n])? y\n",
      "Don't know how to reset  #reset, please run `%reset?` for details\n",
      "Don't know how to reset  zmiennych, please run `%reset?` for details\n",
      "Don't know how to reset  w, please run `%reset?` for details\n",
      "Don't know how to reset  jupyter, please run `%reset?` for details\n"
     ]
    }
   ],
   "source": [
    "%reset #reset zmiennych w Jupyter"
   ]
  },
  {
   "cell_type": "code",
   "execution_count": 135,
   "metadata": {
    "slideshow": {
     "slide_type": "subslide"
    }
   },
   "outputs": [],
   "source": [
    "class Test():\n",
    "    \n",
    "    def __init__(self,a):\n",
    "        self.a = a\n",
    "    \n",
    "    def __int__(self,other):\n",
    "        return self.a + other.a + 1\n"
   ]
  },
  {
   "cell_type": "code",
   "execution_count": 139,
   "metadata": {},
   "outputs": [
    {
     "data": {
      "text/plain": [
       "5"
      ]
     },
     "execution_count": 139,
     "metadata": {},
     "output_type": "execute_result"
    }
   ],
   "source": [
    "int(2)+int(2)"
   ]
  },
  {
   "cell_type": "code",
   "execution_count": 140,
   "metadata": {},
   "outputs": [
    {
     "name": "stdout",
     "output_type": "stream",
     "text": [
      "Once deleted, variables cannot be recovered. Proceed (y/[n])? y\n"
     ]
    }
   ],
   "source": [
    "%reset"
   ]
  },
  {
   "cell_type": "markdown",
   "metadata": {
    "slideshow": {
     "slide_type": "slide"
    }
   },
   "source": [
    "<h1> PEP8 - Guidelines </h1>\n",
    "\n",
    "PEP8 to instrukcja mówiąca jak należy pisać kod w Pythonie by był zawsze czytelny.\n",
    "\n",
    "Podstawowe zasady:"
   ]
  },
  {
   "cell_type": "code",
   "execution_count": 141,
   "metadata": {
    "slideshow": {
     "slide_type": "subslide"
    }
   },
   "outputs": [],
   "source": [
    "def funkcja(a, b):\n",
    "    pass #4 spacje wcięcia"
   ]
  },
  {
   "cell_type": "code",
   "execution_count": 148,
   "metadata": {
    "slideshow": {
     "slide_type": "subslide"
    }
   },
   "outputs": [
    {
     "data": {
      "text/plain": [
       "66"
      ]
     },
     "execution_count": 148,
     "metadata": {},
     "output_type": "execute_result"
    }
   ],
   "source": [
    "len(\"Maksymalna długość kodu nie powinna przekraczać 79 znaków, dlatego\")\n",
    "#że na innych monitorach może się już nie zmieścić"
   ]
  },
  {
   "cell_type": "code",
   "execution_count": 149,
   "metadata": {
    "slideshow": {
     "slide_type": "subslide"
    }
   },
   "outputs": [],
   "source": [
    "def funkcja(a, b):\n",
    "    pass\n",
    "\n",
    "def funkcja2(a, b):\n",
    "    pass\n",
    "\n",
    "#Każda funkcja powinna być rozdzielona jedną pustą linią"
   ]
  },
  {
   "cell_type": "code",
   "execution_count": 150,
   "metadata": {
    "slideshow": {
     "slide_type": "subslide"
    }
   },
   "outputs": [],
   "source": [
    "#Na końcu każdego kodu jedna linijka pusta\n",
    "def funkcja(a, b):\n",
    "    pass\n"
   ]
  },
  {
   "cell_type": "code",
   "execution_count": 151,
   "metadata": {
    "slideshow": {
     "slide_type": "subslide"
    }
   },
   "outputs": [],
   "source": [
    "def funkcja(a, b): #po każdym przecinku jedna spacja!\n",
    "    pass\n"
   ]
  },
  {
   "cell_type": "code",
   "execution_count": 154,
   "metadata": {
    "slideshow": {
     "slide_type": "subslide"
    }
   },
   "outputs": [
    {
     "data": {
      "text/plain": [
       "0"
      ]
     },
     "execution_count": 154,
     "metadata": {},
     "output_type": "execute_result"
    }
   ],
   "source": [
    "cos = [0]\n",
    "a = 0\n",
    "b = 0\n",
    "cos[a + b] #i po operatorach też"
   ]
  },
  {
   "cell_type": "code",
   "execution_count": 158,
   "metadata": {
    "slideshow": {
     "slide_type": "subslide"
    }
   },
   "outputs": [
    {
     "data": {
      "text/plain": [
       "[]"
      ]
     },
     "execution_count": 158,
     "metadata": {},
     "output_type": "execute_result"
    }
   ],
   "source": [
    "cos[a : b] #OK\n",
    "cos[a:b] #LEPIEJ\n",
    "cos[ : b] #NIE - od nawiasów bez przerw\n",
    "cos[:b] #TAK"
   ]
  },
  {
   "cell_type": "code",
   "execution_count": 160,
   "metadata": {
    "slideshow": {
     "slide_type": "subslide"
    }
   },
   "outputs": [],
   "source": [
    "x = 1 #Komentarz blokowy, krótki w tym miejscu\n",
    "y = 2 #Kolejny komentarz blokowy"
   ]
  },
  {
   "cell_type": "code",
   "execution_count": 161,
   "metadata": {
    "slideshow": {
     "slide_type": "subslide"
    }
   },
   "outputs": [],
   "source": [
    "def funkcja(a, b):\n",
    "    \"\"\"Tutaj tylko potrójny cudzysłów\"\"\"\n",
    "    pass\n"
   ]
  },
  {
   "cell_type": "code",
   "execution_count": 166,
   "metadata": {
    "slideshow": {
     "slide_type": "subslide"
    }
   },
   "outputs": [
    {
     "name": "stdout",
     "output_type": "stream",
     "text": [
      "kot\n",
      "pies\n",
      "łoś\n",
      "kot\n",
      "pies\n",
      "łoś\n"
     ]
    }
   ],
   "source": [
    "#Nazwy zmiennych zawsze powinny być sensowne i imformatywne\n",
    "#NIE:\n",
    "\n",
    "lista = ['kot','pies','łoś']\n",
    "for n in lista:\n",
    "    print(n)\n",
    "    \n",
    "#TAK:\n",
    "\n",
    "zwierzaki = ['kot','pies','łoś']\n",
    "for zwierzak in zwierzaki:\n",
    "    print(zwierzak)"
   ]
  },
  {
   "cell_type": "code",
   "execution_count": 167,
   "metadata": {
    "slideshow": {
     "slide_type": "subslide"
    }
   },
   "outputs": [],
   "source": [
    "#Unikać zmiennych które mogą się mylić\n",
    "\n",
    "#l\n",
    "#I\n",
    "#O"
   ]
  },
  {
   "cell_type": "code",
   "execution_count": 171,
   "metadata": {
    "slideshow": {
     "slide_type": "subslide"
    }
   },
   "outputs": [],
   "source": [
    "#Konwencje nazw:\n",
    "\n",
    "#Nazwy paczek - krótkie, małymi literami\n",
    "import math\n",
    "import numpy\n",
    "\n",
    "#Nazwy klas - CapWords\n",
    "\n",
    "class TimeSeries():\n",
    "    pass\n",
    "\n",
    "#Nazwy dodaktowych typów - CapWords i krótkie nazwy\n",
    "from collections import Counter\n",
    "\n",
    "#Nazwy funkcji - małymi i podkreślnikami\n",
    "def nazwa_funkcji():\n",
    "    pass\n",
    "\n",
    "#Nazwy zmiennych - tak samo jak funkcji:\n",
    "nowa_zmienna = 10\n",
    "\n",
    "#Nazwy metod - jak funkcje i zmienne, lepiej krótkie:\n",
    "x = \"tekst\"\n",
    "x.upper()\n",
    "\n",
    "#Stałe - wielkimi literami\n",
    "RADIUS = 6371000"
   ]
  },
  {
   "cell_type": "code",
   "execution_count": 172,
   "metadata": {
    "slideshow": {
     "slide_type": "subslide"
    }
   },
   "outputs": [
    {
     "name": "stdout",
     "output_type": "stream",
     "text": [
      "True\n",
      "True\n"
     ]
    }
   ],
   "source": [
    "#Zalecenia programistyczne:\n",
    "\n",
    "#Należy skracać instrukcje warunkowe if:\n",
    "\n",
    "x = True\n",
    "\n",
    "if x is True:\n",
    "    print(x)\n",
    "    \n",
    "#to to samo co:\n",
    "\n",
    "if x:\n",
    "    print(x)"
   ]
  },
  {
   "cell_type": "code",
   "execution_count": 174,
   "metadata": {
    "slideshow": {
     "slide_type": "subslide"
    }
   },
   "outputs": [
    {
     "name": "stdout",
     "output_type": "stream",
     "text": [
      "True\n",
      "True\n"
     ]
    }
   ],
   "source": [
    "#Nie używać porównania == do wartości logicznych\n",
    "#Nie\n",
    "if x == True:\n",
    "    print(x)\n",
    "    \n",
    "#Tak\n",
    "if x is True: #choć jak wiemy to nie jest poprawne\n",
    "    print(x)"
   ]
  },
  {
   "cell_type": "code",
   "execution_count": null,
   "metadata": {},
   "outputs": [],
   "source": []
  }
 ],
 "metadata": {
  "celltoolbar": "Slideshow",
  "kernelspec": {
   "display_name": "Python 3",
   "language": "python",
   "name": "python3"
  },
  "language_info": {
   "codemirror_mode": {
    "name": "ipython",
    "version": 3
   },
   "file_extension": ".py",
   "mimetype": "text/x-python",
   "name": "python",
   "nbconvert_exporter": "python",
   "pygments_lexer": "ipython3",
   "version": "3.7.1"
  }
 },
 "nbformat": 4,
 "nbformat_minor": 2
}

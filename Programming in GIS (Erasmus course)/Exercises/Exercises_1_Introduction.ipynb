{
 "cells": [
  {
   "cell_type": "markdown",
   "metadata": {
    "slideshow": {
     "slide_type": "slide"
    }
   },
   "source": [
    "# Exercises 1 - Python, Introduction"
   ]
  },
  {
   "cell_type": "markdown",
   "metadata": {},
   "source": [
    "GIS Programming\n",
    "\n",
    "These classes are designed to teach about Python programming language and its usage in the GIS platforms. For each module there is a list of exercises that has to be sent through:\n",
    "http://www.igig.up.wroc.pl/sprawozdania/\n",
    "\n",
    "On this webiste in the top widget select:\n",
    "\n",
    "    Studia: Stacjonarne (dzienne)\n",
    "\n",
    "And below:\n",
    "\n",
    "    Prowadzący: Kamil Smolak\n",
    "\n",
    "Click \"Dalej\". On the next page select \n",
    "\n",
    "    \"GIS Programming\" \n",
    "\n",
    "in the top widget.\n",
    "\n",
    "In the boxes below put your name and surname"
   ]
  },
  {
   "cell_type": "markdown",
   "metadata": {},
   "source": [
    "<h1>Materials and lists of exercises</h1>\n",
    "\n",
    "Dostępne na GitHub: https://github.com/SmolakK/PwSGIS\n",
    "\n",
    "Go for Programming in GIS (Erasmus course) folder.\n",
    "\n",
    "There are two modules\n",
    "        \n",
    "    Python (Exercises 1 to 5)\n",
    "    GIS Programming (Exercises 6 to the end of the classes)\n",
    "\n",
    "Every Monday a new exercise will appear online. The exercises are assigned to lessons as following:\n",
    "\n",
    "    Exercise 1 and 2 - List 1 \n",
    "    Exercise 3 and 4 - List 2\n",
    "    Exercise 5 - List 3\n",
    "    Exercise 6 and 7 - List 4\n",
    "    Exercise 8 and 9 - List 5\n",
    "    Exercise 10,11,12,13 - Final Project\n",
    "\n",
    "From the end of the last lesson assigned to the list you have <b>2 weeks</b> to send the solution.\n",
    "\n",
    "    List 1 (Deadline 30.03.2020)\n",
    "    List 2 (Deadline 13.04.2020)\n",
    "    List 3 (Deadline 20.04.2020)\n",
    "    List 4 (Deadline 4.04.2020)\n",
    "    List 5 (Deadline 18.05.2020)\n",
    "    Final Project (Deadline 12.06.2020)\n",
    "    \n",
    "Lists 1 to 3 have to be sent as a Jupyter Notebook *.ipynb file\n",
    "\n",
    "Lists 4 and 5 solutions have to be sent as a *.py file\n",
    "\n",
    "Final Project will be a QGIS Plugin which has to be sent as a *.zip file with a plugin"
   ]
  },
  {
   "cell_type": "markdown",
   "metadata": {
    "slideshow": {
     "slide_type": "slide"
    }
   },
   "source": [
    "<b>Contact</b>:\n",
    "\n",
    "<ul>\n",
    "<li>Kamil Smolak</li>\n",
    "\n",
    "<li>email: kamil.smolak@upwr.edu.pl</li>\n",
    "\n",
    "<li>room: 201G</li>\n",
    "\n",
    "<li>consultations: Tuesday 15:30 - 17:00</li>\n",
    "</ul>\n",
    "\n",
    "If you have questions you are welcome to come at consulations or polish classes at Monday 14:15 at 102G"
   ]
  },
  {
   "cell_type": "markdown",
   "metadata": {
    "slideshow": {
     "slide_type": "slide"
    }
   },
   "source": [
    "<h1>Short story about programming</h1>\n",
    "\n",
    " <img src=\"https://upload.wikimedia.org/wikipedia/commons/thumb/f/f8/Python_logo_and_wordmark.svg/240px-Python_logo_and_wordmark.svg.png\"> \n",
    " \n"
   ]
  },
  {
   "cell_type": "markdown",
   "metadata": {
    "slideshow": {
     "slide_type": "subslide"
    }
   },
   "source": [
    "<h2>About programming</h2>\n",
    "\n",
    "Programming is not only about <b> knowing the language syntax </b> but also <b> using it to solve problems </b>\n",
    "\n",
    "These classes are designed to:\n",
    "    <ul>\n",
    "    <li>Familiarize you with programming language and it application in the GIS environment</li>\n",
    "    <li>Learn you how to use it to solve problems and automate boring things,</li>\n",
    "    <li>Learn you <b>think Python</b>,</li>\n",
    "    </ul>"
   ]
  },
  {
   "cell_type": "markdown",
   "metadata": {
    "slideshow": {
     "slide_type": "subslide"
    }
   },
   "source": [
    "<h2>About Python</h2>\n",
    "\n",
    " <img src=\"https://upload.wikimedia.org/wikipedia/commons/thumb/f/f8/Python_logo_and_wordmark.svg/240px-Python_logo_and_wordmark.svg.png\"> \n",
    " \n",
    "Python is a <b> high-level</b> programming lanugage. It is also a representative of the <b>object-oriented programming</b> languages. It is very popular and widely used.\n"
   ]
  },
  {
   "cell_type": "markdown",
   "metadata": {
    "slideshow": {
     "slide_type": "slide"
    }
   },
   "source": [
    "<h1>Why Python?</h1>\n",
    "\n",
    "<h2>The answer: Libraries</h2>\n",
    "\n",
    "Plus:\n",
    "    \n",
    "    You have to write very little to acheive a lot, \n",
    "    It is easy to read\n",
    "    It manages the memory automatically\n",
    "    \n",
    "And that is why it was selected by many software developers. \n",
    "\n",
    "<h3> It can do anything!</h3>\n",
    "\n",
    "For almost every task there is a library that does that.\n"
   ]
  },
  {
   "cell_type": "markdown",
   "metadata": {
    "slideshow": {
     "slide_type": "slide"
    }
   },
   "source": [
    "<h1>Literature</h1>\n",
    "    <ul>\n",
    "    <li>A. B. Downey, J. Elkner, C. Meyers, “Think Python. How to Think Like a Computer Scientist”: http://www.greenteapress.com/thinkpython/</li>\n",
    "    <li>Matthes E., \"Python Crash Course: A Hands-On, Project-Based Introduction to Programming\"</li>\n",
    "    <li>Course: https://www.codecademy.com/learn/learn-python</li>\n",
    "    <li>Documentation: https://www.python.org/</li>\n",
    "    </ul>\n",
    "    "
   ]
  },
  {
   "cell_type": "markdown",
   "metadata": {
    "slideshow": {
     "slide_type": "slide"
    }
   },
   "source": []
  },
  {
   "cell_type": "markdown",
   "metadata": {
    "slideshow": {
     "slide_type": "slide"
    }
   },
   "source": [
    "<h1>Preparing the environment</h1>\n",
    "\n",
    "Mac i UNIX: Here Python should be already installed. You still need to prepare the environment. \n",
    "\n",
    "Windows: You have to install all.\n",
    "\n",
    "To do it - it is best to go for Anaconda https://www.anaconda.com/. It has Python and all the libraries we need.\n",
    "\n",
    "Go for 3.x version"
   ]
  },
  {
   "cell_type": "markdown",
   "metadata": {
    "slideshow": {
     "slide_type": "subslide"
    }
   },
   "source": [
    "<ol>\n",
    "    <li>Start *.exe file</li>\n",
    "    <li><b>Select \"Add Anaconda to the system PATH environment variable\"</b></li>\n",
    "    <li>Select \"Install\"</li>\n",
    "    <li>To start choose Anaconda Prompt or Anaconda Navigator (Graphical User Interface)</li>\n",
    "</ol>\n",
    "\n",
    "Od teraz Pythnon dostępny jest na komputerze. Możemy go wywołać uruchamiając konsolę i wpisując \"python\" i uruchamiając jego tryb <b>interaktywny</b>. W tym trybie można wykonywać operacje na bieżąco, nie można natomiast pisać programu/skryptu. Do tego potrzebne jest nam środowisko programistyczne.\n"
   ]
  },
  {
   "cell_type": "markdown",
   "metadata": {
    "slideshow": {
     "slide_type": "slide"
    }
   },
   "source": [
    "<h1>What is IDE?</h1>\n",
    "\n",
    "Integrated Development Environment is an programming environment used to create, modify and test a source code. There are many possible selections for IDE, some are paid some are not.\n",
    "\n",
    "The default IDE is called <b>IDLE</b>, which is very simple. You should have it by now.\n",
    "\n",
    "Anaconda installs <b>Spyder</b>, which is much better but we won't use it.\n",
    "\n",
    "<img src=\"https://www.marsja.se/wp-content/uploads/2016/01/Spyder_object_inspetor.png.png\">"
   ]
  },
  {
   "cell_type": "markdown",
   "metadata": {
    "slideshow": {
     "slide_type": "subslide"
    }
   },
   "source": [
    "<b>PyCharm</b> from JetBrains is really nice and free. We won't use that either\n",
    "\n",
    "<img src=\"https://www.jetbrains.com/pycharm/img/screenshots/simpleLook@2x.jpg\">"
   ]
  },
  {
   "cell_type": "markdown",
   "metadata": {
    "slideshow": {
     "slide_type": "subslide"
    }
   },
   "source": [
    "<h1>Jupyter Notebook</h1>\n",
    "\n",
    "Jupyter allows to edit the code as a series of consecutive lines where the output of each line is shown below it. It is easy to use and good to test new solution. You can easliy change the part of the code without affecting the rest of it.\n",
    "\n",
    "THIS lesson is Jupyter Notebook."
   ]
  },
  {
   "cell_type": "markdown",
   "metadata": {
    "slideshow": {
     "slide_type": "subslide"
    }
   },
   "source": [
    "To start Jupyter Notebook select \"Launch\" in Anaconda Navigator or type jupyter-notebook in Anaconda Prompt"
   ]
  },
  {
   "cell_type": "markdown",
   "metadata": {
    "slideshow": {
     "slide_type": "slide"
    }
   },
   "source": [
    "<h1>START!</h1>\n",
    "\n",
    "Let's start Python coding.\n",
    "\n",
    "Classic: show the \"Hello World!\" text"
   ]
  },
  {
   "cell_type": "code",
   "execution_count": 1,
   "metadata": {},
   "outputs": [
    {
     "name": "stdout",
     "output_type": "stream",
     "text": [
      "Hello World!\n"
     ]
    }
   ],
   "source": [
    "print(\"Hello World!\")"
   ]
  },
  {
   "cell_type": "markdown",
   "metadata": {
    "slideshow": {
     "slide_type": "slide"
    }
   },
   "source": [
    "<h1>Functions vs. Methods</h1>\n",
    "\n",
    "We have just used <b>function</b> showing the output \"print\". There are many methods in Python. What do they do?\n",
    "\n",
    "<img src=\"https://d2h0cx97tjks2p.cloudfront.net/blogs/wp-content/uploads/sites/2/2018/02/Python-Functions-vs-Methods-01-1024x536.jpg\">"
   ]
  },
  {
   "cell_type": "markdown",
   "metadata": {
    "slideshow": {
     "slide_type": "subslide"
    }
   },
   "source": [
    "<h1>Functions</h1>\n",
    "\n",
    "The syntax of function is:\n",
    "\n",
    "<i><b>name</b>(parameter_1,parameter_2,...,parameter_n)</i>\n",
    "\n",
    "There are <b>in-built functions</b> and <b>user-defined functions</b>.\n",
    "\n",
    "In-built functions are acessible instantly using Python (see: https://docs.python.org/2/library/functions.html). The <b>print()</b> is one of them.\n",
    "\n",
    "User-defined functions are defined by us to extend the functionality of the Python (we will deal with them later)."
   ]
  },
  {
   "cell_type": "markdown",
   "metadata": {
    "slideshow": {
     "slide_type": "subslide"
    }
   },
   "source": [
    "<h1> Methods </h1>\n",
    "\n",
    "Python is an <b>object-oriented programming language </b>. That means that everythin in it is an <b>object</b>. The object has attributes and <b> methods </b>.\n",
    "\n",
    "Methods are called from <b>objects</b>. The syntax is:\n",
    "<i><b>object_name</b>.method_name(parameter_1,parameter_2,...,parameter_n)</i>\n"
   ]
  },
  {
   "cell_type": "markdown",
   "metadata": {
    "slideshow": {
     "slide_type": "subslide"
    }
   },
   "source": [
    "<h1>Classes</h1>\n",
    "\n",
    "<b> Class </b> is an <b> abstraction </b> of some object. It is a generalised description of some element, which is defined by the class. Class defines its attributes and methods, which can be performed on it. It is used to describe real-world elements.\n",
    "\n",
    "Example\n",
    "\n",
    "Let's say we create a class\n",
    "\n",
    "<b> Pizza </b> - this is an abstraction of the real-world element, a type of food.\n",
    "\n",
    "It has attributes: \n",
    "<ul>\n",
    "    <li>Toppings</li>\n",
    "    <li>Sauce</li>\n",
    "</ul>\n",
    "\n",
    "And methods:\n",
    "<ul>\n",
    "    <li>Eat</li>\n",
    "    <li>Throw away</li>\n",
    "</ul>\n"
   ]
  },
  {
   "cell_type": "markdown",
   "metadata": {
    "slideshow": {
     "slide_type": "subslide"
    }
   },
   "source": [
    "<h1>Instantion</h1>\n",
    "\n",
    "Is a class realisation.\n",
    "\n",
    "So with the example:\n",
    "\n",
    "When we bake a pizza we are creating the realisation of an abstraction - we give it the attributes: toppings (cheese and mushrooms) and sauce (tomato sauce). After that we receive a realisation of the class - an instantion <i>pizza_funghi</i>\n",
    "\n",
    "Now we can call a method defined for it while baking:\n",
    "\n",
    "pizza_funghi.eat()"
   ]
  },
  {
   "cell_type": "markdown",
   "metadata": {
    "slideshow": {
     "slide_type": "subslide"
    }
   },
   "source": [
    "<h3>Python example</h3>\n"
   ]
  },
  {
   "cell_type": "code",
   "execution_count": 2,
   "metadata": {},
   "outputs": [
    {
     "data": {
      "text/plain": [
       "'PIZZA'"
      ]
     },
     "execution_count": 2,
     "metadata": {},
     "output_type": "execute_result"
    }
   ],
   "source": [
    "a = \"pizza\" #text type\n",
    "a.upper() #upper method, returns the text in the upper case"
   ]
  },
  {
   "cell_type": "markdown",
   "metadata": {
    "slideshow": {
     "slide_type": "slide"
    }
   },
   "source": [
    "<h1>Python data types</h1>\n",
    "\n",
    "<b> Numeric </b>\n",
    "<ul>\n",
    "<li> Integer (int)</li>\n",
    "<li> Float </li>\n",
    "</ul>"
   ]
  },
  {
   "cell_type": "code",
   "execution_count": 27,
   "metadata": {},
   "outputs": [
    {
     "data": {
      "text/plain": [
       "int"
      ]
     },
     "execution_count": 27,
     "metadata": {},
     "output_type": "execute_result"
    }
   ],
   "source": [
    "type(3)"
   ]
  },
  {
   "cell_type": "code",
   "execution_count": 28,
   "metadata": {},
   "outputs": [
    {
     "data": {
      "text/plain": [
       "float"
      ]
     },
     "execution_count": 28,
     "metadata": {},
     "output_type": "execute_result"
    }
   ],
   "source": [
    "type(3.0)"
   ]
  },
  {
   "cell_type": "code",
   "execution_count": 29,
   "metadata": {},
   "outputs": [
    {
     "data": {
      "text/plain": [
       "complex"
      ]
     },
     "execution_count": 29,
     "metadata": {},
     "output_type": "execute_result"
    }
   ],
   "source": [
    "type(1+1j)"
   ]
  },
  {
   "cell_type": "markdown",
   "metadata": {
    "slideshow": {
     "slide_type": "subslide"
    }
   },
   "source": [
    "<b> Text </b>\n",
    "String"
   ]
  },
  {
   "cell_type": "code",
   "execution_count": 31,
   "metadata": {},
   "outputs": [
    {
     "data": {
      "text/plain": [
       "str"
      ]
     },
     "execution_count": 31,
     "metadata": {},
     "output_type": "execute_result"
    }
   ],
   "source": [
    "type(\"Tekst\")"
   ]
  },
  {
   "cell_type": "code",
   "execution_count": 32,
   "metadata": {},
   "outputs": [
    {
     "data": {
      "text/plain": [
       "str"
      ]
     },
     "execution_count": 32,
     "metadata": {},
     "output_type": "execute_result"
    }
   ],
   "source": [
    "type('Tekst')"
   ]
  },
  {
   "cell_type": "code",
   "execution_count": 33,
   "metadata": {},
   "outputs": [
    {
     "data": {
      "text/plain": [
       "str"
      ]
     },
     "execution_count": 33,
     "metadata": {},
     "output_type": "execute_result"
    }
   ],
   "source": [
    "type(\"\"\"Tekst\"\"\")"
   ]
  },
  {
   "cell_type": "markdown",
   "metadata": {
    "slideshow": {
     "slide_type": "subslide"
    }
   },
   "source": [
    "<b>Boolean</b>"
   ]
  },
  {
   "cell_type": "code",
   "execution_count": 34,
   "metadata": {},
   "outputs": [
    {
     "data": {
      "text/plain": [
       "bool"
      ]
     },
     "execution_count": 34,
     "metadata": {},
     "output_type": "execute_result"
    }
   ],
   "source": [
    "type(True)"
   ]
  },
  {
   "cell_type": "markdown",
   "metadata": {
    "slideshow": {
     "slide_type": "slide"
    }
   },
   "source": [
    "<h1>Assigning variables</h1>\n"
   ]
  },
  {
   "cell_type": "code",
   "execution_count": 3,
   "metadata": {},
   "outputs": [
    {
     "data": {
      "text/plain": [
       "int"
      ]
     },
     "execution_count": 3,
     "metadata": {},
     "output_type": "execute_result"
    }
   ],
   "source": [
    "a = 3 #assigns an integer to the \"a\"\n",
    "type(a)"
   ]
  },
  {
   "cell_type": "markdown",
   "metadata": {},
   "source": [
    "<h2> Python's variables are dynamic </h2>\n",
    "We can change the type of the variable anytime (not possible in the most of the languages)"
   ]
  },
  {
   "cell_type": "code",
   "execution_count": 6,
   "metadata": {},
   "outputs": [],
   "source": [
    "a = \"trzy\" #Now \"a\" is string\n",
    "type(a)"
   ]
  },
  {
   "cell_type": "markdown",
   "metadata": {
    "slideshow": {
     "slide_type": "slide"
    }
   },
   "source": [
    "<h2>Each variable has its specific attributes</h2>"
   ]
  },
  {
   "cell_type": "code",
   "execution_count": 9,
   "metadata": {},
   "outputs": [
    {
     "data": {
      "text/plain": [
       "int"
      ]
     },
     "execution_count": 9,
     "metadata": {},
     "output_type": "execute_result"
    }
   ],
   "source": [
    "a = 3\n",
    "type(a)"
   ]
  },
  {
   "cell_type": "code",
   "execution_count": null,
   "metadata": {},
   "outputs": [],
   "source": [
    "a + a #what does it returns?"
   ]
  },
  {
   "cell_type": "code",
   "execution_count": 4,
   "metadata": {},
   "outputs": [
    {
     "data": {
      "text/plain": [
       "str"
      ]
     },
     "execution_count": 4,
     "metadata": {},
     "output_type": "execute_result"
    }
   ],
   "source": [
    "a = \"3\"\n",
    "type(a)"
   ]
  },
  {
   "cell_type": "code",
   "execution_count": null,
   "metadata": {},
   "outputs": [],
   "source": [
    "a+a+a  #what does it returns? Why?"
   ]
  },
  {
   "cell_type": "markdown",
   "metadata": {
    "slideshow": {
     "slide_type": "slide"
    }
   },
   "source": [
    "<h1>Arithmetic operations</h1>\n",
    "Baisc arithmetic operations are defined within Python"
   ]
  },
  {
   "cell_type": "code",
   "execution_count": 13,
   "metadata": {},
   "outputs": [
    {
     "data": {
      "text/plain": [
       "4"
      ]
     },
     "execution_count": 13,
     "metadata": {},
     "output_type": "execute_result"
    }
   ],
   "source": [
    "2 + 2"
   ]
  },
  {
   "cell_type": "code",
   "execution_count": 14,
   "metadata": {},
   "outputs": [
    {
     "data": {
      "text/plain": [
       "8"
      ]
     },
     "execution_count": 14,
     "metadata": {},
     "output_type": "execute_result"
    }
   ],
   "source": [
    "2 * 4"
   ]
  },
  {
   "cell_type": "code",
   "execution_count": 15,
   "metadata": {},
   "outputs": [
    {
     "data": {
      "text/plain": [
       "4.0"
      ]
     },
     "execution_count": 15,
     "metadata": {},
     "output_type": "execute_result"
    }
   ],
   "source": [
    "2 + 2.0 #this returns a float"
   ]
  },
  {
   "cell_type": "code",
   "execution_count": 16,
   "metadata": {},
   "outputs": [
    {
     "data": {
      "text/plain": [
       "8"
      ]
     },
     "execution_count": 16,
     "metadata": {},
     "output_type": "execute_result"
    }
   ],
   "source": [
    "12 - 4"
   ]
  },
  {
   "cell_type": "code",
   "execution_count": 4,
   "metadata": {},
   "outputs": [
    {
     "data": {
      "text/plain": [
       "1.6666666666666667"
      ]
     },
     "execution_count": 4,
     "metadata": {},
     "output_type": "execute_result"
    }
   ],
   "source": [
    "5/3 #In Python2 it rounds the result to the integer, in Python 3 not anymore"
   ]
  },
  {
   "cell_type": "code",
   "execution_count": 19,
   "metadata": {},
   "outputs": [
    {
     "data": {
      "text/plain": [
       "625"
      ]
     },
     "execution_count": 19,
     "metadata": {},
     "output_type": "execute_result"
    }
   ],
   "source": [
    "5 ** 4 #power"
   ]
  },
  {
   "cell_type": "code",
   "execution_count": 21,
   "metadata": {},
   "outputs": [
    {
     "data": {
      "text/plain": [
       "1"
      ]
     },
     "execution_count": 21,
     "metadata": {},
     "output_type": "execute_result"
    }
   ],
   "source": [
    "5 % 2 #Modulo operation"
   ]
  },
  {
   "cell_type": "markdown",
   "metadata": {
    "slideshow": {
     "slide_type": "slide"
    }
   },
   "source": [
    "<h1> Types casting </h1>\n",
    "Changes a variable type"
   ]
  },
  {
   "cell_type": "code",
   "execution_count": null,
   "metadata": {},
   "outputs": [],
   "source": [
    "int(5.4) #what does it return?"
   ]
  },
  {
   "cell_type": "code",
   "execution_count": null,
   "metadata": {},
   "outputs": [],
   "source": [
    "float(4) #what does it return?"
   ]
  },
  {
   "cell_type": "code",
   "execution_count": null,
   "metadata": {},
   "outputs": [],
   "source": [
    "str(23)#what does it return?"
   ]
  },
  {
   "cell_type": "code",
   "execution_count": null,
   "metadata": {},
   "outputs": [],
   "source": [
    "complex(1,4) #what does it return?"
   ]
  },
  {
   "cell_type": "code",
   "execution_count": null,
   "metadata": {},
   "outputs": [],
   "source": [
    "bool(1) #what does it return?"
   ]
  },
  {
   "cell_type": "markdown",
   "metadata": {
    "slideshow": {
     "slide_type": "slide"
    }
   },
   "source": [
    "<h1> Arithmetic operations part 2:</h1>"
   ]
  },
  {
   "cell_type": "code",
   "execution_count": 36,
   "metadata": {},
   "outputs": [
    {
     "data": {
      "text/plain": [
       "2"
      ]
     },
     "execution_count": 36,
     "metadata": {},
     "output_type": "execute_result"
    }
   ],
   "source": [
    "abs(-2) #absolute value"
   ]
  },
  {
   "cell_type": "code",
   "execution_count": 40,
   "metadata": {},
   "outputs": [
    {
     "data": {
      "text/plain": [
       "(1, 1)"
      ]
     },
     "execution_count": 40,
     "metadata": {},
     "output_type": "execute_result"
    }
   ],
   "source": [
    "divmod(4, 3) #returns the result of division and modulo operation result"
   ]
  },
  {
   "cell_type": "code",
   "execution_count": 41,
   "metadata": {},
   "outputs": [
    {
     "data": {
      "text/plain": [
       "16"
      ]
     },
     "execution_count": 41,
     "metadata": {},
     "output_type": "execute_result"
    }
   ],
   "source": [
    "pow(2,4) #power, equall to 2 ** 4"
   ]
  },
  {
   "cell_type": "code",
   "execution_count": 6,
   "metadata": {},
   "outputs": [
    {
     "data": {
      "text/plain": [
       "5"
      ]
     },
     "execution_count": 6,
     "metadata": {},
     "output_type": "execute_result"
    }
   ],
   "source": [
    "round(4.6) #rounds the value"
   ]
  },
  {
   "cell_type": "markdown",
   "metadata": {
    "slideshow": {
     "slide_type": "slide"
    }
   },
   "source": [
    "<h1> Error </h1>\n",
    "\n",
    "It is <b> very important </b> to use Traceback tool. Every time something does no work, analyse the traceback call to find out the reason of the error.\n",
    "\n",
    "The example below says:\n",
    "\n",
    "    The type of error - ValueError (wrong value)\n",
    "    File name where error occurs <ipython-input-47-8522ceeb0>\n",
    "    The line of code where error occures: 1 (line 1)\n",
    "    Short comment: \"could not convert string to float:\""
   ]
  },
  {
   "cell_type": "code",
   "execution_count": 7,
   "metadata": {},
   "outputs": [
    {
     "ename": "ValueError",
     "evalue": "could not convert string to float: 'You cannot convert string to float'",
     "output_type": "error",
     "traceback": [
      "\u001b[1;31m---------------------------------------------------------------------------\u001b[0m",
      "\u001b[1;31mValueError\u001b[0m                                Traceback (most recent call last)",
      "\u001b[1;32m<ipython-input-7-880f5ff0ad04>\u001b[0m in \u001b[0;36m<module>\u001b[1;34m\u001b[0m\n\u001b[1;32m----> 1\u001b[1;33m \u001b[0mfloat\u001b[0m\u001b[1;33m(\u001b[0m\u001b[1;34m\"You cannot convert string to float\"\u001b[0m\u001b[1;33m)\u001b[0m\u001b[1;33m\u001b[0m\u001b[1;33m\u001b[0m\u001b[0m\n\u001b[0m",
      "\u001b[1;31mValueError\u001b[0m: could not convert string to float: 'You cannot convert string to float'"
     ]
    }
   ],
   "source": [
    "float(\"You cannot convert string to float\")"
   ]
  },
  {
   "cell_type": "markdown",
   "metadata": {
    "slideshow": {
     "slide_type": "slide"
    }
   },
   "source": [
    "<h1> Importing libraries </h1>\n",
    "\n",
    "Libraries have additional functionalities, methods and classes.\n",
    "\n",
    "You can do it this way:"
   ]
  },
  {
   "cell_type": "code",
   "execution_count": 48,
   "metadata": {},
   "outputs": [],
   "source": [
    "import math #all the library\n",
    "from math import * #all the library but each function is imported separately\n",
    "from math import sqrt #import one function only"
   ]
  },
  {
   "cell_type": "markdown",
   "metadata": {
    "slideshow": {
     "slide_type": "subslide"
    }
   },
   "source": [
    "<h4>With the example of square root function \"sqrt\"</h4>"
   ]
  },
  {
   "cell_type": "code",
   "execution_count": 50,
   "metadata": {},
   "outputs": [
    {
     "data": {
      "text/plain": [
       "2.0"
      ]
     },
     "execution_count": 50,
     "metadata": {},
     "output_type": "execute_result"
    }
   ],
   "source": [
    "import math\n",
    "math.sqrt(4)"
   ]
  },
  {
   "cell_type": "code",
   "execution_count": 51,
   "metadata": {},
   "outputs": [
    {
     "data": {
      "text/plain": [
       "2.0"
      ]
     },
     "execution_count": 51,
     "metadata": {},
     "output_type": "execute_result"
    }
   ],
   "source": [
    "from math import *\n",
    "sqrt(4) #you don't have to call the library name, only function name"
   ]
  },
  {
   "cell_type": "code",
   "execution_count": 53,
   "metadata": {
    "slideshow": {
     "slide_type": "subslide"
    }
   },
   "outputs": [
    {
     "data": {
      "text/plain": [
       "['__doc__',\n",
       " '__loader__',\n",
       " '__name__',\n",
       " '__package__',\n",
       " '__spec__',\n",
       " 'acos',\n",
       " 'acosh',\n",
       " 'asin',\n",
       " 'asinh',\n",
       " 'atan',\n",
       " 'atan2',\n",
       " 'atanh',\n",
       " 'ceil',\n",
       " 'copysign',\n",
       " 'cos',\n",
       " 'cosh',\n",
       " 'degrees',\n",
       " 'e',\n",
       " 'erf',\n",
       " 'erfc',\n",
       " 'exp',\n",
       " 'expm1',\n",
       " 'fabs',\n",
       " 'factorial',\n",
       " 'floor',\n",
       " 'fmod',\n",
       " 'frexp',\n",
       " 'fsum',\n",
       " 'gamma',\n",
       " 'gcd',\n",
       " 'hypot',\n",
       " 'inf',\n",
       " 'isclose',\n",
       " 'isfinite',\n",
       " 'isinf',\n",
       " 'isnan',\n",
       " 'ldexp',\n",
       " 'lgamma',\n",
       " 'log',\n",
       " 'log10',\n",
       " 'log1p',\n",
       " 'log2',\n",
       " 'modf',\n",
       " 'nan',\n",
       " 'pi',\n",
       " 'pow',\n",
       " 'radians',\n",
       " 'sin',\n",
       " 'sinh',\n",
       " 'sqrt',\n",
       " 'tan',\n",
       " 'tanh',\n",
       " 'tau',\n",
       " 'trunc']"
      ]
     },
     "execution_count": 53,
     "metadata": {},
     "output_type": "execute_result"
    }
   ],
   "source": [
    "dir(math) #all the functions"
   ]
  },
  {
   "cell_type": "markdown",
   "metadata": {
    "slideshow": {
     "slide_type": "slide"
    }
   },
   "source": [
    "Math library documentation: https://docs.python.org/2/library/math.html"
   ]
  }
 ],
 "metadata": {
  "celltoolbar": "Slideshow",
  "kernelspec": {
   "display_name": "Python 3",
   "language": "python",
   "name": "python3"
  },
  "language_info": {
   "codemirror_mode": {
    "name": "ipython",
    "version": 3
   },
   "file_extension": ".py",
   "mimetype": "text/x-python",
   "name": "python",
   "nbconvert_exporter": "python",
   "pygments_lexer": "ipython3",
   "version": "3.7.1"
  }
 },
 "nbformat": 4,
 "nbformat_minor": 2
}

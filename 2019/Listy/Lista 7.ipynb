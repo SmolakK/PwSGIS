{
 "cells": [
  {
   "cell_type": "markdown",
   "metadata": {},
   "source": [
    "<h1> Lista 7 - QGIS i Python </h1>\n",
    "\n",
    "Wykonaj poniższe zadania w formie skryptów w QGIS 3, zapisze je w plikach *.py i prześlij na e-sprawozdania\n",
    "\n",
    "1. Napisz funkcję, która jako argument przyjmie ścieżkę do pliku. W zależności od tego czy jest to *.TIF czy *.SHP ładuje ją jako warstwę wektorową lub rastrową. Przetestuj funkcję ładując pliki bogota.tif i budynki.shp dostępne w folderze \"Pliki\".\n",
    "\n",
    "2. Wykorzystując funkcję z zadania nr 1, napisz kolejną, która podczytuje plik rastrowy i zapisuje jego parametry: szerokosc, wysokosc, zakres, typ rastra, liczba kanałów oraz układ odniesienia do pliku wybranego przez użytkownika txt\n",
    "\n",
    "3. Napisz skrypt który:\n",
    "\n",
    "\ta) Tworzy nowy projekt o podanej przez użytkownika nazwie (jako parametr) i zapisuje go do dowolnej lokalizacji\n",
    "\n",
    "\tb) wczytuje warstwę wektorową budynki.shp\n",
    "\n",
    "\tc) Obliczba powierzchnię wszystkich budynków, których atrybut \"building\" jest równy wartości podanej przez uzytkownika."
   ]
  },
  {
   "cell_type": "code",
   "execution_count": null,
   "metadata": {},
   "outputs": [],
   "source": []
  }
 ],
 "metadata": {
  "kernelspec": {
   "display_name": "Python 3",
   "language": "python",
   "name": "python3"
  },
  "language_info": {
   "codemirror_mode": {
    "name": "ipython",
    "version": 3
   },
   "file_extension": ".py",
   "mimetype": "text/x-python",
   "name": "python",
   "nbconvert_exporter": "python",
   "pygments_lexer": "ipython3",
   "version": "3.7.1"
  }
 },
 "nbformat": 4,
 "nbformat_minor": 2
}

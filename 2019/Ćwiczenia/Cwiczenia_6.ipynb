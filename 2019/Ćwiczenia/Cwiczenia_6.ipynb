{
 "cells": [
  {
   "cell_type": "markdown",
   "metadata": {},
   "source": [
    "<h1> Ćwiczenia 6 - Programowanie w GIS (QGIS)- warstwy, projekty, podstawowe funkcjonalności </h1>\n",
    "\n",
    "Na wykładzie poruszyliśmy już 5 podstawowych klas, które będziemy używać:\n",
    "\n",
    "<ul>\n",
    "    <li>QgsProject - klasa projektu </li>\n",
    "    <li>QgsVectorLayer - klasa warstwy wektorowej </li>\n",
    "    <li>QgsRasterLayer - klasa warstwy rastrowej </li>\n",
    "    <li>QgsMapLayerRegistry - rejestr warstw </li>\n",
    "    <li>iface - klasa interfejsu aplikacji </li>\n",
    "</ul>\n",
    "\n",
    "Rozpocznijmy od przetestowania kilku podstawowych funkcjonalności API.\n",
    "\n",
    "Zawsze zaczynamy od importu biblioteki core, zawierającej podstawowe funkcjonalności.\n",
    "\n"
   ]
  },
  {
   "cell_type": "code",
   "execution_count": null,
   "metadata": {},
   "outputs": [],
   "source": [
    "from qgis.core import *"
   ]
  },
  {
   "cell_type": "markdown",
   "metadata": {},
   "source": [
    "Następnie możemy stworzyć instancję obecnie otwartego projektu."
   ]
  },
  {
   "cell_type": "code",
   "execution_count": null,
   "metadata": {},
   "outputs": [],
   "source": [
    "projekt = QgsProject.instance()\n",
    "projekt.fileName() # nazwa projektu, obecnie pusta\n",
    "sciezka = \"\"\"C://sciezka//do//pliku\"\"\"\n",
    "projekt.write(sciezka) #zapis projektu\n",
    "projekt.read(sciezka) #wczytanie projektu"
   ]
  },
  {
   "cell_type": "markdown",
   "metadata": {},
   "source": [
    "<h3>Warstwy wektorowe</h3>\n",
    "Dodamy warstwę wektorową.\n",
    "Zwróć uwagę na wykorzystanie biblioteki os."
   ]
  },
  {
   "cell_type": "code",
   "execution_count": null,
   "metadata": {},
   "outputs": [],
   "source": [
    "import os\n",
    "vlayer = QgsVectorLayer(os.path.join(wektor_folder,\"Drogi_JG.shp\"),\"drogi\",\"ogr\") #ładowanie warstwy do zmienne\n",
    "#to nie dodaje warstwy do mapy!\n",
    "rejestr = QgsMapLayerRegistry.instance()\n",
    "rejestr.addMapLayer(vlayer) #to dodaje!"
   ]
  },
  {
   "cell_type": "markdown",
   "metadata": {},
   "source": [
    "Lub wprost do rejestru:"
   ]
  },
  {
   "cell_type": "code",
   "execution_count": null,
   "metadata": {},
   "outputs": [],
   "source": [
    "iface.addVectorLayer(os.path.join(wektor_folder,\"Budynki_JG.shp\"),\"drogi\",\"ogr\")"
   ]
  },
  {
   "cell_type": "markdown",
   "metadata": {},
   "source": [
    "Usuwanie:"
   ]
  },
  {
   "cell_type": "code",
   "execution_count": null,
   "metadata": {},
   "outputs": [],
   "source": [
    "rejestr.removeMapLayer(vlayer) #jesli jest w zmiennej\n",
    "\n",
    "\n",
    "rejestr.removeMapLayer(\"id\") #musimy odnalezc id jesli dodalismy ja przez iface.\n",
    "rejestr.mapLayers() #za pomocą tego polecenia\n",
    "\n",
    "#Jak dodac wszystkie warstwy z folderu?"
   ]
  },
  {
   "cell_type": "markdown",
   "metadata": {},
   "source": [
    "<h3>Warstwy rastrowe</h3>\n",
    "Wszystko odbywa się analogicznie, z rożnicą, że nie ma potrzeby definicji sterownika obsługującego warstwę."
   ]
  },
  {
   "cell_type": "code",
   "execution_count": null,
   "metadata": {},
   "outputs": [],
   "source": [
    "iface.addRasterLayer(\"X:\\\\GitHub\\\\PwSGIS\\\\Ćwiczenia\\\\QGISRaster\\\\bogota.tif\",\"Bogota\")"
   ]
  },
  {
   "cell_type": "code",
   "execution_count": null,
   "metadata": {},
   "outputs": [],
   "source": [
    "rlayer = iface.addRasterLayer(\"X:\\\\GitHub\\\\PwSGIS\\\\Ćwiczenia\\\\QGISRaster\\\\bogota.tif\",\"Bogota\") #iface zwraca wskaznik do zmiennej, wiec mozna to wykorzystac by potem ja wygodnie usunac\n",
    "rejestr.removeMapLayer(rlayer)"
   ]
  },
  {
   "cell_type": "markdown",
   "metadata": {},
   "source": [
    "<h4>Szczegóły warstwy - raster </h4>\n",
    "\n",
    "Dostęp do danych, wartości, operacje\n",
    "\n",
    "<b>Podstawowe właściwości:</b>"
   ]
  },
  {
   "cell_type": "code",
   "execution_count": null,
   "metadata": {
    "collapsed": true
   },
   "outputs": [],
   "source": [
    "rlayer.width()\n",
    "\n",
    "rlayer.height()\n",
    "\n",
    "rlayer.extent()\n",
    "\n",
    "rlayer.extent().toString()\n",
    "rlayer.rasterType() #0 = Skala szarosci, 1 = (single band), 2 = Multiband\n",
    "\n",
    "rlayer.isValid()\n",
    "\n",
    "rlayer.bandCount()\n",
    "\n",
    "rlayer.metadata()\n"
   ]
  },
  {
   "cell_type": "markdown",
   "metadata": {},
   "source": [
    "Odczyt wartości piksela:"
   ]
  },
  {
   "cell_type": "code",
   "execution_count": null,
   "metadata": {},
   "outputs": [],
   "source": [
    "ident = rlayer.dataProvider().identify(QgsPointXY(453138,81225), QgsRaster.IdentifyFormatValue)\n",
    "ident.results()"
   ]
  },
  {
   "cell_type": "markdown",
   "metadata": {},
   "source": [
    "Sporo się tu wydarzyło. Przedewszystkim rlayer to nasza warstwa. dataProvider() to nowa klasa - klasa przechowująca dane w warstwie - wartości pikseli lub wartości atrybutów w warstwach wektorowych. Posiada ona metodę identify (patrz dokumentacja). Jej syntax to:\n",
    "\n",
    "identify(QgsPoint, format)\n",
    "\n",
    "Qgis korzysta z własnych typów danych - tutaj jest to punkt QGIS, dlatego współrzędne należało definiować w tym typie danych."
   ]
  },
  {
   "cell_type": "markdown",
   "metadata": {},
   "source": [
    "<h4> Szczegóły warstwy - wektor </h4>\n",
    "\n",
    "Dostęp do danych, wartości operacje:"
   ]
  },
  {
   "cell_type": "code",
   "execution_count": null,
   "metadata": {},
   "outputs": [],
   "source": [
    "#Ładujemy dane\n",
    "drogi = iface.addVectorLayer(os.path.join(wektor_folder,\"Drogi_JG.shp\"),\"\",\"ogr\")\n",
    "budynki = iface.addVectorLayer(os.path.join(wektor_folder,\"Budynki_JG.shp\"),\"drogi\",\"ogr\")\n",
    "#Przegląd atrybutów\n",
    "for pole in drogi.fields():\n",
    "\tprint(pole.name(), pole.typeName())\n"
   ]
  },
  {
   "cell_type": "code",
   "execution_count": null,
   "metadata": {},
   "outputs": [],
   "source": [
    "#Możemy wybrać aktywną warstwę i przypisać ją pod zmienną:\n",
    "layer = iface.activeLayer()"
   ]
  },
  {
   "cell_type": "code",
   "execution_count": null,
   "metadata": {},
   "outputs": [],
   "source": [
    "#Pozyskanie obiektów na warstwie\n",
    "layer.getFeatures() #zwraca iterator, nie listę, można się dopiero przez nią iterować\n",
    "features = [feature for feature in drogi.getFeatures()][:20]"
   ]
  },
  {
   "cell_type": "code",
   "execution_count": null,
   "metadata": {},
   "outputs": [],
   "source": [
    "for obiekt in features:\n",
    "    print(obiekt.id())\n",
    "    \n",
    "for obiekt in features:\n",
    "    print(obiekt.geometry()) #Zwraca klasę geometrii\n",
    "\n",
    "for obiekt in features:\n",
    "    print(obiekt.geometry().length())\n",
    "\n",
    "for obiekt in features:\n",
    "    print(obiekt.attributes())\n",
    "\n",
    "for obiekt in features:\n",
    "    print(obiekt['highway'])\n"
   ]
  },
  {
   "cell_type": "markdown",
   "metadata": {},
   "source": [
    "Selekcja:"
   ]
  },
  {
   "cell_type": "code",
   "execution_count": null,
   "metadata": {},
   "outputs": [],
   "source": [
    "drogi.selectAll()\n",
    "\n",
    "drogi.selectByExpression(\"\"\" \"highway\" = 'secondary' \"\"\")"
   ]
  },
  {
   "cell_type": "code",
   "execution_count": null,
   "metadata": {},
   "outputs": [],
   "source": [
    "iface.mapCanvas() #klasa płótna, czyli wyświetlanej mapy, pozwala na edycję wyświetlania\n",
    "\n",
    "drogi.selectAll()\n",
    "iface.mapCanvas().setSelectionColor( QColor(\"magenta\"))\n",
    "\n",
    "#Lub w HEX RGB\n",
    "iface.mapCanvas().setSelectionColor( QColor(\"#FFFF00\"))"
   ]
  },
  {
   "cell_type": "markdown",
   "metadata": {},
   "source": [
    "Iteracja po selekcji"
   ]
  },
  {
   "cell_type": "code",
   "execution_count": null,
   "metadata": {},
   "outputs": [],
   "source": [
    "drogi.selectByExpression(\"\"\" \"highway\" = 'secondary'\"\"\")\n",
    "selection = drogi.selectedFeatures()\n",
    "print(len(selection))\n",
    "for feature in selection:\n",
    "    print(feature.id())\n"
   ]
  },
  {
   "cell_type": "markdown",
   "metadata": {},
   "source": [
    "<h3> To wszystko na dziś! Wykonaj zadania z Listy 6 </h3>"
   ]
  },
  {
   "cell_type": "code",
   "execution_count": null,
   "metadata": {},
   "outputs": [],
   "source": []
  }
 ],
 "metadata": {
  "kernelspec": {
   "display_name": "Python 3",
   "language": "python",
   "name": "python3"
  },
  "language_info": {
   "codemirror_mode": {
    "name": "ipython",
    "version": 3
   },
   "file_extension": ".py",
   "mimetype": "text/x-python",
   "name": "python",
   "nbconvert_exporter": "python",
   "pygments_lexer": "ipython3",
   "version": "3.7.1"
  }
 },
 "nbformat": 4,
 "nbformat_minor": 2
}

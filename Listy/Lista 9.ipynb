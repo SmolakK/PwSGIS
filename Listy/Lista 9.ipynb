{
 "cells": [
  {
   "cell_type": "markdown",
   "metadata": {},
   "source": [
    "<h2> Lista 9 - kalkulator pól </h2>"
   ]
  },
  {
   "cell_type": "markdown",
   "metadata": {},
   "source": [
    "To już ostatnie zadanie z pyQGIS!\n",
    "\n",
    "Wykorzystamy kalkulator pól do policzenia prawdopodobieństwa wystąpienia obiektów w danym obszarze.\n",
    "\n",
    "W folderze pliki dana jest warstwa o nazwie \"Lista9_warstwa.shp\", załaduj ją do QGIS.\n",
    "\n",
    "Warstwa to siatka agregacji zliczeń wystąpienia radzkiego gatunku ptaka na obszarze Szkocji. Celem jest obliczenie prawdopodobieństwo występowania tych ptaków w danej lokacji poprzez proporcjonalne zliczenie wystąpień do całkowitej liczby zliczeń.\n",
    "\n",
    "Warstwa składa się z pól:\n",
    "\n",
    "    id - identyfikator\n",
    "    \n",
    "    xmin,xmax,ymin,ymax - współrzędne naróżników siatki\n",
    "    \n",
    "    NUMPOINTS - zliczenia\n",
    "    \n",
    "Obliczenie prawdopodobieństwa sprowadza się do podzielenia:\n",
    "\n",
    "    liczby wystąpień \n",
    "    \n",
    "    przez \n",
    "    całkowitą liczbę wystąpień w warstwie. \n",
    "    \n",
    "Otrzymamy w ten spsób znormalizowaną liczbę wystąpień, która jest też prawdopodobieństwem.\n",
    "\n",
    "Suma prawdopodobieńst powinna się równać jedności.\n",
    "\n",
    "Tego zadania nie da się wykonać nieprogramistycznie!\n",
    "\n",
    "Zadanie zatem to:\n",
    "\n",
    "1. Napisz skrypt, który w warstwie \"Lista9_warstwa.shp\" stworzy kolumnę o nazwie \"P\" typu Double, która będzie zawierała prawdopodobieństwo wystąpienia obecności obserwowanych gatunków ptaków.\n",
    "\n",
    "2. Dodatkowo wykonaj sprawdzenie, czy znormalizowane wartości prawdodobieństwa równają się jedności. Wynik wyświetl do konsoli.\n",
    "\n",
    "Powodzenia!"
   ]
  },
  {
   "cell_type": "code",
   "execution_count": null,
   "metadata": {},
   "outputs": [],
   "source": []
  }
 ],
 "metadata": {
  "kernelspec": {
   "display_name": "Python 3",
   "language": "python",
   "name": "python3"
  },
  "language_info": {
   "codemirror_mode": {
    "name": "ipython",
    "version": 3
   },
   "file_extension": ".py",
   "mimetype": "text/x-python",
   "name": "python",
   "nbconvert_exporter": "python",
   "pygments_lexer": "ipython3",
   "version": "3.7.1"
  }
 },
 "nbformat": 4,
 "nbformat_minor": 2
}

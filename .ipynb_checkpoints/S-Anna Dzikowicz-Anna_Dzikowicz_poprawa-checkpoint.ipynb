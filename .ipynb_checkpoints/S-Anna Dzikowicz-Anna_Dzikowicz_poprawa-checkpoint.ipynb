{
 "cells": [
  {
   "cell_type": "code",
   "execution_count": 1,
   "metadata": {},
   "outputs": [
    {
     "name": "stdout",
     "output_type": "stream",
     "text": [
      "Tak, to palindrom\n",
      "Tak, to palindrom\n"
     ]
    },
    {
     "data": {
      "text/plain": [
       "False"
      ]
     },
     "execution_count": 1,
     "metadata": {},
     "output_type": "execute_result"
    }
   ],
   "source": [
    "#zadanie 1\n",
    "\n",
    "import string\n",
    "\n",
    "alphabet = set(string.ascii_lowercase)\n",
    "\n",
    "def pangram(tekst):\n",
    "    if set (tekst.lower()) >= alphabet:\n",
    "        print(\"Tak, to palindrom\")\n",
    "        return True\n",
    "    else:\n",
    "        return False\n",
    "    \n",
    "tekst1 = \"Jackdaws love my big sphinx of quartz\"\n",
    "tekst2 = \"Jinxed wizards pluck ivy from the big quilt\"\n",
    "tekst3 = \"Curled thyme descends from the top of the quarry\"\n",
    "\n",
    "pangram(tekst1)\n",
    "pangram(tekst2)\n",
    "pangram(tekst3)"
   ]
  },
  {
   "cell_type": "code",
   "execution_count": 2,
   "metadata": {},
   "outputs": [
    {
     "name": "stdout",
     "output_type": "stream",
     "text": [
      "python\n"
     ]
    }
   ],
   "source": [
    "#zadanie 2\n",
    "\n",
    "import string\n",
    "literki = string.ascii_lowercase\n",
    "\n",
    "test = \"owqdjh\"\n",
    "\n",
    "nowy = \"\"\n",
    "\n",
    "for n in test:\n",
    "    nowy += literki[literki.index(n)+test.index(n)+1]\n",
    "    \n",
    "print(nowy)"
   ]
  },
  {
   "cell_type": "code",
   "execution_count": 4,
   "metadata": {},
   "outputs": [
    {
     "data": {
      "text/plain": [
       "<__main__.klasa at 0x2d7a88459b0>"
      ]
     },
     "execution_count": 4,
     "metadata": {},
     "output_type": "execute_result"
    }
   ],
   "source": [
    "#zadanie 3\n",
    "\n",
    "class klasa():\n",
    "    \n",
    "    \n",
    "    def __init__(self,a,b):\n",
    "        self._a = a\n",
    "        self._b = b\n",
    "        \n",
    "    @property\n",
    "    def a(self):\n",
    "        return self._a\n",
    "    \n",
    "    @property\n",
    "    def b(self):\n",
    "        return self._b\n",
    "    \n",
    "    @a.setter\n",
    "    def a(self,a):\n",
    "        self._a = a\n",
    "        \n",
    "    @b.setter\n",
    "    def b(self,b):\n",
    "        self._b = b\n",
    "        \n",
    "    def __str__(self):\n",
    "        return str(self.a*self.b)\n",
    "    \n",
    "    def __str__(self):\n",
    "        return str(self.a/self.b)\n",
    "    \n",
    "klasa(3,3)"
   ]
  },
  {
   "cell_type": "code",
   "execution_count": null,
   "metadata": {},
   "outputs": [],
   "source": []
  }
 ],
 "metadata": {
  "kernelspec": {
   "display_name": "Python 3",
   "language": "python",
   "name": "python3"
  },
  "language_info": {
   "codemirror_mode": {
    "name": "ipython",
    "version": 3
   },
   "file_extension": ".py",
   "mimetype": "text/x-python",
   "name": "python",
   "nbconvert_exporter": "python",
   "pygments_lexer": "ipython3",
   "version": "3.7.1"
  }
 },
 "nbformat": 4,
 "nbformat_minor": 2
}

{
 "cells": [
  {
   "cell_type": "markdown",
   "metadata": {},
   "source": [
    "<center> <h1> Programowanie obiektowe - klasy, obiekty w Pythonie </h1> </center>"
   ]
  },
  {
   "cell_type": "markdown",
   "metadata": {},
   "source": [
    "Dzisiejszy temat jest ostatnim prowadzonym wyłącznie w Pythonie. Zajmiemy się tematem, który jest głównym rdzeniem programowania obiektowego, czyli <b> klasami </b>.\n",
    "\n",
    "Z pierwszych zajęć powinniśmy pamiętać przykład z pizzą:\n",
    "    \n",
    "    Pizza to abstrakcyjne pojęcie dania, nie jest to konkretny obiekt, jedynie wyobrażenie\n",
    "    \n",
    "    Posiada ona pewne cechy abstrakcyjne - składniki, ciasto, sos - czyli atrybuty\n",
    "    Oraz metody, czyli coś co można z nią zrobić - upiec, zjeść, podgrzać\n",
    "    \n",
    "Przepis na danie jest odpowiednikiem KLASY, czyli abstrakcyjnego pojęcie określającego cechy i metody danego obiektu.\n",
    "\n",
    "Upieczona pizza hawajska (albo inna) jest odpowiednikiem INSTANCJI KLASY, czyli praktycznej realizacji klasy - nie jest abstrakcyjna, posiada cechy (atrybuty). Jest to też obiekt.\n",
    "\n",
    "Proces tworzenia obiektu z klasy nazywa się INSTANCJONOWANIEM.\n",
    "\n",
    "Poniżej drugi przykład z abstrakcyjnym pojęciem PSA:"
   ]
  },
  {
   "cell_type": "code",
   "execution_count": 4,
   "metadata": {},
   "outputs": [
    {
     "data": {
      "text/html": [
       "<img src=\"01-uml-base-class-and-object-explained.png\"/>"
      ],
      "text/plain": [
       "<IPython.core.display.Image object>"
      ]
     },
     "execution_count": 4,
     "metadata": {},
     "output_type": "execute_result"
    }
   ],
   "source": [
    "from IPython.display import Image\n",
    "Image(url = \"01-uml-base-class-and-object-explained.png\")"
   ]
  },
  {
   "cell_type": "markdown",
   "metadata": {},
   "source": [
    "Abstrakcyjna klasa PIES - ma atrybuty:\n",
    "    \n",
    "    Kolor\n",
    "    Kolor oczu\n",
    "    Wysokość\n",
    "    Długość\n",
    "    Waga\n",
    "    \n",
    "I metody:\n",
    "\n",
    "    Usiądź\n",
    "    Połóż się\n",
    "    Machaj ogonem\n",
    "    Przyjść\n",
    "    \n",
    "A Bobby jest praktyczną realizacją, ma te same metody i ma nadane chechy."
   ]
  },
  {
   "cell_type": "markdown",
   "metadata": {},
   "source": [
    "Klasy mogą dziedziczyć cechy (jeden z paradygmatów). Tu wyróżniamy <b> klasy nadrzędne </b> i <b> klasy podrzędne </b>. Poniżej przykład:"
   ]
  },
  {
   "cell_type": "code",
   "execution_count": 5,
   "metadata": {},
   "outputs": [
    {
     "data": {
      "text/html": [
       "<img src=\"Image5905.gif\"/>"
      ],
      "text/plain": [
       "<IPython.core.display.Image object>"
      ]
     },
     "execution_count": 5,
     "metadata": {},
     "output_type": "execute_result"
    }
   ],
   "source": [
    "Image(url=\"Image5905.gif\")"
   ]
  },
  {
   "cell_type": "markdown",
   "metadata": {},
   "source": [
    "Powyżej widzimy diagram klas UML (powinniście być z nim zaznajomieni). \n",
    "\n",
    "Klasa nadrzędna - Osoba, posiada atrybuty - imię, nazwisko, data urodzenia oraz metodę policz wiek\n",
    "\n",
    "Klasa dziedzicząca (podrzędna) - Pracownik, posiada atrybuty pensja, stanowisko oraz wszystkie metody klasy nadrzędnej (imię, nazwisko, data urodzenia) oraz metody zmień pensję i policz wiek.\n",
    "\n",
    "Klasa IPracownik jest interfejsem - jeszcze jednym elementem realizującym paradygmat programowania obiektowego - hermetyzacji/enkapsulacji - stanowi interfejs operujący na cechach pracownika, czyli jest pośrednikiem dokonującym zmiany w instancjach klasy Pracownik. Interfejs ma za zadanie kontrolować zmiany i ograniczać pożądane ingerencję w cechy instancji klas."
   ]
  },
  {
   "cell_type": "markdown",
   "metadata": {},
   "source": [
    "Klasy pozwalają na realizację wszystkich czterech paradygmatów programowania obiektowego. Diagram klas UML jak powyżej może zostać przeniesiony i zaimplementowany w Pythonie."
   ]
  },
  {
   "cell_type": "markdown",
   "metadata": {},
   "source": [
    "<h1> Paradygmat 1 - Generalizacja: </h1>\n",
    "\n",
    "<h2> Definicja klasy </h2>\n",
    "\n",
    "    class Nazwa(dziedziczenie):\n",
    "        instrukcje\n",
    "        ..."
   ]
  },
  {
   "cell_type": "code",
   "execution_count": 1,
   "metadata": {},
   "outputs": [],
   "source": [
    "class Osoba(): #puste dziedziczenie oznacza brak klasy nadrzędnej\n",
    "    pass #polecenie pominięcia"
   ]
  },
  {
   "cell_type": "code",
   "execution_count": 2,
   "metadata": {},
   "outputs": [
    {
     "data": {
      "text/plain": [
       "__main__.Osoba"
      ]
     },
     "execution_count": 2,
     "metadata": {},
     "output_type": "execute_result"
    }
   ],
   "source": [
    "Jurek = Osoba() #realizacja klasy\n",
    "type(Jurek)"
   ]
  },
  {
   "cell_type": "markdown",
   "metadata": {},
   "source": [
    "Powyzej widzimy, że Jurek jest typu Osoba (klasy, którą właśnie stworzyliśmy)"
   ]
  },
  {
   "cell_type": "code",
   "execution_count": 8,
   "metadata": {},
   "outputs": [
    {
     "name": "stdout",
     "output_type": "stream",
     "text": [
      "<__main__.Osoba object at 0x000001793F2B82B0>\n"
     ]
    }
   ],
   "source": [
    "print(Jurek)"
   ]
  },
  {
   "cell_type": "markdown",
   "metadata": {},
   "source": [
    "Klasa osoba nie ma reprezentacji tekstowej, więc wyświetla nam się tekst domyślny. (zmienimy to później)"
   ]
  },
  {
   "cell_type": "markdown",
   "metadata": {},
   "source": [
    "<h2> Inicjalizacja </h2>\n",
    "\n",
    "Inicjalizacja klasy odbywa się za pomocą <b> funkcji magicznej </b> $__init__$ - wywoływany jest przy instancjonowaniu\n",
    "\n",
    "Klasa do sebie samej odwołuje się przez $self$"
   ]
  },
  {
   "cell_type": "code",
   "execution_count": 3,
   "metadata": {},
   "outputs": [],
   "source": [
    "class Osoba():\n",
    "    \n",
    "    #dwie linijki przerwy zgodnie z PEP8\n",
    "    def __init__(self, imie, nazwisko, data_urodzenia): #w funkcjach klasy pierwszy argument to zawsze self\n",
    "        self.imie = imie\n",
    "        self.nazwisko = nazwisko\n",
    "        self.data_urodzenia = data_urodzenia"
   ]
  },
  {
   "cell_type": "markdown",
   "metadata": {},
   "source": [
    "Powyżej w funkcji magicznej __init__ przypisaliśmy klasie 3 cechy - imię, nazwisko i data urodzenia. __init__ uruchamiany jest zawsze przy instancjonowaniu klasy, zatem wywołując nazwę klasy Osoba() w paramterach podajemy to co znajduje się w funkcji __init__, te cechy są przekazywane do funkcji __init__.\n",
    "\n",
    "self.imie - oznacza, że pod atrybutem .imie, będzie znajdowała się podana wartość. \n"
   ]
  },
  {
   "cell_type": "markdown",
   "metadata": {},
   "source": [
    "Realizacja jak poniżej. Tworzymy obiekt o nazwie Jurek typu Osoba i nadajemy mu 3 cechy, zgodnie z definicją klasy:"
   ]
  },
  {
   "cell_type": "code",
   "execution_count": 49,
   "metadata": {},
   "outputs": [],
   "source": [
    "Jurek = Osoba(\"Jurek\",\"Kiler\",\"10-10-1974\")"
   ]
  },
  {
   "cell_type": "markdown",
   "metadata": {},
   "source": [
    "Teraz możemy wyświetlić te cechy:"
   ]
  },
  {
   "cell_type": "code",
   "execution_count": 50,
   "metadata": {},
   "outputs": [
    {
     "name": "stdout",
     "output_type": "stream",
     "text": [
      "Jurek Kiler 10-10-1974\n"
     ]
    }
   ],
   "source": [
    "print(Jurek.imie, Jurek.nazwisko, Jurek.data_urodzenia)"
   ]
  },
  {
   "cell_type": "markdown",
   "metadata": {},
   "source": [
    "Stworzyliśmy klasę, ale paradygmaty nie są zachowane:"
   ]
  },
  {
   "cell_type": "code",
   "execution_count": 52,
   "metadata": {},
   "outputs": [
    {
     "data": {
      "text/plain": [
       "'Andrzej'"
      ]
     },
     "execution_count": 52,
     "metadata": {},
     "output_type": "execute_result"
    }
   ],
   "source": [
    "Jurek.imie = \"Andrzej\" #imie można zmienić dowolnie (BRAK HERMETYZACJI)\n",
    "Jurek.imie"
   ]
  },
  {
   "cell_type": "markdown",
   "metadata": {},
   "source": [
    "<h3> Metody klas </h3>"
   ]
  },
  {
   "cell_type": "markdown",
   "metadata": {},
   "source": [
    "Dodajmy teraz metodę do klasy. Definiuje się je jako kolejne funkcje:"
   ]
  },
  {
   "cell_type": "code",
   "execution_count": 4,
   "metadata": {},
   "outputs": [],
   "source": [
    "class Osoba():\n",
    "    \n",
    "    \n",
    "    def __init__(self, imie, nazwisko, data_urodzenia):\n",
    "        self.imie = imie\n",
    "        self.nazwisko = nazwisko\n",
    "        self.data_urodzenia = data_urodzenia\n",
    "        \n",
    "    def wiek(self): #w funkcjach klasy pierwszy argument to zawsze self\n",
    "        return 2019 - int(self.data_urodzenia.split('-')[2])"
   ]
  },
  {
   "cell_type": "code",
   "execution_count": 5,
   "metadata": {},
   "outputs": [],
   "source": [
    "Jurek = Osoba(\"Jurek\",\"Kiler\",\"10-10-1974\")"
   ]
  },
  {
   "cell_type": "markdown",
   "metadata": {},
   "source": [
    "Metody wywołujemy w znany nam sposób. Mogą przyjmowąć parametry:"
   ]
  },
  {
   "cell_type": "code",
   "execution_count": 6,
   "metadata": {},
   "outputs": [
    {
     "data": {
      "text/plain": [
       "45"
      ]
     },
     "execution_count": 6,
     "metadata": {},
     "output_type": "execute_result"
    }
   ],
   "source": [
    "Jurek.wiek()"
   ]
  },
  {
   "cell_type": "markdown",
   "metadata": {},
   "source": [
    "<h2> Inne funkcje magiczne </h2>\n",
    "\n",
    "Tych jest dużo, poznajmy dwie służące reprezentacji instancji klas:\n",
    "<ul>\n",
    "    <li> $__repr__$ - reprezentacja obiektu. Wywoływana jest poprzez $repr(nazwa_obiektu)$ lub po wpisaniu nazwy zmiennej w interpreterze</li>\n",
    "    <li> $__str__$ - tekstowa reprezentacja obiektu. Wywoływana poprzez str(nazwa_obiektu) lub print</li>\n",
    "</ul>"
   ]
  },
  {
   "cell_type": "code",
   "execution_count": 12,
   "metadata": {},
   "outputs": [],
   "source": [
    "class Osoba():\n",
    "    \n",
    "    \n",
    "    def __init__(self, imie, nazwisko, data_urodzenia):\n",
    "        self.imie = imie\n",
    "        self.nazwisko = nazwisko\n",
    "        self.data_urodzenia = data_urodzenia\n",
    "        \n",
    "    def __str__(self): #metoda magiczna __str__ definiuje to co zostanie zwrócone przez funkcję print() wywołaną na obiekcie\n",
    "        return \"Człowiek imieniem {}, w wieku {} lat\".format(self.imie, str(self.wiek())) #formatowanie tekstu, wykorzystaliśmy funkcję wiek\n",
    "    \n",
    "    def __repr__(self): #metoda magiczna __repr__ definiuje to co zostanie wyświetlone jako opis obiektu w rejestrze pamięci\n",
    "        return \"Osoba class(name: {}, surname: {}, birth date: {})\".format(self.imie, self.nazwisko, self.data_urodzenia)\n",
    "        \n",
    "    def wiek(self):\n",
    "        return 2019 - int(self.data_urodzenia.split('-')[2])"
   ]
  },
  {
   "cell_type": "code",
   "execution_count": 10,
   "metadata": {},
   "outputs": [],
   "source": [
    "Jurek = Osoba(\"Jurek\",\"Kiler\",\"10-10-1974\")"
   ]
  },
  {
   "cell_type": "code",
   "execution_count": 11,
   "metadata": {},
   "outputs": [
    {
     "name": "stdout",
     "output_type": "stream",
     "text": [
      "Człowiek imieniem Jurek, w wieku 45 lat\n"
     ]
    }
   ],
   "source": [
    "print(Jurek)"
   ]
  },
  {
   "cell_type": "code",
   "execution_count": 30,
   "metadata": {},
   "outputs": [
    {
     "data": {
      "text/plain": [
       "Osoba class(name: Jurek, surname: Kiler, birth date: 10-10-1974)"
      ]
     },
     "execution_count": 30,
     "metadata": {},
     "output_type": "execute_result"
    }
   ],
   "source": [
    "Jurek"
   ]
  },
  {
   "cell_type": "markdown",
   "metadata": {},
   "source": [
    "<h1> Więcej funkcji magicznych zmieniających zachowanie klas </h1>\n",
    "\n",
    "Teraz czas na funkcje magiczne modyfikujące zachowanie operatorów. Przykładowo funkcja __add__ definiuje zachowanie obiektu klas przy operatorze '+'"
   ]
  },
  {
   "cell_type": "code",
   "execution_count": 14,
   "metadata": {},
   "outputs": [],
   "source": [
    "class Liczba():\n",
    "    \n",
    "    def __init__(self, wartosc):\n",
    "        self.wartosc = wartosc\n",
    "        \n",
    "    def __add__(self, inna): #zmiana zachowania przy dodawaniu \n",
    "        return (self.wartosc + inna.wartosc - 1)**2"
   ]
  },
  {
   "cell_type": "markdown",
   "metadata": {},
   "source": [
    "Funkcja magiczna __add__  przyjmuje dwa parametry self, czyli to co zawsze musi się tam znaleźc i \"inna\", czyli drugą instancję tej samej klasy.\n",
    "\n",
    "Będąc dokładnym: nie musi być tej samej klasy, ale musi posiadać atrybut wykorzystany w funkcji. W tym przypadku, druga klasa wykorzystana w sumowaniu musi posiadać też atrybut .wartość.\n",
    "\n",
    "W powyższej definicji pobieramy wartość obiektu klasy Liczba, dodajemy do wartości drugiego obiektu klasy Liczba, odejmujemy 1 i podnosimy do kwadratu. Oto wynik"
   ]
  },
  {
   "cell_type": "code",
   "execution_count": 15,
   "metadata": {},
   "outputs": [],
   "source": [
    "a = Liczba(10) #jedna instancja\n",
    "b = Liczba(5) #druga instancja"
   ]
  },
  {
   "cell_type": "code",
   "execution_count": 18,
   "metadata": {},
   "outputs": [
    {
     "data": {
      "text/plain": [
       "196"
      ]
     },
     "execution_count": 18,
     "metadata": {},
     "output_type": "execute_result"
    }
   ],
   "source": [
    "a + b #(10+5-1)**2"
   ]
  },
  {
   "cell_type": "code",
   "execution_count": 21,
   "metadata": {},
   "outputs": [
    {
     "ename": "TypeError",
     "evalue": "unsupported operand type(s) for *: 'Liczba' and 'Liczba'",
     "output_type": "error",
     "traceback": [
      "\u001b[1;31m---------------------------------------------------------------------------\u001b[0m",
      "\u001b[1;31mTypeError\u001b[0m                                 Traceback (most recent call last)",
      "\u001b[1;32m<ipython-input-21-a994a93aa6c2>\u001b[0m in \u001b[0;36m<module>\u001b[1;34m\u001b[0m\n\u001b[1;32m----> 1\u001b[1;33m \u001b[0ma\u001b[0m\u001b[1;33m*\u001b[0m\u001b[0mb\u001b[0m \u001b[1;31m#nie oprogramowalismy, więc nie zadziała\u001b[0m\u001b[1;33m\u001b[0m\u001b[1;33m\u001b[0m\u001b[0m\n\u001b[0m",
      "\u001b[1;31mTypeError\u001b[0m: unsupported operand type(s) for *: 'Liczba' and 'Liczba'"
     ]
    }
   ],
   "source": [
    "a*b #nie oprogramowalismy, więc nie zadziała"
   ]
  },
  {
   "cell_type": "markdown",
   "metadata": {},
   "source": [
    "<h2> Założmy więc, że mamy dwie klasy o takich samych atrybutach, ale innych metodach </h2>"
   ]
  },
  {
   "cell_type": "code",
   "execution_count": 22,
   "metadata": {},
   "outputs": [],
   "source": [
    "class Liczba():\n",
    "    \n",
    "    def __init__(self, wartosc):\n",
    "        self.wartosc = wartosc\n",
    "        \n",
    "    def __add__(self, inna): #zmiana zachowania przy dodawaniu \n",
    "        return (self.wartosc + inna.wartosc - 1)**2\n",
    "    \n",
    "class Liczba2():\n",
    "    \n",
    "    def __init__(self, wartosc):\n",
    "        self.wartosc = wartosc\n",
    "        \n",
    "    def __add__(self, inna): #zmiana zachowania przy dodawaniu \n",
    "        return (self.wartosc - inna.wartosc)**3 #inna metoda"
   ]
  },
  {
   "cell_type": "code",
   "execution_count": 23,
   "metadata": {},
   "outputs": [],
   "source": [
    "a = Liczba(10) #jedna instancja\n",
    "b = Liczba2(5) #druga instancja"
   ]
  },
  {
   "cell_type": "code",
   "execution_count": 28,
   "metadata": {},
   "outputs": [],
   "source": [
    "#Czy wynik a+b będzie taki sam jak b+a, czy nie? Spróbuj zgadnąć i sprawdź! Dodawanie jest przemienne, prawda? :)"
   ]
  },
  {
   "cell_type": "markdown",
   "metadata": {},
   "source": [
    "<h3> W Ptyhonie należy uważać na nazwy! </h3>\n",
    "\n",
    "Chyba, że robimy to umyślnie.\n",
    "\n",
    "Pewne nazwy są zarezerwowane dla Pythona, dlatego nigdy nie należy nazywać zmiennych nazwami klas wbudowanych. Na przykład, założmy że mamy tekst \"222\" i chcemy go zamienić na liczbę całkowitą:"
   ]
  },
  {
   "cell_type": "code",
   "execution_count": 29,
   "metadata": {},
   "outputs": [
    {
     "data": {
      "text/plain": [
       "222"
      ]
     },
     "execution_count": 29,
     "metadata": {},
     "output_type": "execute_result"
    }
   ],
   "source": [
    "tekst = \"222\"\n",
    "int(tekst)"
   ]
  },
  {
   "cell_type": "markdown",
   "metadata": {},
   "source": [
    "A teraz nazwiemy jakiś obiekt nazwą funkcji wbudowanej int:"
   ]
  },
  {
   "cell_type": "code",
   "execution_count": 30,
   "metadata": {},
   "outputs": [],
   "source": [
    "int = 33"
   ]
  },
  {
   "cell_type": "markdown",
   "metadata": {},
   "source": [
    "I wykonamy to samo co powyżej:"
   ]
  },
  {
   "cell_type": "code",
   "execution_count": 31,
   "metadata": {},
   "outputs": [
    {
     "ename": "TypeError",
     "evalue": "'int' object is not callable",
     "output_type": "error",
     "traceback": [
      "\u001b[1;31m---------------------------------------------------------------------------\u001b[0m",
      "\u001b[1;31mTypeError\u001b[0m                                 Traceback (most recent call last)",
      "\u001b[1;32m<ipython-input-31-0881ac89c9b9>\u001b[0m in \u001b[0;36m<module>\u001b[1;34m\u001b[0m\n\u001b[0;32m      1\u001b[0m \u001b[0mtekst\u001b[0m \u001b[1;33m=\u001b[0m \u001b[1;34m\"222\"\u001b[0m\u001b[1;33m\u001b[0m\u001b[1;33m\u001b[0m\u001b[0m\n\u001b[1;32m----> 2\u001b[1;33m \u001b[0mint\u001b[0m\u001b[1;33m(\u001b[0m\u001b[0mtekst\u001b[0m\u001b[1;33m)\u001b[0m\u001b[1;33m\u001b[0m\u001b[1;33m\u001b[0m\u001b[0m\n\u001b[0m",
      "\u001b[1;31mTypeError\u001b[0m: 'int' object is not callable"
     ]
    }
   ],
   "source": [
    "tekst = \"222\"\n",
    "int(tekst)"
   ]
  },
  {
   "cell_type": "markdown",
   "metadata": {},
   "source": [
    "Funkcja wbudowana int już nie istnieje."
   ]
  },
  {
   "cell_type": "code",
   "execution_count": 33,
   "metadata": {},
   "outputs": [
    {
     "name": "stdout",
     "output_type": "stream",
     "text": [
      "Once deleted, variables cannot be recovered. Proceed (y/[n])? y\n",
      "Don't know how to reset  #resetujemy, please run `%reset?` for details\n",
      "Don't know how to reset  pamięć, please run `%reset?` for details\n"
     ]
    }
   ],
   "source": [
    "%reset #resetujemy pamięć"
   ]
  },
  {
   "cell_type": "code",
   "execution_count": 35,
   "metadata": {},
   "outputs": [
    {
     "data": {
      "text/plain": [
       "3"
      ]
     },
     "execution_count": 35,
     "metadata": {},
     "output_type": "execute_result"
    }
   ],
   "source": [
    "int(\"3\")"
   ]
  },
  {
   "cell_type": "markdown",
   "metadata": {},
   "source": [
    "<h2> Ale może chcemy to zrobić celowo </h2>"
   ]
  },
  {
   "cell_type": "code",
   "execution_count": 49,
   "metadata": {},
   "outputs": [],
   "source": [
    "class Int():\n",
    "    \n",
    "    def __init__(self,value):\n",
    "        self.value = value\n",
    "        \n",
    "    def __add__(self, other):\n",
    "        return self.value + other.value + 1"
   ]
  },
  {
   "cell_type": "code",
   "execution_count": 51,
   "metadata": {},
   "outputs": [
    {
     "data": {
      "text/plain": [
       "5"
      ]
     },
     "execution_count": 51,
     "metadata": {},
     "output_type": "execute_result"
    }
   ],
   "source": [
    "Int(2) + Int(2) #2 + 2 nie zadziała, dzięki temu naprawdę musimy zrobić to celowo, a nie przez pomyłkę"
   ]
  },
  {
   "cell_type": "markdown",
   "metadata": {},
   "source": [
    "<h1> Paradygmat 2 - hermetyzacja </h1>\n",
    "Hermetyzacja ma na celu uniemożlwienie dostępu do atrybutów instancji klas.\n",
    "Odbywa się przez konwencję dodania do argumentów własnych klasy prefiksu w postaci podłogi. Zatem:"
   ]
  },
  {
   "cell_type": "code",
   "execution_count": 54,
   "metadata": {},
   "outputs": [],
   "source": [
    "class Osoba():\n",
    "    \n",
    "    #dwie linijki przerwy zgodnie z PEP8\n",
    "    def __init__(self, imie, nazwisko, data_urodzenia):\n",
    "        self._imie = imie\n",
    "        self._nazwisko = nazwisko\n",
    "        self._data_urodzenia = data_urodzenia"
   ]
  },
  {
   "cell_type": "code",
   "execution_count": 55,
   "metadata": {},
   "outputs": [],
   "source": [
    "Jurek = Osoba(\"Jurek\",\"Kiler\",\"10-10-1974\")"
   ]
  },
  {
   "cell_type": "code",
   "execution_count": 56,
   "metadata": {},
   "outputs": [
    {
     "ename": "AttributeError",
     "evalue": "'Osoba' object has no attribute 'imie'",
     "output_type": "error",
     "traceback": [
      "\u001b[1;31m---------------------------------------------------------------------------\u001b[0m",
      "\u001b[1;31mAttributeError\u001b[0m                            Traceback (most recent call last)",
      "\u001b[1;32m<ipython-input-56-b1abbb594b75>\u001b[0m in \u001b[0;36m<module>\u001b[1;34m\u001b[0m\n\u001b[1;32m----> 1\u001b[1;33m \u001b[0mprint\u001b[0m\u001b[1;33m(\u001b[0m\u001b[0mJurek\u001b[0m\u001b[1;33m.\u001b[0m\u001b[0mimie\u001b[0m\u001b[1;33m,\u001b[0m \u001b[0mJurek\u001b[0m\u001b[1;33m.\u001b[0m\u001b[0mnazwisko\u001b[0m\u001b[1;33m,\u001b[0m \u001b[0mJurek\u001b[0m\u001b[1;33m.\u001b[0m\u001b[0mdata_urodzenia\u001b[0m\u001b[1;33m)\u001b[0m \u001b[1;31m#nie mamy dostępu\u001b[0m\u001b[1;33m\u001b[0m\u001b[1;33m\u001b[0m\u001b[0m\n\u001b[0m",
      "\u001b[1;31mAttributeError\u001b[0m: 'Osoba' object has no attribute 'imie'"
     ]
    }
   ],
   "source": [
    "print(Jurek.imie, Jurek.nazwisko, Jurek.data_urodzenia) #nie mamy dostępu"
   ]
  },
  {
   "cell_type": "code",
   "execution_count": 58,
   "metadata": {},
   "outputs": [
    {
     "name": "stdout",
     "output_type": "stream",
     "text": [
      "Jurek\n"
     ]
    }
   ],
   "source": [
    "print(Jurek._imie) #to zadziała, ale _ to tylko konwencja, użycie _ wymusza zastanowienie się nad swoimi poczynianiami"
   ]
  },
  {
   "cell_type": "markdown",
   "metadata": {},
   "source": [
    "Jak się więc prawidłowo dostawać do zmiennych? Przez tak zwane settery i gettery. Tworzone w Pythonie poprzez <b>dekorator</b> @property. Getter - zwraca wartość, Setter pozwala je zmieniać"
   ]
  },
  {
   "cell_type": "code",
   "execution_count": 60,
   "metadata": {},
   "outputs": [],
   "source": [
    "class Osoba():\n",
    "    \n",
    "    #dwie linijki przerwy zgodnie z PEP8\n",
    "    def __init__(self, imie, nazwisko, data_urodzenia):\n",
    "        self._imie = imie\n",
    "        self._nazwisko = nazwisko\n",
    "        self._data_urodzenia = data_urodzenia\n",
    "        \n",
    "    @property #getter\n",
    "    def imie(self):\n",
    "        return self._imie\n",
    "    \n",
    "    @property\n",
    "    def nazwisko(self):\n",
    "        return self._nazwisko\n",
    "    \n",
    "    @property\n",
    "    def data_urodzenia(self):\n",
    "        return self._data_urodzenia"
   ]
  },
  {
   "cell_type": "code",
   "execution_count": 61,
   "metadata": {},
   "outputs": [],
   "source": [
    "Jurek = Osoba(\"Jurek\",\"Kiler\",\"10-10-1974\")"
   ]
  },
  {
   "cell_type": "code",
   "execution_count": 62,
   "metadata": {},
   "outputs": [
    {
     "name": "stdout",
     "output_type": "stream",
     "text": [
      "Jurek Kiler 10-10-1974\n"
     ]
    }
   ],
   "source": [
    "print(Jurek.imie, Jurek.nazwisko, Jurek.data_urodzenia) #teraz zadziała"
   ]
  },
  {
   "cell_type": "markdown",
   "metadata": {},
   "source": [
    "Wywołując Jurek.imie uruchamiamy tak naprawdę naszą funkcję gettera, nie wywołujemy atrybuty. To co tak naprawdę dostajemy to kopia, można jej użyć w operacjach poza klasą, ale samego atrybutu nie można zmienić:"
   ]
  },
  {
   "cell_type": "code",
   "execution_count": 56,
   "metadata": {},
   "outputs": [
    {
     "ename": "AttributeError",
     "evalue": "can't set attribute",
     "output_type": "error",
     "traceback": [
      "\u001b[1;31m---------------------------------------------------------------------------\u001b[0m",
      "\u001b[1;31mAttributeError\u001b[0m                            Traceback (most recent call last)",
      "\u001b[1;32m<ipython-input-56-d4d3ab5d96d7>\u001b[0m in \u001b[0;36m<module>\u001b[1;34m\u001b[0m\n\u001b[1;32m----> 1\u001b[1;33m \u001b[0mJurek\u001b[0m\u001b[1;33m.\u001b[0m\u001b[0mimie\u001b[0m \u001b[1;33m=\u001b[0m \u001b[1;34m\"Andrzej\"\u001b[0m \u001b[1;31m#nie można go zmienić\u001b[0m\u001b[1;33m\u001b[0m\u001b[1;33m\u001b[0m\u001b[0m\n\u001b[0m",
      "\u001b[1;31mAttributeError\u001b[0m: can't set attribute"
     ]
    }
   ],
   "source": [
    "Jurek.imie = \"Andrzej\" #nie można go zmienić"
   ]
  },
  {
   "cell_type": "markdown",
   "metadata": {},
   "source": [
    "Poniżej zastosowanie settera do zmian wartości atrybutów:"
   ]
  },
  {
   "cell_type": "code",
   "execution_count": 63,
   "metadata": {},
   "outputs": [],
   "source": [
    "class Osoba():\n",
    "    \n",
    "    #dwie linijki przerwy zgodnie z PEP8\n",
    "    def __init__(self, imie, nazwisko, data_urodzenia):\n",
    "        self._imie = imie\n",
    "        self._nazwisko = nazwisko\n",
    "        self._data_urodzenia = data_urodzenia\n",
    "        \n",
    "    @property #getter\n",
    "    def imie(self):\n",
    "        return self._imie\n",
    "    \n",
    "    @property\n",
    "    def nazwisko(self):\n",
    "        return self._nazwisko\n",
    "    \n",
    "    @property\n",
    "    def data_urodzenia(self):\n",
    "        return self._data_urodzenia\n",
    "    \n",
    "    @imie.setter #setter\n",
    "    def imie(self, imie):\n",
    "        if imie == \"Maciej\":\n",
    "            print(\"WSZYSTKO TYLKO NIE MACIEJ!\")\n",
    "        else:\n",
    "            self._imie = imie\n",
    "        \n",
    "    @nazwisko.setter #setter\n",
    "    def nazwisko(self, nazwisko):\n",
    "        self._nazwisko = nazwisko\n",
    "        \n",
    "    @data_urodzenia.setter #setter\n",
    "    def data_urodzenia(self, data_urodzenia):\n",
    "        self._data_urodzenia = data_urodzenia"
   ]
  },
  {
   "cell_type": "code",
   "execution_count": 64,
   "metadata": {},
   "outputs": [],
   "source": [
    "Jurek = Osoba(\"Jurek\",\"Kiler\",\"10-10-1974\")"
   ]
  },
  {
   "cell_type": "code",
   "execution_count": 65,
   "metadata": {},
   "outputs": [
    {
     "name": "stdout",
     "output_type": "stream",
     "text": [
      "Jurek Kiler 10-10-1974\n"
     ]
    }
   ],
   "source": [
    "print(Jurek.imie, Jurek.nazwisko, Jurek.data_urodzenia) #to co dostajemy to kopia"
   ]
  },
  {
   "cell_type": "code",
   "execution_count": 66,
   "metadata": {},
   "outputs": [],
   "source": [
    "Jurek.imie = \"Andrzej\" #już można"
   ]
  },
  {
   "cell_type": "code",
   "execution_count": 67,
   "metadata": {},
   "outputs": [
    {
     "name": "stdout",
     "output_type": "stream",
     "text": [
      "Andrzej\n"
     ]
    }
   ],
   "source": [
    "print(Jurek.imie)"
   ]
  },
  {
   "cell_type": "markdown",
   "metadata": {},
   "source": [
    "W klasie zdefiniowaliśmy w setterze dodaktowy warunek, który ma za zadanie powstrzymać niechciane zmiany atrybutu obiektów:"
   ]
  },
  {
   "cell_type": "code",
   "execution_count": 68,
   "metadata": {},
   "outputs": [
    {
     "name": "stdout",
     "output_type": "stream",
     "text": [
      "WSZYSTKO TYLKO NIE MACIEJ!\n"
     ]
    }
   ],
   "source": [
    "Jurek.imie = \"Maciej\""
   ]
  },
  {
   "cell_type": "markdown",
   "metadata": {},
   "source": [
    "Bardziej realny przykład - nie można ustawić saldu konta poniżej 0."
   ]
  },
  {
   "cell_type": "markdown",
   "metadata": {},
   "source": [
    "<h1> Paradygmat 3 - Polimorficzność </h1>\n",
    "\n",
    "Pamietacie przykład sprzed chwili a+b, b+a? + to ten sam operator, a mimo to klasy zachowały się inaczej w zależności od kolejności. To właśnie jest przykład polimorficzności, 1 - polimorfizm operatorów.\n",
    "\n",
    "Spróbujmy jeszcze inny przykład:"
   ]
  },
  {
   "cell_type": "code",
   "execution_count": 69,
   "metadata": {},
   "outputs": [],
   "source": [
    "class Pies():\n",
    "    \n",
    "    def __init__(self, imie, kolor):\n",
    "        self._imie = imie\n",
    "        self._kolor = kolor\n",
    "        \n",
    "    def daj_glos(self):\n",
    "        print(\"HAU!\")\n",
    "        \n",
    "        \n",
    "class Kot():\n",
    "    \n",
    "    def __init__(self, imie, kolor):\n",
    "        self._imie = imie\n",
    "        self._kolor = kolor\n",
    "        \n",
    "    def daj_glos(self):\n",
    "        print(\"MIAU!\")"
   ]
  },
  {
   "cell_type": "code",
   "execution_count": 70,
   "metadata": {},
   "outputs": [
    {
     "name": "stdout",
     "output_type": "stream",
     "text": [
      "HAU!\n",
      "MIAU!\n"
     ]
    }
   ],
   "source": [
    "fafik = Pies(\"fafik\",\"czarny\")\n",
    "bruno = Kot(\"bruno\",\"biały\")\n",
    "\n",
    "for zwierze in (fafik,bruno):\n",
    "    zwierze.daj_glos()"
   ]
  },
  {
   "cell_type": "markdown",
   "metadata": {},
   "source": [
    "Powyższy przykład to polimoficzność metod klas - metody w zależności od klasy zachowują się inaczej. To drugi rodzaj polimorfizmu.\n",
    "\n",
    "Innym, trzecim przykładem moze być polimorficzność funkcji (czasem metod) w zależności od parametrów:"
   ]
  },
  {
   "cell_type": "code",
   "execution_count": 82,
   "metadata": {},
   "outputs": [],
   "source": [
    "def co_to(parametr1):\n",
    "    if isinstance(parametr1,str): #funkcja wbudowana, sprawdza jakiego typu jest zmienna\n",
    "        print(\"TO TEKST!\")\n",
    "    elif isinstance(parametr1,float):\n",
    "        print(\"TO LICZBA ZMIENNOPRZECINKOWA!\")\n"
   ]
  },
  {
   "cell_type": "code",
   "execution_count": 83,
   "metadata": {},
   "outputs": [
    {
     "name": "stdout",
     "output_type": "stream",
     "text": [
      "TO TEKST!\n"
     ]
    }
   ],
   "source": [
    "co_to(\"A\")"
   ]
  },
  {
   "cell_type": "code",
   "execution_count": 84,
   "metadata": {},
   "outputs": [
    {
     "name": "stdout",
     "output_type": "stream",
     "text": [
      "TO LICZBA ZMIENNOPRZECINKOWA!\n"
     ]
    }
   ],
   "source": [
    "co_to(2.)"
   ]
  },
  {
   "cell_type": "markdown",
   "metadata": {},
   "source": [
    "Ostatni przypadek polimorfizmu związany jest z dziedziczeniem klas, a zatem ostatnim paradygmatem programowania obiektowego:"
   ]
  },
  {
   "cell_type": "markdown",
   "metadata": {},
   "source": [
    "<h2> Czas więc na ostatni paradygmat - dziedziczność! </h2>"
   ]
  },
  {
   "cell_type": "markdown",
   "metadata": {},
   "source": [
    "Spróbujmy zaimplementować fragment dziedziczenia Osoba -> Pracownik z poniższego diagramu UML"
   ]
  },
  {
   "cell_type": "code",
   "execution_count": 88,
   "metadata": {},
   "outputs": [
    {
     "data": {
      "text/html": [
       "<img src=\"Image5905.gif\"/>"
      ],
      "text/plain": [
       "<IPython.core.display.Image object>"
      ]
     },
     "execution_count": 88,
     "metadata": {},
     "output_type": "execute_result"
    }
   ],
   "source": [
    "Image(url=\"Image5905.gif\")"
   ]
  },
  {
   "cell_type": "markdown",
   "metadata": {},
   "source": [
    "Kod:"
   ]
  },
  {
   "cell_type": "code",
   "execution_count": 97,
   "metadata": {},
   "outputs": [],
   "source": [
    "class Osoba():\n",
    "    \n",
    "    #dwie linijki przerwy zgodnie z PEP8\n",
    "    def __init__(self, imie, nazwisko, data_urodzenia):\n",
    "        self._imie = imie\n",
    "        self._nazwisko = nazwisko\n",
    "        self._data_urodzenia = data_urodzenia\n",
    "        \n",
    "    @property #getter\n",
    "    def imie(self):\n",
    "        return self._imie\n",
    "    \n",
    "    @property\n",
    "    def nazwisko(self):\n",
    "        return self._nazwisko\n",
    "    \n",
    "    @property\n",
    "    def data_urodzenia(self):\n",
    "        return self._data_urodzenia\n",
    "    \n",
    "    @imie.setter #setter\n",
    "    def imie(self, imie):\n",
    "        if imie == \"Maciej\":\n",
    "            print(\"WSZYSTKO TYLKO NIE MACIEJ!\")\n",
    "        else:\n",
    "            self._imie = imie\n",
    "        \n",
    "    @nazwisko.setter #setter\n",
    "    def nazwisko(self, nazwisko):\n",
    "        self._nazwisko = nazwisko\n",
    "        \n",
    "    @data_urodzenia.setter #setter\n",
    "    def data_urodzenia(self, data_urodzenia):\n",
    "        self._data_urodzenia = data_urodzenia\n",
    "        \n",
    "    def wiek(self):\n",
    "        return 2019 - int(self.data_urodzenia.split('-')[2])"
   ]
  },
  {
   "cell_type": "markdown",
   "metadata": {},
   "source": [
    "Poniżej tworzymy klasę dziedziczącą po klasie Osoba:"
   ]
  },
  {
   "cell_type": "code",
   "execution_count": 98,
   "metadata": {},
   "outputs": [],
   "source": [
    "class Pracownik(Osoba): #tu informujemy, że dziedziczy po klasie osoba\n",
    "    \n",
    "    def __init__(self, imie, nazwisko, data_urodzenia, pensja, stanowisko): #czyli przyjmuje wszystkie atrybuty co osoba + nowe\n",
    "        Osoba.__init__(self, imie, nazwisko, data_urodzenia) #tu inicjalizacja klasy nadrzędnej z 3 parametrami\n",
    "        self._pensja = pensja #i dodatkowe parametry\n",
    "        self._stanowisko = stanowisko"
   ]
  },
  {
   "cell_type": "markdown",
   "metadata": {},
   "source": [
    "Instancjonujemy podając wszystkie atrybuty:"
   ]
  },
  {
   "cell_type": "code",
   "execution_count": 99,
   "metadata": {},
   "outputs": [],
   "source": [
    "Jerzy = Pracownik(\"Jerzy\", \"Morgan\", \"20-12-1955\", 5400, \"Handlowiec\")"
   ]
  },
  {
   "cell_type": "code",
   "execution_count": 100,
   "metadata": {},
   "outputs": [
    {
     "data": {
      "text/plain": [
       "'Jerzy'"
      ]
     },
     "execution_count": 100,
     "metadata": {},
     "output_type": "execute_result"
    }
   ],
   "source": [
    "Jerzy.imie #działa, bo w klasie nadrzędnej jest getter"
   ]
  },
  {
   "cell_type": "code",
   "execution_count": 101,
   "metadata": {},
   "outputs": [
    {
     "ename": "AttributeError",
     "evalue": "'Pracownik' object has no attribute 'stanowisko'",
     "output_type": "error",
     "traceback": [
      "\u001b[1;31m---------------------------------------------------------------------------\u001b[0m",
      "\u001b[1;31mAttributeError\u001b[0m                            Traceback (most recent call last)",
      "\u001b[1;32m<ipython-input-101-1c650c4b3ae8>\u001b[0m in \u001b[0;36m<module>\u001b[1;34m\u001b[0m\n\u001b[1;32m----> 1\u001b[1;33m \u001b[0mJerzy\u001b[0m\u001b[1;33m.\u001b[0m\u001b[0mstanowisko\u001b[0m \u001b[1;31m#nie działa, bo w tej klasie nie ma gettera (ale powinien być)\u001b[0m\u001b[1;33m\u001b[0m\u001b[1;33m\u001b[0m\u001b[0m\n\u001b[0m",
      "\u001b[1;31mAttributeError\u001b[0m: 'Pracownik' object has no attribute 'stanowisko'"
     ]
    }
   ],
   "source": [
    "Jerzy.stanowisko #nie działa, bo w tej klasie nie ma gettera (ale powinien być)"
   ]
  },
  {
   "cell_type": "code",
   "execution_count": 102,
   "metadata": {},
   "outputs": [
    {
     "data": {
      "text/plain": [
       "64"
      ]
     },
     "execution_count": 102,
     "metadata": {},
     "output_type": "execute_result"
    }
   ],
   "source": [
    "Jerzy.wiek() #bo dziedziczy metody, mimo tego że w tej klasie nie zostało to zaimplementowane"
   ]
  },
  {
   "cell_type": "markdown",
   "metadata": {},
   "source": [
    "<h3> To co z tą polimorficznością dziedziczną? </h3>\n",
    "\n",
    "A to, że możemy metody w klasie podrzędnej nadpisywać. Przy okazji, zwróćcię uwagę na zastosowanie nowej funkcji super() poniżej"
   ]
  },
  {
   "cell_type": "code",
   "execution_count": 119,
   "metadata": {},
   "outputs": [],
   "source": [
    "class Pracownik(Osoba):\n",
    "    \n",
    "    def __init__(self, imie, nazwisko, data_urodzenia, pensja, stanowisko): \n",
    "        super().__init__(imie, nazwisko, data_urodzenia) #tu zamiast Osoba, można wywołać funkcję super, czyli odwołanie do klasy nadrzędnej (wtedy pomijamy self)\n",
    "        self._pensja = pensja\n",
    "        self._stanowisko = stanowisko\n",
    "        \n",
    "    def wiek(self): #nadpisujemy funkcję klasy nadrzędnej\n",
    "        return \"Pracownika się o wiek nie pyta\""
   ]
  },
  {
   "cell_type": "code",
   "execution_count": 120,
   "metadata": {},
   "outputs": [
    {
     "data": {
      "text/plain": [
       "'Pracownika się o wiek nie pyta'"
      ]
     },
     "execution_count": 120,
     "metadata": {},
     "output_type": "execute_result"
    }
   ],
   "source": [
    "Jerzy = Pracownik(\"Jerzy\", \"Morgan\", \"20-12-1955\", 5400, \"Handlowiec\")\n",
    "Jerzy.wiek() #metoda wiek dla klasy podrzędnej zachowuje się inaczej niż dla nadrzędnej"
   ]
  },
  {
   "cell_type": "markdown",
   "metadata": {},
   "source": [
    "<h3> To tyle na dziś. Zrób zadania z listy 5! </h3>"
   ]
  }
 ],
 "metadata": {
  "kernelspec": {
   "display_name": "Python 3",
   "language": "python",
   "name": "python3"
  },
  "language_info": {
   "codemirror_mode": {
    "name": "ipython",
    "version": 3
   },
   "file_extension": ".py",
   "mimetype": "text/x-python",
   "name": "python",
   "nbconvert_exporter": "python",
   "pygments_lexer": "ipython3",
   "version": "3.7.1"
  }
 },
 "nbformat": 4,
 "nbformat_minor": 2
}

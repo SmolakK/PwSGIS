{
 "cells": [
  {
   "cell_type": "markdown",
   "metadata": {},
   "source": [
    "<center> <h1> Object-orietned programming - Python classes, Python objects </h1> </center>"
   ]
  },
  {
   "cell_type": "markdown",
   "metadata": {},
   "source": [
    "Today's topic is the last conductet in the pure Python. From now on we will switch to QGIS environment. You should have install QGIS3 already. \n",
    "\n",
    "Today we will focus on object-orietned programming core, that is <b> classes </b>.\n",
    "\n",
    "Let's imagine a pizza:\n",
    "    \n",
    "    Pizza is an abstract definition of food type, it is not a deifinition of a specific object, it is a general idea of a dish. It is like recipie. We know the rules, but it is not created yet. This is a class - a recepie for objects.\n",
    "    \n",
    "    It has attributes - ingridients, dough, sauce\n",
    "    And methods, that is what you can do with it - bake, eat, heat up\n",
    "    \n",
    "When you bake pizza you creat a realisation of a pizza, that is an INSTANCE of a CLASS, that is you create an INSTNACE from recepie by giving class' attributes values - for funghi pizza you give mushrooms, tomato sauce.\n",
    "\n",
    "Creating an instance of an object is called instantiating.\n",
    "\n",
    "Below is another example with a dog:"
   ]
  },
  {
   "cell_type": "code",
   "execution_count": 2,
   "metadata": {},
   "outputs": [
    {
     "data": {
      "text/html": [
       "<img src=\"01-uml-base-class-and-object-explained.png\"/>"
      ],
      "text/plain": [
       "<IPython.core.display.Image object>"
      ]
     },
     "execution_count": 2,
     "metadata": {},
     "output_type": "execute_result"
    }
   ],
   "source": [
    "from IPython.display import Image\n",
    "Image(url = \"01-uml-base-class-and-object-explained.png\")"
   ]
  },
  {
   "cell_type": "markdown",
   "metadata": {},
   "source": [
    "Classes can inherit attributes (it is a one of object-oriented paradigms). We can distinct <b> parent classes </b> i <b> child classes </b>.\n",
    "\n",
    "In the below example (UML diagram) The parent class is Animal - it has attributtes (age, gender) and methods (isMammal and mate)\n",
    "\n",
    "Child classes intherit all the attributes of Animal + has additional attibutes (for example fish has sizeInFt an CanEat, and all the attributes of Animal). The same goes for methods (Fish has method swim() and all the Animal methods).\n",
    "\n",
    "\n",
    "Classes in Python allows to impelement all the four Python paradigms:\n",
    "\n",
    "    Abstraction - creating classes creates abstraction\n",
    "    \n",
    "    Encapsulation - do not allow to access other classes directly to classes code\n",
    "    \n",
    "    Polimorphism - functions and methods behave differently depending on conditions\n",
    "    \n",
    "    Inheritance - as show in below example - parent and child classes"
   ]
  },
  {
   "cell_type": "code",
   "execution_count": 14,
   "metadata": {},
   "outputs": [
    {
     "data": {
      "text/html": [
       "<img src=\"ind2.png\" width=\"700\"/>"
      ],
      "text/plain": [
       "<IPython.core.display.Image object>"
      ]
     },
     "execution_count": 14,
     "metadata": {},
     "output_type": "execute_result"
    }
   ],
   "source": [
    "Image(url=\"ind2.png\",width=700)"
   ]
  },
  {
   "cell_type": "markdown",
   "metadata": {},
   "source": [
    "Klasy pozwalają na realizację wszystkich czterech paradygmatów programowania obiektowego. Diagram klas UML jak powyżej może zostać przeniesiony i zaimplementowany w Pythonie."
   ]
  },
  {
   "cell_type": "markdown",
   "metadata": {},
   "source": [
    "<h1> Paradigm 1 - Abstraction: </h1>\n",
    "\n",
    "<h2> Class definition </h2>\n",
    "\n",
    "    class Name(inheritance):\n",
    "        code\n",
    "        ..."
   ]
  },
  {
   "cell_type": "code",
   "execution_count": 15,
   "metadata": {},
   "outputs": [],
   "source": [
    "class Person(): #empty inheritance means it does not inherit\n",
    "    pass #empty statement"
   ]
  },
  {
   "cell_type": "code",
   "execution_count": 16,
   "metadata": {},
   "outputs": [
    {
     "data": {
      "text/plain": [
       "__main__.Person"
      ]
     },
     "execution_count": 16,
     "metadata": {},
     "output_type": "execute_result"
    }
   ],
   "source": [
    "Paul = Person() #creating class instance\n",
    "type(Paul)"
   ]
  },
  {
   "cell_type": "code",
   "execution_count": 17,
   "metadata": {},
   "outputs": [
    {
     "name": "stdout",
     "output_type": "stream",
     "text": [
      "<__main__.Person object at 0x000002A4FBE3C1C8>\n"
     ]
    }
   ],
   "source": [
    "print(Paul) #Person class has no text representation"
   ]
  },
  {
   "cell_type": "markdown",
   "metadata": {},
   "source": [
    "<h2> Initialisation </h2>\n",
    "\n",
    "Class initialisation is made through <b> magic method </b> $__init__$ - it is used every time a class is created\n",
    "\n",
    "Class calls itself by $self$ statement"
   ]
  },
  {
   "cell_type": "code",
   "execution_count": 22,
   "metadata": {},
   "outputs": [],
   "source": [
    "class Person():\n",
    "    \n",
    "    #two empty lines according to PEP8\n",
    "    def __init__(self, name, surname, birth_date): #in classes method, self is always the first argument\n",
    "        self.name = name\n",
    "        self.surname = surname\n",
    "        self.birth_date = birth_date"
   ]
  },
  {
   "cell_type": "markdown",
   "metadata": {},
   "source": [
    "In the above in the __init__ method we define 3 attributes - name, surname and birt date. __init__ is started every time a class is realised. Therefore, when creating an instance of Person class we have to pass these information. \n",
    "\n",
    "self.name - mean that under attribute .name passed value will appear\n"
   ]
  },
  {
   "cell_type": "markdown",
   "metadata": {},
   "source": [
    "According to class definition:"
   ]
  },
  {
   "cell_type": "code",
   "execution_count": 23,
   "metadata": {},
   "outputs": [],
   "source": [
    "Paul = Person(\"Paul\",\"Kia\",\"10-10-1974\")"
   ]
  },
  {
   "cell_type": "markdown",
   "metadata": {},
   "source": [
    "Now we can display these attributes:"
   ]
  },
  {
   "cell_type": "code",
   "execution_count": 24,
   "metadata": {},
   "outputs": [
    {
     "name": "stdout",
     "output_type": "stream",
     "text": [
      "Paul Kia 10-10-1974\n"
     ]
    }
   ],
   "source": [
    "print(Paul.name, Paul.surname, Paul.birth_date)"
   ]
  },
  {
   "cell_type": "markdown",
   "metadata": {},
   "source": [
    "We created a class but it is not correct according to paradigms:"
   ]
  },
  {
   "cell_type": "code",
   "execution_count": 25,
   "metadata": {},
   "outputs": [
    {
     "data": {
      "text/plain": [
       "'NEW'"
      ]
     },
     "execution_count": 25,
     "metadata": {},
     "output_type": "execute_result"
    }
   ],
   "source": [
    "Paul.name = \"NEW\" #name can be freely change (NO ENCAPSULATION)\n",
    "Paul.name"
   ]
  },
  {
   "cell_type": "markdown",
   "metadata": {},
   "source": [
    "<h3> Class methods </h3>"
   ]
  },
  {
   "cell_type": "markdown",
   "metadata": {},
   "source": [
    "Let's add a class method. It is defined as functions:"
   ]
  },
  {
   "cell_type": "code",
   "execution_count": 26,
   "metadata": {},
   "outputs": [],
   "source": [
    "class Person():\n",
    "    \n",
    "\n",
    "    def __init__(self, name, surname, birth_date):\n",
    "        self.name = name\n",
    "        self.surname = surname\n",
    "        self.birth_date = birth_date\n",
    "        \n",
    "    def age(self): #no attributes passed, only self then\n",
    "        return 2020 - int(self.birth_date.split('-')[2])"
   ]
  },
  {
   "cell_type": "code",
   "execution_count": 27,
   "metadata": {},
   "outputs": [],
   "source": [
    "Paul = Person(\"Paul\",\"Kia\",\"10-10-1974\")"
   ]
  },
  {
   "cell_type": "markdown",
   "metadata": {},
   "source": [
    "And we call a method:"
   ]
  },
  {
   "cell_type": "code",
   "execution_count": 28,
   "metadata": {},
   "outputs": [
    {
     "data": {
      "text/plain": [
       "46"
      ]
     },
     "execution_count": 28,
     "metadata": {},
     "output_type": "execute_result"
    }
   ],
   "source": [
    "Paul.age()"
   ]
  },
  {
   "cell_type": "markdown",
   "metadata": {},
   "source": [
    "<h2> Other magic functions: </h2>\n",
    "\n",
    "There are lot of magic functions. For example:\n",
    "<ul>\n",
    "    <li> $__repr__$ - object representation. It is called when we display an object</li>\n",
    "    <li> $__str__$ - text object representation. Called by str(object_name) or print</li>\n",
    "</ul>"
   ]
  },
  {
   "cell_type": "code",
   "execution_count": 34,
   "metadata": {},
   "outputs": [],
   "source": [
    "class Person():\n",
    "    \n",
    "\n",
    "    def __init__(self, name, surname, birth_date):\n",
    "        self.name = name\n",
    "        self.surname = surname\n",
    "        self.birth_date = birth_date\n",
    "        \n",
    "    def age(self): #no attributes passed, only self then\n",
    "        return 2020 - int(self.birth_date.split('-')[2])\n",
    "        \n",
    "    def __str__(self):\n",
    "        return \"A man named {}, aged {}\".format(self.name, str(self.age())) \n",
    "    \n",
    "    def __repr__(self):\n",
    "        return \"Person class(name: {}, surname: {}, birth date: {})\".format(self.name, self.surname, self.birth_date)"
   ]
  },
  {
   "cell_type": "code",
   "execution_count": 35,
   "metadata": {},
   "outputs": [],
   "source": [
    "Paul = Person(\"Paul\",\"Kia\",\"10-10-1974\")"
   ]
  },
  {
   "cell_type": "code",
   "execution_count": 36,
   "metadata": {},
   "outputs": [
    {
     "name": "stdout",
     "output_type": "stream",
     "text": [
      "A man named Paul, aged 46\n"
     ]
    }
   ],
   "source": [
    "print(Paul)"
   ]
  },
  {
   "cell_type": "code",
   "execution_count": 37,
   "metadata": {},
   "outputs": [
    {
     "data": {
      "text/plain": [
       "Person class(name: Paul, surname: Kia, birth date: 10-10-1974)"
      ]
     },
     "execution_count": 37,
     "metadata": {},
     "output_type": "execute_result"
    }
   ],
   "source": [
    "Paul"
   ]
  },
  {
   "cell_type": "markdown",
   "metadata": {},
   "source": [
    "<h1> More magic functions </h1>\n",
    "\n",
    "We can modify operators (like +). For that we use for example __add__:"
   ]
  },
  {
   "cell_type": "code",
   "execution_count": 38,
   "metadata": {},
   "outputs": [],
   "source": [
    "class Number():\n",
    "    \n",
    "    def __init__(self, value):\n",
    "        self.value = value\n",
    "        \n",
    "    def __add__(self, other): #change behaviour when adding with +\n",
    "        return (self.value + other.value - 1)**2"
   ]
  },
  {
   "cell_type": "markdown",
   "metadata": {},
   "source": [
    "__add__  magic function accepts two parameters: self and other. The only requirement is that the other object also has .value attribute so it can be called from the \"ohter\" class.\n",
    "\n",
    "Let's use it:"
   ]
  },
  {
   "cell_type": "code",
   "execution_count": 39,
   "metadata": {},
   "outputs": [],
   "source": [
    "a = Number(10) #Instance1\n",
    "b = Number(5) #Instance2"
   ]
  },
  {
   "cell_type": "code",
   "execution_count": 40,
   "metadata": {},
   "outputs": [
    {
     "data": {
      "text/plain": [
       "196"
      ]
     },
     "execution_count": 40,
     "metadata": {},
     "output_type": "execute_result"
    }
   ],
   "source": [
    "a + b #(10+5-1)**2"
   ]
  },
  {
   "cell_type": "code",
   "execution_count": 41,
   "metadata": {},
   "outputs": [
    {
     "ename": "TypeError",
     "evalue": "unsupported operand type(s) for *: 'Number' and 'Number'",
     "output_type": "error",
     "traceback": [
      "\u001b[1;31m---------------------------------------------------------------------------\u001b[0m",
      "\u001b[1;31mTypeError\u001b[0m                                 Traceback (most recent call last)",
      "\u001b[1;32m<ipython-input-41-2acf9b3de238>\u001b[0m in \u001b[0;36m<module>\u001b[1;34m\u001b[0m\n\u001b[1;32m----> 1\u001b[1;33m \u001b[0ma\u001b[0m\u001b[1;33m*\u001b[0m\u001b[0mb\u001b[0m \u001b[1;31m#we did not code it so it does not work\u001b[0m\u001b[1;33m\u001b[0m\u001b[1;33m\u001b[0m\u001b[0m\n\u001b[0m",
      "\u001b[1;31mTypeError\u001b[0m: unsupported operand type(s) for *: 'Number' and 'Number'"
     ]
    }
   ],
   "source": [
    "a*b #we did not code it so it does not work"
   ]
  },
  {
   "cell_type": "markdown",
   "metadata": {},
   "source": [
    "<h2> Let's assume we have two classes with the same attributes but different methods</h2>"
   ]
  },
  {
   "cell_type": "code",
   "execution_count": 44,
   "metadata": {},
   "outputs": [],
   "source": [
    "class Number():\n",
    "    \n",
    "    def __init__(self, value):\n",
    "        self.value = value\n",
    "        \n",
    "    def __add__(self, other): #change behaviour when adding with +\n",
    "        return (self.value + other.value - 1)**2\n",
    "    \n",
    "class Number2():\n",
    "    \n",
    "    def __init__(self, value):\n",
    "        self.value = value\n",
    "        \n",
    "    def __add__(self, other): #change behaviour when adding with +\n",
    "        return (self.value + other.value - 1)**3 #different behaviour"
   ]
  },
  {
   "cell_type": "code",
   "execution_count": 45,
   "metadata": {},
   "outputs": [],
   "source": [
    "a = Number(10) #instance 1\n",
    "b = Number2(5) #instance 2"
   ]
  },
  {
   "cell_type": "code",
   "execution_count": 46,
   "metadata": {},
   "outputs": [],
   "source": [
    "#Will a+b be the same as b+a? Check it!"
   ]
  },
  {
   "cell_type": "markdown",
   "metadata": {},
   "source": [
    "<h3> When programming watch for variables and classes names! </h3>\n",
    "\n",
    "Unless it is done on purpose.\n",
    "\n",
    "Some names are reserved for Python. Hence, you should not never names with built-in classes names. Let's assume we have a text \"222\" and we want to change it into the integer with type casting:"
   ]
  },
  {
   "cell_type": "code",
   "execution_count": 48,
   "metadata": {},
   "outputs": [
    {
     "data": {
      "text/plain": [
       "222"
      ]
     },
     "execution_count": 48,
     "metadata": {},
     "output_type": "execute_result"
    }
   ],
   "source": [
    "tekst = \"222\"\n",
    "int(tekst)"
   ]
  },
  {
   "cell_type": "markdown",
   "metadata": {},
   "source": [
    "But when we call some variable with the built-in name of function:"
   ]
  },
  {
   "cell_type": "code",
   "execution_count": 49,
   "metadata": {},
   "outputs": [],
   "source": [
    "int = 33"
   ]
  },
  {
   "cell_type": "markdown",
   "metadata": {},
   "source": [
    "And do casting agaim:"
   ]
  },
  {
   "cell_type": "code",
   "execution_count": 50,
   "metadata": {},
   "outputs": [
    {
     "ename": "TypeError",
     "evalue": "'int' object is not callable",
     "output_type": "error",
     "traceback": [
      "\u001b[1;31m---------------------------------------------------------------------------\u001b[0m",
      "\u001b[1;31mTypeError\u001b[0m                                 Traceback (most recent call last)",
      "\u001b[1;32m<ipython-input-50-0881ac89c9b9>\u001b[0m in \u001b[0;36m<module>\u001b[1;34m\u001b[0m\n\u001b[0;32m      1\u001b[0m \u001b[0mtekst\u001b[0m \u001b[1;33m=\u001b[0m \u001b[1;34m\"222\"\u001b[0m\u001b[1;33m\u001b[0m\u001b[1;33m\u001b[0m\u001b[0m\n\u001b[1;32m----> 2\u001b[1;33m \u001b[0mint\u001b[0m\u001b[1;33m(\u001b[0m\u001b[0mtekst\u001b[0m\u001b[1;33m)\u001b[0m\u001b[1;33m\u001b[0m\u001b[1;33m\u001b[0m\u001b[0m\n\u001b[0m",
      "\u001b[1;31mTypeError\u001b[0m: 'int' object is not callable"
     ]
    }
   ],
   "source": [
    "tekst = \"222\"\n",
    "int(tekst)"
   ]
  },
  {
   "cell_type": "markdown",
   "metadata": {},
   "source": [
    "This function was overloaded.\n",
    "\n",
    "You can luckly reset that by:"
   ]
  },
  {
   "cell_type": "code",
   "execution_count": 55,
   "metadata": {},
   "outputs": [
    {
     "name": "stdout",
     "output_type": "stream",
     "text": [
      "Once deleted, variables cannot be recovered. Proceed (y/[n])? y\n"
     ]
    }
   ],
   "source": [
    "%reset"
   ]
  },
  {
   "cell_type": "code",
   "execution_count": 56,
   "metadata": {},
   "outputs": [
    {
     "data": {
      "text/plain": [
       "3"
      ]
     },
     "execution_count": 56,
     "metadata": {},
     "output_type": "execute_result"
    }
   ],
   "source": [
    "int(\"3\")"
   ]
  },
  {
   "cell_type": "markdown",
   "metadata": {},
   "source": [
    "<h2> Unless done on purpose</h2>"
   ]
  },
  {
   "cell_type": "code",
   "execution_count": 57,
   "metadata": {},
   "outputs": [],
   "source": [
    "class Int():\n",
    "    \n",
    "    def __init__(self,value):\n",
    "        self.value = value\n",
    "        \n",
    "    def __add__(self, other):\n",
    "        return self.value + other.value + 1"
   ]
  },
  {
   "cell_type": "code",
   "execution_count": 59,
   "metadata": {},
   "outputs": [
    {
     "data": {
      "text/plain": [
       "5"
      ]
     },
     "execution_count": 59,
     "metadata": {},
     "output_type": "execute_result"
    }
   ],
   "source": [
    "Int(2) + Int(2) #2 + 2 won't work, we really want to do it :)"
   ]
  },
  {
   "cell_type": "markdown",
   "metadata": {},
   "source": [
    "<h2> OK! That's all for today. Next week we will carry one with rest paradigms in practice! </h2>"
   ]
  }
 ],
 "metadata": {
  "kernelspec": {
   "display_name": "Python 3",
   "language": "python",
   "name": "python3"
  },
  "language_info": {
   "codemirror_mode": {
    "name": "ipython",
    "version": 3
   },
   "file_extension": ".py",
   "mimetype": "text/x-python",
   "name": "python",
   "nbconvert_exporter": "python",
   "pygments_lexer": "ipython3",
   "version": "3.7.4"
  }
 },
 "nbformat": 4,
 "nbformat_minor": 2
}

{
 "cells": [
  {
   "cell_type": "markdown",
   "metadata": {
    "slideshow": {
     "slide_type": "slide"
    }
   },
   "source": [
    "# Ćwiczenia 1 - Python, wprowadzenie"
   ]
  },
  {
   "cell_type": "markdown",
   "metadata": {},
   "source": [
    "Przedmiot: Programowanie w systemach GIS\n",
    "\n",
    "Ćwiczenia laboratoryjne 30 godzin, poniedziałek 14:15 - 16:00 (sala 102G)\n",
    "Wykłady 15 godzin, wtorek 14:15 - 16:00 (Sala IIR, zajęcia nieparzyste)\n",
    "\n",
    "Zaliczenie przedmiotu odbywa się na podstawie:\n",
    "\n",
    "    2 kolokwiów (testy zamknięte)\n",
    "    Poprawnie wykonanych listach zadań\n",
    "    Obecności na zajęciach\n",
    "    \n",
    "Listy zadań muszą być oddane w ciąg <b> 2 tygodni </b> od zakończenia ostatniego ćwiczenia obejmującego daną listę.\n",
    "Listy 1,2 i 3 muszą być oddane jako plik *.ipynb (Jupyter Notebook)\n",
    "Listy 4 i 5 muszą być oddane jako plik *.py wykonywalny w środowisku QGIS\n",
    "Projekt końcowy musi być oddany w parach jako wtyczka QGIS w pliku *.zip\n",
    "\n",
    "Listy i projekt przesyłamy na eSprawozdania - Kamil Smolak, stacjonarne, PwSGIS\n"
   ]
  },
  {
   "cell_type": "markdown",
   "metadata": {
    "slideshow": {
     "slide_type": "slide"
    }
   },
   "source": [
    "<b>Dane kontaktowe</b>:\n",
    "\n",
    "<ul>\n",
    "<li>Kamil Smolak</li>\n",
    "\n",
    "<li>email: kamil.smolak@upwr.edu.pl</li>\n",
    "\n",
    "<li>pokój: 201G</li>\n",
    "\n",
    "<li>konsultacje: wtorek 15:30 - 17:00</li>\n",
    "</ul>"
   ]
  },
  {
   "cell_type": "markdown",
   "metadata": {
    "slideshow": {
     "slide_type": "slide"
    }
   },
   "source": [
    "<h1>Krótko o programowaniu i Pythonie</h1> (więcej na wykładzie)\n",
    "\n",
    " <img src=\"https://upload.wikimedia.org/wikipedia/commons/thumb/f/f8/Python_logo_and_wordmark.svg/240px-Python_logo_and_wordmark.svg.png\"> \n",
    " \n"
   ]
  },
  {
   "cell_type": "markdown",
   "metadata": {
    "slideshow": {
     "slide_type": "subslide"
    }
   },
   "source": [
    "<h2>O programowaniu</h2>\n",
    "\n",
    "Na umiejętność programowania składa się nie tylko <b>znajomość języka</b>, ale również <b>umiejętność rozwiązywania problemów</b>\n",
    "\n",
    "Te zajęcia mają na celu:\n",
    "    <ul>\n",
    "    <li>Zaznajomić studenta ze strukturą języka programowania,</li>\n",
    "    <li>Przekazać umiejętność szybkiego rozwiązywania problemów i automatyzacji procesów,</li>\n",
    "    <li>Nauczyć <b>myśleć w języku programowania</b>,</li>\n",
    "    <li>Przedstawić możliwości programowania w systemach GIS.</li>\n",
    "    </ul>"
   ]
  },
  {
   "cell_type": "markdown",
   "metadata": {
    "slideshow": {
     "slide_type": "subslide"
    }
   },
   "source": [
    "<h2>O Pythonie</h2>\n",
    "\n",
    " <img src=\"https://upload.wikimedia.org/wikipedia/commons/thumb/f/f8/Python_logo_and_wordmark.svg/240px-Python_logo_and_wordmark.svg.png\"> \n",
    " \n",
    "Python to język programowania <b>wysokiego poziomu</b>. Python jest również językiem programowania <b> obiektowego </b>. To jeden z wielu dostępnych języków, w którym można nauczyć się programowania. Każdy ma swoje wady i zalety, jak również swoje szczególne przeznaczenie.\n",
    "\n",
    "Inne języki:"
   ]
  },
  {
   "cell_type": "markdown",
   "metadata": {
    "slideshow": {
     "slide_type": "subslide"
    }
   },
   "source": [
    "<img src=\"https://upload.wikimedia.org/wikipedia/commons/thumb/1/18/ISO_C%2B%2B_Logo.svg/213px-ISO_C%2B%2B_Logo.svg.png\">\n",
    "\n",
    "C\\C++\n",
    "\n",
    "To szybki język <b>kompilowany</b>. Jest jednym z najszybciej operujących języków. Jest również pierwszym wyborem w programowaniu procesorów graficznych."
   ]
  },
  {
   "cell_type": "markdown",
   "metadata": {
    "slideshow": {
     "slide_type": "subslide"
    }
   },
   "source": [
    "<img src=\"https://magazynt3.pl/wp-content/uploads/2011/12/javalogo.jpg\">\n",
    "\n",
    "Java\n",
    "\n",
    "Przeznaczony głównie do <b>data mining</b> czyli eksploracji danych. Oferuje świetne narzędzia do przetwarzania i przechowywania danych."
   ]
  },
  {
   "cell_type": "markdown",
   "metadata": {
    "slideshow": {
     "slide_type": "subslide"
    }
   },
   "source": [
    "<img src=\"data:image/jpeg;base64,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\">\n",
    "\n",
    "<img src=\"http://www.elka.pw.edu.pl/var/wwwglowna/storage/images/media/images/matlab-logo/152722-1-pol-PL/MATLAB-Logo.png\">\n",
    "                 \n",
    "          \n",
    "          \n",
    "Języki matematyczne/statystyczne:\n",
    "<ul>\n",
    "    <li>R</li>\n",
    "    <li>Matlab</li>\n",
    "    <li>Scilab</li>\n",
    "    <li>Julia</li>\n",
    "</ul>\n",
    "\n",
    "Oferują łatwość wykonywania operacji matematycznych, dostępność wielu funkcji statystycznych, matematycznych, są niezwykle szybkie w wykonywaniu operacji algebraicznych. \n"
   ]
  },
  {
   "cell_type": "markdown",
   "metadata": {
    "slideshow": {
     "slide_type": "slide"
    }
   },
   "source": [
    "<img src=\"https://upload.wikimedia.org/wikipedia/commons/thumb/f/f8/Python_logo_and_wordmark.svg/240px-Python_logo_and_wordmark.svg.png\"> \n",
    " \n",
    "Python:\n",
    "<ul>\n",
    "    <li>Wolniejszy niż C\\C++</li>\n",
    "    <li>Nie był pierwotnym wyborem do zadań związanych z eksploracją danych</li>\n",
    "    <li>Nie oferuje takiej łatwości operacji aglebraicznych jak języki matematyczne</li>\n",
    "</ul>\n",
    "\n"
   ]
  },
  {
   "cell_type": "markdown",
   "metadata": {
    "slideshow": {
     "slide_type": "slide"
    }
   },
   "source": [
    "<h1>Dlaczego więc Python?</h1>\n",
    "\n",
    "<h2>Poprawna odpowiedź: Potęga bibliotek</h2>\n",
    "\n",
    "Python ma niepodważalne zalety w postaci <b>oszczędności kodu, łatwości zrozumienia, automatycznego zarządzania pamięcią, przenoszalności i czytelności</b>. Dlatego też został wybrany przez ogromną liczbę programistów i deweloperów blibliotek. \n",
    "\n",
    "<h3> Python potrafi wszystko!</h3>\n",
    "\n",
    "Deweloperzy bibliotek napisali odpowiednie narzędzia, które umożliwiają wykonywanie wszystkiego co potrafią konkurencyjne języki. Dzięki temu, Python to świetne narzędzie <b>do wszystkiego</b>:\n",
    "\n",
    "<ul>\n",
    "    <li>C/C++ -> CPython, TensorFlow, PyTorch</li> \n",
    "    <li>Java -> PySpark</li>\n",
    "    <li>Matlab/Scilab/Julia -> NumPy</li>\n",
    "    <li>Obsługa serwerów -> Flask, Django</li>\n",
    "    <li>R -> Pandas</li>\n",
    "    <li>No i wybrany zostal przez deweloperów QGIS i ArcGIS</li>\n",
    "</ul>\n"
   ]
  },
  {
   "cell_type": "markdown",
   "metadata": {
    "slideshow": {
     "slide_type": "slide"
    }
   },
   "source": [
    "<h1>Literatura</h1>\n",
    "    <ul>\n",
    "    <li>A. B. Downey, J. Elkner, C. Meyers, “Think Python. How to Think Like a Computer Scientist”: http://www.greenteapress.com/thinkpython/</li>\n",
    "    <li>Matthes E., \"Python Crash Course: A Hands-On, Project-Based Introduction to Programming\"</li>\n",
    "    <li>Kurs: https://www.codecademy.com/learn/learn-python</li>\n",
    "    <li>dokumentacja: https://www.python.org/</li>\n",
    "    </ul>\n",
    "    "
   ]
  },
  {
   "cell_type": "markdown",
   "metadata": {
    "slideshow": {
     "slide_type": "slide"
    }
   },
   "source": [
    "<h1>Wykłady i listy zadań</h1>\n",
    "\n",
    "Dostępne na GitHub: https://github.com/SmolakK/PwSGIS"
   ]
  },
  {
   "cell_type": "markdown",
   "metadata": {
    "slideshow": {
     "slide_type": "slide"
    }
   },
   "source": [
    "<h1>Przygotowanie środowiska</h1>\n",
    "\n",
    "Mac i UNIX: w większości dystrybucji MacOS i Unix Python jest już zainstalowany na komputerze. Nadal należy przygotować środowisko.\n",
    "\n",
    "Windows: Należy przygotowac środowisko łącznie z instalacją języka oprogramowania.\n",
    "\n",
    "Najlepszym wyborem jest wszystko-w-jednym jest Anaconda https://www.anaconda.com/, która instaluje język Python wraz z najpotrzebniejszymi bibliotekami\n",
    "\n",
    "Pobieramy Anacondę dla wersji <b>2.7</b>"
   ]
  },
  {
   "cell_type": "markdown",
   "metadata": {
    "slideshow": {
     "slide_type": "subslide"
    }
   },
   "source": [
    "<ol>\n",
    "    <li>Instalujemy ją z pliku .exe</li>\n",
    "    <li><b>Zaznaczamy \"Add Anaconda to the system PATH environment variable\"</b></li>\n",
    "    <li>Wybieramy \"Install\"</li>\n",
    "    <li>Po instalacji uruchamiamy Anaconda Prompt (konsola) lub Anaconda Navigator (graficzny)</li>\n",
    "</ol>\n",
    "\n",
    "Od teraz Pythnon dostępny jest na komputerze. Możemy go wywołać uruchamiając konsolę i wpisując \"python\" i uruchamiając jego tryb <b>interaktywny</b>. W tym trybie można wykonywać operacje na bieżąco, nie można natomiast pisać programu/skryptu. Do tego potrzebne jest nam środowisko programistyczne.\n"
   ]
  },
  {
   "cell_type": "markdown",
   "metadata": {
    "slideshow": {
     "slide_type": "slide"
    }
   },
   "source": [
    "<h1>Co to jest IDE?</h1>\n",
    "\n",
    "Integrated Development Environment to środowisko programistyczne, które służy do tworzenia, modyfikowania i testowania oprogramowania/ kodu źródłowego. Wiele firm oferuje różne środowiska, zarówno darmowe, jak również zaawanosowane płatne wersje.\n",
    "\n",
    "IDE umozliwia między innymi:\n",
    "<ul>\n",
    "    <li>Szybką i wygodną edycję kodu</li>\n",
    "    <li>Debugowanie kodu (śledzenie wartości zmiennych, zatrzymywanie kodu w dowolnym miejscu)</li>\n",
    "    <li>Podpowiedzi nazw funkcji i zmiennych</li>\n",
    "    <li>Dynamiczne sprawdzanie składni</li>\n",
    "</ul>\n",
    "\n",
    "Python domyślnie instaluje proste środowisko <b>IDLE</b>, które nie ma zbyt wielu funkcjonalności.\n",
    "\n",
    "Anaconda domyślnie instaluje środowisko <b>Spyder</b>, które jest jednym z lepszych środowisk IDE\n",
    "\n",
    "<img src=\"https://www.marsja.se/wp-content/uploads/2016/01/Spyder_object_inspetor.png.png\">"
   ]
  },
  {
   "cell_type": "markdown",
   "metadata": {
    "slideshow": {
     "slide_type": "subslide"
    }
   },
   "source": [
    "Według rankingów najlepszym IDE jest <b>PyCharm</b> od JetBrains, dostępny w darmowej wersji Community Edition\n",
    "\n",
    "<img src=\"https://www.jetbrains.com/pycharm/img/screenshots/simpleLook@2x.jpg\">"
   ]
  },
  {
   "cell_type": "markdown",
   "metadata": {
    "slideshow": {
     "slide_type": "subslide"
    }
   },
   "source": [
    "<h1>Jupyter Notebook</h1>\n",
    "\n",
    "Typ IDE, który pozwala na bieżącą edycję kodu w formie następujących linijek i jednocześnie wyświetlania poniżej ich wyników, wykresów i tabel w naprzemiennej formie kod->wynik. Jest bardzo dobrym narzędziem do testowania funkcjonalności bibliotek i nauki. Pozwala na szybką edycję kodu i wyświetlenie wyniku, <b> bez potrzeby kompilacji całego kodu ponownie </b>. Jest uruchamiany w przeglądarce internetowej.\n",
    "\n",
    "<img src=\"https://www.dataquest.io/blog/content/images/interface-screenshot.png\" width=700>\n",
    "\n",
    "Jupyter Notebook posiada duże możliwości prezentacji kodu <b>Cała ta prezentacja jest wykonana w Jupyter Notebook z dodatkiem RISE.</b>"
   ]
  },
  {
   "cell_type": "markdown",
   "metadata": {
    "slideshow": {
     "slide_type": "subslide"
    }
   },
   "source": [
    "Aby uruchomić Jupyter Notebook wybieramy \"Launch\" w Anaconda Navigator lub wpsiujemy jupyter-notebook w Anaconda Prompt"
   ]
  },
  {
   "cell_type": "markdown",
   "metadata": {
    "slideshow": {
     "slide_type": "slide"
    }
   },
   "source": [
    "<h1>START!</h1>\n",
    "\n",
    "Zaczynamy kodować w Pythonie.\n",
    "\n",
    "Klasycznie pierwszą linijką, nie inaczej  musi być polecenie wyświetlające tekst \"Hello World!\""
   ]
  },
  {
   "cell_type": "code",
   "execution_count": 1,
   "metadata": {},
   "outputs": [
    {
     "name": "stdout",
     "output_type": "stream",
     "text": [
      "Hello World!\n"
     ]
    }
   ],
   "source": [
    "print(\"Hello World!\")"
   ]
  },
  {
   "cell_type": "markdown",
   "metadata": {
    "slideshow": {
     "slide_type": "slide"
    }
   },
   "source": [
    "<h1>Funkcje vs. Metody</h1>\n",
    "\n",
    "Właśnie wykorzystaliśmy <b>funkcję</b> wyświetlania \"print\". Python oferuje również metody. Czym się one różnią?\n",
    "\n",
    "<img src=\"https://d2h0cx97tjks2p.cloudfront.net/blogs/wp-content/uploads/sites/2/2018/02/Python-Functions-vs-Methods-01-1024x536.jpg\">"
   ]
  },
  {
   "cell_type": "markdown",
   "metadata": {
    "slideshow": {
     "slide_type": "subslide"
    }
   },
   "source": [
    "<h1>Funkcje</h1>\n",
    "\n",
    "Funcje mają strukturę (syntax) następującej postaci:\n",
    "\n",
    "<i><b>nazwa</b>(parametr_1,parametr_2,...,parametr_n)</i>\n",
    "\n",
    "Wyróżniamy <b>funkcje wbudowane</b> i <b> funkcje zdefiniowane przez użytkownika</b>.\n",
    "\n",
    "Funkcje wbudowane są dostepne poprzez wywołanie ich nazwy wprost w kodzie (dostępne tu: https://docs.python.org/2/library/functions.html). Przykładem takiej funkcji jest <b>print()</b>\n",
    "\n",
    "Funkcje definiowane przez użytkownika pozwalają na utworzenie nowej funkcjonalności (zajmiemy się nimi później)"
   ]
  },
  {
   "cell_type": "markdown",
   "metadata": {
    "slideshow": {
     "slide_type": "subslide"
    }
   },
   "source": [
    "<h1> Metody </h1>\n",
    "\n",
    "Python jest językiem programowania <b> obiektowego </b>. Oznacza to, że wszystko w nim jest <b>obietem</b>, który ma swoje właściwości, takie jak atrybuty i metody (o tym dokładniej w dalszej części wykładów).\n",
    "\n",
    "Metody wywoływane są zatem na <b>obiektach</b>. Ich syntax to:\n",
    "<i><b>nazwa_obiektu</b>.nazwa_metody(parametr_1,parametr_2,...,parametr_n)</i>\n",
    "\n",
    "Istnieje w języku kilka wbudowanych obiektów, które posiadają wbudowane metody. Przykładem wbudowanych obiektów są typy danych."
   ]
  },
  {
   "cell_type": "markdown",
   "metadata": {
    "slideshow": {
     "slide_type": "subslide"
    }
   },
   "source": [
    "<h1>Klasy</h1>\n",
    "Żeby zrozumieć istotę działania metod i ich różność od funkcji, przyjrzyjmy się czym jest obiekt.\n",
    "\n",
    "Obiekt to <b>wszystko</b> co napiszemy w Pythonie. To zarówno klasy jak i funkcje.\n",
    "\n",
    "Spotkamy się z metodami przypisanymi do klas. Klasa to bardzo ważny element języków obiektowych.\n"
   ]
  },
  {
   "cell_type": "markdown",
   "metadata": {
    "slideshow": {
     "slide_type": "subslide"
    }
   },
   "source": [
    "<h2>Czym zatem jest klasa?</h2>\n",
    "\n",
    "<b>Klasa</b> to <i>abstrakcja</i> pewnego obiektu. Oznacza to uogólnieniony opis pewnego elementu, który zdefiniowany jest przez taką klasę poprzez określenie jego typowych <b>cech (atrybutów) i operacji (metod), które można na nim wykonać</b>. Tą samą strukturą opisujemy elementy świata rzeczywistego.\n",
    "    \n",
    "Przykład obrazujący:\n",
    "\n",
    "<b>Pizza</b> to abstrakcyjna klasa, którą opisujemy pewien typ dania. \n",
    "Ma cechy (atrybuty):\n",
    "<ul>\n",
    "    <li>Składniki</li>\n",
    "    <li>Sos</li>\n",
    "</ul>\n",
    "\n",
    "Oraz metody:\n",
    "<ul>\n",
    "    <li>Jedz</li>\n",
    "    <li>Polej oliwą</li>\n",
    "    <li>Wyrzuć (nie używać!)</li>\n",
    "</ul>"
   ]
  },
  {
   "cell_type": "markdown",
   "metadata": {
    "slideshow": {
     "slide_type": "subslide"
    }
   },
   "source": [
    "<h1>Instancja</h1>\n",
    "\n",
    "To praktyczna realizacja klasy.\n",
    "\n",
    "Kontynuując przykład obrazujący:\n",
    "\n",
    "Piekąc pizzę nadajemy jej atrybuty - składniki (pieczarki, ser) i sos (pomidorowy). Wtedy otrzymujemy <b> instancję</b> klasy pizza w postaci <i>pizzy funghi</i>.\n",
    "\n",
    "Teraz możemy wywołać metodę na naszej instancji, która zdefiniowana już jest w klasie:\n",
    "\n",
    "pizza_funghi.jedz()"
   ]
  },
  {
   "cell_type": "markdown",
   "metadata": {
    "slideshow": {
     "slide_type": "subslide"
    }
   },
   "source": [
    "<h3>Wiedząc co to jest klasa i instancja teraz już możemy spojrzeć na przykład metody</h3>\n"
   ]
  },
  {
   "cell_type": "code",
   "execution_count": 2,
   "metadata": {},
   "outputs": [
    {
     "data": {
      "text/plain": [
       "'PIZZA'"
      ]
     },
     "execution_count": 2,
     "metadata": {},
     "output_type": "execute_result"
    }
   ],
   "source": [
    "a = \"pizza\" #typ tekstowy\n",
    "a.upper() #metoda upper, która zwraca tekst napisany wyłącznie wielkimi literami"
   ]
  },
  {
   "cell_type": "markdown",
   "metadata": {
    "slideshow": {
     "slide_type": "slide"
    }
   },
   "source": [
    "<h1> Proste typy danych</h1>\n",
    "\n",
    "<b> Liczby </b>\n",
    "<ul>\n",
    "<li> całkowite (int)</li>\n",
    "<li> zmiennoprzecinkowe (float) </li>\n",
    "<li> złożone (complex) </li>\n",
    "</ul>"
   ]
  },
  {
   "cell_type": "code",
   "execution_count": 27,
   "metadata": {},
   "outputs": [
    {
     "data": {
      "text/plain": [
       "int"
      ]
     },
     "execution_count": 27,
     "metadata": {},
     "output_type": "execute_result"
    }
   ],
   "source": [
    "type(3)"
   ]
  },
  {
   "cell_type": "code",
   "execution_count": 28,
   "metadata": {},
   "outputs": [
    {
     "data": {
      "text/plain": [
       "float"
      ]
     },
     "execution_count": 28,
     "metadata": {},
     "output_type": "execute_result"
    }
   ],
   "source": [
    "type(3.0)"
   ]
  },
  {
   "cell_type": "code",
   "execution_count": 29,
   "metadata": {},
   "outputs": [
    {
     "data": {
      "text/plain": [
       "complex"
      ]
     },
     "execution_count": 29,
     "metadata": {},
     "output_type": "execute_result"
    }
   ],
   "source": [
    "type(1+1j)"
   ]
  },
  {
   "cell_type": "markdown",
   "metadata": {
    "slideshow": {
     "slide_type": "subslide"
    }
   },
   "source": [
    "<b> Tekst </b>\n",
    "String"
   ]
  },
  {
   "cell_type": "code",
   "execution_count": 31,
   "metadata": {},
   "outputs": [
    {
     "data": {
      "text/plain": [
       "str"
      ]
     },
     "execution_count": 31,
     "metadata": {},
     "output_type": "execute_result"
    }
   ],
   "source": [
    "type(\"Tekst\")"
   ]
  },
  {
   "cell_type": "code",
   "execution_count": 32,
   "metadata": {},
   "outputs": [
    {
     "data": {
      "text/plain": [
       "str"
      ]
     },
     "execution_count": 32,
     "metadata": {},
     "output_type": "execute_result"
    }
   ],
   "source": [
    "type('Tekst')"
   ]
  },
  {
   "cell_type": "code",
   "execution_count": 33,
   "metadata": {},
   "outputs": [
    {
     "data": {
      "text/plain": [
       "str"
      ]
     },
     "execution_count": 33,
     "metadata": {},
     "output_type": "execute_result"
    }
   ],
   "source": [
    "type(\"\"\"Tekst\"\"\")"
   ]
  },
  {
   "cell_type": "markdown",
   "metadata": {
    "slideshow": {
     "slide_type": "subslide"
    }
   },
   "source": [
    "<b> Typ logiczny (boolean)</b>"
   ]
  },
  {
   "cell_type": "code",
   "execution_count": 34,
   "metadata": {},
   "outputs": [
    {
     "data": {
      "text/plain": [
       "bool"
      ]
     },
     "execution_count": 34,
     "metadata": {},
     "output_type": "execute_result"
    }
   ],
   "source": [
    "type(True)"
   ]
  },
  {
   "cell_type": "markdown",
   "metadata": {
    "slideshow": {
     "slide_type": "slide"
    }
   },
   "source": [
    "<h1>Definicja zmiennych</h1>\n",
    "\n",
    "Zmienną w Pythonie definiujemy przez proste przypisanie"
   ]
  },
  {
   "cell_type": "code",
   "execution_count": 8,
   "metadata": {},
   "outputs": [
    {
     "data": {
      "text/plain": [
       "int"
      ]
     },
     "execution_count": 8,
     "metadata": {},
     "output_type": "execute_result"
    }
   ],
   "source": [
    "a = 3 #przypisanie wartości liczbowej\n",
    "type(a)"
   ]
  },
  {
   "cell_type": "markdown",
   "metadata": {},
   "source": [
    "<h2> Zmienne w Pythonie są dynamiczne </h2>\n",
    "Oznacza to, że możemy zmieniać typ wartości przypisanej do zmiennej"
   ]
  },
  {
   "cell_type": "code",
   "execution_count": 6,
   "metadata": {},
   "outputs": [],
   "source": [
    "a = \"trzy\" #teraz to jest typ tekstowy\n",
    "type(a)"
   ]
  },
  {
   "cell_type": "markdown",
   "metadata": {
    "slideshow": {
     "slide_type": "slide"
    }
   },
   "source": [
    "<h2>Każdy typ ma szczególne właściwości</h2>"
   ]
  },
  {
   "cell_type": "code",
   "execution_count": 9,
   "metadata": {},
   "outputs": [
    {
     "data": {
      "text/plain": [
       "int"
      ]
     },
     "execution_count": 9,
     "metadata": {},
     "output_type": "execute_result"
    }
   ],
   "source": [
    "a = 3\n",
    "type(a)"
   ]
  },
  {
   "cell_type": "code",
   "execution_count": null,
   "metadata": {},
   "outputs": [],
   "source": [
    "a + a #co zwróci?"
   ]
  },
  {
   "cell_type": "code",
   "execution_count": 4,
   "metadata": {},
   "outputs": [
    {
     "data": {
      "text/plain": [
       "str"
      ]
     },
     "execution_count": 4,
     "metadata": {},
     "output_type": "execute_result"
    }
   ],
   "source": [
    "a = \"3\"\n",
    "type(a)"
   ]
  },
  {
   "cell_type": "code",
   "execution_count": null,
   "metadata": {},
   "outputs": [],
   "source": [
    "a+a+a #co zwróci?"
   ]
  },
  {
   "cell_type": "markdown",
   "metadata": {
    "slideshow": {
     "slide_type": "slide"
    }
   },
   "source": [
    "<h1>Operacje arytmetyczne</h1>\n",
    "Podstawowe operacje są zdefiniowane w Pythonie bez potrzeby korzystania z zewnętrznych bibliotek"
   ]
  },
  {
   "cell_type": "code",
   "execution_count": 13,
   "metadata": {},
   "outputs": [
    {
     "data": {
      "text/plain": [
       "4"
      ]
     },
     "execution_count": 13,
     "metadata": {},
     "output_type": "execute_result"
    }
   ],
   "source": [
    "2 + 2"
   ]
  },
  {
   "cell_type": "code",
   "execution_count": 14,
   "metadata": {},
   "outputs": [
    {
     "data": {
      "text/plain": [
       "8"
      ]
     },
     "execution_count": 14,
     "metadata": {},
     "output_type": "execute_result"
    }
   ],
   "source": [
    "2 * 4"
   ]
  },
  {
   "cell_type": "code",
   "execution_count": 15,
   "metadata": {},
   "outputs": [
    {
     "data": {
      "text/plain": [
       "4.0"
      ]
     },
     "execution_count": 15,
     "metadata": {},
     "output_type": "execute_result"
    }
   ],
   "source": [
    "2 + 2.0 #wynikiem jest liczba zmiennoprzecinkowa"
   ]
  },
  {
   "cell_type": "code",
   "execution_count": 16,
   "metadata": {},
   "outputs": [
    {
     "data": {
      "text/plain": [
       "8"
      ]
     },
     "execution_count": 16,
     "metadata": {},
     "output_type": "execute_result"
    }
   ],
   "source": [
    "12 - 4"
   ]
  },
  {
   "cell_type": "code",
   "execution_count": 18,
   "metadata": {},
   "outputs": [
    {
     "data": {
      "text/plain": [
       "1.6666666666666667"
      ]
     },
     "execution_count": 18,
     "metadata": {},
     "output_type": "execute_result"
    }
   ],
   "source": [
    "5/3 #W Python 2 dzielnie dwóch zmiennych typu całkowitego zwraca ZAOKRĄGLONĄ liczbę całkowitą"
   ]
  },
  {
   "cell_type": "code",
   "execution_count": 19,
   "metadata": {},
   "outputs": [
    {
     "data": {
      "text/plain": [
       "625"
      ]
     },
     "execution_count": 19,
     "metadata": {},
     "output_type": "execute_result"
    }
   ],
   "source": [
    "5 ** 4 #potęgowanie"
   ]
  },
  {
   "cell_type": "code",
   "execution_count": 21,
   "metadata": {},
   "outputs": [
    {
     "data": {
      "text/plain": [
       "1"
      ]
     },
     "execution_count": 21,
     "metadata": {},
     "output_type": "execute_result"
    }
   ],
   "source": [
    "5 % 2 #Modulo - reszta z dzielenia"
   ]
  },
  {
   "cell_type": "markdown",
   "metadata": {
    "slideshow": {
     "slide_type": "slide"
    }
   },
   "source": [
    "<h1> Rzutowanie typów </h1>\n",
    "To zmiana typu danej"
   ]
  },
  {
   "cell_type": "code",
   "execution_count": null,
   "metadata": {},
   "outputs": [],
   "source": [
    "int(5.4) #jaki będzie rezultat?"
   ]
  },
  {
   "cell_type": "code",
   "execution_count": null,
   "metadata": {},
   "outputs": [],
   "source": [
    "float(4) #jaki będzie rezultat?"
   ]
  },
  {
   "cell_type": "code",
   "execution_count": null,
   "metadata": {},
   "outputs": [],
   "source": [
    "str(23) #jaki będzie rezultat?"
   ]
  },
  {
   "cell_type": "code",
   "execution_count": null,
   "metadata": {},
   "outputs": [],
   "source": [
    "complex(1,4) #jaki będzie rezultat?"
   ]
  },
  {
   "cell_type": "code",
   "execution_count": null,
   "metadata": {},
   "outputs": [],
   "source": [
    "bool(1) #jaki będzie rezultat?"
   ]
  },
  {
   "cell_type": "markdown",
   "metadata": {
    "slideshow": {
     "slide_type": "slide"
    }
   },
   "source": [
    "<h1> Ciąg dalszy operacji na liczbach </h1>"
   ]
  },
  {
   "cell_type": "code",
   "execution_count": 36,
   "metadata": {},
   "outputs": [
    {
     "data": {
      "text/plain": [
       "2"
      ]
     },
     "execution_count": 36,
     "metadata": {},
     "output_type": "execute_result"
    }
   ],
   "source": [
    "abs(-2) #moduł - funkcja wbudowana"
   ]
  },
  {
   "cell_type": "code",
   "execution_count": 40,
   "metadata": {},
   "outputs": [
    {
     "data": {
      "text/plain": [
       "(1, 1)"
      ]
     },
     "execution_count": 40,
     "metadata": {},
     "output_type": "execute_result"
    }
   ],
   "source": [
    "divmod(4, 3) #para dzielenie i reszta"
   ]
  },
  {
   "cell_type": "code",
   "execution_count": 41,
   "metadata": {},
   "outputs": [
    {
     "data": {
      "text/plain": [
       "16"
      ]
     },
     "execution_count": 41,
     "metadata": {},
     "output_type": "execute_result"
    }
   ],
   "source": [
    "pow(2,4) #potega, podobnie do 2**4"
   ]
  },
  {
   "cell_type": "code",
   "execution_count": 45,
   "metadata": {},
   "outputs": [
    {
     "data": {
      "text/plain": [
       "5"
      ]
     },
     "execution_count": 45,
     "metadata": {},
     "output_type": "execute_result"
    }
   ],
   "source": [
    "round(4.6) #zaokrąglenie"
   ]
  },
  {
   "cell_type": "markdown",
   "metadata": {
    "slideshow": {
     "slide_type": "slide"
    }
   },
   "source": [
    "<h1> Błędy </h1>\n",
    "\n",
    "Gdy pojawi się w kodzie błąd, warto spojrzeć na to co go spowodowało, by znaleźć przyczynę"
   ]
  },
  {
   "cell_type": "code",
   "execution_count": 47,
   "metadata": {},
   "outputs": [
    {
     "ename": "ValueError",
     "evalue": "could not convert string to float: 'Tego nie da się'",
     "output_type": "error",
     "traceback": [
      "\u001b[1;31m---------------------------------------------------------------------------\u001b[0m",
      "\u001b[1;31mValueError\u001b[0m                                Traceback (most recent call last)",
      "\u001b[1;32m<ipython-input-47-8522ce543eb0>\u001b[0m in \u001b[0;36m<module>\u001b[1;34m\u001b[0m\n\u001b[1;32m----> 1\u001b[1;33m \u001b[0mfloat\u001b[0m\u001b[1;33m(\u001b[0m\u001b[1;34m\"Tego nie da się\"\u001b[0m\u001b[1;33m)\u001b[0m\u001b[1;33m\u001b[0m\u001b[1;33m\u001b[0m\u001b[0m\n\u001b[0m",
      "\u001b[1;31mValueError\u001b[0m: could not convert string to float: 'Tego nie da się'"
     ]
    }
   ],
   "source": [
    "float(\"Tego nie da się\")"
   ]
  },
  {
   "cell_type": "markdown",
   "metadata": {
    "slideshow": {
     "slide_type": "slide"
    }
   },
   "source": [
    "<h1> Importowanie bibliotek </h1>\n",
    "\n",
    "Biblioteki zawierają dodatkowe funkcjonalności, klasy i typy danych.\n",
    "Biblioteki można importować na 3 sposoby:"
   ]
  },
  {
   "cell_type": "code",
   "execution_count": 48,
   "metadata": {},
   "outputs": [],
   "source": [
    "import math #cała biblioteka\n",
    "from math import * #znowu cała biblioteka, ale importujemy każdą funkcję osobno\n",
    "from math import sqrt #importowanie jednej funkcji"
   ]
  },
  {
   "cell_type": "markdown",
   "metadata": {
    "slideshow": {
     "slide_type": "subslide"
    }
   },
   "source": [
    "<h4>Na przykładzie pierwiastka \"sqrt\"</h4>"
   ]
  },
  {
   "cell_type": "code",
   "execution_count": 50,
   "metadata": {},
   "outputs": [
    {
     "data": {
      "text/plain": [
       "2.0"
      ]
     },
     "execution_count": 50,
     "metadata": {},
     "output_type": "execute_result"
    }
   ],
   "source": [
    "import math\n",
    "math.sqrt(4)"
   ]
  },
  {
   "cell_type": "code",
   "execution_count": 51,
   "metadata": {},
   "outputs": [
    {
     "data": {
      "text/plain": [
       "2.0"
      ]
     },
     "execution_count": 51,
     "metadata": {},
     "output_type": "execute_result"
    }
   ],
   "source": [
    "from math import *\n",
    "sqrt(4)"
   ]
  },
  {
   "cell_type": "code",
   "execution_count": 53,
   "metadata": {
    "slideshow": {
     "slide_type": "subslide"
    }
   },
   "outputs": [
    {
     "data": {
      "text/plain": [
       "['__doc__',\n",
       " '__loader__',\n",
       " '__name__',\n",
       " '__package__',\n",
       " '__spec__',\n",
       " 'acos',\n",
       " 'acosh',\n",
       " 'asin',\n",
       " 'asinh',\n",
       " 'atan',\n",
       " 'atan2',\n",
       " 'atanh',\n",
       " 'ceil',\n",
       " 'copysign',\n",
       " 'cos',\n",
       " 'cosh',\n",
       " 'degrees',\n",
       " 'e',\n",
       " 'erf',\n",
       " 'erfc',\n",
       " 'exp',\n",
       " 'expm1',\n",
       " 'fabs',\n",
       " 'factorial',\n",
       " 'floor',\n",
       " 'fmod',\n",
       " 'frexp',\n",
       " 'fsum',\n",
       " 'gamma',\n",
       " 'gcd',\n",
       " 'hypot',\n",
       " 'inf',\n",
       " 'isclose',\n",
       " 'isfinite',\n",
       " 'isinf',\n",
       " 'isnan',\n",
       " 'ldexp',\n",
       " 'lgamma',\n",
       " 'log',\n",
       " 'log10',\n",
       " 'log1p',\n",
       " 'log2',\n",
       " 'modf',\n",
       " 'nan',\n",
       " 'pi',\n",
       " 'pow',\n",
       " 'radians',\n",
       " 'sin',\n",
       " 'sinh',\n",
       " 'sqrt',\n",
       " 'tan',\n",
       " 'tanh',\n",
       " 'tau',\n",
       " 'trunc']"
      ]
     },
     "execution_count": 53,
     "metadata": {},
     "output_type": "execute_result"
    }
   ],
   "source": [
    "dir(math) #spis wszystkich funkcji"
   ]
  },
  {
   "cell_type": "markdown",
   "metadata": {
    "slideshow": {
     "slide_type": "slide"
    }
   },
   "source": [
    "Dokumentacja bilbioteki math: https://docs.python.org/2/library/math.html"
   ]
  }
 ],
 "metadata": {
  "celltoolbar": "Slideshow",
  "kernelspec": {
   "display_name": "Python 3",
   "language": "python",
   "name": "python3"
  },
  "language_info": {
   "codemirror_mode": {
    "name": "ipython",
    "version": 3
   },
   "file_extension": ".py",
   "mimetype": "text/x-python",
   "name": "python",
   "nbconvert_exporter": "python",
   "pygments_lexer": "ipython3",
   "version": "3.7.1"
  }
 },
 "nbformat": 4,
 "nbformat_minor": 2
}
